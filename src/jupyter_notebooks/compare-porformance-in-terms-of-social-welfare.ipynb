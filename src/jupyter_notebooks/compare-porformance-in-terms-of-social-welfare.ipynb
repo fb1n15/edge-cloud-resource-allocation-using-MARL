{
 "cells": [
  {
   "cell_type": "code",
   "execution_count": 19,
   "metadata": {},
   "outputs": [
    {
     "name": "stdout",
     "output_type": "stream",
     "text": [
      "The autoreload extension is already loaded. To reload it, use:\n",
      "  %reload_ext autoreload\n",
      "/Users/fan/OneDrive - University of Southampton/My-Projects/MARL-Jack/marl-disaster-relief/src/benchmarks\n"
     ]
    }
   ],
   "source": [
    "%load_ext autoreload\n",
    "%autoreload 2\n",
    "# %cd \"/Users/fan/OneDrive\\ -\\ University\\ of\\ Southampton/Chandler\\'s\\ Projects/Edge-Cloud-Resource-Allocation-Using-MARL-and-Auction/scripts\"\n",
    "%cd \"../benchmarks\"\n",
    "# %matplotlib inline\n",
    "# import numpy as np\n",
    "# import pandas as pd\n",
    "# import importlib\n",
    "# import matplotlib.pyplot as plt\n",
    "# import matplotlib.ticker as ticker\n",
    "# import seaborn as sns\n",
    "import csv\n",
    "import pprint\n",
    "from scipy import stats\n",
    "import os.path\n",
    "import pdb\n",
    "from statistics import mean \n",
    "from collections import OrderedDict\n",
    "import pickle\n",
    "# from tqdm import tqdm\n",
    "import json\n",
    "import sys\n",
    "sys.path.append('../common')\n",
    "# import multi_agent_sarsa\n",
    "# from multi_agent_sarsa import train_multi_|agent_sarsa, execute_multi_agent_sarsa\n",
    "# import optimal_pricing_m as opm\n",
    "import offline_optimal_m as oom\n",
    "# from online_myopic_m import online_myopic\n",
    "from generate_simulation_data import generate_synthetic_data_edge_cloud\n",
    "# from other_functions import get_social_welfare\n",
    "# from IPython.core.interactiveshell import InteractiveShell\n",
    "# InteractiveShell.ast_node_interactivity = \"all\"\n",
    "\n",
    "stdout = sys.stdout"
   ]
  },
  {
   "cell_type": "code",
   "execution_count": 20,
   "metadata": {},
   "outputs": [],
   "source": [
    "# functions\n",
    "def set_parameters(seed=0, n_tasks=50, auction_type='first-price'):\n",
    "    mipgap = 0.1\n",
    "    n_tasks = int(n_tasks)\n",
    "    n_time = 20\n",
    "    seed = seed\n",
    "    n_nodes = 3\n",
    "#     resource_coefficient_original = 0.2\n",
    "    resource_coefficient = 0.5\n",
    "    high_value_slackness = 0\n",
    "    low_value_slackness = 0\n",
    "    valuation_ratio = 3\n",
    "    resource_ratio = 3\n",
    "    p_high_value_task = 0.1\n",
    "    # parameters of fog nodes\n",
    "    h_r = 50\n",
    "    l_r = 3\n",
    "    l_c = 0\n",
    "    n_c = 2.5\n",
    "    h_c = 3\n",
    "    avg_resource_capacity = {0: [h_r, h_r, h_r], 1: [l_r, l_r, l_r], 2: [l_r, l_r, l_r]}\n",
    "    avg_unit_cost = {0: [h_c, h_c, h_c], 1: [l_c, l_c, l_c], 2: [l_c, l_c, l_c]}\n",
    "    auction_type = auction_type\n",
    "    # stop exploration after 5000 steps\n",
    "    epsilons_tuple = (0.6, 0.3, 0.1)\n",
    "    epsilon_steps_tuple = (\n",
    "        int(n_tasks / 4), int(n_tasks / 4),\n",
    "        int(n_tasks / 4))\n",
    "    return (seed, mipgap, n_tasks, n_time, n_nodes, resource_coefficient, high_value_slackness, \n",
    "        low_value_slackness, valuation_ratio, resource_ratio, p_high_value_task, \n",
    "            avg_resource_capacity, avg_unit_cost, epsilons_tuple, epsilon_steps_tuple, auction_type)"
   ]
  },
  {
   "cell_type": "markdown",
   "metadata": {},
   "source": [
    "## Generate Simulation Data"
   ]
  },
  {
   "cell_type": "code",
   "execution_count": 24,
   "metadata": {
    "collapsed": true,
    "jupyter": {
     "outputs_hidden": true
    }
   },
   "outputs": [
    {
     "name": "stdout",
     "output_type": "stream",
     "text": [
      "df_tasks:\n",
      "    valuation_coefficient  arrive_time  start_time  deadline  usage_time  \\\n",
      "0               65.292180     0.707089           1         4           4   \n",
      "1               53.690766     1.132674           2         5           4   \n",
      "2              212.853512     1.735499           2         5           4   \n",
      "3               94.335582     1.865304           2         5           4   \n",
      "4               93.108278     2.030284           3         6           4   \n",
      "5               87.747081     2.136416           3         6           4   \n",
      "6               99.325762     2.233944           3         6           4   \n",
      "7               90.718599     2.274196           3         6           4   \n",
      "8               53.303676     2.772198           3         6           4   \n",
      "9               52.084983     3.449099           4         7           4   \n",
      "10              82.125056     3.680038           4         7           4   \n",
      "11              83.738468     3.823597           4         7           4   \n",
      "12              89.825475     4.061714           5         8           4   \n",
      "13              81.825440     4.107404           5         8           4   \n",
      "14              83.890748     4.271844           5         8           4   \n",
      "15              68.465320     4.334886           5         8           4   \n",
      "16              84.096017     4.473462           5         8           4   \n",
      "17             251.154287     5.094582           6         9           4   \n",
      "18              78.742958     5.120641           6         9           4   \n",
      "19              73.601974     5.255262           6         9           4   \n",
      "20              88.538566     5.683089           6         9           4   \n",
      "21              97.438539     6.859533           7        10           4   \n",
      "22              91.632951     7.199438           8        11           4   \n",
      "23              92.570227     8.790972           9        12           4   \n",
      "24              74.218267     9.504344          10        13           4   \n",
      "25              72.966452     9.743895          10        13           4   \n",
      "26             206.711344    10.064327          11        14           4   \n",
      "27              76.287251    10.224521          11        14           4   \n",
      "28              85.776722    10.235926          11        14           4   \n",
      "29              86.557472    10.973068          11        14           4   \n",
      "30              71.930056    11.150853          12        15           4   \n",
      "31              91.173075    11.744071          12        15           4   \n",
      "32              55.775134    12.010906          13        16           4   \n",
      "33              77.215259    12.024164          13        16           4   \n",
      "34              80.875470    12.158443          13        16           4   \n",
      "35              95.048747    12.430814          13        16           4   \n",
      "36             264.853310    12.612821          13        16           4   \n",
      "37              51.889313    12.674184          13        16           4   \n",
      "38              90.111656    12.740071          13        16           4   \n",
      "39              90.698660    13.440189          14        17           4   \n",
      "\n",
      "         CPU       RAM      DISK  \n",
      "0   2.562351  2.499933  2.649923  \n",
      "1   2.136063  2.163283  2.196761  \n",
      "2   4.986007  3.644447  3.381637  \n",
      "3   2.493592  2.851881  2.981641  \n",
      "4   2.869981  2.601625  2.284393  \n",
      "5   2.803977  2.237291  2.190102  \n",
      "6   2.371985  2.418790  2.919910  \n",
      "7   2.839470  2.036693  2.917594  \n",
      "8   2.630833  2.375460  2.362687  \n",
      "9   2.613526  2.344049  2.997619  \n",
      "10  2.435427  2.562210  2.283715  \n",
      "11  2.800714  2.853056  2.959457  \n",
      "12  2.176808  2.651008  2.653367  \n",
      "13  2.153812  2.337976  2.833748  \n",
      "14  2.938196  2.047832  2.128967  \n",
      "15  2.960758  2.346017  2.988675  \n",
      "16  2.010464  2.571693  2.117069  \n",
      "17  3.932689  4.830477  4.237512  \n",
      "18  2.388079  2.319606  2.943487  \n",
      "19  2.392879  2.174794  2.420660  \n",
      "20  2.562087  2.085915  2.587570  \n",
      "21  2.227434  2.822302  2.691087  \n",
      "22  2.938931  2.320010  2.271517  \n",
      "23  2.854293  2.400793  2.307567  \n",
      "24  2.937806  2.267597  2.645784  \n",
      "25  2.729844  2.657399  2.860385  \n",
      "26  4.834124  4.722022  4.873873  \n",
      "27  2.627287  2.331521  2.050219  \n",
      "28  2.197345  2.271210  2.901220  \n",
      "29  2.591500  2.004543  2.222635  \n",
      "30  2.160467  2.065261  2.783599  \n",
      "31  2.571495  2.049761  2.526097  \n",
      "32  2.235019  2.012842  2.106382  \n",
      "33  2.890225  2.891632  2.455865  \n",
      "34  2.743682  2.261250  2.396682  \n",
      "35  2.605109  2.302124  2.090723  \n",
      "36  3.299040  3.289984  4.328249  \n",
      "37  2.996901  2.464268  2.780794  \n",
      "38  2.607967  2.656623  2.091769  \n",
      "39  2.527335  2.125856  2.411637  \n",
      "df_nodes:\n",
      "    CPU   RAM  DISK  CPU_cost  RAM_cost  DISK_cost\n",
      "0  50.0  50.0  50.0       3.0       3.0        3.0\n",
      "1   3.0   3.0   3.0       0.0       0.0        0.0\n",
      "2   3.0   3.0   3.0       0.0       0.0        0.0\n"
     ]
    }
   ],
   "source": [
    "sys.stdout = stdout\n",
    "seed = 128\n",
    "# set the parameters\n",
    "(seed, mipgap, n_tasks, n_time, n_nodes, resource_coefficient, high_value_slackness, \n",
    "low_value_slackness, valuation_ratio, resource_ratio, p_high_value_task, avg_resource_capacity, \n",
    " avg_unit_cost, epsilons_tuple, epsilon_steps_tuple, auction_type) = set_parameters(seed=seed)\n",
    "# generate synthetic data for the simulation\n",
    "df_tasks, df_nodes, n_time, n_tasks, n_nodes = \\\n",
    "    generate_synthetic_data_edge_cloud(avg_resource_capacity, avg_unit_cost, n_tasks=n_tasks,\n",
    "                                       n_time=n_time, n_nodes=n_nodes,\n",
    "                                       p_high_value_tasks=p_high_value_task,\n",
    "                                       high_value_slackness_lower_limit=high_value_slackness,\n",
    "                                       high_value_slackness_upper_limit=high_value_slackness,\n",
    "                                       low_value_slackness_lower_limit=low_value_slackness,\n",
    "                                       low_value_slackness_upper_limit=low_value_slackness,\n",
    "                                       k_resource=resource_coefficient,\n",
    "                                       resource_demand_high=resource_ratio,\n",
    "                                       vc_ratio=valuation_ratio,\n",
    "                                       seed=seed)\n",
    "df_tasks = df_tasks.rename(columns={\"storage\": \"DISK\"})\n",
    "df_nodes = df_nodes.rename(\n",
    "    columns={\"storage\": \"DISK\", \"storage_cost\": \"DISK_cost\"})\n",
    "\n",
    "# get part of the tasks\n",
    "df_tasks = df_tasks.iloc[0:40]\n",
    "\n",
    "\n",
    "print(\"df_tasks:\")\n",
    "print(df_tasks)\n",
    "print(\"df_nodes:\")\n",
    "print(df_nodes)\n",
    "# # print the total value of tasks\n",
    "# total_value = 0\n",
    "# for i in range(n_tasks):\n",
    "#     total_value += (df_tasks.loc[i, \"valuation_coefficient\"] *\n",
    "#                     df_tasks.loc[i, \"usage_time\"])\n",
    "# print(f\"n_tasks={n_tasks}\")\n",
    "# print(f\"num of time steps={n_time}\")\n",
    "# print(f\"total value of tasks = {total_value}\")"
   ]
  },
  {
   "cell_type": "markdown",
   "metadata": {},
   "source": [
    "### Offline Optimal"
   ]
  },
  {
   "cell_type": "code",
   "execution_count": 26,
   "metadata": {},
   "outputs": [
    {
     "name": "stderr",
     "output_type": "stream",
     "text": [
      "100%|██████████| 40/40 [00:00<00:00, 21239.67it/s]\n"
     ]
    },
    {
     "name": "stdout",
     "output_type": "stream",
     "text": [
      "social welfare: 12213.945316248943\n",
      "number of allocated tasks: 40\n"
     ]
    }
   ],
   "source": [
    "# run Offline Optimal algo.\n",
    "mipgap=0.1\n",
    "n_tasks=40\n",
    "social_welfare, social_welfare_solution, number_of_allocated_tasks, allocation_scheme = \\\n",
    "    oom.offline_optimal(df_tasks, df_nodes, n_time, n_tasks, n_nodes,\n",
    "                        mipgap=mipgap)\n",
    "print(\"social welfare:\", social_welfare)\n",
    "print(\"number of allocated tasks:\", number_of_allocated_tasks)"
   ]
  },
  {
   "cell_type": "code",
   "execution_count": 17,
   "metadata": {},
   "outputs": [
    {
     "name": "stdout",
     "output_type": "stream",
     "text": [
      "vacant time steps for node 1\n",
      "0\n"
     ]
    }
   ],
   "source": [
    "# which time step is vacant for node 1\n",
    "print(\"vacant time steps for node 1\")\n",
    "for i in range(len(next(iter(allocation_scheme['node_1'].values())))):\n",
    "    vacant = True\n",
    "    for k in allocation_scheme['node_1'].values():\n",
    "        if k[i] != '..':\n",
    "            vacant = False\n",
    "    if vacant == True:\n",
    "        print(i)"
   ]
  },
  {
   "cell_type": "code",
   "execution_count": 18,
   "metadata": {},
   "outputs": [
    {
     "name": "stdout",
     "output_type": "stream",
     "text": [
      "vacant time steps for node 2\n",
      "0\n"
     ]
    }
   ],
   "source": [
    "# which time step is vacant for node 2\n",
    "print(\"vacant time steps for node 2\")\n",
    "for i in range(len(next(iter(allocation_scheme['node_2'].values())))):\n",
    "    vacant = True\n",
    "    for k in allocation_scheme['node_2'].values():\n",
    "        if k[i] != '..':\n",
    "            vacant = False\n",
    "    if vacant == True:\n",
    "        print(i)"
   ]
  },
  {
   "cell_type": "markdown",
   "metadata": {},
   "source": [
    "## Get average social welfare of Offline Optimal"
   ]
  },
  {
   "cell_type": "code",
   "execution_count": 27,
   "metadata": {
    "scrolled": true
   },
   "outputs": [
    {
     "name": "stdout",
     "output_type": "stream",
     "text": [
      "seed = 0\n"
     ]
    },
    {
     "name": "stderr",
     "output_type": "stream",
     "text": [
      "100%|██████████| 40/40 [00:00<00:00, 11229.73it/s]\n"
     ]
    },
    {
     "name": "stdout",
     "output_type": "stream",
     "text": [
      "social welfare: 10128.533054680674\n",
      "number of allocated tasks: 40\n",
      "seed = 1\n"
     ]
    },
    {
     "name": "stderr",
     "output_type": "stream",
     "text": [
      "100%|██████████| 40/40 [00:00<00:00, 15461.45it/s]\n"
     ]
    },
    {
     "name": "stdout",
     "output_type": "stream",
     "text": [
      "social welfare: 11602.597008729543\n",
      "number of allocated tasks: 40\n",
      "seed = 2\n"
     ]
    },
    {
     "name": "stderr",
     "output_type": "stream",
     "text": [
      "100%|██████████| 40/40 [00:00<00:00, 21833.96it/s]\n"
     ]
    },
    {
     "name": "stdout",
     "output_type": "stream",
     "text": [
      "social welfare: 10559.181177814067\n",
      "number of allocated tasks: 40\n",
      "seed = 3\n"
     ]
    },
    {
     "name": "stderr",
     "output_type": "stream",
     "text": [
      "100%|██████████| 40/40 [00:00<00:00, 19871.15it/s]\n"
     ]
    },
    {
     "name": "stdout",
     "output_type": "stream",
     "text": [
      "social welfare: 9427.81969360763\n",
      "number of allocated tasks: 40\n",
      "seed = 4\n"
     ]
    },
    {
     "name": "stderr",
     "output_type": "stream",
     "text": [
      "100%|██████████| 40/40 [00:00<00:00, 11716.75it/s]\n"
     ]
    },
    {
     "name": "stdout",
     "output_type": "stream",
     "text": [
      "social welfare: 11711.618031392733\n",
      "number of allocated tasks: 40\n",
      "seed = 5\n"
     ]
    },
    {
     "name": "stderr",
     "output_type": "stream",
     "text": [
      "100%|██████████| 40/40 [00:00<00:00, 11085.78it/s]\n"
     ]
    },
    {
     "name": "stdout",
     "output_type": "stream",
     "text": [
      "social welfare: 11124.738252637811\n",
      "number of allocated tasks: 40\n",
      "seed = 6\n"
     ]
    },
    {
     "name": "stderr",
     "output_type": "stream",
     "text": [
      "100%|██████████| 40/40 [00:00<00:00, 10632.62it/s]\n"
     ]
    },
    {
     "name": "stdout",
     "output_type": "stream",
     "text": [
      "social welfare: 11138.38439187639\n",
      "number of allocated tasks: 40\n",
      "seed = 7\n"
     ]
    },
    {
     "name": "stderr",
     "output_type": "stream",
     "text": [
      "100%|██████████| 40/40 [00:00<00:00, 10446.59it/s]\n"
     ]
    },
    {
     "name": "stdout",
     "output_type": "stream",
     "text": [
      "social welfare: 11519.585697381708\n",
      "number of allocated tasks: 40\n",
      "seed = 8\n"
     ]
    },
    {
     "name": "stderr",
     "output_type": "stream",
     "text": [
      "100%|██████████| 40/40 [00:00<00:00, 3940.44it/s]\n"
     ]
    },
    {
     "name": "stdout",
     "output_type": "stream",
     "text": [
      "social welfare: 11569.261107174949\n",
      "number of allocated tasks: 40\n",
      "seed = 9\n"
     ]
    },
    {
     "name": "stderr",
     "output_type": "stream",
     "text": [
      "100%|██████████| 40/40 [00:00<00:00, 9655.40it/s]\n"
     ]
    },
    {
     "name": "stdout",
     "output_type": "stream",
     "text": [
      "social welfare: 11751.792645862079\n",
      "number of allocated tasks: 40\n",
      "seed = 10\n"
     ]
    },
    {
     "name": "stderr",
     "output_type": "stream",
     "text": [
      "100%|██████████| 40/40 [00:00<00:00, 19840.61it/s]\n"
     ]
    },
    {
     "name": "stdout",
     "output_type": "stream",
     "text": [
      "social welfare: 11216.183600518474\n",
      "number of allocated tasks: 40\n",
      "seed = 11\n"
     ]
    },
    {
     "name": "stderr",
     "output_type": "stream",
     "text": [
      "100%|██████████| 40/40 [00:00<00:00, 23895.76it/s]\n"
     ]
    },
    {
     "name": "stdout",
     "output_type": "stream",
     "text": [
      "social welfare: 11794.550990672835\n",
      "number of allocated tasks: 40\n",
      "seed = 12\n"
     ]
    },
    {
     "name": "stderr",
     "output_type": "stream",
     "text": [
      "100%|██████████| 40/40 [00:00<00:00, 21298.99it/s]\n"
     ]
    },
    {
     "name": "stdout",
     "output_type": "stream",
     "text": [
      "social welfare: 11590.230286310802\n",
      "number of allocated tasks: 40\n",
      "seed = 13\n"
     ]
    },
    {
     "name": "stderr",
     "output_type": "stream",
     "text": [
      "100%|██████████| 40/40 [00:00<00:00, 23570.13it/s]\n"
     ]
    },
    {
     "name": "stdout",
     "output_type": "stream",
     "text": [
      "social welfare: 10401.712425794463\n",
      "number of allocated tasks: 40\n",
      "seed = 14\n"
     ]
    },
    {
     "name": "stderr",
     "output_type": "stream",
     "text": [
      "100%|██████████| 40/40 [00:00<00:00, 20715.17it/s]\n"
     ]
    },
    {
     "name": "stdout",
     "output_type": "stream",
     "text": [
      "social welfare: 11447.772271097976\n",
      "number of allocated tasks: 40\n",
      "seed = 15\n"
     ]
    },
    {
     "name": "stderr",
     "output_type": "stream",
     "text": [
      "100%|██████████| 40/40 [00:00<00:00, 27400.32it/s]\n"
     ]
    },
    {
     "name": "stdout",
     "output_type": "stream",
     "text": [
      "social welfare: 10937.806087391567\n",
      "number of allocated tasks: 40\n",
      "seed = 16\n"
     ]
    },
    {
     "name": "stderr",
     "output_type": "stream",
     "text": [
      "100%|██████████| 40/40 [00:00<00:00, 25206.15it/s]\n"
     ]
    },
    {
     "name": "stdout",
     "output_type": "stream",
     "text": [
      "social welfare: 10530.019564648896\n",
      "number of allocated tasks: 40\n",
      "seed = 17\n"
     ]
    },
    {
     "name": "stderr",
     "output_type": "stream",
     "text": [
      "100%|██████████| 40/40 [00:00<00:00, 18349.79it/s]\n"
     ]
    },
    {
     "name": "stdout",
     "output_type": "stream",
     "text": [
      "social welfare: 11436.455193177531\n",
      "number of allocated tasks: 40\n",
      "seed = 18\n"
     ]
    },
    {
     "name": "stderr",
     "output_type": "stream",
     "text": [
      "100%|██████████| 40/40 [00:00<00:00, 22098.55it/s]\n"
     ]
    },
    {
     "name": "stdout",
     "output_type": "stream",
     "text": [
      "social welfare: 12021.553578832865\n",
      "number of allocated tasks: 40\n",
      "seed = 19\n"
     ]
    },
    {
     "name": "stderr",
     "output_type": "stream",
     "text": [
      "100%|██████████| 40/40 [00:00<00:00, 9762.71it/s]\n"
     ]
    },
    {
     "name": "stdout",
     "output_type": "stream",
     "text": [
      "social welfare: 10895.927554914804\n",
      "number of allocated tasks: 40\n",
      "seed = 20\n"
     ]
    },
    {
     "name": "stderr",
     "output_type": "stream",
     "text": [
      "100%|██████████| 40/40 [00:00<00:00, 7624.97it/s]\n"
     ]
    },
    {
     "name": "stdout",
     "output_type": "stream",
     "text": [
      "social welfare: 11573.717478273355\n",
      "number of allocated tasks: 40\n",
      "seed = 21\n"
     ]
    },
    {
     "name": "stderr",
     "output_type": "stream",
     "text": [
      "100%|██████████| 40/40 [00:00<00:00, 11028.21it/s]\n"
     ]
    },
    {
     "name": "stdout",
     "output_type": "stream",
     "text": [
      "social welfare: 11125.650505350564\n",
      "number of allocated tasks: 40\n",
      "seed = 22\n"
     ]
    },
    {
     "name": "stderr",
     "output_type": "stream",
     "text": [
      "100%|██████████| 40/40 [00:00<00:00, 12587.00it/s]\n"
     ]
    },
    {
     "name": "stdout",
     "output_type": "stream",
     "text": [
      "social welfare: 10907.68722687823\n",
      "number of allocated tasks: 40\n",
      "seed = 23\n"
     ]
    },
    {
     "name": "stderr",
     "output_type": "stream",
     "text": [
      "100%|██████████| 40/40 [00:00<00:00, 12255.09it/s]\n"
     ]
    },
    {
     "name": "stdout",
     "output_type": "stream",
     "text": [
      "social welfare: 11829.104242598014\n",
      "number of allocated tasks: 40\n",
      "seed = 24\n"
     ]
    },
    {
     "name": "stderr",
     "output_type": "stream",
     "text": [
      "100%|██████████| 40/40 [00:00<00:00, 10892.88it/s]\n"
     ]
    },
    {
     "name": "stdout",
     "output_type": "stream",
     "text": [
      "social welfare: 12116.383006693564\n",
      "number of allocated tasks: 40\n",
      "seed = 25\n"
     ]
    },
    {
     "name": "stderr",
     "output_type": "stream",
     "text": [
      "100%|██████████| 40/40 [00:00<00:00, 22209.71it/s]\n"
     ]
    },
    {
     "name": "stdout",
     "output_type": "stream",
     "text": [
      "social welfare: 10743.901158866363\n",
      "number of allocated tasks: 40\n",
      "seed = 26\n"
     ]
    },
    {
     "name": "stderr",
     "output_type": "stream",
     "text": [
      "100%|██████████| 40/40 [00:00<00:00, 21622.91it/s]"
     ]
    },
    {
     "name": "stdout",
     "output_type": "stream",
     "text": [
      "social welfare: 11908.877280414514\n",
      "number of allocated tasks: 40\n",
      "seed = 27\n"
     ]
    },
    {
     "name": "stderr",
     "output_type": "stream",
     "text": [
      "\n",
      "100%|██████████| 40/40 [00:00<00:00, 18655.86it/s]\n"
     ]
    },
    {
     "name": "stdout",
     "output_type": "stream",
     "text": [
      "social welfare: 10881.12495506992\n",
      "number of allocated tasks: 40\n",
      "seed = 28\n"
     ]
    },
    {
     "name": "stderr",
     "output_type": "stream",
     "text": [
      "100%|██████████| 40/40 [00:00<00:00, 17995.51it/s]\n"
     ]
    },
    {
     "name": "stdout",
     "output_type": "stream",
     "text": [
      "social welfare: 10418.023862583079\n",
      "number of allocated tasks: 40\n",
      "seed = 29\n"
     ]
    },
    {
     "name": "stderr",
     "output_type": "stream",
     "text": [
      "100%|██████████| 40/40 [00:00<00:00, 20820.57it/s]\n"
     ]
    },
    {
     "name": "stdout",
     "output_type": "stream",
     "text": [
      "social welfare: 12261.348842383024\n",
      "number of allocated tasks: 40\n",
      "seed = 30\n"
     ]
    },
    {
     "name": "stderr",
     "output_type": "stream",
     "text": [
      "100%|██████████| 40/40 [00:00<00:00, 22101.46it/s]\n"
     ]
    },
    {
     "name": "stdout",
     "output_type": "stream",
     "text": [
      "social welfare: 11681.950095710543\n",
      "number of allocated tasks: 40\n",
      "seed = 31\n"
     ]
    },
    {
     "name": "stderr",
     "output_type": "stream",
     "text": [
      "100%|██████████| 40/40 [00:00<00:00, 27873.76it/s]\n"
     ]
    },
    {
     "name": "stdout",
     "output_type": "stream",
     "text": [
      "social welfare: 10822.538607693801\n",
      "number of allocated tasks: 40\n",
      "seed = 32\n"
     ]
    },
    {
     "name": "stderr",
     "output_type": "stream",
     "text": [
      "100%|██████████| 40/40 [00:00<00:00, 21199.41it/s]\n"
     ]
    },
    {
     "name": "stdout",
     "output_type": "stream",
     "text": [
      "social welfare: 11399.938302315202\n",
      "number of allocated tasks: 40\n",
      "seed = 33\n"
     ]
    },
    {
     "name": "stderr",
     "output_type": "stream",
     "text": [
      "100%|██████████| 40/40 [00:00<00:00, 15396.18it/s]\n"
     ]
    },
    {
     "name": "stdout",
     "output_type": "stream",
     "text": [
      "social welfare: 12128.64218046456\n",
      "number of allocated tasks: 40\n",
      "seed = 34\n"
     ]
    },
    {
     "name": "stderr",
     "output_type": "stream",
     "text": [
      "100%|██████████| 40/40 [00:00<00:00, 21751.87it/s]\n"
     ]
    },
    {
     "name": "stdout",
     "output_type": "stream",
     "text": [
      "social welfare: 11651.042663050057\n",
      "number of allocated tasks: 40\n",
      "seed = 35\n"
     ]
    },
    {
     "name": "stderr",
     "output_type": "stream",
     "text": [
      "100%|██████████| 40/40 [00:00<00:00, 13126.68it/s]\n"
     ]
    },
    {
     "name": "stdout",
     "output_type": "stream",
     "text": [
      "social welfare: 11756.856013322638\n",
      "number of allocated tasks: 40\n",
      "seed = 36\n"
     ]
    },
    {
     "name": "stderr",
     "output_type": "stream",
     "text": [
      "100%|██████████| 40/40 [00:00<00:00, 12083.85it/s]\n"
     ]
    },
    {
     "name": "stdout",
     "output_type": "stream",
     "text": [
      "social welfare: 11835.866804252173\n",
      "number of allocated tasks: 40\n",
      "seed = 37\n"
     ]
    },
    {
     "name": "stderr",
     "output_type": "stream",
     "text": [
      "100%|██████████| 40/40 [00:00<00:00, 11441.87it/s]\n"
     ]
    },
    {
     "name": "stdout",
     "output_type": "stream",
     "text": [
      "social welfare: 11116.496124636758\n",
      "number of allocated tasks: 40\n",
      "seed = 38\n"
     ]
    },
    {
     "name": "stderr",
     "output_type": "stream",
     "text": [
      "100%|██████████| 40/40 [00:00<00:00, 11007.95it/s]\n"
     ]
    },
    {
     "name": "stdout",
     "output_type": "stream",
     "text": [
      "social welfare: 11659.553465291068\n",
      "number of allocated tasks: 40\n",
      "seed = 39\n"
     ]
    },
    {
     "name": "stderr",
     "output_type": "stream",
     "text": [
      "100%|██████████| 40/40 [00:00<00:00, 8387.35it/s]\n"
     ]
    },
    {
     "name": "stdout",
     "output_type": "stream",
     "text": [
      "social welfare: 11591.52667452447\n",
      "number of allocated tasks: 40\n",
      "seed = 40\n"
     ]
    },
    {
     "name": "stderr",
     "output_type": "stream",
     "text": [
      "100%|██████████| 40/40 [00:00<00:00, 10410.93it/s]\n"
     ]
    },
    {
     "name": "stdout",
     "output_type": "stream",
     "text": [
      "social welfare: 11051.540768459512\n",
      "number of allocated tasks: 40\n",
      "seed = 41\n"
     ]
    },
    {
     "name": "stderr",
     "output_type": "stream",
     "text": [
      "100%|██████████| 40/40 [00:00<00:00, 23014.01it/s]\n"
     ]
    },
    {
     "name": "stdout",
     "output_type": "stream",
     "text": [
      "social welfare: 10414.186214397272\n",
      "number of allocated tasks: 40\n",
      "seed = 42\n"
     ]
    },
    {
     "name": "stderr",
     "output_type": "stream",
     "text": [
      "100%|██████████| 40/40 [00:00<00:00, 26416.65it/s]\n"
     ]
    },
    {
     "name": "stdout",
     "output_type": "stream",
     "text": [
      "social welfare: 11795.054785695107\n",
      "number of allocated tasks: 40\n",
      "seed = 43\n"
     ]
    },
    {
     "name": "stderr",
     "output_type": "stream",
     "text": [
      "100%|██████████| 40/40 [00:00<00:00, 16234.97it/s]\n"
     ]
    },
    {
     "name": "stdout",
     "output_type": "stream",
     "text": [
      "social welfare: 10865.098384967872\n",
      "number of allocated tasks: 40\n",
      "seed = 44\n"
     ]
    },
    {
     "name": "stderr",
     "output_type": "stream",
     "text": [
      "100%|██████████| 40/40 [00:00<00:00, 20480.00it/s]\n"
     ]
    },
    {
     "name": "stdout",
     "output_type": "stream",
     "text": [
      "social welfare: 12951.473431671018\n",
      "number of allocated tasks: 40\n",
      "seed = 45\n"
     ]
    },
    {
     "name": "stderr",
     "output_type": "stream",
     "text": [
      "100%|██████████| 40/40 [00:00<00:00, 22988.79it/s]\n"
     ]
    },
    {
     "name": "stdout",
     "output_type": "stream",
     "text": [
      "social welfare: 11751.6264319292\n",
      "number of allocated tasks: 40\n",
      "seed = 46\n"
     ]
    },
    {
     "name": "stderr",
     "output_type": "stream",
     "text": [
      "100%|██████████| 40/40 [00:00<00:00, 24185.12it/s]\n"
     ]
    },
    {
     "name": "stdout",
     "output_type": "stream",
     "text": [
      "social welfare: 11571.011096090087\n",
      "number of allocated tasks: 40\n",
      "seed = 47\n"
     ]
    },
    {
     "name": "stderr",
     "output_type": "stream",
     "text": [
      "100%|██████████| 40/40 [00:00<00:00, 24360.70it/s]\n"
     ]
    },
    {
     "name": "stdout",
     "output_type": "stream",
     "text": [
      "social welfare: 11624.083212339363\n",
      "number of allocated tasks: 40\n",
      "seed = 48\n"
     ]
    },
    {
     "name": "stderr",
     "output_type": "stream",
     "text": [
      "100%|██████████| 40/40 [00:00<00:00, 26337.86it/s]\n"
     ]
    },
    {
     "name": "stdout",
     "output_type": "stream",
     "text": [
      "social welfare: 10852.914984994\n",
      "number of allocated tasks: 40\n",
      "seed = 49\n"
     ]
    },
    {
     "name": "stderr",
     "output_type": "stream",
     "text": [
      "100%|██████████| 40/40 [00:00<00:00, 20395.35it/s]\n"
     ]
    },
    {
     "name": "stdout",
     "output_type": "stream",
     "text": [
      "social welfare: 11938.410184560653\n",
      "number of allocated tasks: 40\n",
      "seed = 50\n"
     ]
    },
    {
     "name": "stderr",
     "output_type": "stream",
     "text": [
      "100%|██████████| 40/40 [00:00<00:00, 19686.95it/s]\n"
     ]
    },
    {
     "name": "stdout",
     "output_type": "stream",
     "text": [
      "social welfare: 11850.397616416578\n",
      "number of allocated tasks: 40\n",
      "seed = 51\n"
     ]
    },
    {
     "name": "stderr",
     "output_type": "stream",
     "text": [
      "100%|██████████| 40/40 [00:00<00:00, 13253.19it/s]\n"
     ]
    },
    {
     "name": "stdout",
     "output_type": "stream",
     "text": [
      "social welfare: 11566.56215914234\n",
      "number of allocated tasks: 40\n",
      "seed = 52\n"
     ]
    },
    {
     "name": "stderr",
     "output_type": "stream",
     "text": [
      "100%|██████████| 40/40 [00:00<00:00, 10396.74it/s]\n"
     ]
    },
    {
     "name": "stdout",
     "output_type": "stream",
     "text": [
      "social welfare: 11218.559052966717\n",
      "number of allocated tasks: 40\n",
      "seed = 53\n"
     ]
    },
    {
     "name": "stderr",
     "output_type": "stream",
     "text": [
      "100%|██████████| 40/40 [00:00<00:00, 10761.52it/s]\n"
     ]
    },
    {
     "name": "stdout",
     "output_type": "stream",
     "text": [
      "social welfare: 10919.895570164741\n",
      "number of allocated tasks: 40\n",
      "seed = 54\n"
     ]
    },
    {
     "name": "stderr",
     "output_type": "stream",
     "text": [
      "100%|██████████| 40/40 [00:00<00:00, 12041.35it/s]\n"
     ]
    },
    {
     "name": "stdout",
     "output_type": "stream",
     "text": [
      "social welfare: 10948.309913260575\n",
      "number of allocated tasks: 40\n",
      "seed = 55\n"
     ]
    },
    {
     "name": "stderr",
     "output_type": "stream",
     "text": [
      "100%|██████████| 40/40 [00:00<00:00, 11799.15it/s]\n"
     ]
    },
    {
     "name": "stdout",
     "output_type": "stream",
     "text": [
      "social welfare: 10946.071860782318\n",
      "number of allocated tasks: 40\n",
      "seed = 56\n"
     ]
    },
    {
     "name": "stderr",
     "output_type": "stream",
     "text": [
      "100%|██████████| 40/40 [00:00<00:00, 11706.94it/s]\n"
     ]
    },
    {
     "name": "stdout",
     "output_type": "stream",
     "text": [
      "social welfare: 11065.882881696287\n",
      "number of allocated tasks: 40\n",
      "seed = 57\n"
     ]
    },
    {
     "name": "stderr",
     "output_type": "stream",
     "text": [
      "100%|██████████| 40/40 [00:00<00:00, 22507.67it/s]\n"
     ]
    },
    {
     "name": "stdout",
     "output_type": "stream",
     "text": [
      "social welfare: 11051.792237387623\n",
      "number of allocated tasks: 40\n",
      "seed = 58\n"
     ]
    },
    {
     "name": "stderr",
     "output_type": "stream",
     "text": [
      "100%|██████████| 40/40 [00:00<00:00, 22498.61it/s]\n"
     ]
    },
    {
     "name": "stdout",
     "output_type": "stream",
     "text": [
      "social welfare: 10571.09611131192\n",
      "number of allocated tasks: 40\n",
      "seed = 59\n"
     ]
    },
    {
     "name": "stderr",
     "output_type": "stream",
     "text": [
      "100%|██████████| 40/40 [00:00<00:00, 21242.36it/s]\n"
     ]
    },
    {
     "name": "stdout",
     "output_type": "stream",
     "text": [
      "social welfare: 10961.83493784521\n",
      "number of allocated tasks: 40\n",
      "seed = 60\n"
     ]
    },
    {
     "name": "stderr",
     "output_type": "stream",
     "text": [
      "100%|██████████| 40/40 [00:00<00:00, 27512.65it/s]\n"
     ]
    },
    {
     "name": "stdout",
     "output_type": "stream",
     "text": [
      "social welfare: 11240.51857047011\n",
      "number of allocated tasks: 40\n",
      "seed = 61\n"
     ]
    },
    {
     "name": "stderr",
     "output_type": "stream",
     "text": [
      "100%|██████████| 40/40 [00:00<00:00, 23392.66it/s]\n"
     ]
    },
    {
     "name": "stdout",
     "output_type": "stream",
     "text": [
      "social welfare: 10561.944145753612\n",
      "number of allocated tasks: 40\n",
      "seed = 62\n"
     ]
    },
    {
     "name": "stderr",
     "output_type": "stream",
     "text": [
      "100%|██████████| 40/40 [00:00<00:00, 19814.83it/s]\n"
     ]
    },
    {
     "name": "stdout",
     "output_type": "stream",
     "text": [
      "social welfare: 11018.684040927736\n",
      "number of allocated tasks: 40\n",
      "seed = 63\n"
     ]
    },
    {
     "name": "stderr",
     "output_type": "stream",
     "text": [
      "100%|██████████| 40/40 [00:00<00:00, 21050.46it/s]\n"
     ]
    },
    {
     "name": "stdout",
     "output_type": "stream",
     "text": [
      "social welfare: 10468.16563304029\n",
      "number of allocated tasks: 40\n",
      "seed = 64\n"
     ]
    },
    {
     "name": "stderr",
     "output_type": "stream",
     "text": [
      "100%|██████████| 40/40 [00:00<00:00, 19939.64it/s]\n"
     ]
    },
    {
     "name": "stdout",
     "output_type": "stream",
     "text": [
      "social welfare: 11467.073422469684\n",
      "number of allocated tasks: 40\n",
      "seed = 65\n"
     ]
    },
    {
     "name": "stderr",
     "output_type": "stream",
     "text": [
      "100%|██████████| 40/40 [00:00<00:00, 25692.52it/s]\n"
     ]
    },
    {
     "name": "stdout",
     "output_type": "stream",
     "text": [
      "social welfare: 11236.105123003175\n",
      "number of allocated tasks: 40\n",
      "seed = 66\n"
     ]
    },
    {
     "name": "stderr",
     "output_type": "stream",
     "text": [
      "100%|██████████| 40/40 [00:00<00:00, 28861.54it/s]\n"
     ]
    },
    {
     "name": "stdout",
     "output_type": "stream",
     "text": [
      "social welfare: 11239.625664854108\n",
      "number of allocated tasks: 40\n",
      "seed = 67\n"
     ]
    },
    {
     "name": "stderr",
     "output_type": "stream",
     "text": [
      "100%|██████████| 40/40 [00:00<00:00, 15554.62it/s]\n"
     ]
    },
    {
     "name": "stdout",
     "output_type": "stream",
     "text": [
      "social welfare: 10499.488019840468\n",
      "number of allocated tasks: 40\n",
      "seed = 68\n"
     ]
    },
    {
     "name": "stderr",
     "output_type": "stream",
     "text": [
      "100%|██████████| 40/40 [00:00<00:00, 12202.50it/s]\n"
     ]
    },
    {
     "name": "stdout",
     "output_type": "stream",
     "text": [
      "social welfare: 11970.261424600194\n",
      "number of allocated tasks: 40\n",
      "seed = 69\n"
     ]
    },
    {
     "name": "stderr",
     "output_type": "stream",
     "text": [
      "100%|██████████| 40/40 [00:00<00:00, 13516.93it/s]\n"
     ]
    },
    {
     "name": "stdout",
     "output_type": "stream",
     "text": [
      "social welfare: 10016.227749183205\n",
      "number of allocated tasks: 40\n",
      "seed = 70\n"
     ]
    },
    {
     "name": "stderr",
     "output_type": "stream",
     "text": [
      "100%|██████████| 40/40 [00:00<00:00, 8064.42it/s]\n"
     ]
    },
    {
     "name": "stdout",
     "output_type": "stream",
     "text": [
      "social welfare: 12119.929280650556\n",
      "number of allocated tasks: 40\n",
      "seed = 71\n"
     ]
    },
    {
     "name": "stderr",
     "output_type": "stream",
     "text": [
      "100%|██████████| 40/40 [00:00<00:00, 11418.51it/s]\n"
     ]
    },
    {
     "name": "stdout",
     "output_type": "stream",
     "text": [
      "social welfare: 12224.519869678543\n",
      "number of allocated tasks: 40\n",
      "seed = 72\n"
     ]
    },
    {
     "name": "stderr",
     "output_type": "stream",
     "text": [
      "100%|██████████| 40/40 [00:00<00:00, 681.51it/s]\n"
     ]
    },
    {
     "name": "stdout",
     "output_type": "stream",
     "text": [
      "social welfare: 11555.650740974843\n",
      "number of allocated tasks: 40\n",
      "seed = 73\n"
     ]
    },
    {
     "name": "stderr",
     "output_type": "stream",
     "text": [
      "100%|██████████| 40/40 [00:00<00:00, 20343.42it/s]\n"
     ]
    },
    {
     "name": "stdout",
     "output_type": "stream",
     "text": [
      "social welfare: 11324.765994946709\n",
      "number of allocated tasks: 40\n",
      "seed = 74\n"
     ]
    },
    {
     "name": "stderr",
     "output_type": "stream",
     "text": [
      "100%|██████████| 40/40 [00:00<00:00, 22841.68it/s]\n"
     ]
    },
    {
     "name": "stdout",
     "output_type": "stream",
     "text": [
      "social welfare: 11249.94930111472\n",
      "number of allocated tasks: 40\n",
      "seed = 75\n"
     ]
    },
    {
     "name": "stderr",
     "output_type": "stream",
     "text": [
      "100%|██████████| 40/40 [00:00<00:00, 19560.70it/s]\n"
     ]
    },
    {
     "name": "stdout",
     "output_type": "stream",
     "text": [
      "social welfare: 11354.981058268311\n",
      "number of allocated tasks: 40\n",
      "seed = 76\n"
     ]
    },
    {
     "name": "stderr",
     "output_type": "stream",
     "text": [
      "100%|██████████| 40/40 [00:00<00:00, 18034.20it/s]\n"
     ]
    },
    {
     "name": "stdout",
     "output_type": "stream",
     "text": [
      "social welfare: 9793.03258211242\n",
      "number of allocated tasks: 40\n",
      "seed = 77\n"
     ]
    },
    {
     "name": "stderr",
     "output_type": "stream",
     "text": [
      "100%|██████████| 40/40 [00:00<00:00, 23230.71it/s]\n"
     ]
    },
    {
     "name": "stdout",
     "output_type": "stream",
     "text": [
      "social welfare: 10981.783677813179\n",
      "number of allocated tasks: 40\n",
      "seed = 78\n"
     ]
    },
    {
     "name": "stderr",
     "output_type": "stream",
     "text": [
      "100%|██████████| 40/40 [00:00<00:00, 18434.48it/s]\n"
     ]
    },
    {
     "name": "stdout",
     "output_type": "stream",
     "text": [
      "social welfare: 11478.876153244422\n",
      "number of allocated tasks: 40\n",
      "seed = 79\n"
     ]
    },
    {
     "name": "stderr",
     "output_type": "stream",
     "text": [
      "100%|██████████| 40/40 [00:00<00:00, 15564.72it/s]\n"
     ]
    },
    {
     "name": "stdout",
     "output_type": "stream",
     "text": [
      "social welfare: 11884.430743540239\n",
      "number of allocated tasks: 40\n",
      "seed = 80\n"
     ]
    },
    {
     "name": "stderr",
     "output_type": "stream",
     "text": [
      "100%|██████████| 40/40 [00:00<00:00, 19647.75it/s]\n"
     ]
    },
    {
     "name": "stdout",
     "output_type": "stream",
     "text": [
      "social welfare: 11944.612632109012\n",
      "number of allocated tasks: 40\n",
      "seed = 81\n"
     ]
    },
    {
     "name": "stderr",
     "output_type": "stream",
     "text": [
      "100%|██████████| 40/40 [00:00<00:00, 17637.95it/s]\n"
     ]
    },
    {
     "name": "stdout",
     "output_type": "stream",
     "text": [
      "social welfare: 10107.764666365858\n",
      "number of allocated tasks: 40\n",
      "seed = 82\n"
     ]
    },
    {
     "name": "stderr",
     "output_type": "stream",
     "text": [
      "100%|██████████| 40/40 [00:00<00:00, 16597.96it/s]\n"
     ]
    },
    {
     "name": "stdout",
     "output_type": "stream",
     "text": [
      "social welfare: 10995.98589059783\n",
      "number of allocated tasks: 40\n",
      "seed = 83\n"
     ]
    },
    {
     "name": "stderr",
     "output_type": "stream",
     "text": [
      "100%|██████████| 40/40 [00:00<00:00, 11556.94it/s]\n"
     ]
    },
    {
     "name": "stdout",
     "output_type": "stream",
     "text": [
      "social welfare: 11534.63368595823\n",
      "number of allocated tasks: 40\n",
      "seed = 84\n"
     ]
    },
    {
     "name": "stderr",
     "output_type": "stream",
     "text": [
      "100%|██████████| 40/40 [00:00<00:00, 13888.42it/s]\n"
     ]
    },
    {
     "name": "stdout",
     "output_type": "stream",
     "text": [
      "social welfare: 10845.396801426621\n",
      "number of allocated tasks: 40\n",
      "seed = 85\n"
     ]
    },
    {
     "name": "stderr",
     "output_type": "stream",
     "text": [
      "100%|██████████| 40/40 [00:00<00:00, 12043.95it/s]\n"
     ]
    },
    {
     "name": "stdout",
     "output_type": "stream",
     "text": [
      "social welfare: 10339.139274509535\n",
      "number of allocated tasks: 40\n",
      "seed = 86\n"
     ]
    },
    {
     "name": "stderr",
     "output_type": "stream",
     "text": [
      "100%|██████████| 40/40 [00:00<00:00, 11296.27it/s]\n"
     ]
    },
    {
     "name": "stdout",
     "output_type": "stream",
     "text": [
      "social welfare: 10875.082717507556\n",
      "number of allocated tasks: 40\n",
      "seed = 87\n"
     ]
    },
    {
     "name": "stderr",
     "output_type": "stream",
     "text": [
      "100%|██████████| 40/40 [00:00<00:00, 10675.92it/s]\n"
     ]
    },
    {
     "name": "stdout",
     "output_type": "stream",
     "text": [
      "social welfare: 11038.484300972299\n",
      "number of allocated tasks: 40\n",
      "seed = 88\n"
     ]
    },
    {
     "name": "stderr",
     "output_type": "stream",
     "text": [
      "100%|██████████| 40/40 [00:00<00:00, 9737.21it/s]\n"
     ]
    },
    {
     "name": "stdout",
     "output_type": "stream",
     "text": [
      "social welfare: 11668.56006256222\n",
      "number of allocated tasks: 40\n",
      "seed = 89\n"
     ]
    },
    {
     "name": "stderr",
     "output_type": "stream",
     "text": [
      "100%|██████████| 40/40 [00:00<00:00, 23389.40it/s]\n"
     ]
    },
    {
     "name": "stdout",
     "output_type": "stream",
     "text": [
      "social welfare: 11356.03523423836\n",
      "number of allocated tasks: 40\n",
      "seed = 90\n"
     ]
    },
    {
     "name": "stderr",
     "output_type": "stream",
     "text": [
      "100%|██████████| 40/40 [00:00<00:00, 20420.18it/s]\n"
     ]
    },
    {
     "name": "stdout",
     "output_type": "stream",
     "text": [
      "social welfare: 10538.899822417066\n",
      "number of allocated tasks: 40\n",
      "seed = 91\n"
     ]
    },
    {
     "name": "stderr",
     "output_type": "stream",
     "text": [
      "100%|██████████| 40/40 [00:00<00:00, 11625.01it/s]\n"
     ]
    },
    {
     "name": "stdout",
     "output_type": "stream",
     "text": [
      "social welfare: 9518.31835124262\n",
      "number of allocated tasks: 40\n",
      "seed = 92\n"
     ]
    },
    {
     "name": "stderr",
     "output_type": "stream",
     "text": [
      "100%|██████████| 40/40 [00:00<00:00, 18859.28it/s]\n"
     ]
    },
    {
     "name": "stdout",
     "output_type": "stream",
     "text": [
      "social welfare: 11582.355961557696\n",
      "number of allocated tasks: 40\n",
      "seed = 93\n"
     ]
    },
    {
     "name": "stderr",
     "output_type": "stream",
     "text": [
      "100%|██████████| 40/40 [00:00<00:00, 21916.68it/s]\n"
     ]
    },
    {
     "name": "stdout",
     "output_type": "stream",
     "text": [
      "social welfare: 10098.289057075122\n",
      "number of allocated tasks: 40\n",
      "seed = 94\n"
     ]
    },
    {
     "name": "stderr",
     "output_type": "stream",
     "text": [
      "100%|██████████| 40/40 [00:00<00:00, 21765.98it/s]\n"
     ]
    },
    {
     "name": "stdout",
     "output_type": "stream",
     "text": [
      "social welfare: 11694.01349877007\n",
      "number of allocated tasks: 40\n",
      "seed = 95\n"
     ]
    },
    {
     "name": "stderr",
     "output_type": "stream",
     "text": [
      "100%|██████████| 40/40 [00:00<00:00, 18165.02it/s]\n"
     ]
    },
    {
     "name": "stdout",
     "output_type": "stream",
     "text": [
      "social welfare: 9704.02281858934\n",
      "number of allocated tasks: 40\n",
      "seed = 96\n"
     ]
    },
    {
     "name": "stderr",
     "output_type": "stream",
     "text": [
      "100%|██████████| 40/40 [00:00<00:00, 21678.79it/s]\n"
     ]
    },
    {
     "name": "stdout",
     "output_type": "stream",
     "text": [
      "social welfare: 11040.017262792186\n",
      "number of allocated tasks: 40\n",
      "seed = 97\n"
     ]
    },
    {
     "name": "stderr",
     "output_type": "stream",
     "text": [
      "100%|██████████| 40/40 [00:00<00:00, 22662.73it/s]\n"
     ]
    },
    {
     "name": "stdout",
     "output_type": "stream",
     "text": [
      "social welfare: 11898.623882978038\n",
      "number of allocated tasks: 40\n",
      "seed = 98\n"
     ]
    },
    {
     "name": "stderr",
     "output_type": "stream",
     "text": [
      "100%|██████████| 40/40 [00:00<00:00, 13591.39it/s]\n"
     ]
    },
    {
     "name": "stdout",
     "output_type": "stream",
     "text": [
      "social welfare: 11324.681876104558\n",
      "number of allocated tasks: 40\n",
      "seed = 99\n"
     ]
    },
    {
     "name": "stderr",
     "output_type": "stream",
     "text": [
      "100%|██████████| 40/40 [00:00<00:00, 14265.13it/s]\n"
     ]
    },
    {
     "name": "stdout",
     "output_type": "stream",
     "text": [
      "social welfare: 12113.58610741288\n",
      "number of allocated tasks: 40\n",
      "average social welfare = 11220.362710426418\n"
     ]
    }
   ],
   "source": [
    "total_sw = 0\n",
    "n_trials = 100\n",
    "for seed in range(0, n_trials):\n",
    "    print(f\"seed = {seed}\")\n",
    "    # set the parameters\n",
    "    (seed, mipgap, n_tasks, n_time, n_nodes, resource_coefficient, high_value_slackness, \n",
    "    low_value_slackness, valuation_ratio, resource_ratio, p_high_value_task, avg_resource_capacity, \n",
    "     avg_unit_cost, epsilons_tuple, epsilon_steps_tuple, auction_type) = set_parameters(seed=seed)\n",
    "    # generate synthetic data for the simulation\n",
    "    df_tasks, df_nodes, n_time, n_tasks, n_nodes = \\\n",
    "        generate_synthetic_data_edge_cloud(avg_resource_capacity, avg_unit_cost, n_tasks=n_tasks,\n",
    "                                           n_time=n_time, n_nodes=n_nodes,\n",
    "                                           p_high_value_tasks=p_high_value_task,\n",
    "                                           high_value_slackness_lower_limit=high_value_slackness,\n",
    "                                           high_value_slackness_upper_limit=high_value_slackness,\n",
    "                                           low_value_slackness_lower_limit=low_value_slackness,\n",
    "                                           low_value_slackness_upper_limit=low_value_slackness,\n",
    "                                           k_resource=resource_coefficient,\n",
    "                                           resource_demand_high=resource_ratio,\n",
    "                                           vc_ratio=valuation_ratio,\n",
    "                                           seed=seed)\n",
    "    df_tasks = df_tasks.rename(columns={\"storage\": \"DISK\"})\n",
    "    df_nodes = df_nodes.rename(\n",
    "        columns={\"storage\": \"DISK\", \"storage_cost\": \"DISK_cost\"})\n",
    "    # use part of df_tasks\n",
    "    n_tasks=40\n",
    "    df_tasks = df_tasks.iloc[0:n_tasks]\n",
    "    # run Offline Optimal algo.\n",
    "    mipgap=0.1\n",
    "    social_welfare, social_welfare_solution, number_of_allocated_tasks, allocation_scheme = \\\n",
    "        oom.offline_optimal(df_tasks, df_nodes, n_time, n_tasks, n_nodes,\n",
    "                            mipgap=mipgap)\n",
    "    print(\"social welfare:\", social_welfare)\n",
    "    print(\"number of allocated tasks:\", number_of_allocated_tasks)\n",
    "    total_sw += social_welfare\n",
    "    \n",
    "avg_sw = total_sw/n_trials\n",
    "print(f\"average social welfare = {avg_sw}\")"
   ]
  },
  {
   "cell_type": "code",
   "execution_count": 28,
   "metadata": {},
   "outputs": [
    {
     "name": "stdout",
     "output_type": "stream",
     "text": [
      "average social welfare = 11220.362710426418\n"
     ]
    }
   ],
   "source": [
    "print(f\"average social welfare = {avg_sw}\")"
   ]
  },
  {
   "cell_type": "code",
   "execution_count": 8,
   "metadata": {},
   "outputs": [
    {
     "ename": "ZeroDivisionError",
     "evalue": "division by zero",
     "output_type": "error",
     "traceback": [
      "\u001b[0;31m---------------------------------------------------------------------------\u001b[0m",
      "\u001b[0;31mZeroDivisionError\u001b[0m                         Traceback (most recent call last)",
      "\u001b[0;32m<ipython-input-8-9e1622b385b6>\u001b[0m in \u001b[0;36m<module>\u001b[0;34m\u001b[0m\n\u001b[0;32m----> 1\u001b[0;31m \u001b[0;36m1\u001b[0m\u001b[0;34m/\u001b[0m\u001b[0;36m0\u001b[0m\u001b[0;34m\u001b[0m\u001b[0;34m\u001b[0m\u001b[0m\n\u001b[0m",
      "\u001b[0;31mZeroDivisionError\u001b[0m: division by zero"
     ]
    }
   ],
   "source": [
    "1/0"
   ]
  },
  {
   "cell_type": "markdown",
   "metadata": {},
   "source": [
    "### Online Myopic:"
   ]
  },
  {
   "cell_type": "code",
   "execution_count": null,
   "metadata": {},
   "outputs": [],
   "source": [
    "# run online myopic algo.\n",
    "social_welfare, number_of_allocated_tasks, allocation_scheme = \\\n",
    "    online_myopic(df_tasks, df_nodes, n_time, n_tasks, n_nodes)\n",
    "print(\"social welfare:\", social_welfare)\n",
    "print(\"number of allocated tasks:\", number_of_allocated_tasks)"
   ]
  },
  {
   "cell_type": "code",
   "execution_count": null,
   "metadata": {},
   "outputs": [],
   "source": [
    "raise SystemExit(\"Stop✋\")"
   ]
  },
  {
   "cell_type": "code",
   "execution_count": null,
   "metadata": {},
   "outputs": [],
   "source": [
    "# social_welfare_partial = get_social_welfare(df_tasks, df_nodes,\n",
    "#                                             allocation_scheme, start_id=int(n_tasks/3),\n",
    "#                                             end_id=int(n_tasks/3*2))\n",
    "# social_welfare_partial"
   ]
  },
  {
   "cell_type": "markdown",
   "metadata": {},
   "source": [
    "### Optimal Pricing:"
   ]
  },
  {
   "cell_type": "code",
   "execution_count": null,
   "metadata": {},
   "outputs": [],
   "source": [
    "# run Optimal Pricing algo.\n",
    "# set price range\n",
    "column = df_tasks['valuation_coefficient']\n",
    "price_upper_value = column.max()\n",
    "price_lower_value = 0\n",
    "# granularity = (price_upper_value - price_lower_value) / 5\n",
    "granularity = (price_upper_value - price_lower_value) / 10\n",
    "\n",
    "# run OP algo.\n",
    "list_social_welfare, list_number_of_allocated_tasks, optimal_phi, allocation_scheme = \\\n",
    "    opm.optimal_pricing(df_tasks, df_nodes, n_time, n_tasks, n_nodes,\n",
    "                        granularity=granularity,\n",
    "                        price_upper_value=price_upper_value,\n",
    "                        price_lower_value=price_lower_value, global_phi=False)\n",
    "print(\"social welfare:\", list_social_welfare)\n",
    "print(\"number of allocated tasks:\", list_number_of_allocated_tasks)\n",
    "print(f\"optimal_phi = {optimal_phi}\")\n",
    "\n",
    "# # the social welfare of 100 tasks in the middle\n",
    "# social_welfare_partial = get_social_welfare(df_tasks, df_nodes,\n",
    "#                                             allocation_scheme, start_id=99,\n",
    "#                                             end_id=199)\n",
    "# print(f\"social_welfare_partial={social_welfare_partial}\")"
   ]
  },
  {
   "cell_type": "code",
   "execution_count": null,
   "metadata": {},
   "outputs": [],
   "source": [
    "raise SystemExit(\"Stop Here✋\")"
   ]
  },
  {
   "cell_type": "markdown",
   "metadata": {},
   "source": [
    "### Reverse Auction V1"
   ]
  },
  {
   "cell_type": "markdown",
   "metadata": {},
   "source": [
    "### Execution"
   ]
  },
  {
   "cell_type": "code",
   "execution_count": null,
   "metadata": {},
   "outputs": [],
   "source": [
    "number_of_tasks = 300\n",
    "num_actions = 10\n",
    "valuation_coefficient_ratio = 2\n",
    "high_value_proportion = 0.1\n",
    "time_length = int(number_of_tasks / 10)\n",
    "num_trials = seed + 1\n",
    "resource_ratio = 1\n",
    "seed=0\n",
    "filehandler = open(f\"./trained_agents/reverse_auction_v1_seed={seed}_rc={resource_coefficient_original}_agents\", 'rb')\n",
    "agents_list = pickle.load(filehandler)\n",
    "sw_list, total_value, df_tasks_2, df_nodes, agents_list, allocation_scheme = \\\n",
    "    execute_multi_agent_sarsa(num_actions=num_actions,\n",
    "                              time_length=time_length,\n",
    "                              high_value_proportion=high_value_proportion,\n",
    "                              total_number_of_steps=number_of_tasks,\n",
    "                              num_fog_nodes=6,\n",
    "                              resource_coefficient_original=resource_coefficient_original,\n",
    "                              valuation_coefficient_ratio=valuation_coefficient_ratio,\n",
    "                              number_of_runs=num_trials, plot_bool=True,\n",
    "                              bool_decay=True,\n",
    "                              resource_ratio=resource_ratio,\n",
    "                              agents_list=agents_list, training_seed=seed,\n",
    "                              verbose=False)\n",
    "\n",
    "sys.stdout = stdout\n",
    "print(f\"total value of tasks = {total_value}\")\n",
    "social_welfare = sw_list[-1]\n",
    "print(f\"total social welfare = {social_welfare}\")\n",
    "social_welfare_partial = sw_list[199] - sw_list[99]\n",
    "print(f\"social_welfare_partial={social_welfare_partial}\")\n",
    "print(df_tasks_2.head())"
   ]
  },
  {
   "cell_type": "code",
   "execution_count": null,
   "metadata": {},
   "outputs": [],
   "source": [
    "raise SystemExit(\"Stop✋\")"
   ]
  },
  {
   "cell_type": "markdown",
   "metadata": {},
   "source": [
    "## Training"
   ]
  },
  {
   "cell_type": "code",
   "execution_count": null,
   "metadata": {},
   "outputs": [],
   "source": [
    "# set the parameters\n",
    "(seed, mipgap, n_tasks, n_time, n_nodes, resource_coefficient, high_value_slackness, \n",
    "low_value_slackness, valuation_ratio, resource_ratio, p_high_value_task, avg_resource_capacity,\n",
    " avg_unit_cost, epsilons_tuple, epsilon_steps_tuple, auction_type) = set_parameters(30000)\n",
    "num_actions=10\n",
    "verbose=False\n",
    "\n",
    "# train the agents\n",
    "(sw_list, total_value, df_tasks_1, df_nodes, agents_list,\n",
    "allocation_scheme) = train_multi_agent_sarsa(avg_resource_capacity, avg_unit_cost, \n",
    "                                        alpha=0.02,\n",
    "            beta=0.001, epsilon_tuple=epsilons_tuple, epsilon_steps_tuple=epsilon_steps_tuple,\n",
    "            high_value_proportion=p_high_value_task, num_actions=num_actions,\n",
    "            time_length=n_time, total_number_of_steps=n_tasks, num_fog_nodes=6,\n",
    "            valuation_coefficient_ratio=valuation_ratio,\n",
    "            resource_ratio=resource_ratio, seed=seed, verbose=verbose,\n",
    "            plot_bool=True, auction_type=auction_type)\n",
    "\n",
    "# save the trained agents\n",
    "filehandler = open(f\"../trained_agents/reverse_auction_v1_seed={seed}_agents\",\n",
    "                   'wb')\n",
    "pickle.dump(agents_list, filehandler)\n",
    "\n",
    "# print the results\n",
    "print(\"social welfare:\", sw_list[-1])\n",
    "print(\"total value:\", total_value)"
   ]
  },
  {
   "cell_type": "markdown",
   "metadata": {},
   "source": [
    "### Execution"
   ]
  },
  {
   "cell_type": "code",
   "execution_count": null,
   "metadata": {},
   "outputs": [],
   "source": [
    "# get the trained agents\n",
    "filehandler = open(f\"../trained_agents/reverse_auction_v1_seed={seed}_agents\", 'rb')\n",
    "agents_list = pickle.load(filehandler)\n",
    "\n",
    "# set the parameters\n",
    "(seed, mipgap, n_tasks, n_time, n_nodes, resource_coefficient, high_value_slackness, \n",
    "low_value_slackness, valuation_ratio, resource_ratio, p_high_value_task, avg_resource_capacity,\n",
    " avg_unit_cost, epsilons_tuple, epsilon_steps_tuple, auction_type) = set_parameters(10000)\n",
    "num_trials=1\n",
    "\n",
    "# allocate tasks:\n",
    "sw_list, total_value, df_tasks_2, df_nodes, agents_list, allocation_scheme = \\\n",
    "    execute_multi_agent_sarsa(avg_resource_capacity, avg_unit_cost, num_actions=num_actions,\n",
    "                              time_length=n_time,\n",
    "                              high_value_proportion=p_high_value_task,\n",
    "                              total_number_of_steps=n_tasks,\n",
    "                              num_fog_nodes=6,\n",
    "                              valuation_coefficient_ratio=valuation_ratio,\n",
    "                              number_of_runs=num_trials, plot_bool=True,\n",
    "                              bool_decay=True,\n",
    "                              resource_ratio=resource_ratio,\n",
    "                              agents_list=agents_list, training_seed=seed,\n",
    "                              verbose=False, auction_type=auction_type)\n",
    "\n",
    "sys.stdout = stdout\n",
    "print(f\"auction type = {auction_type}\")\n",
    "print(f\"total value of tasks = {total_value}\")\n",
    "social_welfare = sw_list[-1]\n",
    "print(f\"total social welfare = {social_welfare}\")\n",
    "# social_welfare_partial = sw_list[int(number_of_tasks/3*2)] - sw_list[int(number_of_tasks/3)]\n",
    "# print(f\"social_welfare_partial={social_welfare_partial}\")\n",
    "# print(df_tasks_2.head())"
   ]
  },
  {
   "cell_type": "code",
   "execution_count": null,
   "metadata": {},
   "outputs": [],
   "source": [
    "raise SystemExit(\"Stop✋\")"
   ]
  },
  {
   "cell_type": "code",
   "execution_count": null,
   "metadata": {},
   "outputs": [],
   "source": [
    "# make sure the tasks are the same.\n",
    "df_tasks_2.head()\n",
    "df_tasks.head()\n",
    "df_tasks_2.tail()\n",
    "df_tasks.tail()"
   ]
  },
  {
   "cell_type": "code",
   "execution_count": null,
   "metadata": {},
   "outputs": [],
   "source": []
  },
  {
   "cell_type": "code",
   "execution_count": 4,
   "metadata": {},
   "outputs": [
    {
     "data": {
      "text/html": [
       "<div>\n",
       "<style scoped>\n",
       "    .dataframe tbody tr th:only-of-type {\n",
       "        vertical-align: middle;\n",
       "    }\n",
       "\n",
       "    .dataframe tbody tr th {\n",
       "        vertical-align: top;\n",
       "    }\n",
       "\n",
       "    .dataframe thead th {\n",
       "        text-align: right;\n",
       "    }\n",
       "</style>\n",
       "<table border=\"1\" class=\"dataframe\">\n",
       "  <thead>\n",
       "    <tr style=\"text-align: right;\">\n",
       "      <th></th>\n",
       "      <th>CPU</th>\n",
       "      <th>RAM</th>\n",
       "      <th>DISK</th>\n",
       "      <th>CPU_cost</th>\n",
       "      <th>RAM_cost</th>\n",
       "      <th>DISK_cost</th>\n",
       "    </tr>\n",
       "  </thead>\n",
       "  <tbody>\n",
       "    <tr>\n",
       "      <th>0</th>\n",
       "      <td>1.0</td>\n",
       "      <td>1.0</td>\n",
       "      <td>1.0</td>\n",
       "      <td>1.0</td>\n",
       "      <td>1.0</td>\n",
       "      <td>1.0</td>\n",
       "    </tr>\n",
       "    <tr>\n",
       "      <th>1</th>\n",
       "      <td>0.0</td>\n",
       "      <td>0.0</td>\n",
       "      <td>0.0</td>\n",
       "      <td>0.0</td>\n",
       "      <td>0.0</td>\n",
       "      <td>0.0</td>\n",
       "    </tr>\n",
       "    <tr>\n",
       "      <th>2</th>\n",
       "      <td>0.0</td>\n",
       "      <td>0.0</td>\n",
       "      <td>0.0</td>\n",
       "      <td>0.0</td>\n",
       "      <td>0.0</td>\n",
       "      <td>0.0</td>\n",
       "    </tr>\n",
       "  </tbody>\n",
       "</table>\n",
       "</div>"
      ],
      "text/plain": [
       "   CPU  RAM  DISK  CPU_cost  RAM_cost  DISK_cost\n",
       "0  1.0  1.0   1.0       1.0       1.0        1.0\n",
       "1  0.0  0.0   0.0       0.0       0.0        0.0\n",
       "2  0.0  0.0   0.0       0.0       0.0        0.0"
      ]
     },
     "execution_count": 4,
     "metadata": {},
     "output_type": "execute_result"
    },
    {
     "data": {
      "text/plain": [
       "array([1., 1., 1., 1., 1., 1.])"
      ]
     },
     "execution_count": 4,
     "metadata": {},
     "output_type": "execute_result"
    }
   ],
   "source": [
    "# test normalisation\n",
    "df = df_nodes\n",
    "normalized_df=(df-df.min())/(df.max()-df.min())\n",
    "normalized_df\n",
    "task_info = normalized_df.iloc[0]\n",
    "task_info = task_info.to_numpy()\n",
    "task_info"
   ]
  },
  {
   "cell_type": "code",
   "execution_count": 5,
   "metadata": {
    "collapsed": true,
    "jupyter": {
     "outputs_hidden": true,
     "source_hidden": true
    }
   },
   "outputs": [
    {
     "data": {
      "text/plain": [
       "array([0., 0., 0., 0., 0., 0., 0., 0., 0., 0., 0., 0., 0., 0., 0., 0., 0.,\n",
       "       0., 0., 0., 0., 0., 0., 0., 0., 0., 0., 0., 0., 0., 0., 0., 0., 0.,\n",
       "       0., 0., 0., 0., 0., 0., 0., 0., 0., 0., 0., 0., 0., 0., 0., 0., 0.,\n",
       "       0., 0., 0., 0., 0., 0., 0., 0., 0., 0., 0., 0., 0., 0., 0., 0., 0.,\n",
       "       0., 0., 0., 0., 0., 0., 0., 0., 0., 0., 0., 0., 0., 0., 0., 0., 0.,\n",
       "       0., 0., 0., 0., 0., 0., 0., 0., 0., 0., 0., 0., 0., 0., 0., 0., 0.,\n",
       "       0., 0., 0., 0., 0., 0., 0., 0., 0., 0., 0., 0., 0., 0., 0., 0., 0.,\n",
       "       0., 0., 0., 0., 0., 0., 0., 0., 0., 0., 0., 0., 0., 0., 0., 0., 0.,\n",
       "       0., 0., 0., 0., 0., 0., 0., 0., 0., 0., 0., 0., 0., 0., 0., 0., 0.,\n",
       "       0., 0., 0., 0., 0., 0., 0., 0., 0., 0., 0., 0., 0., 0., 0., 0., 0.,\n",
       "       0., 0., 0., 0., 0., 0., 0., 0., 0., 0.])"
      ]
     },
     "execution_count": 5,
     "metadata": {},
     "output_type": "execute_result"
    }
   ],
   "source": [
    "future_occup = np.zeros((6, 10, 3), dtype=float)\n",
    "future_occup = future_occup.flatten()\n",
    "future_occup"
   ]
  },
  {
   "cell_type": "code",
   "execution_count": 6,
   "metadata": {
    "jupyter": {
     "source_hidden": true
    }
   },
   "outputs": [
    {
     "data": {
      "text/html": [
       "<div>\n",
       "<style scoped>\n",
       "    .dataframe tbody tr th:only-of-type {\n",
       "        vertical-align: middle;\n",
       "    }\n",
       "\n",
       "    .dataframe tbody tr th {\n",
       "        vertical-align: top;\n",
       "    }\n",
       "\n",
       "    .dataframe thead th {\n",
       "        text-align: right;\n",
       "    }\n",
       "</style>\n",
       "<table border=\"1\" class=\"dataframe\">\n",
       "  <thead>\n",
       "    <tr style=\"text-align: right;\">\n",
       "      <th></th>\n",
       "      <th>CPU</th>\n",
       "      <th>RAM</th>\n",
       "      <th>DISK</th>\n",
       "      <th>CPU_cost</th>\n",
       "      <th>RAM_cost</th>\n",
       "      <th>DISK_cost</th>\n",
       "    </tr>\n",
       "  </thead>\n",
       "  <tbody>\n",
       "    <tr>\n",
       "      <th>0</th>\n",
       "      <td>50.0</td>\n",
       "      <td>50.0</td>\n",
       "      <td>50.0</td>\n",
       "      <td>3.0</td>\n",
       "      <td>3.0</td>\n",
       "      <td>3.0</td>\n",
       "    </tr>\n",
       "    <tr>\n",
       "      <th>1</th>\n",
       "      <td>3.0</td>\n",
       "      <td>3.0</td>\n",
       "      <td>3.0</td>\n",
       "      <td>0.0</td>\n",
       "      <td>0.0</td>\n",
       "      <td>0.0</td>\n",
       "    </tr>\n",
       "    <tr>\n",
       "      <th>2</th>\n",
       "      <td>3.0</td>\n",
       "      <td>3.0</td>\n",
       "      <td>3.0</td>\n",
       "      <td>0.0</td>\n",
       "      <td>0.0</td>\n",
       "      <td>0.0</td>\n",
       "    </tr>\n",
       "  </tbody>\n",
       "</table>\n",
       "</div>"
      ],
      "text/plain": [
       "    CPU   RAM  DISK  CPU_cost  RAM_cost  DISK_cost\n",
       "0  50.0  50.0  50.0       3.0       3.0        3.0\n",
       "1   3.0   3.0   3.0       0.0       0.0        0.0\n",
       "2   3.0   3.0   3.0       0.0       0.0        0.0"
      ]
     },
     "execution_count": 6,
     "metadata": {},
     "output_type": "execute_result"
    },
    {
     "name": "stdout",
     "output_type": "stream",
     "text": [
      "0\n",
      "50.0\n",
      "1\n",
      "3.0\n",
      "2\n",
      "3.0\n"
     ]
    }
   ],
   "source": [
    "df_nodes\n",
    "for id, info in df_nodes.iterrows():\n",
    "    print(id)\n",
    "    print(info.get('CPU'))"
   ]
  }
 ],
 "metadata": {
  "kernelspec": {
   "display_name": "Python 3",
   "language": "python",
   "name": "python3"
  },
  "language_info": {
   "codemirror_mode": {
    "name": "ipython",
    "version": 3
   },
   "file_extension": ".py",
   "mimetype": "text/x-python",
   "name": "python",
   "nbconvert_exporter": "python",
   "pygments_lexer": "ipython3",
   "version": "3.7.7"
  }
 },
 "nbformat": 4,
 "nbformat_minor": 4
}
