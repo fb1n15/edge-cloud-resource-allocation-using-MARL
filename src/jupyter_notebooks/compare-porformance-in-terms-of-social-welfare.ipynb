{
 "cells": [
  {
   "cell_type": "code",
   "execution_count": 11,
   "metadata": {},
   "outputs": [
    {
     "name": "stdout",
     "output_type": "stream",
     "text": [
      "The autoreload extension is already loaded. To reload it, use:\n",
      "  %reload_ext autoreload\n",
      "/Users/fan/OneDrive - University of Southampton/My-Projects/MARL-Jack/marl-disaster-relief/src/benchmarks\n"
     ]
    }
   ],
   "source": [
    "%load_ext autoreload\n",
    "%autoreload 2\n",
    "# %cd \"/Users/fan/OneDrive\\ -\\ University\\ of\\ Southampton/Chandler\\'s\\ Projects/Edge-Cloud-Resource-Allocation-Using-MARL-and-Auction/scripts\"\n",
    "%cd \"../benchmarks\"\n",
    "# %matplotlib inline\n",
    "# import numpy as np\n",
    "# import pandas as pd\n",
    "# import importlib\n",
    "# import matplotlib.pyplot as plt\n",
    "# import matplotlib.ticker as ticker\n",
    "# import seaborn as sns\n",
    "import csv\n",
    "import pprint\n",
    "from scipy import stats\n",
    "import os.path\n",
    "import pdb\n",
    "from statistics import mean \n",
    "from collections import OrderedDict\n",
    "import pickle\n",
    "# from tqdm import tqdm\n",
    "import json\n",
    "import sys\n",
    "sys.path.append('../common')\n",
    "# import multi_agent_sarsa\n",
    "# from multi_agent_sarsa import train_multi_|agent_sarsa, execute_multi_agent_sarsa\n",
    "# import optimal_pricing_m as opm\n",
    "import offline_optimal_m as oom\n",
    "# from online_myopic_m import online_myopic\n",
    "from generate_simulation_data import generate_synthetic_data_edge_cloud\n",
    "# from other_functions import get_social_welfare\n",
    "# from IPython.core.interactiveshell import InteractiveShell\n",
    "# InteractiveShell.ast_node_interactivity = \"all\"\n",
    "\n",
    "stdout = sys.stdout"
   ]
  },
  {
   "cell_type": "code",
   "execution_count": 2,
   "metadata": {},
   "outputs": [],
   "source": [
    "# functions\n",
    "def set_parameters(seed=0, n_tasks=50, auction_type='first-price'):\n",
    "    mipgap = 0.1\n",
    "    n_tasks = int(n_tasks)\n",
    "    n_time = 20\n",
    "    seed = seed\n",
    "    n_nodes = 3\n",
    "#     resource_coefficient_original = 0.2\n",
    "    resource_coefficient = 0.5\n",
    "    high_value_slackness = 0\n",
    "    low_value_slackness = 0\n",
    "    valuation_ratio = 20\n",
    "    resource_ratio = 3\n",
    "    p_high_value_task = 0.1\n",
    "    # parameters of fog nodes\n",
    "    h_r = 50\n",
    "    l_r = 3\n",
    "    l_c = 0\n",
    "    n_c = 2.5\n",
    "    h_c = 3\n",
    "    avg_resource_capacity = {0: [h_r, h_r, h_r], 1: [l_r, l_r, l_r], 2: [l_r, l_r, l_r]}\n",
    "    avg_unit_cost = {0: [h_c, h_c, h_c], 1: [l_c, l_c, l_c], 2: [l_c, l_c, l_c]}\n",
    "    auction_type = auction_type\n",
    "    # stop exploration after 5000 steps\n",
    "    epsilons_tuple = (0.6, 0.3, 0.1)\n",
    "    epsilon_steps_tuple = (\n",
    "        int(n_tasks / 4), int(n_tasks / 4),\n",
    "        int(n_tasks / 4))\n",
    "    return (seed, mipgap, n_tasks, n_time, n_nodes, resource_coefficient, high_value_slackness, \n",
    "        low_value_slackness, valuation_ratio, resource_ratio, p_high_value_task, \n",
    "            avg_resource_capacity, avg_unit_cost, epsilons_tuple, epsilon_steps_tuple, auction_type)"
   ]
  },
  {
   "cell_type": "markdown",
   "metadata": {},
   "source": [
    "## Generate Simulation Data"
   ]
  },
  {
   "cell_type": "code",
   "execution_count": 3,
   "metadata": {},
   "outputs": [
    {
     "name": "stdout",
     "output_type": "stream",
     "text": [
      "df_tasks:\n",
      "    valuation_coefficient  arrive_time  start_time  deadline  usage_time  \\\n",
      "0               73.671596     0.598075           1         4           4   \n",
      "1               87.815222     0.679371           1         4           4   \n",
      "2               71.553045     1.166257           2         5           4   \n",
      "3               80.053042     1.213587           2         5           4   \n",
      "4               54.988069     1.466707           2         5           4   \n",
      "5               95.585434     1.511640           2         5           4   \n",
      "6               62.577778     1.601125           2         5           4   \n",
      "7               55.515982     1.783614           2         5           4   \n",
      "8               78.397661     1.954847           2         5           4   \n",
      "9               96.076191     2.167929           3         6           4   \n",
      "10              91.219668     2.756314           3         6           4   \n",
      "11            1094.449565     2.970436           3         6           4   \n",
      "12              66.481090     3.161410           4         7           4   \n",
      "13              92.639667     3.416326           4         7           4   \n",
      "14              77.321187     3.439794           4         7           4   \n",
      "15              56.107978     3.441052           4         7           4   \n",
      "16              64.302899     4.034797           5         8           4   \n",
      "17              61.645323     4.115901           5         8           4   \n",
      "18              96.561771     4.525185           5         8           4   \n",
      "19              68.044423     5.870927           6         9           4   \n",
      "20              79.038809     6.665392           7        10           4   \n",
      "21              55.882781     6.741279           7        10           4   \n",
      "22              56.490466     6.978312           7        10           4   \n",
      "23              55.544363     7.218847           8        11           4   \n",
      "24              94.104226     7.503711           8        11           4   \n",
      "25              62.198449     7.819880           8        11           4   \n",
      "26              63.521630     8.038376           9        12           4   \n",
      "27            1231.916147     8.191955           9        12           4   \n",
      "28              83.479719     8.280809           9        12           4   \n",
      "29              50.886060     8.905166           9        12           4   \n",
      "\n",
      "         CPU       RAM      DISK  \n",
      "0   2.501020  2.227229  2.073860  \n",
      "1   2.197879  2.118923  2.391116  \n",
      "2   2.716054  2.001015  2.836511  \n",
      "3   2.044940  2.992605  2.451833  \n",
      "4   2.744535  2.322683  2.121055  \n",
      "5   2.132324  2.947960  2.074377  \n",
      "6   2.944683  2.713144  2.480895  \n",
      "7   2.727751  2.599964  2.757267  \n",
      "8   2.162377  2.736362  2.229780  \n",
      "9   2.636466  2.657362  2.358179  \n",
      "10  2.531211  2.417901  2.291709  \n",
      "11  3.276273  4.396974  3.526968  \n",
      "12  2.485428  2.476151  2.538571  \n",
      "13  2.403043  2.682574  2.578317  \n",
      "14  2.870441  2.829664  2.637493  \n",
      "15  2.624288  2.430193  2.603029  \n",
      "16  2.048046  2.269109  2.007110  \n",
      "17  2.578472  2.193928  2.184360  \n",
      "18  2.333569  2.235990  2.370139  \n",
      "19  2.823320  2.378824  2.280141  \n",
      "20  2.663674  2.350707  2.479871  \n",
      "21  2.368595  2.737256  2.596334  \n",
      "22  2.605494  2.851848  2.160009  \n",
      "23  2.164564  2.163210  2.403235  \n",
      "24  2.889231  2.716441  2.942987  \n",
      "25  2.196151  2.002201  2.985146  \n",
      "26  2.460947  2.552408  2.276308  \n",
      "27  3.220339  3.608360  3.236827  \n",
      "28  2.075299  2.717395  2.077033  \n",
      "29  2.902995  2.999271  2.111406  \n",
      "df_nodes:\n",
      "    CPU   RAM  DISK  CPU_cost  RAM_cost  DISK_cost\n",
      "0  50.0  50.0  50.0       3.0       3.0        3.0\n",
      "1   3.0   3.0   3.0       0.0       0.0        0.0\n",
      "2   3.0   3.0   3.0       0.0       0.0        0.0\n"
     ]
    }
   ],
   "source": [
    "sys.stdout = stdout\n",
    "seed = 127\n",
    "# set the parameters\n",
    "(seed, mipgap, n_tasks, n_time, n_nodes, resource_coefficient, high_value_slackness, \n",
    "low_value_slackness, valuation_ratio, resource_ratio, p_high_value_task, avg_resource_capacity, \n",
    " avg_unit_cost, epsilons_tuple, epsilon_steps_tuple, auction_type) = set_parameters(seed=seed)\n",
    "# generate synthetic data for the simulation\n",
    "df_tasks, df_nodes, n_time, n_tasks, n_nodes = \\\n",
    "    generate_synthetic_data_edge_cloud(avg_resource_capacity, avg_unit_cost, n_tasks=n_tasks,\n",
    "                                       n_time=n_time, n_nodes=n_nodes,\n",
    "                                       p_high_value_tasks=p_high_value_task,\n",
    "                                       high_value_slackness_lower_limit=high_value_slackness,\n",
    "                                       high_value_slackness_upper_limit=high_value_slackness,\n",
    "                                       low_value_slackness_lower_limit=low_value_slackness,\n",
    "                                       low_value_slackness_upper_limit=low_value_slackness,\n",
    "                                       k_resource=resource_coefficient,\n",
    "                                       resource_demand_high=resource_ratio,\n",
    "                                       vc_ratio=valuation_ratio,\n",
    "                                       seed=seed)\n",
    "df_tasks = df_tasks.rename(columns={\"storage\": \"DISK\"})\n",
    "df_nodes = df_nodes.rename(\n",
    "    columns={\"storage\": \"DISK\", \"storage_cost\": \"DISK_cost\"})\n",
    "\n",
    "print(\"df_tasks:\")\n",
    "print(df_tasks.head(30))\n",
    "print(\"df_nodes:\")\n",
    "print(df_nodes)\n",
    "# # print the total value of tasks\n",
    "# total_value = 0\n",
    "# for i in range(n_tasks):\n",
    "#     total_value += (df_tasks.loc[i, \"valuation_coefficient\"] *\n",
    "#                     df_tasks.loc[i, \"usage_time\"])\n",
    "# print(f\"n_tasks={n_tasks}\")\n",
    "# print(f\"num of time steps={n_time}\")\n",
    "# print(f\"total value of tasks = {total_value}\")"
   ]
  },
  {
   "cell_type": "markdown",
   "metadata": {},
   "source": [
    "### Offline Optimal"
   ]
  },
  {
   "cell_type": "code",
   "execution_count": 4,
   "metadata": {},
   "outputs": [
    {
     "name": "stderr",
     "output_type": "stream",
     "text": [
      "100%|██████████| 50/50 [00:00<00:00, 24678.18it/s]\n"
     ]
    },
    {
     "name": "stdout",
     "output_type": "stream",
     "text": [
      "social welfare: 35308.299363929335\n",
      "number of allocated tasks: 50\n"
     ]
    }
   ],
   "source": [
    "# run Offline Optimal algo.\n",
    "mipgap=0.1\n",
    "social_welfare, social_welfare_solution, number_of_allocated_tasks, allocation_scheme = \\\n",
    "    oom.offline_optimal(df_tasks, df_nodes, n_time, n_tasks, n_nodes,\n",
    "                        mipgap=mipgap)\n",
    "print(\"social welfare:\", social_welfare)\n",
    "print(\"number of allocated tasks:\", number_of_allocated_tasks)"
   ]
  },
  {
   "cell_type": "code",
   "execution_count": 17,
   "metadata": {},
   "outputs": [
    {
     "name": "stdout",
     "output_type": "stream",
     "text": [
      "vacant time steps for node 1\n",
      "0\n"
     ]
    }
   ],
   "source": [
    "# which time step is vacant for node 1\n",
    "print(\"vacant time steps for node 1\")\n",
    "for i in range(len(next(iter(allocation_scheme['node_1'].values())))):\n",
    "    vacant = True\n",
    "    for k in allocation_scheme['node_1'].values():\n",
    "        if k[i] != '..':\n",
    "            vacant = False\n",
    "    if vacant == True:\n",
    "        print(i)"
   ]
  },
  {
   "cell_type": "code",
   "execution_count": 18,
   "metadata": {},
   "outputs": [
    {
     "name": "stdout",
     "output_type": "stream",
     "text": [
      "vacant time steps for node 2\n",
      "0\n"
     ]
    }
   ],
   "source": [
    "# which time step is vacant for node 2\n",
    "print(\"vacant time steps for node 2\")\n",
    "for i in range(len(next(iter(allocation_scheme['node_2'].values())))):\n",
    "    vacant = True\n",
    "    for k in allocation_scheme['node_2'].values():\n",
    "        if k[i] != '..':\n",
    "            vacant = False\n",
    "    if vacant == True:\n",
    "        print(i)"
   ]
  },
  {
   "cell_type": "markdown",
   "metadata": {},
   "source": [
    "## Get average social welfare of Offline Optimal"
   ]
  },
  {
   "cell_type": "code",
   "execution_count": 12,
   "metadata": {
    "collapsed": true,
    "jupyter": {
     "outputs_hidden": true,
     "source_hidden": true
    }
   },
   "outputs": [
    {
     "name": "stdout",
     "output_type": "stream",
     "text": [
      "seed = 0\n"
     ]
    },
    {
     "name": "stderr",
     "output_type": "stream",
     "text": [
      "100%|██████████| 50/50 [00:00<00:00, 16430.21it/s]\n"
     ]
    },
    {
     "name": "stdout",
     "output_type": "stream",
     "text": [
      "social welfare: 36233.559396752724\n",
      "number of allocated tasks: 50\n",
      "seed = 1\n"
     ]
    },
    {
     "name": "stderr",
     "output_type": "stream",
     "text": [
      "100%|██████████| 50/50 [00:00<00:00, 21384.24it/s]\n"
     ]
    },
    {
     "name": "stdout",
     "output_type": "stream",
     "text": [
      "social welfare: 37140.361643183816\n",
      "number of allocated tasks: 50\n",
      "seed = 2\n"
     ]
    },
    {
     "name": "stderr",
     "output_type": "stream",
     "text": [
      "100%|██████████| 50/50 [00:00<00:00, 20558.30it/s]\n"
     ]
    },
    {
     "name": "stdout",
     "output_type": "stream",
     "text": [
      "social welfare: 32966.20227085346\n",
      "number of allocated tasks: 50\n",
      "seed = 3\n"
     ]
    },
    {
     "name": "stderr",
     "output_type": "stream",
     "text": [
      "100%|██████████| 50/50 [00:00<00:00, 12826.62it/s]\n"
     ]
    },
    {
     "name": "stdout",
     "output_type": "stream",
     "text": [
      "social welfare: 37147.82706797873\n",
      "number of allocated tasks: 50\n",
      "seed = 4\n"
     ]
    },
    {
     "name": "stderr",
     "output_type": "stream",
     "text": [
      "100%|██████████| 50/50 [00:00<00:00, 20103.07it/s]\n"
     ]
    },
    {
     "name": "stdout",
     "output_type": "stream",
     "text": [
      "social welfare: 39016.654878460344\n",
      "number of allocated tasks: 50\n",
      "seed = 5\n"
     ]
    },
    {
     "name": "stderr",
     "output_type": "stream",
     "text": [
      "100%|██████████| 50/50 [00:00<00:00, 17294.67it/s]\n"
     ]
    },
    {
     "name": "stdout",
     "output_type": "stream",
     "text": [
      "social welfare: 36788.96832447806\n",
      "number of allocated tasks: 50\n",
      "seed = 6\n"
     ]
    },
    {
     "name": "stderr",
     "output_type": "stream",
     "text": [
      "100%|██████████| 50/50 [00:00<00:00, 17838.99it/s]\n"
     ]
    },
    {
     "name": "stdout",
     "output_type": "stream",
     "text": [
      "social welfare: 39150.28339805211\n",
      "number of allocated tasks: 50\n",
      "seed = 7\n"
     ]
    },
    {
     "name": "stderr",
     "output_type": "stream",
     "text": [
      "100%|██████████| 50/50 [00:00<00:00, 16160.53it/s]\n"
     ]
    },
    {
     "name": "stdout",
     "output_type": "stream",
     "text": [
      "social welfare: 39855.51430448068\n",
      "number of allocated tasks: 50\n",
      "seed = 8\n"
     ]
    },
    {
     "name": "stderr",
     "output_type": "stream",
     "text": [
      "100%|██████████| 50/50 [00:00<00:00, 22484.74it/s]\n"
     ]
    },
    {
     "name": "stdout",
     "output_type": "stream",
     "text": [
      "social welfare: 37301.746959537195\n",
      "number of allocated tasks: 50\n",
      "seed = 9\n"
     ]
    },
    {
     "name": "stderr",
     "output_type": "stream",
     "text": [
      "100%|██████████| 50/50 [00:00<00:00, 19371.44it/s]\n"
     ]
    },
    {
     "name": "stdout",
     "output_type": "stream",
     "text": [
      "social welfare: 37676.21271550851\n",
      "number of allocated tasks: 50\n",
      "seed = 10\n"
     ]
    },
    {
     "name": "stderr",
     "output_type": "stream",
     "text": [
      "100%|██████████| 50/50 [00:00<00:00, 22593.75it/s]\n"
     ]
    },
    {
     "name": "stdout",
     "output_type": "stream",
     "text": [
      "social welfare: 36272.967703068876\n",
      "number of allocated tasks: 50\n",
      "seed = 11\n"
     ]
    },
    {
     "name": "stderr",
     "output_type": "stream",
     "text": [
      "100%|██████████| 50/50 [00:00<00:00, 24094.12it/s]\n"
     ]
    },
    {
     "name": "stdout",
     "output_type": "stream",
     "text": [
      "social welfare: 38947.01038340771\n",
      "number of allocated tasks: 50\n",
      "seed = 12\n"
     ]
    },
    {
     "name": "stderr",
     "output_type": "stream",
     "text": [
      "100%|██████████| 50/50 [00:00<00:00, 21824.87it/s]\n"
     ]
    },
    {
     "name": "stdout",
     "output_type": "stream",
     "text": [
      "social welfare: 40752.97322292009\n",
      "number of allocated tasks: 50\n",
      "seed = 13\n"
     ]
    },
    {
     "name": "stderr",
     "output_type": "stream",
     "text": [
      "100%|██████████| 50/50 [00:00<00:00, 19477.59it/s]\n"
     ]
    },
    {
     "name": "stdout",
     "output_type": "stream",
     "text": [
      "social welfare: 35197.001834244715\n",
      "number of allocated tasks: 50\n",
      "seed = 14\n"
     ]
    },
    {
     "name": "stderr",
     "output_type": "stream",
     "text": [
      "100%|██████████| 50/50 [00:00<00:00, 16715.70it/s]\n"
     ]
    },
    {
     "name": "stdout",
     "output_type": "stream",
     "text": [
      "social welfare: 37777.73500945589\n",
      "number of allocated tasks: 50\n",
      "seed = 15\n"
     ]
    },
    {
     "name": "stderr",
     "output_type": "stream",
     "text": [
      "100%|██████████| 50/50 [00:00<00:00, 25735.08it/s]\n"
     ]
    },
    {
     "name": "stdout",
     "output_type": "stream",
     "text": [
      "social welfare: 36600.20440983461\n",
      "number of allocated tasks: 50\n",
      "seed = 16\n"
     ]
    },
    {
     "name": "stderr",
     "output_type": "stream",
     "text": [
      "100%|██████████| 50/50 [00:00<00:00, 22260.40it/s]\n"
     ]
    },
    {
     "name": "stdout",
     "output_type": "stream",
     "text": [
      "social welfare: 35276.17959444637\n",
      "number of allocated tasks: 50\n",
      "seed = 17\n"
     ]
    },
    {
     "name": "stderr",
     "output_type": "stream",
     "text": [
      "100%|██████████| 50/50 [00:00<00:00, 22075.28it/s]\n"
     ]
    },
    {
     "name": "stdout",
     "output_type": "stream",
     "text": [
      "social welfare: 39077.37374154995\n",
      "number of allocated tasks: 50\n",
      "seed = 18\n"
     ]
    },
    {
     "name": "stderr",
     "output_type": "stream",
     "text": [
      "100%|██████████| 50/50 [00:00<00:00, 20476.00it/s]\n"
     ]
    },
    {
     "name": "stdout",
     "output_type": "stream",
     "text": [
      "social welfare: 36835.026996971894\n",
      "number of allocated tasks: 50\n",
      "seed = 19\n"
     ]
    },
    {
     "name": "stderr",
     "output_type": "stream",
     "text": [
      "100%|██████████| 50/50 [00:00<00:00, 23377.01it/s]\n"
     ]
    },
    {
     "name": "stdout",
     "output_type": "stream",
     "text": [
      "social welfare: 41755.97107100479\n",
      "number of allocated tasks: 50\n",
      "seed = 20\n"
     ]
    },
    {
     "name": "stderr",
     "output_type": "stream",
     "text": [
      "100%|██████████| 50/50 [00:00<00:00, 17913.66it/s]\n"
     ]
    },
    {
     "name": "stdout",
     "output_type": "stream",
     "text": [
      "social welfare: 37507.525474558\n",
      "number of allocated tasks: 50\n",
      "seed = 21\n"
     ]
    },
    {
     "name": "stderr",
     "output_type": "stream",
     "text": [
      "100%|██████████| 50/50 [00:00<00:00, 18825.42it/s]\n"
     ]
    },
    {
     "name": "stdout",
     "output_type": "stream",
     "text": [
      "social welfare: 37447.669673999255\n",
      "number of allocated tasks: 50\n",
      "seed = 22\n"
     ]
    },
    {
     "name": "stderr",
     "output_type": "stream",
     "text": [
      "100%|██████████| 50/50 [00:00<00:00, 17742.40it/s]\n"
     ]
    },
    {
     "name": "stdout",
     "output_type": "stream",
     "text": [
      "social welfare: 35346.00169612033\n",
      "number of allocated tasks: 50\n",
      "seed = 23\n"
     ]
    },
    {
     "name": "stderr",
     "output_type": "stream",
     "text": [
      "100%|██████████| 50/50 [00:00<00:00, 23017.80it/s]\n"
     ]
    },
    {
     "name": "stdout",
     "output_type": "stream",
     "text": [
      "social welfare: 38799.979517670356\n",
      "number of allocated tasks: 50\n",
      "seed = 24\n"
     ]
    },
    {
     "name": "stderr",
     "output_type": "stream",
     "text": [
      "100%|██████████| 50/50 [00:00<00:00, 16479.27it/s]\n"
     ]
    },
    {
     "name": "stdout",
     "output_type": "stream",
     "text": [
      "social welfare: 38822.43076731941\n",
      "number of allocated tasks: 50\n",
      "seed = 25\n"
     ]
    },
    {
     "name": "stderr",
     "output_type": "stream",
     "text": [
      "100%|██████████| 50/50 [00:00<00:00, 20053.09it/s]\n"
     ]
    },
    {
     "name": "stdout",
     "output_type": "stream",
     "text": [
      "social welfare: 43555.162313240435\n",
      "number of allocated tasks: 50\n",
      "seed = 26\n"
     ]
    },
    {
     "name": "stderr",
     "output_type": "stream",
     "text": [
      "100%|██████████| 50/50 [00:00<00:00, 16987.87it/s]\n"
     ]
    },
    {
     "name": "stdout",
     "output_type": "stream",
     "text": [
      "social welfare: 40833.94128931164\n",
      "number of allocated tasks: 50\n",
      "seed = 27\n"
     ]
    },
    {
     "name": "stderr",
     "output_type": "stream",
     "text": [
      "100%|██████████| 50/50 [00:00<00:00, 18726.24it/s]\n"
     ]
    },
    {
     "name": "stdout",
     "output_type": "stream",
     "text": [
      "social welfare: 34438.423567918464\n",
      "number of allocated tasks: 50\n",
      "seed = 28\n"
     ]
    },
    {
     "name": "stderr",
     "output_type": "stream",
     "text": [
      "100%|██████████| 50/50 [00:00<00:00, 19590.40it/s]\n"
     ]
    },
    {
     "name": "stdout",
     "output_type": "stream",
     "text": [
      "social welfare: 35371.968964964384\n",
      "number of allocated tasks: 50\n",
      "seed = 29\n"
     ]
    },
    {
     "name": "stderr",
     "output_type": "stream",
     "text": [
      "100%|██████████| 50/50 [00:00<00:00, 17336.13it/s]\n"
     ]
    },
    {
     "name": "stdout",
     "output_type": "stream",
     "text": [
      "social welfare: 37627.72399329204\n",
      "number of allocated tasks: 50\n",
      "seed = 30\n"
     ]
    },
    {
     "name": "stderr",
     "output_type": "stream",
     "text": [
      "100%|██████████| 50/50 [00:00<00:00, 20242.78it/s]\n"
     ]
    },
    {
     "name": "stdout",
     "output_type": "stream",
     "text": [
      "social welfare: 39480.24112981109\n",
      "number of allocated tasks: 50\n",
      "seed = 31\n"
     ]
    },
    {
     "name": "stderr",
     "output_type": "stream",
     "text": [
      "100%|██████████| 50/50 [00:00<00:00, 22422.24it/s]\n"
     ]
    },
    {
     "name": "stdout",
     "output_type": "stream",
     "text": [
      "social welfare: 38593.09515659849\n",
      "number of allocated tasks: 50\n",
      "seed = 32\n"
     ]
    },
    {
     "name": "stderr",
     "output_type": "stream",
     "text": [
      "100%|██████████| 50/50 [00:00<00:00, 15118.97it/s]\n"
     ]
    },
    {
     "name": "stdout",
     "output_type": "stream",
     "text": [
      "social welfare: 43023.83718215533\n",
      "number of allocated tasks: 50\n",
      "seed = 33\n"
     ]
    },
    {
     "name": "stderr",
     "output_type": "stream",
     "text": [
      "100%|██████████| 50/50 [00:00<00:00, 21108.73it/s]\n"
     ]
    },
    {
     "name": "stdout",
     "output_type": "stream",
     "text": [
      "social welfare: 38279.274728350974\n",
      "number of allocated tasks: 50\n",
      "seed = 34\n"
     ]
    },
    {
     "name": "stderr",
     "output_type": "stream",
     "text": [
      "100%|██████████| 50/50 [00:00<00:00, 19289.48it/s]\n"
     ]
    },
    {
     "name": "stdout",
     "output_type": "stream",
     "text": [
      "social welfare: 41602.13224344115\n",
      "number of allocated tasks: 50\n",
      "seed = 35\n"
     ]
    },
    {
     "name": "stderr",
     "output_type": "stream",
     "text": [
      "100%|██████████| 50/50 [00:00<00:00, 17457.35it/s]\n"
     ]
    },
    {
     "name": "stdout",
     "output_type": "stream",
     "text": [
      "social welfare: 41439.164840732956\n",
      "number of allocated tasks: 50\n",
      "seed = 36\n"
     ]
    },
    {
     "name": "stderr",
     "output_type": "stream",
     "text": [
      "100%|██████████| 50/50 [00:00<00:00, 25668.94it/s]\n"
     ]
    },
    {
     "name": "stdout",
     "output_type": "stream",
     "text": [
      "social welfare: 43268.58320560563\n",
      "number of allocated tasks: 50\n",
      "seed = 37\n"
     ]
    },
    {
     "name": "stderr",
     "output_type": "stream",
     "text": [
      "100%|██████████| 50/50 [00:00<00:00, 20161.05it/s]\n"
     ]
    },
    {
     "name": "stdout",
     "output_type": "stream",
     "text": [
      "social welfare: 37434.81147647945\n",
      "number of allocated tasks: 50\n",
      "seed = 38\n"
     ]
    },
    {
     "name": "stderr",
     "output_type": "stream",
     "text": [
      "100%|██████████| 50/50 [00:00<00:00, 19173.08it/s]\n"
     ]
    },
    {
     "name": "stdout",
     "output_type": "stream",
     "text": [
      "social welfare: 38709.821824950384\n",
      "number of allocated tasks: 50\n",
      "seed = 39\n"
     ]
    },
    {
     "name": "stderr",
     "output_type": "stream",
     "text": [
      "100%|██████████| 50/50 [00:00<00:00, 13724.82it/s]\n"
     ]
    },
    {
     "name": "stdout",
     "output_type": "stream",
     "text": [
      "social welfare: 42998.33995040334\n",
      "number of allocated tasks: 50\n",
      "seed = 40\n"
     ]
    },
    {
     "name": "stderr",
     "output_type": "stream",
     "text": [
      "100%|██████████| 50/50 [00:00<00:00, 19099.74it/s]\n"
     ]
    },
    {
     "name": "stdout",
     "output_type": "stream",
     "text": [
      "social welfare: 37411.519811557366\n",
      "number of allocated tasks: 50\n",
      "seed = 41\n"
     ]
    },
    {
     "name": "stderr",
     "output_type": "stream",
     "text": [
      "100%|██████████| 50/50 [00:00<00:00, 20014.81it/s]\n"
     ]
    },
    {
     "name": "stdout",
     "output_type": "stream",
     "text": [
      "social welfare: 36216.81980427101\n",
      "number of allocated tasks: 50\n",
      "seed = 42\n"
     ]
    },
    {
     "name": "stderr",
     "output_type": "stream",
     "text": [
      "100%|██████████| 50/50 [00:00<00:00, 24099.66it/s]\n"
     ]
    },
    {
     "name": "stdout",
     "output_type": "stream",
     "text": [
      "social welfare: 39107.5876072792\n",
      "number of allocated tasks: 50\n",
      "seed = 43\n"
     ]
    },
    {
     "name": "stderr",
     "output_type": "stream",
     "text": [
      "100%|██████████| 50/50 [00:00<00:00, 20627.05it/s]\n"
     ]
    },
    {
     "name": "stdout",
     "output_type": "stream",
     "text": [
      "social welfare: 38611.87134446724\n",
      "number of allocated tasks: 50\n",
      "seed = 44\n"
     ]
    },
    {
     "name": "stderr",
     "output_type": "stream",
     "text": [
      "100%|██████████| 50/50 [00:00<00:00, 15127.69it/s]\n"
     ]
    },
    {
     "name": "stdout",
     "output_type": "stream",
     "text": [
      "social welfare: 45798.495736565725\n",
      "number of allocated tasks: 50\n",
      "seed = 45\n"
     ]
    },
    {
     "name": "stderr",
     "output_type": "stream",
     "text": [
      "100%|██████████| 50/50 [00:00<00:00, 16056.60it/s]\n"
     ]
    },
    {
     "name": "stdout",
     "output_type": "stream",
     "text": [
      "social welfare: 39826.32585994793\n",
      "number of allocated tasks: 50\n",
      "seed = 46\n"
     ]
    },
    {
     "name": "stderr",
     "output_type": "stream",
     "text": [
      "100%|██████████| 50/50 [00:00<00:00, 23484.34it/s]\n"
     ]
    },
    {
     "name": "stdout",
     "output_type": "stream",
     "text": [
      "social welfare: 41735.95667016469\n",
      "number of allocated tasks: 50\n",
      "seed = 47\n"
     ]
    },
    {
     "name": "stderr",
     "output_type": "stream",
     "text": [
      "100%|██████████| 50/50 [00:00<00:00, 20877.57it/s]\n"
     ]
    },
    {
     "name": "stdout",
     "output_type": "stream",
     "text": [
      "social welfare: 37463.6427570468\n",
      "number of allocated tasks: 50\n",
      "seed = 48\n"
     ]
    },
    {
     "name": "stderr",
     "output_type": "stream",
     "text": [
      "100%|██████████| 50/50 [00:00<00:00, 22676.82it/s]\n"
     ]
    },
    {
     "name": "stdout",
     "output_type": "stream",
     "text": [
      "social welfare: 37369.713905080964\n",
      "number of allocated tasks: 50\n",
      "seed = 49\n"
     ]
    },
    {
     "name": "stderr",
     "output_type": "stream",
     "text": [
      "100%|██████████| 50/50 [00:00<00:00, 20143.62it/s]\n"
     ]
    },
    {
     "name": "stdout",
     "output_type": "stream",
     "text": [
      "social welfare: 37930.05216802776\n",
      "number of allocated tasks: 50\n",
      "seed = 50\n"
     ]
    },
    {
     "name": "stderr",
     "output_type": "stream",
     "text": [
      "100%|██████████| 50/50 [00:00<00:00, 19238.16it/s]\n"
     ]
    },
    {
     "name": "stdout",
     "output_type": "stream",
     "text": [
      "social welfare: 42103.01818174214\n",
      "number of allocated tasks: 50\n",
      "seed = 51\n"
     ]
    },
    {
     "name": "stderr",
     "output_type": "stream",
     "text": [
      "100%|██████████| 50/50 [00:00<00:00, 16870.34it/s]\n"
     ]
    },
    {
     "name": "stdout",
     "output_type": "stream",
     "text": [
      "social welfare: 38873.998644639105\n",
      "number of allocated tasks: 50\n",
      "seed = 52\n"
     ]
    },
    {
     "name": "stderr",
     "output_type": "stream",
     "text": [
      "100%|██████████| 50/50 [00:00<00:00, 21151.31it/s]\n"
     ]
    },
    {
     "name": "stdout",
     "output_type": "stream",
     "text": [
      "social welfare: 38782.344180275686\n",
      "number of allocated tasks: 50\n",
      "seed = 53\n"
     ]
    },
    {
     "name": "stderr",
     "output_type": "stream",
     "text": [
      "100%|██████████| 50/50 [00:00<00:00, 15111.34it/s]\n"
     ]
    },
    {
     "name": "stdout",
     "output_type": "stream",
     "text": [
      "social welfare: 36653.52812063504\n",
      "number of allocated tasks: 50\n",
      "seed = 54\n"
     ]
    },
    {
     "name": "stderr",
     "output_type": "stream",
     "text": [
      "100%|██████████| 50/50 [00:00<00:00, 19693.42it/s]\n"
     ]
    },
    {
     "name": "stdout",
     "output_type": "stream",
     "text": [
      "social welfare: 43292.97650055088\n",
      "number of allocated tasks: 50\n",
      "seed = 55\n"
     ]
    },
    {
     "name": "stderr",
     "output_type": "stream",
     "text": [
      "100%|██████████| 50/50 [00:00<00:00, 19427.07it/s]\n"
     ]
    },
    {
     "name": "stdout",
     "output_type": "stream",
     "text": [
      "social welfare: 39338.30090611723\n",
      "number of allocated tasks: 50\n",
      "seed = 56\n"
     ]
    },
    {
     "name": "stderr",
     "output_type": "stream",
     "text": [
      "100%|██████████| 50/50 [00:00<00:00, 19492.07it/s]\n"
     ]
    },
    {
     "name": "stdout",
     "output_type": "stream",
     "text": [
      "social welfare: 38351.66328727235\n",
      "number of allocated tasks: 50\n",
      "seed = 57\n"
     ]
    },
    {
     "name": "stderr",
     "output_type": "stream",
     "text": [
      "100%|██████████| 50/50 [00:00<00:00, 23452.83it/s]\n"
     ]
    },
    {
     "name": "stdout",
     "output_type": "stream",
     "text": [
      "social welfare: 38886.952505300855\n",
      "number of allocated tasks: 50\n",
      "seed = 58\n"
     ]
    },
    {
     "name": "stderr",
     "output_type": "stream",
     "text": [
      "100%|██████████| 50/50 [00:00<00:00, 21460.83it/s]\n"
     ]
    },
    {
     "name": "stdout",
     "output_type": "stream",
     "text": [
      "social welfare: 32132.344633594614\n",
      "number of allocated tasks: 50\n",
      "seed = 59\n"
     ]
    },
    {
     "name": "stderr",
     "output_type": "stream",
     "text": [
      "100%|██████████| 50/50 [00:00<00:00, 22112.53it/s]\n"
     ]
    },
    {
     "name": "stdout",
     "output_type": "stream",
     "text": [
      "social welfare: 37575.73203301534\n",
      "number of allocated tasks: 50\n",
      "seed = 60\n"
     ]
    },
    {
     "name": "stderr",
     "output_type": "stream",
     "text": [
      "100%|██████████| 50/50 [00:00<00:00, 20145.55it/s]\n"
     ]
    },
    {
     "name": "stdout",
     "output_type": "stream",
     "text": [
      "social welfare: 37109.857474911405\n",
      "number of allocated tasks: 50\n",
      "seed = 61\n"
     ]
    },
    {
     "name": "stderr",
     "output_type": "stream",
     "text": [
      "100%|██████████| 50/50 [00:00<00:00, 17624.61it/s]\n"
     ]
    },
    {
     "name": "stdout",
     "output_type": "stream",
     "text": [
      "social welfare: 37286.90898363119\n",
      "number of allocated tasks: 50\n",
      "seed = 62\n"
     ]
    },
    {
     "name": "stderr",
     "output_type": "stream",
     "text": [
      "100%|██████████| 50/50 [00:00<00:00, 21360.28it/s]\n"
     ]
    },
    {
     "name": "stdout",
     "output_type": "stream",
     "text": [
      "social welfare: 35679.88097231914\n",
      "number of allocated tasks: 50\n",
      "seed = 63\n"
     ]
    },
    {
     "name": "stderr",
     "output_type": "stream",
     "text": [
      "100%|██████████| 50/50 [00:00<00:00, 15663.25it/s]\n"
     ]
    },
    {
     "name": "stdout",
     "output_type": "stream",
     "text": [
      "social welfare: 32708.56557792523\n",
      "number of allocated tasks: 50\n",
      "seed = 64\n"
     ]
    },
    {
     "name": "stderr",
     "output_type": "stream",
     "text": [
      "100%|██████████| 50/50 [00:00<00:00, 23888.28it/s]\n"
     ]
    },
    {
     "name": "stdout",
     "output_type": "stream",
     "text": [
      "social welfare: 41843.23711136432\n",
      "number of allocated tasks: 50\n",
      "seed = 65\n"
     ]
    },
    {
     "name": "stderr",
     "output_type": "stream",
     "text": [
      "100%|██████████| 50/50 [00:00<00:00, 24559.69it/s]\n"
     ]
    },
    {
     "name": "stdout",
     "output_type": "stream",
     "text": [
      "social welfare: 37042.7981405643\n",
      "number of allocated tasks: 50\n",
      "seed = 66\n"
     ]
    },
    {
     "name": "stderr",
     "output_type": "stream",
     "text": [
      "100%|██████████| 50/50 [00:00<00:00, 23242.29it/s]\n"
     ]
    },
    {
     "name": "stdout",
     "output_type": "stream",
     "text": [
      "social welfare: 40087.80293979426\n",
      "number of allocated tasks: 50\n",
      "seed = 67\n"
     ]
    },
    {
     "name": "stderr",
     "output_type": "stream",
     "text": [
      "100%|██████████| 50/50 [00:00<00:00, 17270.46it/s]\n"
     ]
    },
    {
     "name": "stdout",
     "output_type": "stream",
     "text": [
      "social welfare: 36197.13243113874\n",
      "number of allocated tasks: 50\n",
      "seed = 68\n"
     ]
    },
    {
     "name": "stderr",
     "output_type": "stream",
     "text": [
      "100%|██████████| 50/50 [00:00<00:00, 11396.95it/s]\n"
     ]
    },
    {
     "name": "stdout",
     "output_type": "stream",
     "text": [
      "social welfare: 38397.54806538964\n",
      "number of allocated tasks: 50\n",
      "seed = 69\n"
     ]
    },
    {
     "name": "stderr",
     "output_type": "stream",
     "text": [
      "100%|██████████| 50/50 [00:00<00:00, 21635.74it/s]\n"
     ]
    },
    {
     "name": "stdout",
     "output_type": "stream",
     "text": [
      "social welfare: 39293.729874429555\n",
      "number of allocated tasks: 50\n",
      "seed = 70\n"
     ]
    },
    {
     "name": "stderr",
     "output_type": "stream",
     "text": [
      "100%|██████████| 50/50 [00:00<00:00, 21089.62it/s]\n"
     ]
    },
    {
     "name": "stdout",
     "output_type": "stream",
     "text": [
      "social welfare: 44758.80632508753\n",
      "number of allocated tasks: 50\n",
      "seed = 71\n"
     ]
    },
    {
     "name": "stderr",
     "output_type": "stream",
     "text": [
      "100%|██████████| 50/50 [00:00<00:00, 17194.00it/s]\n"
     ]
    },
    {
     "name": "stdout",
     "output_type": "stream",
     "text": [
      "social welfare: 43961.44720796815\n",
      "number of allocated tasks: 50\n",
      "seed = 72\n"
     ]
    },
    {
     "name": "stderr",
     "output_type": "stream",
     "text": [
      "100%|██████████| 50/50 [00:00<00:00, 20602.73it/s]\n"
     ]
    },
    {
     "name": "stdout",
     "output_type": "stream",
     "text": [
      "social welfare: 41740.431323018005\n",
      "number of allocated tasks: 50\n",
      "seed = 73\n"
     ]
    },
    {
     "name": "stderr",
     "output_type": "stream",
     "text": [
      "100%|██████████| 50/50 [00:00<00:00, 19732.33it/s]\n"
     ]
    },
    {
     "name": "stdout",
     "output_type": "stream",
     "text": [
      "social welfare: 36448.26956049972\n",
      "number of allocated tasks: 50\n",
      "seed = 74\n"
     ]
    },
    {
     "name": "stderr",
     "output_type": "stream",
     "text": [
      "100%|██████████| 50/50 [00:00<00:00, 19486.64it/s]\n"
     ]
    },
    {
     "name": "stdout",
     "output_type": "stream",
     "text": [
      "social welfare: 37271.84555944193\n",
      "number of allocated tasks: 50\n",
      "seed = 75\n"
     ]
    },
    {
     "name": "stderr",
     "output_type": "stream",
     "text": [
      "100%|██████████| 50/50 [00:00<00:00, 18128.91it/s]\n"
     ]
    },
    {
     "name": "stdout",
     "output_type": "stream",
     "text": [
      "social welfare: 40370.10737571519\n",
      "number of allocated tasks: 50\n",
      "seed = 76\n"
     ]
    },
    {
     "name": "stderr",
     "output_type": "stream",
     "text": [
      "100%|██████████| 50/50 [00:00<00:00, 21414.81it/s]\n"
     ]
    },
    {
     "name": "stdout",
     "output_type": "stream",
     "text": [
      "social welfare: 36089.00219498742\n",
      "number of allocated tasks: 50\n",
      "seed = 77\n"
     ]
    },
    {
     "name": "stderr",
     "output_type": "stream",
     "text": [
      "100%|██████████| 50/50 [00:00<00:00, 15322.22it/s]\n"
     ]
    },
    {
     "name": "stdout",
     "output_type": "stream",
     "text": [
      "social welfare: 37677.354242840076\n",
      "number of allocated tasks: 50\n",
      "seed = 78\n"
     ]
    },
    {
     "name": "stderr",
     "output_type": "stream",
     "text": [
      "100%|██████████| 50/50 [00:00<00:00, 21736.65it/s]\n"
     ]
    },
    {
     "name": "stdout",
     "output_type": "stream",
     "text": [
      "social welfare: 38745.88904398249\n",
      "number of allocated tasks: 50\n",
      "seed = 79\n"
     ]
    },
    {
     "name": "stderr",
     "output_type": "stream",
     "text": [
      "100%|██████████| 50/50 [00:00<00:00, 16113.35it/s]\n"
     ]
    },
    {
     "name": "stdout",
     "output_type": "stream",
     "text": [
      "social welfare: 38749.75882599998\n",
      "number of allocated tasks: 50\n",
      "seed = 80\n"
     ]
    },
    {
     "name": "stderr",
     "output_type": "stream",
     "text": [
      "100%|██████████| 50/50 [00:00<00:00, 21142.78it/s]\n"
     ]
    },
    {
     "name": "stdout",
     "output_type": "stream",
     "text": [
      "social welfare: 40662.5531137361\n",
      "number of allocated tasks: 50\n",
      "seed = 81\n"
     ]
    },
    {
     "name": "stderr",
     "output_type": "stream",
     "text": [
      "100%|██████████| 50/50 [00:00<00:00, 19951.97it/s]\n"
     ]
    },
    {
     "name": "stdout",
     "output_type": "stream",
     "text": [
      "social welfare: 34144.55112945095\n",
      "number of allocated tasks: 50\n",
      "seed = 82\n"
     ]
    },
    {
     "name": "stderr",
     "output_type": "stream",
     "text": [
      "100%|██████████| 50/50 [00:00<00:00, 18226.59it/s]\n"
     ]
    },
    {
     "name": "stdout",
     "output_type": "stream",
     "text": [
      "social welfare: 40947.09229760967\n",
      "number of allocated tasks: 50\n",
      "seed = 83\n"
     ]
    },
    {
     "name": "stderr",
     "output_type": "stream",
     "text": [
      "100%|██████████| 50/50 [00:00<00:00, 17005.77it/s]\n"
     ]
    },
    {
     "name": "stdout",
     "output_type": "stream",
     "text": [
      "social welfare: 37597.13194831997\n",
      "number of allocated tasks: 50\n",
      "seed = 84\n"
     ]
    },
    {
     "name": "stderr",
     "output_type": "stream",
     "text": [
      "100%|██████████| 50/50 [00:00<00:00, 24275.40it/s]\n"
     ]
    },
    {
     "name": "stdout",
     "output_type": "stream",
     "text": [
      "social welfare: 40863.53996794956\n",
      "number of allocated tasks: 50\n",
      "seed = 85\n"
     ]
    },
    {
     "name": "stderr",
     "output_type": "stream",
     "text": [
      "100%|██████████| 50/50 [00:00<00:00, 25052.59it/s]\n"
     ]
    },
    {
     "name": "stdout",
     "output_type": "stream",
     "text": [
      "social welfare: 37736.66998022685\n",
      "number of allocated tasks: 50\n",
      "seed = 86\n"
     ]
    },
    {
     "name": "stderr",
     "output_type": "stream",
     "text": [
      "100%|██████████| 50/50 [00:00<00:00, 14802.03it/s]\n"
     ]
    },
    {
     "name": "stdout",
     "output_type": "stream",
     "text": [
      "social welfare: 35496.493776520205\n",
      "number of allocated tasks: 50\n",
      "seed = 87\n"
     ]
    },
    {
     "name": "stderr",
     "output_type": "stream",
     "text": [
      "100%|██████████| 50/50 [00:00<00:00, 18768.14it/s]\n"
     ]
    },
    {
     "name": "stdout",
     "output_type": "stream",
     "text": [
      "social welfare: 38440.21212213987\n",
      "number of allocated tasks: 50\n",
      "seed = 88\n"
     ]
    },
    {
     "name": "stderr",
     "output_type": "stream",
     "text": [
      "100%|██████████| 50/50 [00:00<00:00, 20400.31it/s]\n"
     ]
    },
    {
     "name": "stdout",
     "output_type": "stream",
     "text": [
      "social welfare: 41334.764063797054\n",
      "number of allocated tasks: 50\n",
      "seed = 89\n"
     ]
    },
    {
     "name": "stderr",
     "output_type": "stream",
     "text": [
      "100%|██████████| 50/50 [00:00<00:00, 18776.54it/s]\n"
     ]
    },
    {
     "name": "stdout",
     "output_type": "stream",
     "text": [
      "social welfare: 37895.98864865772\n",
      "number of allocated tasks: 50\n",
      "seed = 90\n"
     ]
    },
    {
     "name": "stderr",
     "output_type": "stream",
     "text": [
      "100%|██████████| 50/50 [00:00<00:00, 19984.30it/s]\n"
     ]
    },
    {
     "name": "stdout",
     "output_type": "stream",
     "text": [
      "social welfare: 30902.090842955702\n",
      "number of allocated tasks: 50\n",
      "seed = 91\n"
     ]
    },
    {
     "name": "stderr",
     "output_type": "stream",
     "text": [
      "100%|██████████| 50/50 [00:00<00:00, 21036.73it/s]\n"
     ]
    },
    {
     "name": "stdout",
     "output_type": "stream",
     "text": [
      "social welfare: 37693.73145415302\n",
      "number of allocated tasks: 50\n",
      "seed = 92\n"
     ]
    },
    {
     "name": "stderr",
     "output_type": "stream",
     "text": [
      "100%|██████████| 50/50 [00:00<00:00, 20560.31it/s]\n"
     ]
    },
    {
     "name": "stdout",
     "output_type": "stream",
     "text": [
      "social welfare: 43056.62266597897\n",
      "number of allocated tasks: 50\n",
      "seed = 93\n"
     ]
    },
    {
     "name": "stderr",
     "output_type": "stream",
     "text": [
      "100%|██████████| 50/50 [00:00<00:00, 19546.57it/s]\n"
     ]
    },
    {
     "name": "stdout",
     "output_type": "stream",
     "text": [
      "social welfare: 38372.930726958475\n",
      "number of allocated tasks: 50\n",
      "seed = 94\n"
     ]
    },
    {
     "name": "stderr",
     "output_type": "stream",
     "text": [
      "100%|██████████| 50/50 [00:00<00:00, 16307.56it/s]\n"
     ]
    },
    {
     "name": "stdout",
     "output_type": "stream",
     "text": [
      "social welfare: 41929.57236350713\n",
      "number of allocated tasks: 50\n",
      "seed = 95\n"
     ]
    },
    {
     "name": "stderr",
     "output_type": "stream",
     "text": [
      "100%|██████████| 50/50 [00:00<00:00, 19669.41it/s]\n"
     ]
    },
    {
     "name": "stdout",
     "output_type": "stream",
     "text": [
      "social welfare: 34416.7312852989\n",
      "number of allocated tasks: 50\n",
      "seed = 96\n"
     ]
    },
    {
     "name": "stderr",
     "output_type": "stream",
     "text": [
      "100%|██████████| 50/50 [00:00<00:00, 10425.81it/s]\n"
     ]
    },
    {
     "name": "stdout",
     "output_type": "stream",
     "text": [
      "social welfare: 39970.214951484806\n",
      "number of allocated tasks: 50\n",
      "seed = 97\n"
     ]
    },
    {
     "name": "stderr",
     "output_type": "stream",
     "text": [
      "100%|██████████| 50/50 [00:00<00:00, 18038.47it/s]\n"
     ]
    },
    {
     "name": "stdout",
     "output_type": "stream",
     "text": [
      "social welfare: 44827.626309989864\n",
      "number of allocated tasks: 50\n",
      "seed = 98\n"
     ]
    },
    {
     "name": "stderr",
     "output_type": "stream",
     "text": [
      "100%|██████████| 50/50 [00:00<00:00, 17999.76it/s]\n"
     ]
    },
    {
     "name": "stdout",
     "output_type": "stream",
     "text": [
      "social welfare: 37525.513682568744\n",
      "number of allocated tasks: 50\n",
      "seed = 99\n"
     ]
    },
    {
     "name": "stderr",
     "output_type": "stream",
     "text": [
      "100%|██████████| 50/50 [00:00<00:00, 20792.70it/s]\n"
     ]
    },
    {
     "name": "stdout",
     "output_type": "stream",
     "text": [
      "social welfare: 42081.65984811288\n",
      "number of allocated tasks: 50\n",
      "seed = 100\n"
     ]
    },
    {
     "name": "stderr",
     "output_type": "stream",
     "text": [
      "100%|██████████| 50/50 [00:00<00:00, 13007.21it/s]\n"
     ]
    },
    {
     "name": "stdout",
     "output_type": "stream",
     "text": [
      "social welfare: 41806.06265789773\n",
      "number of allocated tasks: 50\n",
      "seed = 101\n"
     ]
    },
    {
     "name": "stderr",
     "output_type": "stream",
     "text": [
      "100%|██████████| 50/50 [00:00<00:00, 18010.58it/s]\n"
     ]
    },
    {
     "name": "stdout",
     "output_type": "stream",
     "text": [
      "social welfare: 37456.013111515414\n",
      "number of allocated tasks: 50\n",
      "seed = 102\n"
     ]
    },
    {
     "name": "stderr",
     "output_type": "stream",
     "text": [
      "100%|██████████| 50/50 [00:00<00:00, 18939.33it/s]\n"
     ]
    },
    {
     "name": "stdout",
     "output_type": "stream",
     "text": [
      "social welfare: 40476.18506300556\n",
      "number of allocated tasks: 50\n",
      "seed = 103\n"
     ]
    },
    {
     "name": "stderr",
     "output_type": "stream",
     "text": [
      "100%|██████████| 50/50 [00:00<00:00, 19486.64it/s]\n"
     ]
    },
    {
     "name": "stdout",
     "output_type": "stream",
     "text": [
      "social welfare: 38418.2911286669\n",
      "number of allocated tasks: 50\n",
      "seed = 104\n"
     ]
    },
    {
     "name": "stderr",
     "output_type": "stream",
     "text": [
      "100%|██████████| 50/50 [00:00<00:00, 20532.13it/s]\n"
     ]
    },
    {
     "name": "stdout",
     "output_type": "stream",
     "text": [
      "social welfare: 34147.77024793859\n",
      "number of allocated tasks: 50\n",
      "seed = 105\n"
     ]
    },
    {
     "name": "stderr",
     "output_type": "stream",
     "text": [
      "100%|██████████| 50/50 [00:00<00:00, 23484.34it/s]\n"
     ]
    },
    {
     "name": "stdout",
     "output_type": "stream",
     "text": [
      "social welfare: 37107.44161926761\n",
      "number of allocated tasks: 50\n",
      "seed = 106\n"
     ]
    },
    {
     "name": "stderr",
     "output_type": "stream",
     "text": [
      "100%|██████████| 50/50 [00:00<00:00, 19561.16it/s]\n"
     ]
    },
    {
     "name": "stdout",
     "output_type": "stream",
     "text": [
      "social welfare: 39159.86543279732\n",
      "number of allocated tasks: 50\n",
      "seed = 107\n"
     ]
    },
    {
     "name": "stderr",
     "output_type": "stream",
     "text": [
      "100%|██████████| 50/50 [00:00<00:00, 18240.86it/s]\n"
     ]
    },
    {
     "name": "stdout",
     "output_type": "stream",
     "text": [
      "social welfare: 35239.54492583531\n",
      "number of allocated tasks: 50\n",
      "seed = 108\n"
     ]
    },
    {
     "name": "stderr",
     "output_type": "stream",
     "text": [
      "100%|██████████| 50/50 [00:00<00:00, 22250.95it/s]\n"
     ]
    },
    {
     "name": "stdout",
     "output_type": "stream",
     "text": [
      "social welfare: 39069.387275630266\n",
      "number of allocated tasks: 50\n",
      "seed = 109\n"
     ]
    },
    {
     "name": "stderr",
     "output_type": "stream",
     "text": [
      "100%|██████████| 50/50 [00:00<00:00, 18939.33it/s]\n"
     ]
    },
    {
     "name": "stdout",
     "output_type": "stream",
     "text": [
      "social welfare: 35855.61818773404\n",
      "number of allocated tasks: 50\n",
      "seed = 110\n"
     ]
    },
    {
     "name": "stderr",
     "output_type": "stream",
     "text": [
      "100%|██████████| 50/50 [00:00<00:00, 13513.45it/s]\n"
     ]
    },
    {
     "name": "stdout",
     "output_type": "stream",
     "text": [
      "social welfare: 37563.07160375956\n",
      "number of allocated tasks: 50\n",
      "seed = 111\n"
     ]
    },
    {
     "name": "stderr",
     "output_type": "stream",
     "text": [
      "100%|██████████| 50/50 [00:00<00:00, 17817.77it/s]\n"
     ]
    },
    {
     "name": "stdout",
     "output_type": "stream",
     "text": [
      "social welfare: 37200.53095780203\n",
      "number of allocated tasks: 50\n",
      "seed = 112\n"
     ]
    },
    {
     "name": "stderr",
     "output_type": "stream",
     "text": [
      "100%|██████████| 50/50 [00:00<00:00, 21204.77it/s]\n"
     ]
    },
    {
     "name": "stdout",
     "output_type": "stream",
     "text": [
      "social welfare: 39707.91027210245\n",
      "number of allocated tasks: 50\n",
      "seed = 113\n"
     ]
    },
    {
     "name": "stderr",
     "output_type": "stream",
     "text": [
      "100%|██████████| 50/50 [00:00<00:00, 18954.74it/s]\n"
     ]
    },
    {
     "name": "stdout",
     "output_type": "stream",
     "text": [
      "social welfare: 35056.23357929117\n",
      "number of allocated tasks: 50\n",
      "seed = 114\n"
     ]
    },
    {
     "name": "stderr",
     "output_type": "stream",
     "text": [
      "100%|██████████| 50/50 [00:00<00:00, 17373.47it/s]\n"
     ]
    },
    {
     "name": "stdout",
     "output_type": "stream",
     "text": [
      "social welfare: 43098.57827714055\n",
      "number of allocated tasks: 50\n",
      "seed = 115\n"
     ]
    },
    {
     "name": "stderr",
     "output_type": "stream",
     "text": [
      "100%|██████████| 50/50 [00:00<00:00, 17487.93it/s]\n"
     ]
    },
    {
     "name": "stdout",
     "output_type": "stream",
     "text": [
      "social welfare: 42529.21386332\n",
      "number of allocated tasks: 50\n",
      "seed = 116\n"
     ]
    },
    {
     "name": "stderr",
     "output_type": "stream",
     "text": [
      "100%|██████████| 50/50 [00:00<00:00, 17336.13it/s]\n"
     ]
    },
    {
     "name": "stdout",
     "output_type": "stream",
     "text": [
      "social welfare: 41301.756111660216\n",
      "number of allocated tasks: 50\n",
      "seed = 117\n"
     ]
    },
    {
     "name": "stderr",
     "output_type": "stream",
     "text": [
      "100%|██████████| 50/50 [00:00<00:00, 15355.88it/s]\n"
     ]
    },
    {
     "name": "stdout",
     "output_type": "stream",
     "text": [
      "social welfare: 42273.42839734011\n",
      "number of allocated tasks: 50\n",
      "seed = 118\n"
     ]
    },
    {
     "name": "stderr",
     "output_type": "stream",
     "text": [
      "100%|██████████| 50/50 [00:00<00:00, 17987.41it/s]\n"
     ]
    },
    {
     "name": "stdout",
     "output_type": "stream",
     "text": [
      "social welfare: 38765.29577738562\n",
      "number of allocated tasks: 50\n",
      "seed = 119\n"
     ]
    },
    {
     "name": "stderr",
     "output_type": "stream",
     "text": [
      "100%|██████████| 50/50 [00:00<00:00, 20176.56it/s]\n"
     ]
    },
    {
     "name": "stdout",
     "output_type": "stream",
     "text": [
      "social welfare: 40776.50996099644\n",
      "number of allocated tasks: 50\n",
      "seed = 120\n"
     ]
    },
    {
     "name": "stderr",
     "output_type": "stream",
     "text": [
      "100%|██████████| 50/50 [00:00<00:00, 16694.41it/s]\n"
     ]
    },
    {
     "name": "stdout",
     "output_type": "stream",
     "text": [
      "social welfare: 44227.598196462044\n",
      "number of allocated tasks: 50\n",
      "seed = 121\n"
     ]
    },
    {
     "name": "stderr",
     "output_type": "stream",
     "text": [
      "100%|██████████| 50/50 [00:00<00:00, 20860.96it/s]\n"
     ]
    },
    {
     "name": "stdout",
     "output_type": "stream",
     "text": [
      "social welfare: 38451.2946113333\n",
      "number of allocated tasks: 50\n",
      "seed = 122\n"
     ]
    },
    {
     "name": "stderr",
     "output_type": "stream",
     "text": [
      "100%|██████████| 50/50 [00:00<00:00, 11008.67it/s]\n"
     ]
    },
    {
     "name": "stdout",
     "output_type": "stream",
     "text": [
      "social welfare: 37818.66558556791\n",
      "number of allocated tasks: 50\n",
      "seed = 123\n"
     ]
    },
    {
     "name": "stderr",
     "output_type": "stream",
     "text": [
      "100%|██████████| 50/50 [00:00<00:00, 18141.45it/s]\n"
     ]
    },
    {
     "name": "stdout",
     "output_type": "stream",
     "text": [
      "social welfare: 37650.725585344204\n",
      "number of allocated tasks: 50\n",
      "seed = 124\n"
     ]
    },
    {
     "name": "stderr",
     "output_type": "stream",
     "text": [
      "100%|██████████| 50/50 [00:00<00:00, 3602.30it/s]\n"
     ]
    },
    {
     "name": "stdout",
     "output_type": "stream",
     "text": [
      "social welfare: 34935.3406896113\n",
      "number of allocated tasks: 50\n",
      "seed = 125\n"
     ]
    },
    {
     "name": "stderr",
     "output_type": "stream",
     "text": [
      "100%|██████████| 50/50 [00:00<00:00, 8331.95it/s]\n"
     ]
    },
    {
     "name": "stdout",
     "output_type": "stream",
     "text": [
      "social welfare: 37322.641684826325\n",
      "number of allocated tasks: 50\n",
      "seed = 126\n"
     ]
    },
    {
     "name": "stderr",
     "output_type": "stream",
     "text": [
      "100%|██████████| 50/50 [00:00<00:00, 8018.17it/s]\n"
     ]
    },
    {
     "name": "stdout",
     "output_type": "stream",
     "text": [
      "social welfare: 39508.84609789796\n",
      "number of allocated tasks: 50\n",
      "seed = 127\n"
     ]
    },
    {
     "name": "stderr",
     "output_type": "stream",
     "text": [
      "100%|██████████| 50/50 [00:00<00:00, 12324.59it/s]\n"
     ]
    },
    {
     "name": "stdout",
     "output_type": "stream",
     "text": [
      "social welfare: 35308.299363929335\n",
      "number of allocated tasks: 50\n",
      "seed = 128\n"
     ]
    },
    {
     "name": "stderr",
     "output_type": "stream",
     "text": [
      "100%|██████████| 50/50 [00:00<00:00, 11415.56it/s]\n"
     ]
    },
    {
     "name": "stdout",
     "output_type": "stream",
     "text": [
      "social welfare: 39303.217863508115\n",
      "number of allocated tasks: 50\n",
      "seed = 129\n"
     ]
    },
    {
     "name": "stderr",
     "output_type": "stream",
     "text": [
      "100%|██████████| 50/50 [00:00<00:00, 18783.27it/s]\n"
     ]
    },
    {
     "name": "stdout",
     "output_type": "stream",
     "text": [
      "social welfare: 41042.25817478128\n",
      "number of allocated tasks: 50\n",
      "seed = 130\n"
     ]
    },
    {
     "name": "stderr",
     "output_type": "stream",
     "text": [
      "100%|██████████| 50/50 [00:00<00:00, 17506.90it/s]\n"
     ]
    },
    {
     "name": "stdout",
     "output_type": "stream",
     "text": [
      "social welfare: 41901.53769653748\n",
      "number of allocated tasks: 50\n",
      "seed = 131\n"
     ]
    },
    {
     "name": "stderr",
     "output_type": "stream",
     "text": [
      "100%|██████████| 50/50 [00:00<00:00, 9562.06it/s]\n"
     ]
    },
    {
     "name": "stdout",
     "output_type": "stream",
     "text": [
      "social welfare: 44418.210686830826\n",
      "number of allocated tasks: 50\n",
      "seed = 132\n"
     ]
    },
    {
     "name": "stderr",
     "output_type": "stream",
     "text": [
      "100%|██████████| 50/50 [00:00<00:00, 19548.40it/s]\n"
     ]
    },
    {
     "name": "stdout",
     "output_type": "stream",
     "text": [
      "social welfare: 41392.02316792213\n",
      "number of allocated tasks: 50\n",
      "seed = 133\n"
     ]
    },
    {
     "name": "stderr",
     "output_type": "stream",
     "text": [
      "100%|██████████| 50/50 [00:00<00:00, 12581.91it/s]\n"
     ]
    },
    {
     "name": "stdout",
     "output_type": "stream",
     "text": [
      "social welfare: 42687.44035885983\n",
      "number of allocated tasks: 50\n",
      "seed = 134\n"
     ]
    },
    {
     "name": "stderr",
     "output_type": "stream",
     "text": [
      "100%|██████████| 50/50 [00:00<00:00, 19371.44it/s]\n"
     ]
    },
    {
     "name": "stdout",
     "output_type": "stream",
     "text": [
      "social welfare: 42151.58414619122\n",
      "number of allocated tasks: 50\n",
      "seed = 135\n"
     ]
    },
    {
     "name": "stderr",
     "output_type": "stream",
     "text": [
      "100%|██████████| 50/50 [00:00<00:00, 14889.26it/s]\n"
     ]
    },
    {
     "name": "stdout",
     "output_type": "stream",
     "text": [
      "social welfare: 40670.26643271843\n",
      "number of allocated tasks: 50\n",
      "seed = 136\n"
     ]
    },
    {
     "name": "stderr",
     "output_type": "stream",
     "text": [
      "100%|██████████| 50/50 [00:00<00:00, 16287.29it/s]\n"
     ]
    },
    {
     "name": "stdout",
     "output_type": "stream",
     "text": [
      "social welfare: 39900.1316519818\n",
      "number of allocated tasks: 50\n",
      "seed = 137\n"
     ]
    },
    {
     "name": "stderr",
     "output_type": "stream",
     "text": [
      "100%|██████████| 50/50 [00:00<00:00, 9823.19it/s]\n"
     ]
    },
    {
     "name": "stdout",
     "output_type": "stream",
     "text": [
      "social welfare: 39892.24875771156\n",
      "number of allocated tasks: 50\n",
      "seed = 138\n"
     ]
    },
    {
     "name": "stderr",
     "output_type": "stream",
     "text": [
      "100%|██████████| 50/50 [00:00<00:00, 20877.57it/s]\n"
     ]
    },
    {
     "name": "stdout",
     "output_type": "stream",
     "text": [
      "social welfare: 36878.90064948367\n",
      "number of allocated tasks: 50\n",
      "seed = 139\n"
     ]
    },
    {
     "name": "stderr",
     "output_type": "stream",
     "text": [
      "100%|██████████| 50/50 [00:00<00:00, 21185.49it/s]\n"
     ]
    },
    {
     "name": "stdout",
     "output_type": "stream",
     "text": [
      "social welfare: 40725.89941623446\n",
      "number of allocated tasks: 50\n",
      "seed = 140\n"
     ]
    },
    {
     "name": "stderr",
     "output_type": "stream",
     "text": [
      "100%|██████████| 50/50 [00:00<00:00, 20400.31it/s]\n"
     ]
    },
    {
     "name": "stdout",
     "output_type": "stream",
     "text": [
      "social welfare: 35354.56513438833\n",
      "number of allocated tasks: 50\n",
      "seed = 141\n"
     ]
    },
    {
     "name": "stderr",
     "output_type": "stream",
     "text": [
      "100%|██████████| 50/50 [00:00<00:00, 17959.68it/s]\n"
     ]
    },
    {
     "name": "stdout",
     "output_type": "stream",
     "text": [
      "social welfare: 35974.13999563461\n",
      "number of allocated tasks: 50\n",
      "seed = 142\n"
     ]
    },
    {
     "name": "stderr",
     "output_type": "stream",
     "text": [
      "100%|██████████| 50/50 [00:00<00:00, 18662.92it/s]\n"
     ]
    },
    {
     "name": "stdout",
     "output_type": "stream",
     "text": [
      "social welfare: 36999.26436822277\n",
      "number of allocated tasks: 50\n",
      "seed = 143\n"
     ]
    },
    {
     "name": "stderr",
     "output_type": "stream",
     "text": [
      "100%|██████████| 50/50 [00:00<00:00, 16065.21it/s]\n"
     ]
    },
    {
     "name": "stdout",
     "output_type": "stream",
     "text": [
      "social welfare: 41413.37157095268\n",
      "number of allocated tasks: 50\n",
      "seed = 144\n"
     ]
    },
    {
     "name": "stderr",
     "output_type": "stream",
     "text": [
      "100%|██████████| 50/50 [00:00<00:00, 20194.05it/s]\n"
     ]
    },
    {
     "name": "stdout",
     "output_type": "stream",
     "text": [
      "social welfare: 37560.422417072645\n",
      "number of allocated tasks: 50\n",
      "seed = 145\n"
     ]
    },
    {
     "name": "stderr",
     "output_type": "stream",
     "text": [
      "100%|██████████| 50/50 [00:00<00:00, 20448.05it/s]\n"
     ]
    },
    {
     "name": "stdout",
     "output_type": "stream",
     "text": [
      "social welfare: 37531.520652279425\n",
      "number of allocated tasks: 50\n",
      "seed = 146\n"
     ]
    },
    {
     "name": "stderr",
     "output_type": "stream",
     "text": [
      "100%|██████████| 50/50 [00:00<00:00, 14505.13it/s]\n"
     ]
    },
    {
     "name": "stdout",
     "output_type": "stream",
     "text": [
      "social welfare: 33201.61561200979\n",
      "number of allocated tasks: 50\n",
      "seed = 147\n"
     ]
    },
    {
     "name": "stderr",
     "output_type": "stream",
     "text": [
      "100%|██████████| 50/50 [00:00<00:00, 24488.00it/s]\n"
     ]
    },
    {
     "name": "stdout",
     "output_type": "stream",
     "text": [
      "social welfare: 40078.01993630777\n",
      "number of allocated tasks: 50\n",
      "seed = 148\n"
     ]
    },
    {
     "name": "stderr",
     "output_type": "stream",
     "text": [
      "100%|██████████| 50/50 [00:00<00:00, 18328.54it/s]\n"
     ]
    },
    {
     "name": "stdout",
     "output_type": "stream",
     "text": [
      "social welfare: 37708.97289593156\n",
      "number of allocated tasks: 50\n",
      "seed = 149\n"
     ]
    },
    {
     "name": "stderr",
     "output_type": "stream",
     "text": [
      "100%|██████████| 50/50 [00:00<00:00, 19298.35it/s]\n"
     ]
    },
    {
     "name": "stdout",
     "output_type": "stream",
     "text": [
      "social welfare: 34824.25016969994\n",
      "number of allocated tasks: 50\n",
      "seed = 150\n"
     ]
    },
    {
     "name": "stderr",
     "output_type": "stream",
     "text": [
      "100%|██████████| 50/50 [00:00<00:00, 20143.62it/s]\n"
     ]
    },
    {
     "name": "stdout",
     "output_type": "stream",
     "text": [
      "social welfare: 36468.38037903128\n",
      "number of allocated tasks: 50\n",
      "seed = 151\n"
     ]
    },
    {
     "name": "stderr",
     "output_type": "stream",
     "text": [
      "100%|██████████| 50/50 [00:00<00:00, 15417.97it/s]\n"
     ]
    },
    {
     "name": "stdout",
     "output_type": "stream",
     "text": [
      "social welfare: 39151.670255127356\n",
      "number of allocated tasks: 50\n",
      "seed = 152\n"
     ]
    },
    {
     "name": "stderr",
     "output_type": "stream",
     "text": [
      "100%|██████████| 50/50 [00:00<00:00, 22957.33it/s]\n"
     ]
    },
    {
     "name": "stdout",
     "output_type": "stream",
     "text": [
      "social welfare: 36594.387125853485\n",
      "number of allocated tasks: 50\n",
      "seed = 153\n"
     ]
    },
    {
     "name": "stderr",
     "output_type": "stream",
     "text": [
      "100%|██████████| 50/50 [00:00<00:00, 21104.48it/s]\n"
     ]
    },
    {
     "name": "stdout",
     "output_type": "stream",
     "text": [
      "social welfare: 38905.40889790021\n",
      "number of allocated tasks: 50\n",
      "seed = 154\n"
     ]
    },
    {
     "name": "stderr",
     "output_type": "stream",
     "text": [
      "100%|██████████| 50/50 [00:00<00:00, 13354.25it/s]\n"
     ]
    },
    {
     "name": "stdout",
     "output_type": "stream",
     "text": [
      "social welfare: 33543.602543114124\n",
      "number of allocated tasks: 50\n",
      "seed = 155\n"
     ]
    },
    {
     "name": "stderr",
     "output_type": "stream",
     "text": [
      "100%|██████████| 50/50 [00:00<00:00, 16392.96it/s]\n"
     ]
    },
    {
     "name": "stdout",
     "output_type": "stream",
     "text": [
      "social welfare: 39056.150283340896\n",
      "number of allocated tasks: 50\n",
      "seed = 156\n"
     ]
    },
    {
     "name": "stderr",
     "output_type": "stream",
     "text": [
      "100%|██████████| 50/50 [00:00<00:00, 17216.58it/s]\n"
     ]
    },
    {
     "name": "stdout",
     "output_type": "stream",
     "text": [
      "social welfare: 38196.302924645526\n",
      "number of allocated tasks: 50\n",
      "seed = 157\n"
     ]
    },
    {
     "name": "stderr",
     "output_type": "stream",
     "text": [
      "100%|██████████| 50/50 [00:00<00:00, 18512.99it/s]\n"
     ]
    },
    {
     "name": "stdout",
     "output_type": "stream",
     "text": [
      "social welfare: 35660.85385249318\n",
      "number of allocated tasks: 50\n",
      "seed = 158\n"
     ]
    },
    {
     "name": "stderr",
     "output_type": "stream",
     "text": [
      "100%|██████████| 50/50 [00:00<00:00, 13109.66it/s]\n"
     ]
    },
    {
     "name": "stdout",
     "output_type": "stream",
     "text": [
      "social welfare: 39027.37443446836\n",
      "number of allocated tasks: 50\n",
      "seed = 159\n"
     ]
    },
    {
     "name": "stderr",
     "output_type": "stream",
     "text": [
      "100%|██████████| 50/50 [00:00<00:00, 20195.99it/s]\n"
     ]
    },
    {
     "name": "stdout",
     "output_type": "stream",
     "text": [
      "social welfare: 32058.258896654752\n",
      "number of allocated tasks: 50\n",
      "seed = 160\n"
     ]
    },
    {
     "name": "stderr",
     "output_type": "stream",
     "text": [
      "100%|██████████| 50/50 [00:00<00:00, 16171.75it/s]\n"
     ]
    },
    {
     "name": "stdout",
     "output_type": "stream",
     "text": [
      "social welfare: 37987.19220546069\n",
      "number of allocated tasks: 50\n",
      "seed = 161\n"
     ]
    },
    {
     "name": "stderr",
     "output_type": "stream",
     "text": [
      "100%|██████████| 50/50 [00:00<00:00, 17253.41it/s]\n"
     ]
    },
    {
     "name": "stdout",
     "output_type": "stream",
     "text": [
      "social welfare: 38975.75759519708\n",
      "number of allocated tasks: 50\n",
      "seed = 162\n"
     ]
    },
    {
     "name": "stderr",
     "output_type": "stream",
     "text": [
      "100%|██████████| 50/50 [00:00<00:00, 19645.45it/s]\n"
     ]
    },
    {
     "name": "stdout",
     "output_type": "stream",
     "text": [
      "social welfare: 38726.29461229164\n",
      "number of allocated tasks: 50\n",
      "seed = 163\n"
     ]
    },
    {
     "name": "stderr",
     "output_type": "stream",
     "text": [
      "100%|██████████| 50/50 [00:00<00:00, 19254.06it/s]\n"
     ]
    },
    {
     "name": "stdout",
     "output_type": "stream",
     "text": [
      "social welfare: 39408.551367293214\n",
      "number of allocated tasks: 50\n",
      "seed = 164\n"
     ]
    },
    {
     "name": "stderr",
     "output_type": "stream",
     "text": [
      "100%|██████████| 50/50 [00:00<00:00, 17105.64it/s]\n"
     ]
    },
    {
     "name": "stdout",
     "output_type": "stream",
     "text": [
      "social welfare: 35536.10323257599\n",
      "number of allocated tasks: 50\n",
      "seed = 165\n"
     ]
    },
    {
     "name": "stderr",
     "output_type": "stream",
     "text": [
      "100%|██████████| 50/50 [00:00<00:00, 18519.53it/s]\n"
     ]
    },
    {
     "name": "stdout",
     "output_type": "stream",
     "text": [
      "social welfare: 36630.90029783346\n",
      "number of allocated tasks: 50\n",
      "seed = 166\n"
     ]
    },
    {
     "name": "stderr",
     "output_type": "stream",
     "text": [
      "100%|██████████| 50/50 [00:00<00:00, 19592.23it/s]\n"
     ]
    },
    {
     "name": "stdout",
     "output_type": "stream",
     "text": [
      "social welfare: 45559.96820508064\n",
      "number of allocated tasks: 50\n",
      "seed = 167\n"
     ]
    },
    {
     "name": "stderr",
     "output_type": "stream",
     "text": [
      "100%|██████████| 50/50 [00:00<00:00, 16292.36it/s]\n"
     ]
    },
    {
     "name": "stdout",
     "output_type": "stream",
     "text": [
      "social welfare: 40081.58048918589\n",
      "number of allocated tasks: 50\n",
      "seed = 168\n"
     ]
    },
    {
     "name": "stderr",
     "output_type": "stream",
     "text": [
      "100%|██████████| 50/50 [00:00<00:00, 11212.92it/s]\n"
     ]
    },
    {
     "name": "stdout",
     "output_type": "stream",
     "text": [
      "social welfare: 36049.81959294708\n",
      "number of allocated tasks: 50\n",
      "seed = 169\n"
     ]
    },
    {
     "name": "stderr",
     "output_type": "stream",
     "text": [
      "100%|██████████| 50/50 [00:00<00:00, 20875.49it/s]\n"
     ]
    },
    {
     "name": "stdout",
     "output_type": "stream",
     "text": [
      "social welfare: 39828.782425347956\n",
      "number of allocated tasks: 50\n",
      "seed = 170\n"
     ]
    },
    {
     "name": "stderr",
     "output_type": "stream",
     "text": [
      "100%|██████████| 50/50 [00:00<00:00, 19723.05it/s]\n"
     ]
    },
    {
     "name": "stdout",
     "output_type": "stream",
     "text": [
      "social welfare: 35091.60551506814\n",
      "number of allocated tasks: 50\n",
      "seed = 171\n"
     ]
    },
    {
     "name": "stderr",
     "output_type": "stream",
     "text": [
      "100%|██████████| 50/50 [00:00<00:00, 12497.18it/s]\n"
     ]
    },
    {
     "name": "stdout",
     "output_type": "stream",
     "text": [
      "social welfare: 43771.04567438815\n",
      "number of allocated tasks: 50\n",
      "seed = 172\n"
     ]
    },
    {
     "name": "stderr",
     "output_type": "stream",
     "text": [
      "100%|██████████| 50/50 [00:00<00:00, 15863.48it/s]\n"
     ]
    },
    {
     "name": "stdout",
     "output_type": "stream",
     "text": [
      "social welfare: 39214.08254987101\n",
      "number of allocated tasks: 50\n",
      "seed = 173\n"
     ]
    },
    {
     "name": "stderr",
     "output_type": "stream",
     "text": [
      "100%|██████████| 50/50 [00:00<00:00, 17657.25it/s]\n"
     ]
    },
    {
     "name": "stdout",
     "output_type": "stream",
     "text": [
      "social welfare: 38925.36386152018\n",
      "number of allocated tasks: 50\n",
      "seed = 174\n"
     ]
    },
    {
     "name": "stderr",
     "output_type": "stream",
     "text": [
      "100%|██████████| 50/50 [00:00<00:00, 23299.10it/s]\n"
     ]
    },
    {
     "name": "stdout",
     "output_type": "stream",
     "text": [
      "social welfare: 38505.54552480007\n",
      "number of allocated tasks: 50\n",
      "seed = 175\n"
     ]
    },
    {
     "name": "stderr",
     "output_type": "stream",
     "text": [
      "100%|██████████| 50/50 [00:00<00:00, 17617.20it/s]\n"
     ]
    },
    {
     "name": "stdout",
     "output_type": "stream",
     "text": [
      "social welfare: 39587.583541919936\n",
      "number of allocated tasks: 50\n",
      "seed = 176\n"
     ]
    },
    {
     "name": "stderr",
     "output_type": "stream",
     "text": [
      "100%|██████████| 50/50 [00:00<00:00, 16762.47it/s]\n"
     ]
    },
    {
     "name": "stdout",
     "output_type": "stream",
     "text": [
      "social welfare: 42199.29631694922\n",
      "number of allocated tasks: 50\n",
      "seed = 177\n"
     ]
    },
    {
     "name": "stderr",
     "output_type": "stream",
     "text": [
      "100%|██████████| 50/50 [00:00<00:00, 18699.53it/s]\n"
     ]
    },
    {
     "name": "stdout",
     "output_type": "stream",
     "text": [
      "social welfare: 43071.91427165481\n",
      "number of allocated tasks: 50\n",
      "seed = 178\n"
     ]
    },
    {
     "name": "stderr",
     "output_type": "stream",
     "text": [
      "100%|██████████| 50/50 [00:00<00:00, 21900.08it/s]\n"
     ]
    },
    {
     "name": "stdout",
     "output_type": "stream",
     "text": [
      "social welfare: 44472.55050871022\n",
      "number of allocated tasks: 50\n",
      "seed = 179\n"
     ]
    },
    {
     "name": "stderr",
     "output_type": "stream",
     "text": [
      "100%|██████████| 50/50 [00:00<00:00, 15522.96it/s]\n"
     ]
    },
    {
     "name": "stdout",
     "output_type": "stream",
     "text": [
      "social welfare: 42236.31758482853\n",
      "number of allocated tasks: 50\n",
      "seed = 180\n"
     ]
    },
    {
     "name": "stderr",
     "output_type": "stream",
     "text": [
      "100%|██████████| 50/50 [00:00<00:00, 23640.54it/s]\n"
     ]
    },
    {
     "name": "stdout",
     "output_type": "stream",
     "text": [
      "social welfare: 43279.48604255589\n",
      "number of allocated tasks: 50\n",
      "seed = 181\n"
     ]
    },
    {
     "name": "stderr",
     "output_type": "stream",
     "text": [
      "100%|██████████| 50/50 [00:00<00:00, 14929.54it/s]\n"
     ]
    },
    {
     "name": "stdout",
     "output_type": "stream",
     "text": [
      "social welfare: 39213.07758679846\n",
      "number of allocated tasks: 50\n",
      "seed = 182\n"
     ]
    },
    {
     "name": "stderr",
     "output_type": "stream",
     "text": [
      "100%|██████████| 50/50 [00:00<00:00, 18188.66it/s]\n"
     ]
    },
    {
     "name": "stdout",
     "output_type": "stream",
     "text": [
      "social welfare: 35499.2788164949\n",
      "number of allocated tasks: 50\n",
      "seed = 183\n"
     ]
    },
    {
     "name": "stderr",
     "output_type": "stream",
     "text": [
      "100%|██████████| 50/50 [00:00<00:00, 16594.02it/s]\n"
     ]
    },
    {
     "name": "stdout",
     "output_type": "stream",
     "text": [
      "social welfare: 33401.46621775542\n",
      "number of allocated tasks: 50\n",
      "seed = 184\n"
     ]
    },
    {
     "name": "stderr",
     "output_type": "stream",
     "text": [
      "100%|██████████| 50/50 [00:00<00:00, 16604.53it/s]\n"
     ]
    },
    {
     "name": "stdout",
     "output_type": "stream",
     "text": [
      "social welfare: 39553.59828716697\n",
      "number of allocated tasks: 50\n",
      "seed = 185\n"
     ]
    },
    {
     "name": "stderr",
     "output_type": "stream",
     "text": [
      "100%|██████████| 50/50 [00:00<00:00, 15029.04it/s]\n"
     ]
    },
    {
     "name": "stdout",
     "output_type": "stream",
     "text": [
      "social welfare: 35715.6918382885\n",
      "number of allocated tasks: 50\n",
      "seed = 186\n"
     ]
    },
    {
     "name": "stderr",
     "output_type": "stream",
     "text": [
      "100%|██████████| 50/50 [00:00<00:00, 19553.86it/s]\n"
     ]
    },
    {
     "name": "stdout",
     "output_type": "stream",
     "text": [
      "social welfare: 34102.8602829309\n",
      "number of allocated tasks: 50\n",
      "seed = 187\n"
     ]
    },
    {
     "name": "stderr",
     "output_type": "stream",
     "text": [
      "100%|██████████| 50/50 [00:00<00:00, 21140.65it/s]\n"
     ]
    },
    {
     "name": "stdout",
     "output_type": "stream",
     "text": [
      "social welfare: 38106.01389640485\n",
      "number of allocated tasks: 50\n",
      "seed = 188\n"
     ]
    },
    {
     "name": "stderr",
     "output_type": "stream",
     "text": [
      "100%|██████████| 50/50 [00:00<00:00, 21224.09it/s]\n"
     ]
    },
    {
     "name": "stdout",
     "output_type": "stream",
     "text": [
      "social welfare: 37882.58467646241\n",
      "number of allocated tasks: 50\n",
      "seed = 189\n"
     ]
    },
    {
     "name": "stderr",
     "output_type": "stream",
     "text": [
      "100%|██████████| 50/50 [00:00<00:00, 17939.71it/s]\n"
     ]
    },
    {
     "name": "stdout",
     "output_type": "stream",
     "text": [
      "social welfare: 39839.1434121456\n",
      "number of allocated tasks: 50\n",
      "seed = 190\n"
     ]
    },
    {
     "name": "stderr",
     "output_type": "stream",
     "text": [
      "100%|██████████| 50/50 [00:00<00:00, 18082.01it/s]\n"
     ]
    },
    {
     "name": "stdout",
     "output_type": "stream",
     "text": [
      "social welfare: 38620.191342534636\n",
      "number of allocated tasks: 50\n",
      "seed = 191\n"
     ]
    },
    {
     "name": "stderr",
     "output_type": "stream",
     "text": [
      "100%|██████████| 50/50 [00:00<00:00, 12008.43it/s]\n"
     ]
    },
    {
     "name": "stdout",
     "output_type": "stream",
     "text": [
      "social welfare: 39711.513649789005\n",
      "number of allocated tasks: 50\n",
      "seed = 192\n"
     ]
    },
    {
     "name": "stderr",
     "output_type": "stream",
     "text": [
      "100%|██████████| 50/50 [00:00<00:00, 17597.99it/s]\n"
     ]
    },
    {
     "name": "stdout",
     "output_type": "stream",
     "text": [
      "social welfare: 40398.576306726834\n",
      "number of allocated tasks: 50\n",
      "seed = 193\n"
     ]
    },
    {
     "name": "stderr",
     "output_type": "stream",
     "text": [
      "100%|██████████| 50/50 [00:00<00:00, 15698.42it/s]\n"
     ]
    },
    {
     "name": "stdout",
     "output_type": "stream",
     "text": [
      "social welfare: 34595.86736200999\n",
      "number of allocated tasks: 50\n",
      "seed = 194\n"
     ]
    },
    {
     "name": "stderr",
     "output_type": "stream",
     "text": [
      "100%|██████████| 50/50 [00:00<00:00, 18136.75it/s]\n"
     ]
    },
    {
     "name": "stdout",
     "output_type": "stream",
     "text": [
      "social welfare: 41423.36922663397\n",
      "number of allocated tasks: 50\n",
      "seed = 195\n"
     ]
    },
    {
     "name": "stderr",
     "output_type": "stream",
     "text": [
      "100%|██████████| 50/50 [00:00<00:00, 16904.34it/s]\n"
     ]
    },
    {
     "name": "stdout",
     "output_type": "stream",
     "text": [
      "social welfare: 36688.07374810308\n",
      "number of allocated tasks: 50\n",
      "seed = 196\n"
     ]
    },
    {
     "name": "stderr",
     "output_type": "stream",
     "text": [
      "100%|██████████| 50/50 [00:00<00:00, 20283.90it/s]\n"
     ]
    },
    {
     "name": "stdout",
     "output_type": "stream",
     "text": [
      "social welfare: 40395.79666718042\n",
      "number of allocated tasks: 50\n",
      "seed = 197\n"
     ]
    },
    {
     "name": "stderr",
     "output_type": "stream",
     "text": [
      "100%|██████████| 50/50 [00:00<00:00, 15235.39it/s]\n"
     ]
    },
    {
     "name": "stdout",
     "output_type": "stream",
     "text": [
      "social welfare: 40860.22808201334\n",
      "number of allocated tasks: 50\n",
      "seed = 198\n"
     ]
    },
    {
     "name": "stderr",
     "output_type": "stream",
     "text": [
      "100%|██████████| 50/50 [00:00<00:00, 18796.74it/s]\n"
     ]
    },
    {
     "name": "stdout",
     "output_type": "stream",
     "text": [
      "social welfare: 38608.178009257885\n",
      "number of allocated tasks: 50\n",
      "seed = 199\n"
     ]
    },
    {
     "name": "stderr",
     "output_type": "stream",
     "text": [
      "100%|██████████| 50/50 [00:00<00:00, 18402.53it/s]\n"
     ]
    },
    {
     "name": "stdout",
     "output_type": "stream",
     "text": [
      "social welfare: 39049.13570805895\n",
      "number of allocated tasks: 50\n",
      "seed = 200\n"
     ]
    },
    {
     "name": "stderr",
     "output_type": "stream",
     "text": [
      "100%|██████████| 50/50 [00:00<00:00, 19555.69it/s]\n"
     ]
    },
    {
     "name": "stdout",
     "output_type": "stream",
     "text": [
      "social welfare: 39234.83578446157\n",
      "number of allocated tasks: 50\n",
      "seed = 201\n"
     ]
    },
    {
     "name": "stderr",
     "output_type": "stream",
     "text": [
      "100%|██████████| 50/50 [00:00<00:00, 19215.25it/s]\n"
     ]
    },
    {
     "name": "stdout",
     "output_type": "stream",
     "text": [
      "social welfare: 40547.64820073078\n",
      "number of allocated tasks: 50\n",
      "seed = 202\n"
     ]
    },
    {
     "name": "stderr",
     "output_type": "stream",
     "text": [
      "100%|██████████| 50/50 [00:00<00:00, 18874.56it/s]\n"
     ]
    },
    {
     "name": "stdout",
     "output_type": "stream",
     "text": [
      "social welfare: 42661.432251994185\n",
      "number of allocated tasks: 50\n",
      "seed = 203\n"
     ]
    },
    {
     "name": "stderr",
     "output_type": "stream",
     "text": [
      "100%|██████████| 50/50 [00:00<00:00, 16974.12it/s]\n"
     ]
    },
    {
     "name": "stdout",
     "output_type": "stream",
     "text": [
      "social welfare: 40881.01346181858\n",
      "number of allocated tasks: 50\n",
      "seed = 204\n"
     ]
    },
    {
     "name": "stderr",
     "output_type": "stream",
     "text": [
      "100%|██████████| 50/50 [00:00<00:00, 16387.84it/s]\n"
     ]
    },
    {
     "name": "stdout",
     "output_type": "stream",
     "text": [
      "social welfare: 38017.86149274294\n",
      "number of allocated tasks: 50\n",
      "seed = 205\n"
     ]
    },
    {
     "name": "stderr",
     "output_type": "stream",
     "text": [
      "100%|██████████| 50/50 [00:00<00:00, 18684.53it/s]\n"
     ]
    },
    {
     "name": "stdout",
     "output_type": "stream",
     "text": [
      "social welfare: 38779.180744538244\n",
      "number of allocated tasks: 50\n",
      "seed = 206\n"
     ]
    },
    {
     "name": "stderr",
     "output_type": "stream",
     "text": [
      "100%|██████████| 50/50 [00:00<00:00, 22243.87it/s]\n"
     ]
    },
    {
     "name": "stdout",
     "output_type": "stream",
     "text": [
      "social welfare: 42474.00334277045\n",
      "number of allocated tasks: 50\n",
      "seed = 207\n"
     ]
    },
    {
     "name": "stderr",
     "output_type": "stream",
     "text": [
      "100%|██████████| 50/50 [00:00<00:00, 18180.77it/s]\n"
     ]
    },
    {
     "name": "stdout",
     "output_type": "stream",
     "text": [
      "social welfare: 40797.73465930407\n",
      "number of allocated tasks: 50\n",
      "seed = 208\n"
     ]
    },
    {
     "name": "stderr",
     "output_type": "stream",
     "text": [
      "100%|██████████| 50/50 [00:00<00:00, 17087.53it/s]\n"
     ]
    },
    {
     "name": "stdout",
     "output_type": "stream",
     "text": [
      "social welfare: 37572.58330246083\n",
      "number of allocated tasks: 50\n",
      "seed = 209\n"
     ]
    },
    {
     "name": "stderr",
     "output_type": "stream",
     "text": [
      "100%|██████████| 50/50 [00:00<00:00, 12900.79it/s]\n"
     ]
    },
    {
     "name": "stdout",
     "output_type": "stream",
     "text": [
      "social welfare: 40805.936087316564\n",
      "number of allocated tasks: 50\n",
      "seed = 210\n"
     ]
    },
    {
     "name": "stderr",
     "output_type": "stream",
     "text": [
      "100%|██████████| 50/50 [00:00<00:00, 16124.50it/s]\n"
     ]
    },
    {
     "name": "stdout",
     "output_type": "stream",
     "text": [
      "social welfare: 38779.49953888978\n",
      "number of allocated tasks: 50\n",
      "seed = 211\n"
     ]
    },
    {
     "name": "stderr",
     "output_type": "stream",
     "text": [
      "100%|██████████| 50/50 [00:00<00:00, 15174.76it/s]\n"
     ]
    },
    {
     "name": "stdout",
     "output_type": "stream",
     "text": [
      "social welfare: 36829.37745358892\n",
      "number of allocated tasks: 50\n",
      "seed = 212\n"
     ]
    },
    {
     "name": "stderr",
     "output_type": "stream",
     "text": [
      "100%|██████████| 50/50 [00:00<00:00, 21671.51it/s]\n"
     ]
    },
    {
     "name": "stdout",
     "output_type": "stream",
     "text": [
      "social welfare: 40680.73750548295\n",
      "number of allocated tasks: 50\n",
      "seed = 213\n"
     ]
    },
    {
     "name": "stderr",
     "output_type": "stream",
     "text": [
      "100%|██████████| 50/50 [00:00<00:00, 13531.76it/s]\n"
     ]
    },
    {
     "name": "stdout",
     "output_type": "stream",
     "text": [
      "social welfare: 35378.69274088486\n",
      "number of allocated tasks: 50\n",
      "seed = 214\n"
     ]
    },
    {
     "name": "stderr",
     "output_type": "stream",
     "text": [
      "100%|██████████| 50/50 [00:00<00:00, 18699.53it/s]\n"
     ]
    },
    {
     "name": "stdout",
     "output_type": "stream",
     "text": [
      "social welfare: 37670.237513610475\n",
      "number of allocated tasks: 50\n",
      "seed = 215\n"
     ]
    },
    {
     "name": "stderr",
     "output_type": "stream",
     "text": [
      "100%|██████████| 50/50 [00:00<00:00, 23518.58it/s]\n"
     ]
    },
    {
     "name": "stdout",
     "output_type": "stream",
     "text": [
      "social welfare: 40285.407574370394\n",
      "number of allocated tasks: 50\n",
      "seed = 216\n"
     ]
    },
    {
     "name": "stderr",
     "output_type": "stream",
     "text": [
      "100%|██████████| 50/50 [00:00<00:00, 21295.21it/s]\n"
     ]
    },
    {
     "name": "stdout",
     "output_type": "stream",
     "text": [
      "social welfare: 39802.63012896876\n",
      "number of allocated tasks: 50\n",
      "seed = 217\n"
     ]
    },
    {
     "name": "stderr",
     "output_type": "stream",
     "text": [
      "100%|██████████| 50/50 [00:00<00:00, 16657.28it/s]\n"
     ]
    },
    {
     "name": "stdout",
     "output_type": "stream",
     "text": [
      "social welfare: 44773.432480139476\n",
      "number of allocated tasks: 50\n",
      "seed = 218\n"
     ]
    },
    {
     "name": "stderr",
     "output_type": "stream",
     "text": [
      "100%|██████████| 50/50 [00:00<00:00, 17349.04it/s]\n"
     ]
    },
    {
     "name": "stdout",
     "output_type": "stream",
     "text": [
      "social welfare: 39903.81837534406\n",
      "number of allocated tasks: 50\n",
      "seed = 219\n"
     ]
    },
    {
     "name": "stderr",
     "output_type": "stream",
     "text": [
      "100%|██████████| 50/50 [00:00<00:00, 21151.31it/s]\n"
     ]
    },
    {
     "name": "stdout",
     "output_type": "stream",
     "text": [
      "social welfare: 37560.90526473773\n",
      "number of allocated tasks: 50\n",
      "seed = 220\n"
     ]
    },
    {
     "name": "stderr",
     "output_type": "stream",
     "text": [
      "100%|██████████| 50/50 [00:00<00:00, 18428.40it/s]\n"
     ]
    },
    {
     "name": "stdout",
     "output_type": "stream",
     "text": [
      "social welfare: 35109.886674016285\n",
      "number of allocated tasks: 50\n",
      "seed = 221\n"
     ]
    },
    {
     "name": "stderr",
     "output_type": "stream",
     "text": [
      "100%|██████████| 50/50 [00:00<00:00, 22812.49it/s]\n"
     ]
    },
    {
     "name": "stdout",
     "output_type": "stream",
     "text": [
      "social welfare: 38071.07275353479\n",
      "number of allocated tasks: 50\n",
      "seed = 222\n"
     ]
    },
    {
     "name": "stderr",
     "output_type": "stream",
     "text": [
      "100%|██████████| 50/50 [00:00<00:00, 14731.33it/s]\n"
     ]
    },
    {
     "name": "stdout",
     "output_type": "stream",
     "text": [
      "social welfare: 39127.50728569769\n",
      "number of allocated tasks: 50\n",
      "seed = 223\n"
     ]
    },
    {
     "name": "stderr",
     "output_type": "stream",
     "text": [
      "100%|██████████| 50/50 [00:00<00:00, 14854.46it/s]\n"
     ]
    },
    {
     "name": "stdout",
     "output_type": "stream",
     "text": [
      "social welfare: 38899.587362181024\n",
      "number of allocated tasks: 50\n",
      "seed = 224\n"
     ]
    },
    {
     "name": "stderr",
     "output_type": "stream",
     "text": [
      "100%|██████████| 50/50 [00:00<00:00, 15783.49it/s]\n"
     ]
    },
    {
     "name": "stdout",
     "output_type": "stream",
     "text": [
      "social welfare: 40368.52148564569\n",
      "number of allocated tasks: 50\n",
      "seed = 225\n"
     ]
    },
    {
     "name": "stderr",
     "output_type": "stream",
     "text": [
      "100%|██████████| 50/50 [00:00<00:00, 19914.08it/s]\n"
     ]
    },
    {
     "name": "stdout",
     "output_type": "stream",
     "text": [
      "social welfare: 39029.263802856534\n",
      "number of allocated tasks: 50\n",
      "seed = 226\n"
     ]
    },
    {
     "name": "stderr",
     "output_type": "stream",
     "text": [
      "100%|██████████| 50/50 [00:00<00:00, 19321.47it/s]\n"
     ]
    },
    {
     "name": "stdout",
     "output_type": "stream",
     "text": [
      "social welfare: 43081.780150937106\n",
      "number of allocated tasks: 50\n",
      "seed = 227\n"
     ]
    },
    {
     "name": "stderr",
     "output_type": "stream",
     "text": [
      "100%|██████████| 50/50 [00:00<00:00, 18396.07it/s]\n"
     ]
    },
    {
     "name": "stdout",
     "output_type": "stream",
     "text": [
      "social welfare: 37310.2519778274\n",
      "number of allocated tasks: 50\n",
      "seed = 228\n"
     ]
    },
    {
     "name": "stderr",
     "output_type": "stream",
     "text": [
      "100%|██████████| 50/50 [00:00<00:00, 21646.90it/s]\n"
     ]
    },
    {
     "name": "stdout",
     "output_type": "stream",
     "text": [
      "social welfare: 44136.514552576984\n",
      "number of allocated tasks: 50\n",
      "seed = 229\n"
     ]
    },
    {
     "name": "stderr",
     "output_type": "stream",
     "text": [
      "100%|██████████| 50/50 [00:00<00:00, 19104.96it/s]\n"
     ]
    },
    {
     "name": "stdout",
     "output_type": "stream",
     "text": [
      "social welfare: 38953.64101293863\n",
      "number of allocated tasks: 50\n",
      "seed = 230\n"
     ]
    },
    {
     "name": "stderr",
     "output_type": "stream",
     "text": [
      "100%|██████████| 50/50 [00:00<00:00, 17693.01it/s]\n"
     ]
    },
    {
     "name": "stdout",
     "output_type": "stream",
     "text": [
      "social welfare: 37228.43481177599\n",
      "number of allocated tasks: 50\n",
      "seed = 231\n"
     ]
    },
    {
     "name": "stderr",
     "output_type": "stream",
     "text": [
      "100%|██████████| 50/50 [00:00<00:00, 20921.31it/s]\n"
     ]
    },
    {
     "name": "stdout",
     "output_type": "stream",
     "text": [
      "social welfare: 42395.66976345068\n",
      "number of allocated tasks: 50\n",
      "seed = 232\n"
     ]
    },
    {
     "name": "stderr",
     "output_type": "stream",
     "text": [
      "100%|██████████| 50/50 [00:00<00:00, 19754.63it/s]\n"
     ]
    },
    {
     "name": "stdout",
     "output_type": "stream",
     "text": [
      "social welfare: 37170.207607882\n",
      "number of allocated tasks: 50\n",
      "seed = 233\n"
     ]
    },
    {
     "name": "stderr",
     "output_type": "stream",
     "text": [
      "100%|██████████| 50/50 [00:00<00:00, 18903.48it/s]\n"
     ]
    },
    {
     "name": "stdout",
     "output_type": "stream",
     "text": [
      "social welfare: 38588.70404468989\n",
      "number of allocated tasks: 50\n",
      "seed = 234\n"
     ]
    },
    {
     "name": "stderr",
     "output_type": "stream",
     "text": [
      "100%|██████████| 50/50 [00:00<00:00, 13394.34it/s]\n"
     ]
    },
    {
     "name": "stdout",
     "output_type": "stream",
     "text": [
      "social welfare: 36998.30585517212\n",
      "number of allocated tasks: 50\n",
      "seed = 235\n"
     ]
    },
    {
     "name": "stderr",
     "output_type": "stream",
     "text": [
      "100%|██████████| 50/50 [00:00<00:00, 17001.64it/s]\n"
     ]
    },
    {
     "name": "stdout",
     "output_type": "stream",
     "text": [
      "social welfare: 43177.64136586618\n",
      "number of allocated tasks: 50\n",
      "seed = 236\n"
     ]
    },
    {
     "name": "stderr",
     "output_type": "stream",
     "text": [
      "100%|██████████| 50/50 [00:00<00:00, 15512.63it/s]\n"
     ]
    },
    {
     "name": "stdout",
     "output_type": "stream",
     "text": [
      "social welfare: 37179.425524100014\n",
      "number of allocated tasks: 50\n",
      "seed = 237\n"
     ]
    },
    {
     "name": "stderr",
     "output_type": "stream",
     "text": [
      "100%|██████████| 50/50 [00:00<00:00, 15441.81it/s]\n"
     ]
    },
    {
     "name": "stdout",
     "output_type": "stream",
     "text": [
      "social welfare: 37245.63497145907\n",
      "number of allocated tasks: 50\n",
      "seed = 238\n"
     ]
    },
    {
     "name": "stderr",
     "output_type": "stream",
     "text": [
      "100%|██████████| 50/50 [00:00<00:00, 14360.12it/s]\n"
     ]
    },
    {
     "name": "stdout",
     "output_type": "stream",
     "text": [
      "social welfare: 39683.88178490656\n",
      "number of allocated tasks: 50\n",
      "seed = 239\n"
     ]
    },
    {
     "name": "stderr",
     "output_type": "stream",
     "text": [
      "100%|██████████| 50/50 [00:00<00:00, 18128.91it/s]\n"
     ]
    },
    {
     "name": "stdout",
     "output_type": "stream",
     "text": [
      "social welfare: 43466.23773018131\n",
      "number of allocated tasks: 50\n",
      "seed = 240\n"
     ]
    },
    {
     "name": "stderr",
     "output_type": "stream",
     "text": [
      "100%|██████████| 50/50 [00:00<00:00, 17909.07it/s]\n"
     ]
    },
    {
     "name": "stdout",
     "output_type": "stream",
     "text": [
      "social welfare: 40875.50614421986\n",
      "number of allocated tasks: 50\n",
      "seed = 241\n"
     ]
    },
    {
     "name": "stderr",
     "output_type": "stream",
     "text": [
      "100%|██████████| 50/50 [00:00<00:00, 18691.19it/s]\n"
     ]
    },
    {
     "name": "stdout",
     "output_type": "stream",
     "text": [
      "social welfare: 42621.4409558027\n",
      "number of allocated tasks: 50\n",
      "seed = 242\n"
     ]
    },
    {
     "name": "stderr",
     "output_type": "stream",
     "text": [
      "100%|██████████| 50/50 [00:00<00:00, 15806.09it/s]\n"
     ]
    },
    {
     "name": "stdout",
     "output_type": "stream",
     "text": [
      "social welfare: 40435.4165152755\n",
      "number of allocated tasks: 50\n",
      "seed = 243\n"
     ]
    },
    {
     "name": "stderr",
     "output_type": "stream",
     "text": [
      "100%|██████████| 50/50 [00:00<00:00, 18355.82it/s]\n"
     ]
    },
    {
     "name": "stdout",
     "output_type": "stream",
     "text": [
      "social welfare: 42424.86586367306\n",
      "number of allocated tasks: 50\n",
      "seed = 244\n"
     ]
    },
    {
     "name": "stderr",
     "output_type": "stream",
     "text": [
      "100%|██████████| 50/50 [00:00<00:00, 20466.01it/s]\n"
     ]
    },
    {
     "name": "stdout",
     "output_type": "stream",
     "text": [
      "social welfare: 42590.94199866027\n",
      "number of allocated tasks: 50\n",
      "seed = 245\n"
     ]
    },
    {
     "name": "stderr",
     "output_type": "stream",
     "text": [
      "100%|██████████| 50/50 [00:00<00:00, 18071.11it/s]\n"
     ]
    },
    {
     "name": "stdout",
     "output_type": "stream",
     "text": [
      "social welfare: 34470.27270729411\n",
      "number of allocated tasks: 50\n",
      "seed = 246\n"
     ]
    },
    {
     "name": "stderr",
     "output_type": "stream",
     "text": [
      "100%|██████████| 50/50 [00:00<00:00, 16088.62it/s]\n"
     ]
    },
    {
     "name": "stdout",
     "output_type": "stream",
     "text": [
      "social welfare: 35745.70752899708\n",
      "number of allocated tasks: 50\n",
      "seed = 247\n"
     ]
    },
    {
     "name": "stderr",
     "output_type": "stream",
     "text": [
      "100%|██████████| 50/50 [00:00<00:00, 20056.92it/s]\n"
     ]
    },
    {
     "name": "stdout",
     "output_type": "stream",
     "text": [
      "social welfare: 39858.998965343344\n",
      "number of allocated tasks: 50\n",
      "seed = 248\n"
     ]
    },
    {
     "name": "stderr",
     "output_type": "stream",
     "text": [
      "100%|██████████| 50/50 [00:00<00:00, 12876.23it/s]\n"
     ]
    },
    {
     "name": "stdout",
     "output_type": "stream",
     "text": [
      "social welfare: 37872.280319232115\n",
      "number of allocated tasks: 50\n",
      "seed = 249\n"
     ]
    },
    {
     "name": "stderr",
     "output_type": "stream",
     "text": [
      "100%|██████████| 50/50 [00:00<00:00, 17883.11it/s]\n"
     ]
    },
    {
     "name": "stdout",
     "output_type": "stream",
     "text": [
      "social welfare: 34659.085493169296\n",
      "number of allocated tasks: 50\n",
      "seed = 250\n"
     ]
    },
    {
     "name": "stderr",
     "output_type": "stream",
     "text": [
      "100%|██████████| 50/50 [00:00<00:00, 19366.07it/s]\n"
     ]
    },
    {
     "name": "stdout",
     "output_type": "stream",
     "text": [
      "social welfare: 36267.87176696235\n",
      "number of allocated tasks: 50\n",
      "seed = 251\n"
     ]
    },
    {
     "name": "stderr",
     "output_type": "stream",
     "text": [
      "100%|██████████| 50/50 [00:00<00:00, 17458.81it/s]\n"
     ]
    },
    {
     "name": "stdout",
     "output_type": "stream",
     "text": [
      "social welfare: 41949.67229033904\n",
      "number of allocated tasks: 50\n",
      "seed = 252\n"
     ]
    },
    {
     "name": "stderr",
     "output_type": "stream",
     "text": [
      "100%|██████████| 50/50 [00:00<00:00, 21412.62it/s]\n"
     ]
    },
    {
     "name": "stdout",
     "output_type": "stream",
     "text": [
      "social welfare: 45681.42811384226\n",
      "number of allocated tasks: 50\n",
      "seed = 253\n"
     ]
    },
    {
     "name": "stderr",
     "output_type": "stream",
     "text": [
      "100%|██████████| 50/50 [00:00<00:00, 20382.47it/s]\n"
     ]
    },
    {
     "name": "stdout",
     "output_type": "stream",
     "text": [
      "social welfare: 40933.16475239542\n",
      "number of allocated tasks: 50\n",
      "seed = 254\n"
     ]
    },
    {
     "name": "stderr",
     "output_type": "stream",
     "text": [
      "100%|██████████| 50/50 [00:00<00:00, 17693.01it/s]\n"
     ]
    },
    {
     "name": "stdout",
     "output_type": "stream",
     "text": [
      "social welfare: 44509.960509419296\n",
      "number of allocated tasks: 50\n",
      "seed = 255\n"
     ]
    },
    {
     "name": "stderr",
     "output_type": "stream",
     "text": [
      "100%|██████████| 50/50 [00:00<00:00, 19539.29it/s]\n"
     ]
    },
    {
     "name": "stdout",
     "output_type": "stream",
     "text": [
      "social welfare: 38194.27841856781\n",
      "number of allocated tasks: 50\n",
      "seed = 256\n"
     ]
    },
    {
     "name": "stderr",
     "output_type": "stream",
     "text": [
      "100%|██████████| 50/50 [00:00<00:00, 17284.69it/s]\n"
     ]
    },
    {
     "name": "stdout",
     "output_type": "stream",
     "text": [
      "social welfare: 37413.26833948698\n",
      "number of allocated tasks: 50\n",
      "seed = 257\n"
     ]
    },
    {
     "name": "stderr",
     "output_type": "stream",
     "text": [
      "100%|██████████| 50/50 [00:00<00:00, 16426.35it/s]\n"
     ]
    },
    {
     "name": "stdout",
     "output_type": "stream",
     "text": [
      "social welfare: 35921.731750776125\n",
      "number of allocated tasks: 50\n",
      "seed = 258\n"
     ]
    },
    {
     "name": "stderr",
     "output_type": "stream",
     "text": [
      "100%|██████████| 50/50 [00:00<00:00, 20558.30it/s]\n"
     ]
    },
    {
     "name": "stdout",
     "output_type": "stream",
     "text": [
      "social welfare: 40496.80257282543\n",
      "number of allocated tasks: 50\n",
      "seed = 259\n"
     ]
    },
    {
     "name": "stderr",
     "output_type": "stream",
     "text": [
      "100%|██████████| 50/50 [00:00<00:00, 21777.28it/s]\n"
     ]
    },
    {
     "name": "stdout",
     "output_type": "stream",
     "text": [
      "social welfare: 36909.94610515622\n",
      "number of allocated tasks: 50\n",
      "seed = 260\n"
     ]
    },
    {
     "name": "stderr",
     "output_type": "stream",
     "text": [
      "100%|██████████| 50/50 [00:00<00:00, 19289.48it/s]\n"
     ]
    },
    {
     "name": "stdout",
     "output_type": "stream",
     "text": [
      "social welfare: 41492.58381576298\n",
      "number of allocated tasks: 50\n",
      "seed = 261\n"
     ]
    },
    {
     "name": "stderr",
     "output_type": "stream",
     "text": [
      "100%|██████████| 50/50 [00:00<00:00, 21460.83it/s]\n"
     ]
    },
    {
     "name": "stdout",
     "output_type": "stream",
     "text": [
      "social welfare: 36196.722755261784\n",
      "number of allocated tasks: 50\n",
      "seed = 262\n"
     ]
    },
    {
     "name": "stderr",
     "output_type": "stream",
     "text": [
      "100%|██████████| 50/50 [00:00<00:00, 17360.53it/s]\n"
     ]
    },
    {
     "name": "stdout",
     "output_type": "stream",
     "text": [
      "social welfare: 37714.5774742509\n",
      "number of allocated tasks: 50\n",
      "seed = 263\n"
     ]
    },
    {
     "name": "stderr",
     "output_type": "stream",
     "text": [
      "100%|██████████| 50/50 [00:00<00:00, 17731.90it/s]\n"
     ]
    },
    {
     "name": "stdout",
     "output_type": "stream",
     "text": [
      "social welfare: 40098.928543956026\n",
      "number of allocated tasks: 50\n",
      "seed = 264\n"
     ]
    },
    {
     "name": "stderr",
     "output_type": "stream",
     "text": [
      "100%|██████████| 50/50 [00:00<00:00, 17088.92it/s]\n"
     ]
    },
    {
     "name": "stdout",
     "output_type": "stream",
     "text": [
      "social welfare: 39173.41822440388\n",
      "number of allocated tasks: 50\n",
      "seed = 265\n"
     ]
    },
    {
     "name": "stderr",
     "output_type": "stream",
     "text": [
      "100%|██████████| 50/50 [00:00<00:00, 17343.30it/s]\n"
     ]
    },
    {
     "name": "stdout",
     "output_type": "stream",
     "text": [
      "social welfare: 38623.36456268368\n",
      "number of allocated tasks: 50\n",
      "seed = 266\n"
     ]
    },
    {
     "name": "stderr",
     "output_type": "stream",
     "text": [
      "100%|██████████| 50/50 [00:00<00:00, 20168.80it/s]\n"
     ]
    },
    {
     "name": "stdout",
     "output_type": "stream",
     "text": [
      "social welfare: 34632.02560361947\n",
      "number of allocated tasks: 50\n",
      "seed = 267\n"
     ]
    },
    {
     "name": "stderr",
     "output_type": "stream",
     "text": [
      "100%|██████████| 50/50 [00:00<00:00, 19749.05it/s]\n"
     ]
    },
    {
     "name": "stdout",
     "output_type": "stream",
     "text": [
      "social welfare: 36574.61982548625\n",
      "number of allocated tasks: 50\n",
      "seed = 268\n"
     ]
    },
    {
     "name": "stderr",
     "output_type": "stream",
     "text": [
      "100%|██████████| 50/50 [00:00<00:00, 22635.21it/s]\n"
     ]
    },
    {
     "name": "stdout",
     "output_type": "stream",
     "text": [
      "social welfare: 38872.081247746406\n",
      "number of allocated tasks: 50\n",
      "seed = 269\n"
     ]
    },
    {
     "name": "stderr",
     "output_type": "stream",
     "text": [
      "100%|██████████| 50/50 [00:00<00:00, 18089.81it/s]\n"
     ]
    },
    {
     "name": "stdout",
     "output_type": "stream",
     "text": [
      "social welfare: 37099.51184437886\n",
      "number of allocated tasks: 50\n",
      "seed = 270\n"
     ]
    },
    {
     "name": "stderr",
     "output_type": "stream",
     "text": [
      "100%|██████████| 50/50 [00:00<00:00, 17544.98it/s]\n"
     ]
    },
    {
     "name": "stdout",
     "output_type": "stream",
     "text": [
      "social welfare: 38745.887801806384\n",
      "number of allocated tasks: 50\n",
      "seed = 271\n"
     ]
    },
    {
     "name": "stderr",
     "output_type": "stream",
     "text": [
      "100%|██████████| 50/50 [00:00<00:00, 18947.89it/s]\n"
     ]
    },
    {
     "name": "stdout",
     "output_type": "stream",
     "text": [
      "social welfare: 39260.94775713981\n",
      "number of allocated tasks: 50\n",
      "seed = 272\n"
     ]
    },
    {
     "name": "stderr",
     "output_type": "stream",
     "text": [
      "100%|██████████| 50/50 [00:00<00:00, 21941.33it/s]\n"
     ]
    },
    {
     "name": "stdout",
     "output_type": "stream",
     "text": [
      "social welfare: 34750.86189720593\n",
      "number of allocated tasks: 50\n",
      "seed = 273\n"
     ]
    },
    {
     "name": "stderr",
     "output_type": "stream",
     "text": [
      "100%|██████████| 50/50 [00:00<00:00, 19592.23it/s]\n"
     ]
    },
    {
     "name": "stdout",
     "output_type": "stream",
     "text": [
      "social welfare: 37621.99732093357\n",
      "number of allocated tasks: 50\n",
      "seed = 274\n"
     ]
    },
    {
     "name": "stderr",
     "output_type": "stream",
     "text": [
      "100%|██████████| 50/50 [00:00<00:00, 21034.62it/s]\n"
     ]
    },
    {
     "name": "stdout",
     "output_type": "stream",
     "text": [
      "social welfare: 37711.408424175395\n",
      "number of allocated tasks: 50\n",
      "seed = 275\n"
     ]
    },
    {
     "name": "stderr",
     "output_type": "stream",
     "text": [
      "100%|██████████| 50/50 [00:00<00:00, 17247.73it/s]\n"
     ]
    },
    {
     "name": "stdout",
     "output_type": "stream",
     "text": [
      "social welfare: 46022.491384565124\n",
      "number of allocated tasks: 50\n",
      "seed = 276\n"
     ]
    },
    {
     "name": "stderr",
     "output_type": "stream",
     "text": [
      "100%|██████████| 50/50 [00:00<00:00, 16556.03it/s]\n"
     ]
    },
    {
     "name": "stdout",
     "output_type": "stream",
     "text": [
      "social welfare: 40539.637928832235\n",
      "number of allocated tasks: 50\n",
      "seed = 277\n"
     ]
    },
    {
     "name": "stderr",
     "output_type": "stream",
     "text": [
      "100%|██████████| 50/50 [00:00<00:00, 14921.04it/s]\n"
     ]
    },
    {
     "name": "stdout",
     "output_type": "stream",
     "text": [
      "social welfare: 35542.43239116055\n",
      "number of allocated tasks: 50\n",
      "seed = 278\n"
     ]
    },
    {
     "name": "stderr",
     "output_type": "stream",
     "text": [
      "100%|██████████| 50/50 [00:00<00:00, 17524.46it/s]\n"
     ]
    },
    {
     "name": "stdout",
     "output_type": "stream",
     "text": [
      "social welfare: 34525.54776889914\n",
      "number of allocated tasks: 50\n",
      "seed = 279\n"
     ]
    },
    {
     "name": "stderr",
     "output_type": "stream",
     "text": [
      "100%|██████████| 50/50 [00:00<00:00, 15114.61it/s]\n"
     ]
    },
    {
     "name": "stdout",
     "output_type": "stream",
     "text": [
      "social welfare: 39597.935905467544\n",
      "number of allocated tasks: 50\n",
      "seed = 280\n"
     ]
    },
    {
     "name": "stderr",
     "output_type": "stream",
     "text": [
      "100%|██████████| 50/50 [00:00<00:00, 17648.34it/s]\n"
     ]
    },
    {
     "name": "stdout",
     "output_type": "stream",
     "text": [
      "social welfare: 38104.89541734549\n",
      "number of allocated tasks: 50\n",
      "seed = 281\n"
     ]
    },
    {
     "name": "stderr",
     "output_type": "stream",
     "text": [
      "100%|██████████| 50/50 [00:00<00:00, 22810.01it/s]\n"
     ]
    },
    {
     "name": "stdout",
     "output_type": "stream",
     "text": [
      "social welfare: 39163.400555886066\n",
      "number of allocated tasks: 50\n",
      "seed = 282\n"
     ]
    },
    {
     "name": "stderr",
     "output_type": "stream",
     "text": [
      "100%|██████████| 50/50 [00:00<00:00, 18692.86it/s]\n"
     ]
    },
    {
     "name": "stdout",
     "output_type": "stream",
     "text": [
      "social welfare: 37922.242708432896\n",
      "number of allocated tasks: 50\n",
      "seed = 283\n"
     ]
    },
    {
     "name": "stderr",
     "output_type": "stream",
     "text": [
      "100%|██████████| 50/50 [00:00<00:00, 15361.50it/s]\n"
     ]
    },
    {
     "name": "stdout",
     "output_type": "stream",
     "text": [
      "social welfare: 39000.015577177\n",
      "number of allocated tasks: 50\n",
      "seed = 284\n"
     ]
    },
    {
     "name": "stderr",
     "output_type": "stream",
     "text": [
      "100%|██████████| 50/50 [00:00<00:00, 22093.89it/s]\n"
     ]
    },
    {
     "name": "stdout",
     "output_type": "stream",
     "text": [
      "social welfare: 40397.042398353806\n",
      "number of allocated tasks: 50\n",
      "seed = 285\n"
     ]
    },
    {
     "name": "stderr",
     "output_type": "stream",
     "text": [
      "100%|██████████| 50/50 [00:00<00:00, 15963.71it/s]\n"
     ]
    },
    {
     "name": "stdout",
     "output_type": "stream",
     "text": [
      "social welfare: 38890.309078698745\n",
      "number of allocated tasks: 50\n",
      "seed = 286\n"
     ]
    },
    {
     "name": "stderr",
     "output_type": "stream",
     "text": [
      "100%|██████████| 50/50 [00:00<00:00, 16413.49it/s]\n"
     ]
    },
    {
     "name": "stdout",
     "output_type": "stream",
     "text": [
      "social welfare: 39990.2678151666\n",
      "number of allocated tasks: 50\n",
      "seed = 287\n"
     ]
    },
    {
     "name": "stderr",
     "output_type": "stream",
     "text": [
      "100%|██████████| 50/50 [00:00<00:00, 14426.31it/s]\n"
     ]
    },
    {
     "name": "stdout",
     "output_type": "stream",
     "text": [
      "social welfare: 39997.30576263116\n",
      "number of allocated tasks: 50\n",
      "seed = 288\n"
     ]
    },
    {
     "name": "stderr",
     "output_type": "stream",
     "text": [
      "100%|██████████| 50/50 [00:00<00:00, 17018.19it/s]\n"
     ]
    },
    {
     "name": "stdout",
     "output_type": "stream",
     "text": [
      "social welfare: 43112.39640639084\n",
      "number of allocated tasks: 50\n",
      "seed = 289\n"
     ]
    },
    {
     "name": "stderr",
     "output_type": "stream",
     "text": [
      "100%|██████████| 50/50 [00:00<00:00, 15234.29it/s]\n"
     ]
    },
    {
     "name": "stdout",
     "output_type": "stream",
     "text": [
      "social welfare: 36436.08680300355\n",
      "number of allocated tasks: 50\n",
      "seed = 290\n"
     ]
    },
    {
     "name": "stderr",
     "output_type": "stream",
     "text": [
      "100%|██████████| 50/50 [00:00<00:00, 17993.58it/s]\n"
     ]
    },
    {
     "name": "stdout",
     "output_type": "stream",
     "text": [
      "social welfare: 38916.94026859047\n",
      "number of allocated tasks: 50\n",
      "seed = 291\n"
     ]
    },
    {
     "name": "stderr",
     "output_type": "stream",
     "text": [
      "100%|██████████| 50/50 [00:00<00:00, 19825.60it/s]\n"
     ]
    },
    {
     "name": "stdout",
     "output_type": "stream",
     "text": [
      "social welfare: 43922.69156173844\n",
      "number of allocated tasks: 50\n",
      "seed = 292\n"
     ]
    },
    {
     "name": "stderr",
     "output_type": "stream",
     "text": [
      "100%|██████████| 50/50 [00:00<00:00, 18636.38it/s]\n"
     ]
    },
    {
     "name": "stdout",
     "output_type": "stream",
     "text": [
      "social welfare: 42129.26473401069\n",
      "number of allocated tasks: 50\n",
      "seed = 293\n"
     ]
    },
    {
     "name": "stderr",
     "output_type": "stream",
     "text": [
      "100%|██████████| 50/50 [00:00<00:00, 19224.05it/s]\n"
     ]
    },
    {
     "name": "stdout",
     "output_type": "stream",
     "text": [
      "social welfare: 41273.17895282614\n",
      "number of allocated tasks: 50\n",
      "seed = 294\n"
     ]
    },
    {
     "name": "stderr",
     "output_type": "stream",
     "text": [
      "100%|██████████| 50/50 [00:00<00:00, 17512.75it/s]\n"
     ]
    },
    {
     "name": "stdout",
     "output_type": "stream",
     "text": [
      "social welfare: 37966.37772369437\n",
      "number of allocated tasks: 50\n",
      "seed = 295\n"
     ]
    },
    {
     "name": "stderr",
     "output_type": "stream",
     "text": [
      "100%|██████████| 50/50 [00:00<00:00, 17354.78it/s]\n"
     ]
    },
    {
     "name": "stdout",
     "output_type": "stream",
     "text": [
      "social welfare: 39941.63569212159\n",
      "number of allocated tasks: 50\n",
      "seed = 296\n"
     ]
    },
    {
     "name": "stderr",
     "output_type": "stream",
     "text": [
      "100%|██████████| 50/50 [00:00<00:00, 12363.83it/s]\n"
     ]
    },
    {
     "name": "stdout",
     "output_type": "stream",
     "text": [
      "social welfare: 44942.11094554279\n",
      "number of allocated tasks: 50\n",
      "seed = 297\n"
     ]
    },
    {
     "name": "stderr",
     "output_type": "stream",
     "text": [
      "100%|██████████| 50/50 [00:00<00:00, 24331.73it/s]\n"
     ]
    },
    {
     "name": "stdout",
     "output_type": "stream",
     "text": [
      "social welfare: 35909.20289487134\n",
      "number of allocated tasks: 50\n",
      "seed = 298\n"
     ]
    },
    {
     "name": "stderr",
     "output_type": "stream",
     "text": [
      "100%|██████████| 50/50 [00:00<00:00, 19747.19it/s]\n"
     ]
    },
    {
     "name": "stdout",
     "output_type": "stream",
     "text": [
      "social welfare: 41197.883072603305\n",
      "number of allocated tasks: 50\n",
      "seed = 299\n"
     ]
    },
    {
     "name": "stderr",
     "output_type": "stream",
     "text": [
      "100%|██████████| 50/50 [00:00<00:00, 21149.17it/s]\n"
     ]
    },
    {
     "name": "stdout",
     "output_type": "stream",
     "text": [
      "social welfare: 40373.404085155\n",
      "number of allocated tasks: 50\n",
      "seed = 300\n"
     ]
    },
    {
     "name": "stderr",
     "output_type": "stream",
     "text": [
      "100%|██████████| 50/50 [00:00<00:00, 19127.62it/s]\n"
     ]
    },
    {
     "name": "stdout",
     "output_type": "stream",
     "text": [
      "social welfare: 35636.802126197064\n",
      "number of allocated tasks: 50\n",
      "seed = 301\n"
     ]
    },
    {
     "name": "stderr",
     "output_type": "stream",
     "text": [
      "100%|██████████| 50/50 [00:00<00:00, 19904.63it/s]\n"
     ]
    },
    {
     "name": "stdout",
     "output_type": "stream",
     "text": [
      "social welfare: 37827.97640120927\n",
      "number of allocated tasks: 50\n",
      "seed = 302\n"
     ]
    },
    {
     "name": "stderr",
     "output_type": "stream",
     "text": [
      "100%|██████████| 50/50 [00:00<00:00, 22300.64it/s]\n"
     ]
    },
    {
     "name": "stdout",
     "output_type": "stream",
     "text": [
      "social welfare: 38750.6467886538\n",
      "number of allocated tasks: 50\n",
      "seed = 303\n"
     ]
    },
    {
     "name": "stderr",
     "output_type": "stream",
     "text": [
      "100%|██████████| 50/50 [00:00<00:00, 15243.15it/s]\n"
     ]
    },
    {
     "name": "stdout",
     "output_type": "stream",
     "text": [
      "social welfare: 33512.45455986829\n",
      "number of allocated tasks: 50\n",
      "seed = 304\n"
     ]
    },
    {
     "name": "stderr",
     "output_type": "stream",
     "text": [
      "100%|██████████| 50/50 [00:00<00:00, 22431.83it/s]\n"
     ]
    },
    {
     "name": "stdout",
     "output_type": "stream",
     "text": [
      "social welfare: 41566.298431965384\n",
      "number of allocated tasks: 50\n",
      "seed = 305\n"
     ]
    },
    {
     "name": "stderr",
     "output_type": "stream",
     "text": [
      "100%|██████████| 50/50 [00:00<00:00, 2968.41it/s]\n"
     ]
    },
    {
     "name": "stdout",
     "output_type": "stream",
     "text": [
      "social welfare: 38955.95496123506\n",
      "number of allocated tasks: 50\n",
      "seed = 306\n"
     ]
    },
    {
     "name": "stderr",
     "output_type": "stream",
     "text": [
      "100%|██████████| 50/50 [00:00<00:00, 18994.22it/s]\n"
     ]
    },
    {
     "name": "stdout",
     "output_type": "stream",
     "text": [
      "social welfare: 36407.69663882215\n",
      "number of allocated tasks: 50\n",
      "seed = 307\n"
     ]
    },
    {
     "name": "stderr",
     "output_type": "stream",
     "text": [
      "100%|██████████| 50/50 [00:00<00:00, 15609.62it/s]\n"
     ]
    },
    {
     "name": "stdout",
     "output_type": "stream",
     "text": [
      "social welfare: 36042.977608005254\n",
      "number of allocated tasks: 50\n",
      "seed = 308\n"
     ]
    },
    {
     "name": "stderr",
     "output_type": "stream",
     "text": [
      "100%|██████████| 50/50 [00:00<00:00, 20250.60it/s]\n"
     ]
    },
    {
     "name": "stdout",
     "output_type": "stream",
     "text": [
      "social welfare: 41062.14328002829\n",
      "number of allocated tasks: 50\n",
      "seed = 309\n"
     ]
    },
    {
     "name": "stderr",
     "output_type": "stream",
     "text": [
      "100%|██████████| 50/50 [00:00<00:00, 22026.59it/s]\n"
     ]
    },
    {
     "name": "stdout",
     "output_type": "stream",
     "text": [
      "social welfare: 35500.190265297024\n",
      "number of allocated tasks: 50\n",
      "seed = 310\n"
     ]
    },
    {
     "name": "stderr",
     "output_type": "stream",
     "text": [
      "100%|██████████| 50/50 [00:00<00:00, 18601.67it/s]\n"
     ]
    },
    {
     "name": "stdout",
     "output_type": "stream",
     "text": [
      "social welfare: 33862.11507878584\n",
      "number of allocated tasks: 50\n",
      "seed = 311\n"
     ]
    },
    {
     "name": "stderr",
     "output_type": "stream",
     "text": [
      "100%|██████████| 50/50 [00:00<00:00, 19976.68it/s]\n"
     ]
    },
    {
     "name": "stdout",
     "output_type": "stream",
     "text": [
      "social welfare: 42454.583879759375\n",
      "number of allocated tasks: 50\n",
      "seed = 312\n"
     ]
    },
    {
     "name": "stderr",
     "output_type": "stream",
     "text": [
      "100%|██████████| 50/50 [00:00<00:00, 24862.50it/s]\n"
     ]
    },
    {
     "name": "stdout",
     "output_type": "stream",
     "text": [
      "social welfare: 39742.25170187953\n",
      "number of allocated tasks: 50\n",
      "seed = 313\n"
     ]
    },
    {
     "name": "stderr",
     "output_type": "stream",
     "text": [
      "100%|██████████| 50/50 [00:00<00:00, 11457.97it/s]\n"
     ]
    },
    {
     "name": "stdout",
     "output_type": "stream",
     "text": [
      "social welfare: 38889.4969144235\n",
      "number of allocated tasks: 50\n",
      "seed = 314\n"
     ]
    },
    {
     "name": "stderr",
     "output_type": "stream",
     "text": [
      "100%|██████████| 50/50 [00:00<00:00, 21642.44it/s]\n"
     ]
    },
    {
     "name": "stdout",
     "output_type": "stream",
     "text": [
      "social welfare: 38489.23279764228\n",
      "number of allocated tasks: 50\n",
      "seed = 315\n"
     ]
    },
    {
     "name": "stderr",
     "output_type": "stream",
     "text": [
      "100%|██████████| 50/50 [00:00<00:00, 17933.57it/s]\n"
     ]
    },
    {
     "name": "stdout",
     "output_type": "stream",
     "text": [
      "social welfare: 39155.85132601836\n",
      "number of allocated tasks: 50\n",
      "seed = 316\n"
     ]
    },
    {
     "name": "stderr",
     "output_type": "stream",
     "text": [
      "100%|██████████| 50/50 [00:00<00:00, 18201.28it/s]\n"
     ]
    },
    {
     "name": "stdout",
     "output_type": "stream",
     "text": [
      "social welfare: 35930.362699806625\n",
      "number of allocated tasks: 50\n",
      "seed = 317\n"
     ]
    },
    {
     "name": "stderr",
     "output_type": "stream",
     "text": [
      "100%|██████████| 50/50 [00:00<00:00, 21646.90it/s]\n"
     ]
    },
    {
     "name": "stdout",
     "output_type": "stream",
     "text": [
      "social welfare: 33327.42009855476\n",
      "number of allocated tasks: 50\n",
      "seed = 318\n"
     ]
    },
    {
     "name": "stderr",
     "output_type": "stream",
     "text": [
      "100%|██████████| 50/50 [00:00<00:00, 19392.94it/s]\n"
     ]
    },
    {
     "name": "stdout",
     "output_type": "stream",
     "text": [
      "social welfare: 40036.15625539805\n",
      "number of allocated tasks: 50\n",
      "seed = 319\n"
     ]
    },
    {
     "name": "stderr",
     "output_type": "stream",
     "text": [
      "100%|██████████| 50/50 [00:00<00:00, 21478.41it/s]\n"
     ]
    },
    {
     "name": "stdout",
     "output_type": "stream",
     "text": [
      "social welfare: 38698.27690087965\n",
      "number of allocated tasks: 50\n",
      "seed = 320\n"
     ]
    },
    {
     "name": "stderr",
     "output_type": "stream",
     "text": [
      "100%|██████████| 50/50 [00:00<00:00, 19993.82it/s]\n"
     ]
    },
    {
     "name": "stdout",
     "output_type": "stream",
     "text": [
      "social welfare: 37986.37292621799\n",
      "number of allocated tasks: 50\n",
      "seed = 321\n"
     ]
    },
    {
     "name": "stderr",
     "output_type": "stream",
     "text": [
      "100%|██████████| 50/50 [00:00<00:00, 21978.12it/s]\n"
     ]
    },
    {
     "name": "stdout",
     "output_type": "stream",
     "text": [
      "social welfare: 36761.099715932214\n",
      "number of allocated tasks: 50\n",
      "seed = 322\n"
     ]
    },
    {
     "name": "stderr",
     "output_type": "stream",
     "text": [
      "100%|██████████| 50/50 [00:00<00:00, 16441.80it/s]\n"
     ]
    },
    {
     "name": "stdout",
     "output_type": "stream",
     "text": [
      "social welfare: 36663.51093828176\n",
      "number of allocated tasks: 50\n",
      "seed = 323\n"
     ]
    },
    {
     "name": "stderr",
     "output_type": "stream",
     "text": [
      "100%|██████████| 50/50 [00:00<00:00, 17624.61it/s]\n"
     ]
    },
    {
     "name": "stdout",
     "output_type": "stream",
     "text": [
      "social welfare: 36505.448299512354\n",
      "number of allocated tasks: 50\n",
      "seed = 324\n"
     ]
    },
    {
     "name": "stderr",
     "output_type": "stream",
     "text": [
      "100%|██████████| 50/50 [00:00<00:00, 14846.04it/s]\n"
     ]
    },
    {
     "name": "stdout",
     "output_type": "stream",
     "text": [
      "social welfare: 37585.08033568303\n",
      "number of allocated tasks: 50\n",
      "seed = 325\n"
     ]
    },
    {
     "name": "stderr",
     "output_type": "stream",
     "text": [
      "100%|██████████| 50/50 [00:00<00:00, 19298.35it/s]\n"
     ]
    },
    {
     "name": "stdout",
     "output_type": "stream",
     "text": [
      "social welfare: 37939.01502676509\n",
      "number of allocated tasks: 50\n",
      "seed = 326\n"
     ]
    },
    {
     "name": "stderr",
     "output_type": "stream",
     "text": [
      "100%|██████████| 50/50 [00:00<00:00, 18975.32it/s]\n"
     ]
    },
    {
     "name": "stdout",
     "output_type": "stream",
     "text": [
      "social welfare: 40744.86205177067\n",
      "number of allocated tasks: 50\n",
      "seed = 327\n"
     ]
    },
    {
     "name": "stderr",
     "output_type": "stream",
     "text": [
      "100%|██████████| 50/50 [00:00<00:00, 24597.14it/s]\n"
     ]
    },
    {
     "name": "stdout",
     "output_type": "stream",
     "text": [
      "social welfare: 38740.10403552396\n",
      "number of allocated tasks: 50\n",
      "seed = 328\n"
     ]
    },
    {
     "name": "stderr",
     "output_type": "stream",
     "text": [
      "100%|██████████| 50/50 [00:00<00:00, 18209.19it/s]\n"
     ]
    },
    {
     "name": "stdout",
     "output_type": "stream",
     "text": [
      "social welfare: 34938.6470423718\n",
      "number of allocated tasks: 50\n",
      "seed = 329\n"
     ]
    },
    {
     "name": "stderr",
     "output_type": "stream",
     "text": [
      "100%|██████████| 50/50 [00:00<00:00, 20266.25it/s]\n"
     ]
    },
    {
     "name": "stdout",
     "output_type": "stream",
     "text": [
      "social welfare: 40507.24990851162\n",
      "number of allocated tasks: 50\n",
      "seed = 330\n"
     ]
    },
    {
     "name": "stderr",
     "output_type": "stream",
     "text": [
      "100%|██████████| 50/50 [00:00<00:00, 18741.30it/s]\n"
     ]
    },
    {
     "name": "stdout",
     "output_type": "stream",
     "text": [
      "social welfare: 39986.51114587623\n",
      "number of allocated tasks: 50\n",
      "seed = 331\n"
     ]
    },
    {
     "name": "stderr",
     "output_type": "stream",
     "text": [
      "100%|██████████| 50/50 [00:00<00:00, 21890.94it/s]\n"
     ]
    },
    {
     "name": "stdout",
     "output_type": "stream",
     "text": [
      "social welfare: 38345.935116065266\n",
      "number of allocated tasks: 50\n",
      "seed = 332\n"
     ]
    },
    {
     "name": "stderr",
     "output_type": "stream",
     "text": [
      "100%|██████████| 50/50 [00:00<00:00, 21007.23it/s]\n"
     ]
    },
    {
     "name": "stdout",
     "output_type": "stream",
     "text": [
      "social welfare: 39773.98860720973\n",
      "number of allocated tasks: 50\n",
      "seed = 333\n"
     ]
    },
    {
     "name": "stderr",
     "output_type": "stream",
     "text": [
      "100%|██████████| 50/50 [00:00<00:00, 19349.99it/s]\n"
     ]
    },
    {
     "name": "stdout",
     "output_type": "stream",
     "text": [
      "social welfare: 35895.03461025538\n",
      "number of allocated tasks: 50\n",
      "seed = 334\n"
     ]
    },
    {
     "name": "stderr",
     "output_type": "stream",
     "text": [
      "100%|██████████| 50/50 [00:00<00:00, 22084.58it/s]\n"
     ]
    },
    {
     "name": "stdout",
     "output_type": "stream",
     "text": [
      "social welfare: 42597.63057642927\n",
      "number of allocated tasks: 50\n",
      "seed = 335\n"
     ]
    },
    {
     "name": "stderr",
     "output_type": "stream",
     "text": [
      "100%|██████████| 50/50 [00:00<00:00, 19209.97it/s]\n"
     ]
    },
    {
     "name": "stdout",
     "output_type": "stream",
     "text": [
      "social welfare: 37308.39636653974\n",
      "number of allocated tasks: 50\n",
      "seed = 336\n"
     ]
    },
    {
     "name": "stderr",
     "output_type": "stream",
     "text": [
      "100%|██████████| 50/50 [00:00<00:00, 20902.54it/s]\n"
     ]
    },
    {
     "name": "stdout",
     "output_type": "stream",
     "text": [
      "social welfare: 37734.49948827992\n",
      "number of allocated tasks: 50\n",
      "seed = 337\n"
     ]
    },
    {
     "name": "stderr",
     "output_type": "stream",
     "text": [
      "100%|██████████| 50/50 [00:00<00:00, 20484.00it/s]\n"
     ]
    },
    {
     "name": "stdout",
     "output_type": "stream",
     "text": [
      "social welfare: 42556.58416652184\n",
      "number of allocated tasks: 50\n",
      "seed = 338\n"
     ]
    },
    {
     "name": "stderr",
     "output_type": "stream",
     "text": [
      "100%|██████████| 50/50 [00:00<00:00, 21813.52it/s]\n"
     ]
    },
    {
     "name": "stdout",
     "output_type": "stream",
     "text": [
      "social welfare: 41610.59217156692\n",
      "number of allocated tasks: 50\n",
      "seed = 339\n"
     ]
    },
    {
     "name": "stderr",
     "output_type": "stream",
     "text": [
      "100%|██████████| 50/50 [00:00<00:00, 26780.13it/s]\n"
     ]
    },
    {
     "name": "stdout",
     "output_type": "stream",
     "text": [
      "social welfare: 37304.07563010066\n",
      "number of allocated tasks: 50\n",
      "seed = 340\n"
     ]
    },
    {
     "name": "stderr",
     "output_type": "stream",
     "text": [
      "100%|██████████| 50/50 [00:00<00:00, 24850.72it/s]\n"
     ]
    },
    {
     "name": "stdout",
     "output_type": "stream",
     "text": [
      "social welfare: 40852.89525279167\n",
      "number of allocated tasks: 50\n",
      "seed = 341\n"
     ]
    },
    {
     "name": "stderr",
     "output_type": "stream",
     "text": [
      "100%|██████████| 50/50 [00:00<00:00, 21786.33it/s]\n"
     ]
    },
    {
     "name": "stdout",
     "output_type": "stream",
     "text": [
      "social welfare: 37932.58320016241\n",
      "number of allocated tasks: 50\n",
      "seed = 342\n"
     ]
    },
    {
     "name": "stderr",
     "output_type": "stream",
     "text": [
      "100%|██████████| 50/50 [00:00<00:00, 20938.02it/s]\n"
     ]
    },
    {
     "name": "stdout",
     "output_type": "stream",
     "text": [
      "social welfare: 39642.853841190576\n",
      "number of allocated tasks: 50\n",
      "seed = 343\n"
     ]
    },
    {
     "name": "stderr",
     "output_type": "stream",
     "text": [
      "100%|██████████| 50/50 [00:00<00:00, 22812.49it/s]\n"
     ]
    },
    {
     "name": "stdout",
     "output_type": "stream",
     "text": [
      "social welfare: 39183.43026639143\n",
      "number of allocated tasks: 50\n",
      "seed = 344\n"
     ]
    },
    {
     "name": "stderr",
     "output_type": "stream",
     "text": [
      "100%|██████████| 50/50 [00:00<00:00, 22511.29it/s]\n"
     ]
    },
    {
     "name": "stdout",
     "output_type": "stream",
     "text": [
      "social welfare: 35285.440687944545\n",
      "number of allocated tasks: 50\n",
      "seed = 345\n"
     ]
    },
    {
     "name": "stderr",
     "output_type": "stream",
     "text": [
      "100%|██████████| 50/50 [00:00<00:00, 24272.59it/s]\n"
     ]
    },
    {
     "name": "stdout",
     "output_type": "stream",
     "text": [
      "social welfare: 39020.83456903356\n",
      "number of allocated tasks: 50\n",
      "seed = 346\n"
     ]
    },
    {
     "name": "stderr",
     "output_type": "stream",
     "text": [
      "100%|██████████| 50/50 [00:00<00:00, 23823.15it/s]\n"
     ]
    },
    {
     "name": "stdout",
     "output_type": "stream",
     "text": [
      "social welfare: 38753.33674066659\n",
      "number of allocated tasks: 50\n",
      "seed = 347\n"
     ]
    },
    {
     "name": "stderr",
     "output_type": "stream",
     "text": [
      "100%|██████████| 50/50 [00:00<00:00, 18968.45it/s]\n"
     ]
    },
    {
     "name": "stdout",
     "output_type": "stream",
     "text": [
      "social welfare: 41967.54194387043\n",
      "number of allocated tasks: 50\n",
      "seed = 348\n"
     ]
    },
    {
     "name": "stderr",
     "output_type": "stream",
     "text": [
      "100%|██████████| 50/50 [00:00<00:00, 22379.17it/s]\n"
     ]
    },
    {
     "name": "stdout",
     "output_type": "stream",
     "text": [
      "social welfare: 37811.26896695352\n",
      "number of allocated tasks: 50\n",
      "seed = 349\n"
     ]
    },
    {
     "name": "stderr",
     "output_type": "stream",
     "text": [
      "100%|██████████| 50/50 [00:00<00:00, 21478.41it/s]\n"
     ]
    },
    {
     "name": "stdout",
     "output_type": "stream",
     "text": [
      "social welfare: 41055.40585599835\n",
      "number of allocated tasks: 50\n",
      "seed = 350\n"
     ]
    },
    {
     "name": "stderr",
     "output_type": "stream",
     "text": [
      "100%|██████████| 50/50 [00:00<00:00, 19432.47it/s]\n"
     ]
    },
    {
     "name": "stdout",
     "output_type": "stream",
     "text": [
      "social welfare: 40214.40499756357\n",
      "number of allocated tasks: 50\n",
      "seed = 351\n"
     ]
    },
    {
     "name": "stderr",
     "output_type": "stream",
     "text": [
      "100%|██████████| 50/50 [00:00<00:00, 22300.64it/s]\n"
     ]
    },
    {
     "name": "stdout",
     "output_type": "stream",
     "text": [
      "social welfare: 38271.00630081657\n",
      "number of allocated tasks: 50\n",
      "seed = 352\n"
     ]
    },
    {
     "name": "stderr",
     "output_type": "stream",
     "text": [
      "100%|██████████| 50/50 [00:00<00:00, 17000.26it/s]\n"
     ]
    },
    {
     "name": "stdout",
     "output_type": "stream",
     "text": [
      "social welfare: 41732.68175892303\n",
      "number of allocated tasks: 50\n",
      "seed = 353\n"
     ]
    },
    {
     "name": "stderr",
     "output_type": "stream",
     "text": [
      "100%|██████████| 50/50 [00:00<00:00, 21204.77it/s]\n"
     ]
    },
    {
     "name": "stdout",
     "output_type": "stream",
     "text": [
      "social welfare: 38639.69569691901\n",
      "number of allocated tasks: 50\n",
      "seed = 354\n"
     ]
    },
    {
     "name": "stderr",
     "output_type": "stream",
     "text": [
      "100%|██████████| 50/50 [00:00<00:00, 21051.52it/s]\n"
     ]
    },
    {
     "name": "stdout",
     "output_type": "stream",
     "text": [
      "social welfare: 40305.7487211541\n",
      "number of allocated tasks: 50\n",
      "seed = 355\n"
     ]
    },
    {
     "name": "stderr",
     "output_type": "stream",
     "text": [
      "100%|██████████| 50/50 [00:00<00:00, 22412.65it/s]\n"
     ]
    },
    {
     "name": "stdout",
     "output_type": "stream",
     "text": [
      "social welfare: 41219.72253904356\n",
      "number of allocated tasks: 50\n",
      "seed = 356\n"
     ]
    },
    {
     "name": "stderr",
     "output_type": "stream",
     "text": [
      "100%|██████████| 50/50 [00:00<00:00, 23844.82it/s]\n"
     ]
    },
    {
     "name": "stdout",
     "output_type": "stream",
     "text": [
      "social welfare: 41199.57009157517\n",
      "number of allocated tasks: 50\n",
      "seed = 357\n"
     ]
    },
    {
     "name": "stderr",
     "output_type": "stream",
     "text": [
      "100%|██████████| 50/50 [00:00<00:00, 19155.57it/s]\n"
     ]
    },
    {
     "name": "stdout",
     "output_type": "stream",
     "text": [
      "social welfare: 42696.61473459125\n",
      "number of allocated tasks: 50\n",
      "seed = 358\n"
     ]
    },
    {
     "name": "stderr",
     "output_type": "stream",
     "text": [
      "100%|██████████| 50/50 [00:00<00:00, 22504.05it/s]\n"
     ]
    },
    {
     "name": "stdout",
     "output_type": "stream",
     "text": [
      "social welfare: 43287.770432768666\n",
      "number of allocated tasks: 50\n",
      "seed = 359\n"
     ]
    },
    {
     "name": "stderr",
     "output_type": "stream",
     "text": [
      "100%|██████████| 50/50 [00:00<00:00, 22912.18it/s]\n"
     ]
    },
    {
     "name": "stdout",
     "output_type": "stream",
     "text": [
      "social welfare: 42097.01851782062\n",
      "number of allocated tasks: 50\n",
      "seed = 360\n"
     ]
    },
    {
     "name": "stderr",
     "output_type": "stream",
     "text": [
      "100%|██████████| 50/50 [00:00<00:00, 23149.93it/s]\n"
     ]
    },
    {
     "name": "stdout",
     "output_type": "stream",
     "text": [
      "social welfare: 35509.267249144046\n",
      "number of allocated tasks: 50\n",
      "seed = 361\n"
     ]
    },
    {
     "name": "stderr",
     "output_type": "stream",
     "text": [
      "100%|██████████| 50/50 [00:00<00:00, 21795.39it/s]\n"
     ]
    },
    {
     "name": "stdout",
     "output_type": "stream",
     "text": [
      "social welfare: 38845.981386580155\n",
      "number of allocated tasks: 50\n",
      "seed = 362\n"
     ]
    },
    {
     "name": "stderr",
     "output_type": "stream",
     "text": [
      "100%|██████████| 50/50 [00:00<00:00, 24838.94it/s]\n"
     ]
    },
    {
     "name": "stdout",
     "output_type": "stream",
     "text": [
      "social welfare: 39780.962315115\n",
      "number of allocated tasks: 50\n",
      "seed = 363\n"
     ]
    },
    {
     "name": "stderr",
     "output_type": "stream",
     "text": [
      "100%|██████████| 50/50 [00:00<00:00, 19857.51it/s]\n"
     ]
    },
    {
     "name": "stdout",
     "output_type": "stream",
     "text": [
      "social welfare: 36656.02046909562\n",
      "number of allocated tasks: 50\n",
      "seed = 364\n"
     ]
    },
    {
     "name": "stderr",
     "output_type": "stream",
     "text": [
      "100%|██████████| 50/50 [00:00<00:00, 21720.89it/s]\n"
     ]
    },
    {
     "name": "stdout",
     "output_type": "stream",
     "text": [
      "social welfare: 44164.94206897675\n",
      "number of allocated tasks: 50\n",
      "seed = 365\n"
     ]
    },
    {
     "name": "stderr",
     "output_type": "stream",
     "text": [
      "100%|██████████| 50/50 [00:00<00:00, 21881.80it/s]\n"
     ]
    },
    {
     "name": "stdout",
     "output_type": "stream",
     "text": [
      "social welfare: 37108.67478276341\n",
      "number of allocated tasks: 50\n",
      "seed = 366\n"
     ]
    },
    {
     "name": "stderr",
     "output_type": "stream",
     "text": [
      "100%|██████████| 50/50 [00:00<00:00, 20568.38it/s]\n"
     ]
    },
    {
     "name": "stdout",
     "output_type": "stream",
     "text": [
      "social welfare: 36076.39742843678\n",
      "number of allocated tasks: 50\n",
      "seed = 367\n"
     ]
    },
    {
     "name": "stderr",
     "output_type": "stream",
     "text": [
      "100%|██████████| 50/50 [00:00<00:00, 25367.75it/s]\n"
     ]
    },
    {
     "name": "stdout",
     "output_type": "stream",
     "text": [
      "social welfare: 36693.78376189871\n",
      "number of allocated tasks: 50\n",
      "seed = 368\n"
     ]
    },
    {
     "name": "stderr",
     "output_type": "stream",
     "text": [
      "100%|██████████| 50/50 [00:00<00:00, 7675.41it/s]\n"
     ]
    },
    {
     "name": "stdout",
     "output_type": "stream",
     "text": [
      "social welfare: 36537.96761325658\n",
      "number of allocated tasks: 50\n",
      "seed = 369\n"
     ]
    },
    {
     "name": "stderr",
     "output_type": "stream",
     "text": [
      "100%|██████████| 50/50 [00:00<00:00, 16213.00it/s]\n"
     ]
    },
    {
     "name": "stdout",
     "output_type": "stream",
     "text": [
      "social welfare: 44447.42605382258\n",
      "number of allocated tasks: 50\n",
      "seed = 370\n"
     ]
    },
    {
     "name": "stderr",
     "output_type": "stream",
     "text": [
      "100%|██████████| 50/50 [00:00<00:00, 15833.54it/s]\n"
     ]
    },
    {
     "name": "stdout",
     "output_type": "stream",
     "text": [
      "social welfare: 38544.7438655884\n",
      "number of allocated tasks: 50\n",
      "seed = 371\n"
     ]
    },
    {
     "name": "stderr",
     "output_type": "stream",
     "text": [
      "100%|██████████| 50/50 [00:00<00:00, 16313.90it/s]\n"
     ]
    },
    {
     "name": "stdout",
     "output_type": "stream",
     "text": [
      "social welfare: 38283.7821209734\n",
      "number of allocated tasks: 50\n",
      "seed = 372\n"
     ]
    },
    {
     "name": "stderr",
     "output_type": "stream",
     "text": [
      "100%|██████████| 50/50 [00:00<00:00, 21202.63it/s]\n"
     ]
    },
    {
     "name": "stdout",
     "output_type": "stream",
     "text": [
      "social welfare: 35343.25440247742\n",
      "number of allocated tasks: 50\n",
      "seed = 373\n"
     ]
    },
    {
     "name": "stderr",
     "output_type": "stream",
     "text": [
      "100%|██████████| 50/50 [00:00<00:00, 20418.19it/s]\n"
     ]
    },
    {
     "name": "stdout",
     "output_type": "stream",
     "text": [
      "social welfare: 43187.511675988906\n",
      "number of allocated tasks: 50\n",
      "seed = 374\n"
     ]
    },
    {
     "name": "stderr",
     "output_type": "stream",
     "text": [
      "100%|██████████| 50/50 [00:00<00:00, 17253.41it/s]\n"
     ]
    },
    {
     "name": "stdout",
     "output_type": "stream",
     "text": [
      "social welfare: 38789.32881485773\n",
      "number of allocated tasks: 50\n",
      "seed = 375\n"
     ]
    },
    {
     "name": "stderr",
     "output_type": "stream",
     "text": [
      "100%|██████████| 50/50 [00:00<00:00, 16535.14it/s]\n"
     ]
    },
    {
     "name": "stdout",
     "output_type": "stream",
     "text": [
      "social welfare: 35782.92829671437\n",
      "number of allocated tasks: 50\n",
      "seed = 376\n"
     ]
    },
    {
     "name": "stderr",
     "output_type": "stream",
     "text": [
      "100%|██████████| 50/50 [00:00<00:00, 15118.97it/s]\n"
     ]
    },
    {
     "name": "stdout",
     "output_type": "stream",
     "text": [
      "social welfare: 40599.69935933435\n",
      "number of allocated tasks: 50\n",
      "seed = 377\n"
     ]
    },
    {
     "name": "stderr",
     "output_type": "stream",
     "text": [
      "100%|██████████| 50/50 [00:00<00:00, 24640.49it/s]\n"
     ]
    },
    {
     "name": "stdout",
     "output_type": "stream",
     "text": [
      "social welfare: 37101.67799932312\n",
      "number of allocated tasks: 50\n",
      "seed = 378\n"
     ]
    },
    {
     "name": "stderr",
     "output_type": "stream",
     "text": [
      "100%|██████████| 50/50 [00:00<00:00, 12456.36it/s]\n"
     ]
    },
    {
     "name": "stdout",
     "output_type": "stream",
     "text": [
      "social welfare: 40875.680183148994\n",
      "number of allocated tasks: 50\n",
      "seed = 379\n"
     ]
    },
    {
     "name": "stderr",
     "output_type": "stream",
     "text": [
      "100%|██████████| 50/50 [00:00<00:00, 11322.49it/s]\n"
     ]
    },
    {
     "name": "stdout",
     "output_type": "stream",
     "text": [
      "social welfare: 36731.74419959202\n",
      "number of allocated tasks: 50\n",
      "seed = 380\n"
     ]
    },
    {
     "name": "stderr",
     "output_type": "stream",
     "text": [
      "100%|██████████| 50/50 [00:00<00:00, 16539.05it/s]\n"
     ]
    },
    {
     "name": "stdout",
     "output_type": "stream",
     "text": [
      "social welfare: 40617.13204902645\n",
      "number of allocated tasks: 50\n",
      "seed = 381\n"
     ]
    },
    {
     "name": "stderr",
     "output_type": "stream",
     "text": [
      "100%|██████████| 50/50 [00:00<00:00, 21768.24it/s]\n"
     ]
    },
    {
     "name": "stdout",
     "output_type": "stream",
     "text": [
      "social welfare: 36866.26473349021\n",
      "number of allocated tasks: 50\n",
      "seed = 382\n"
     ]
    },
    {
     "name": "stderr",
     "output_type": "stream",
     "text": [
      "100%|██████████| 50/50 [00:00<00:00, 21831.69it/s]\n"
     ]
    },
    {
     "name": "stdout",
     "output_type": "stream",
     "text": [
      "social welfare: 34477.63033622205\n",
      "number of allocated tasks: 50\n",
      "seed = 383\n"
     ]
    },
    {
     "name": "stderr",
     "output_type": "stream",
     "text": [
      "100%|██████████| 50/50 [00:00<00:00, 18389.62it/s]\n"
     ]
    },
    {
     "name": "stdout",
     "output_type": "stream",
     "text": [
      "social welfare: 38273.67067986657\n",
      "number of allocated tasks: 50\n",
      "seed = 384\n"
     ]
    },
    {
     "name": "stderr",
     "output_type": "stream",
     "text": [
      "100%|██████████| 50/50 [00:00<00:00, 19539.29it/s]\n"
     ]
    },
    {
     "name": "stdout",
     "output_type": "stream",
     "text": [
      "social welfare: 37989.60921037226\n",
      "number of allocated tasks: 50\n",
      "seed = 385\n"
     ]
    },
    {
     "name": "stderr",
     "output_type": "stream",
     "text": [
      "100%|██████████| 50/50 [00:00<00:00, 22819.93it/s]\n"
     ]
    },
    {
     "name": "stdout",
     "output_type": "stream",
     "text": [
      "social welfare: 40422.26523338327\n",
      "number of allocated tasks: 50\n",
      "seed = 386\n"
     ]
    },
    {
     "name": "stderr",
     "output_type": "stream",
     "text": [
      "100%|██████████| 50/50 [00:00<00:00, 21432.31it/s]\n"
     ]
    },
    {
     "name": "stdout",
     "output_type": "stream",
     "text": [
      "social welfare: 33513.56681301107\n",
      "number of allocated tasks: 50\n",
      "seed = 387\n"
     ]
    },
    {
     "name": "stderr",
     "output_type": "stream",
     "text": [
      "100%|██████████| 50/50 [00:00<00:00, 21646.90it/s]\n"
     ]
    },
    {
     "name": "stdout",
     "output_type": "stream",
     "text": [
      "social welfare: 36893.62056098265\n",
      "number of allocated tasks: 50\n",
      "seed = 388\n"
     ]
    },
    {
     "name": "stderr",
     "output_type": "stream",
     "text": [
      "100%|██████████| 50/50 [00:00<00:00, 21840.78it/s]\n"
     ]
    },
    {
     "name": "stdout",
     "output_type": "stream",
     "text": [
      "social welfare: 38570.563414998796\n",
      "number of allocated tasks: 50\n",
      "seed = 389\n"
     ]
    },
    {
     "name": "stderr",
     "output_type": "stream",
     "text": [
      "100%|██████████| 50/50 [00:00<00:00, 19865.04it/s]\n"
     ]
    },
    {
     "name": "stdout",
     "output_type": "stream",
     "text": [
      "social welfare: 36271.3014879577\n",
      "number of allocated tasks: 50\n",
      "seed = 390\n"
     ]
    },
    {
     "name": "stderr",
     "output_type": "stream",
     "text": [
      "100%|██████████| 50/50 [00:00<00:00, 12836.82it/s]\n"
     ]
    },
    {
     "name": "stdout",
     "output_type": "stream",
     "text": [
      "social welfare: 39165.67890197381\n",
      "number of allocated tasks: 50\n",
      "seed = 391\n"
     ]
    },
    {
     "name": "stderr",
     "output_type": "stream",
     "text": [
      "100%|██████████| 50/50 [00:00<00:00, 16989.24it/s]\n"
     ]
    },
    {
     "name": "stdout",
     "output_type": "stream",
     "text": [
      "social welfare: 38867.857326497855\n",
      "number of allocated tasks: 50\n",
      "seed = 392\n"
     ]
    },
    {
     "name": "stderr",
     "output_type": "stream",
     "text": [
      "100%|██████████| 50/50 [00:00<00:00, 18847.42it/s]\n"
     ]
    },
    {
     "name": "stdout",
     "output_type": "stream",
     "text": [
      "social welfare: 36466.898546915145\n",
      "number of allocated tasks: 50\n",
      "seed = 393\n"
     ]
    },
    {
     "name": "stderr",
     "output_type": "stream",
     "text": [
      "100%|██████████| 50/50 [00:00<00:00, 21267.13it/s]\n"
     ]
    },
    {
     "name": "stdout",
     "output_type": "stream",
     "text": [
      "social welfare: 38792.8177771022\n",
      "number of allocated tasks: 50\n",
      "seed = 394\n"
     ]
    },
    {
     "name": "stderr",
     "output_type": "stream",
     "text": [
      "100%|██████████| 50/50 [00:00<00:00, 13047.67it/s]\n"
     ]
    },
    {
     "name": "stdout",
     "output_type": "stream",
     "text": [
      "social welfare: 42044.67136681876\n",
      "number of allocated tasks: 50\n",
      "seed = 395\n"
     ]
    },
    {
     "name": "stderr",
     "output_type": "stream",
     "text": [
      "100%|██████████| 50/50 [00:00<00:00, 17742.40it/s]\n"
     ]
    },
    {
     "name": "stdout",
     "output_type": "stream",
     "text": [
      "social welfare: 36765.6328582298\n",
      "number of allocated tasks: 50\n",
      "seed = 396\n"
     ]
    },
    {
     "name": "stderr",
     "output_type": "stream",
     "text": [
      "100%|██████████| 50/50 [00:00<00:00, 14171.86it/s]\n"
     ]
    },
    {
     "name": "stdout",
     "output_type": "stream",
     "text": [
      "social welfare: 44859.016182362844\n",
      "number of allocated tasks: 50\n",
      "seed = 397\n"
     ]
    },
    {
     "name": "stderr",
     "output_type": "stream",
     "text": [
      "100%|██████████| 50/50 [00:00<00:00, 20500.02it/s]\n"
     ]
    },
    {
     "name": "stdout",
     "output_type": "stream",
     "text": [
      "social welfare: 37969.97847640684\n",
      "number of allocated tasks: 50\n",
      "seed = 398\n"
     ]
    },
    {
     "name": "stderr",
     "output_type": "stream",
     "text": [
      "100%|██████████| 50/50 [00:00<00:00, 21571.20it/s]\n"
     ]
    },
    {
     "name": "stdout",
     "output_type": "stream",
     "text": [
      "social welfare: 41149.71107359034\n",
      "number of allocated tasks: 50\n",
      "seed = 399\n"
     ]
    },
    {
     "name": "stderr",
     "output_type": "stream",
     "text": [
      "100%|██████████| 50/50 [00:00<00:00, 21562.33it/s]\n"
     ]
    },
    {
     "name": "stdout",
     "output_type": "stream",
     "text": [
      "social welfare: 38742.4115857754\n",
      "number of allocated tasks: 50\n",
      "seed = 400\n"
     ]
    },
    {
     "name": "stderr",
     "output_type": "stream",
     "text": [
      "100%|██████████| 50/50 [00:00<00:00, 21095.99it/s]\n"
     ]
    },
    {
     "name": "stdout",
     "output_type": "stream",
     "text": [
      "social welfare: 40994.13266647452\n",
      "number of allocated tasks: 50\n",
      "seed = 401\n"
     ]
    },
    {
     "name": "stderr",
     "output_type": "stream",
     "text": [
      "100%|██████████| 50/50 [00:00<00:00, 19187.12it/s]\n"
     ]
    },
    {
     "name": "stdout",
     "output_type": "stream",
     "text": [
      "social welfare: 37646.82446371601\n",
      "number of allocated tasks: 50\n",
      "seed = 402\n"
     ]
    },
    {
     "name": "stderr",
     "output_type": "stream",
     "text": [
      "100%|██████████| 50/50 [00:00<00:00, 15023.65it/s]\n"
     ]
    },
    {
     "name": "stdout",
     "output_type": "stream",
     "text": [
      "social welfare: 39473.59912942311\n",
      "number of allocated tasks: 50\n",
      "seed = 403\n"
     ]
    },
    {
     "name": "stderr",
     "output_type": "stream",
     "text": [
      "100%|██████████| 50/50 [00:00<00:00, 15179.15it/s]\n"
     ]
    },
    {
     "name": "stdout",
     "output_type": "stream",
     "text": [
      "social welfare: 45281.18059609905\n",
      "number of allocated tasks: 50\n",
      "seed = 404\n"
     ]
    },
    {
     "name": "stderr",
     "output_type": "stream",
     "text": [
      "100%|██████████| 50/50 [00:00<00:00, 21900.08it/s]\n"
     ]
    },
    {
     "name": "stdout",
     "output_type": "stream",
     "text": [
      "social welfare: 38740.50904760569\n",
      "number of allocated tasks: 50\n",
      "seed = 405\n"
     ]
    },
    {
     "name": "stderr",
     "output_type": "stream",
     "text": [
      "100%|██████████| 50/50 [00:00<00:00, 23418.78it/s]\n"
     ]
    },
    {
     "name": "stdout",
     "output_type": "stream",
     "text": [
      "social welfare: 35859.794016929016\n",
      "number of allocated tasks: 50\n",
      "seed = 406\n"
     ]
    },
    {
     "name": "stderr",
     "output_type": "stream",
     "text": [
      "100%|██████████| 50/50 [00:00<00:00, 18580.24it/s]\n"
     ]
    },
    {
     "name": "stdout",
     "output_type": "stream",
     "text": [
      "social welfare: 36758.36072285642\n",
      "number of allocated tasks: 50\n",
      "seed = 407\n"
     ]
    },
    {
     "name": "stderr",
     "output_type": "stream",
     "text": [
      "100%|██████████| 50/50 [00:00<00:00, 18524.44it/s]\n"
     ]
    },
    {
     "name": "stdout",
     "output_type": "stream",
     "text": [
      "social welfare: 40397.806469870804\n",
      "number of allocated tasks: 50\n",
      "seed = 408\n"
     ]
    },
    {
     "name": "stderr",
     "output_type": "stream",
     "text": [
      "100%|██████████| 50/50 [00:00<00:00, 21588.96it/s]\n"
     ]
    },
    {
     "name": "stdout",
     "output_type": "stream",
     "text": [
      "social welfare: 40967.034129707616\n",
      "number of allocated tasks: 50\n",
      "seed = 409\n"
     ]
    },
    {
     "name": "stderr",
     "output_type": "stream",
     "text": [
      "100%|██████████| 50/50 [00:00<00:00, 17712.43it/s]\n"
     ]
    },
    {
     "name": "stdout",
     "output_type": "stream",
     "text": [
      "social welfare: 40707.52186780641\n",
      "number of allocated tasks: 50\n",
      "seed = 410\n"
     ]
    },
    {
     "name": "stderr",
     "output_type": "stream",
     "text": [
      "100%|██████████| 50/50 [00:00<00:00, 21395.14it/s]\n"
     ]
    },
    {
     "name": "stdout",
     "output_type": "stream",
     "text": [
      "social welfare: 38174.33081040676\n",
      "number of allocated tasks: 50\n",
      "seed = 411\n"
     ]
    },
    {
     "name": "stderr",
     "output_type": "stream",
     "text": [
      "100%|██████████| 50/50 [00:00<00:00, 20301.57it/s]\n"
     ]
    },
    {
     "name": "stdout",
     "output_type": "stream",
     "text": [
      "social welfare: 34486.52754179469\n",
      "number of allocated tasks: 50\n",
      "seed = 412\n"
     ]
    },
    {
     "name": "stderr",
     "output_type": "stream",
     "text": [
      "100%|██████████| 50/50 [00:00<00:00, 15228.76it/s]\n"
     ]
    },
    {
     "name": "stdout",
     "output_type": "stream",
     "text": [
      "social welfare: 34786.22393743171\n",
      "number of allocated tasks: 50\n",
      "seed = 413\n"
     ]
    },
    {
     "name": "stderr",
     "output_type": "stream",
     "text": [
      "100%|██████████| 50/50 [00:00<00:00, 22654.77it/s]\n"
     ]
    },
    {
     "name": "stdout",
     "output_type": "stream",
     "text": [
      "social welfare: 40218.961499188685\n",
      "number of allocated tasks: 50\n",
      "seed = 414\n"
     ]
    },
    {
     "name": "stderr",
     "output_type": "stream",
     "text": [
      "100%|██████████| 50/50 [00:00<00:00, 22451.04it/s]\n"
     ]
    },
    {
     "name": "stdout",
     "output_type": "stream",
     "text": [
      "social welfare: 43326.61279551766\n",
      "number of allocated tasks: 50\n",
      "seed = 415\n"
     ]
    },
    {
     "name": "stderr",
     "output_type": "stream",
     "text": [
      "100%|██████████| 50/50 [00:00<00:00, 22068.32it/s]\n"
     ]
    },
    {
     "name": "stdout",
     "output_type": "stream",
     "text": [
      "social welfare: 38289.1423652075\n",
      "number of allocated tasks: 50\n",
      "seed = 416\n"
     ]
    },
    {
     "name": "stderr",
     "output_type": "stream",
     "text": [
      "100%|██████████| 50/50 [00:00<00:00, 23683.25it/s]\n"
     ]
    },
    {
     "name": "stdout",
     "output_type": "stream",
     "text": [
      "social welfare: 37076.95734768192\n",
      "number of allocated tasks: 50\n",
      "seed = 417\n"
     ]
    },
    {
     "name": "stderr",
     "output_type": "stream",
     "text": [
      "100%|██████████| 50/50 [00:00<00:00, 17973.53it/s]\n"
     ]
    },
    {
     "name": "stdout",
     "output_type": "stream",
     "text": [
      "social welfare: 37923.882348838\n",
      "number of allocated tasks: 50\n",
      "seed = 418\n"
     ]
    },
    {
     "name": "stderr",
     "output_type": "stream",
     "text": [
      "100%|██████████| 50/50 [00:00<00:00, 24591.37it/s]\n"
     ]
    },
    {
     "name": "stdout",
     "output_type": "stream",
     "text": [
      "social welfare: 38565.348145646276\n",
      "number of allocated tasks: 50\n",
      "seed = 419\n"
     ]
    },
    {
     "name": "stderr",
     "output_type": "stream",
     "text": [
      "100%|██████████| 50/50 [00:00<00:00, 24236.13it/s]\n"
     ]
    },
    {
     "name": "stdout",
     "output_type": "stream",
     "text": [
      "social welfare: 38488.45367886861\n",
      "number of allocated tasks: 50\n",
      "seed = 420\n"
     ]
    },
    {
     "name": "stderr",
     "output_type": "stream",
     "text": [
      "100%|██████████| 50/50 [00:00<00:00, 18623.14it/s]\n"
     ]
    },
    {
     "name": "stdout",
     "output_type": "stream",
     "text": [
      "social welfare: 39339.06111647671\n",
      "number of allocated tasks: 50\n",
      "seed = 421\n"
     ]
    },
    {
     "name": "stderr",
     "output_type": "stream",
     "text": [
      "100%|██████████| 50/50 [00:00<00:00, 20186.27it/s]\n"
     ]
    },
    {
     "name": "stdout",
     "output_type": "stream",
     "text": [
      "social welfare: 40876.786773210304\n",
      "number of allocated tasks: 50\n",
      "seed = 422\n"
     ]
    },
    {
     "name": "stderr",
     "output_type": "stream",
     "text": [
      "100%|██████████| 50/50 [00:00<00:00, 17593.56it/s]\n"
     ]
    },
    {
     "name": "stdout",
     "output_type": "stream",
     "text": [
      "social welfare: 45117.743816352246\n",
      "number of allocated tasks: 50\n",
      "seed = 423\n"
     ]
    },
    {
     "name": "stderr",
     "output_type": "stream",
     "text": [
      "100%|██████████| 50/50 [00:00<00:00, 20910.88it/s]\n"
     ]
    },
    {
     "name": "stdout",
     "output_type": "stream",
     "text": [
      "social welfare: 37875.55645698624\n",
      "number of allocated tasks: 50\n",
      "seed = 424\n"
     ]
    },
    {
     "name": "stderr",
     "output_type": "stream",
     "text": [
      "100%|██████████| 50/50 [00:00<00:00, 22790.18it/s]\n"
     ]
    },
    {
     "name": "stdout",
     "output_type": "stream",
     "text": [
      "social welfare: 40866.27337600513\n",
      "number of allocated tasks: 50\n",
      "seed = 425\n"
     ]
    },
    {
     "name": "stderr",
     "output_type": "stream",
     "text": [
      "100%|██████████| 50/50 [00:00<00:00, 21432.31it/s]\n"
     ]
    },
    {
     "name": "stdout",
     "output_type": "stream",
     "text": [
      "social welfare: 37238.090892058375\n",
      "number of allocated tasks: 50\n",
      "seed = 426\n"
     ]
    },
    {
     "name": "stderr",
     "output_type": "stream",
     "text": [
      "100%|██████████| 50/50 [00:00<00:00, 21441.08it/s]\n"
     ]
    },
    {
     "name": "stdout",
     "output_type": "stream",
     "text": [
      "social welfare: 41702.7297268533\n",
      "number of allocated tasks: 50\n",
      "seed = 427\n"
     ]
    },
    {
     "name": "stderr",
     "output_type": "stream",
     "text": [
      "100%|██████████| 50/50 [00:00<00:00, 23442.34it/s]\n"
     ]
    },
    {
     "name": "stdout",
     "output_type": "stream",
     "text": [
      "social welfare: 43613.94967955268\n",
      "number of allocated tasks: 50\n",
      "seed = 428\n"
     ]
    },
    {
     "name": "stderr",
     "output_type": "stream",
     "text": [
      "100%|██████████| 50/50 [00:00<00:00, 21395.14it/s]\n"
     ]
    },
    {
     "name": "stdout",
     "output_type": "stream",
     "text": [
      "social welfare: 36250.20097890417\n",
      "number of allocated tasks: 50\n",
      "seed = 429\n"
     ]
    },
    {
     "name": "stderr",
     "output_type": "stream",
     "text": [
      "100%|██████████| 50/50 [00:00<00:00, 19166.08it/s]\n"
     ]
    },
    {
     "name": "stdout",
     "output_type": "stream",
     "text": [
      "social welfare: 36328.44399397749\n",
      "number of allocated tasks: 50\n",
      "seed = 430\n"
     ]
    },
    {
     "name": "stderr",
     "output_type": "stream",
     "text": [
      "100%|██████████| 50/50 [00:00<00:00, 22161.60it/s]\n"
     ]
    },
    {
     "name": "stdout",
     "output_type": "stream",
     "text": [
      "social welfare: 37822.31239181693\n",
      "number of allocated tasks: 50\n",
      "seed = 431\n"
     ]
    },
    {
     "name": "stderr",
     "output_type": "stream",
     "text": [
      "100%|██████████| 50/50 [00:00<00:00, 23937.36it/s]\n"
     ]
    },
    {
     "name": "stdout",
     "output_type": "stream",
     "text": [
      "social welfare: 42283.22063571026\n",
      "number of allocated tasks: 50\n",
      "seed = 432\n"
     ]
    },
    {
     "name": "stderr",
     "output_type": "stream",
     "text": [
      "100%|██████████| 50/50 [00:00<00:00, 20852.66it/s]\n"
     ]
    },
    {
     "name": "stdout",
     "output_type": "stream",
     "text": [
      "social welfare: 37582.62969413481\n",
      "number of allocated tasks: 50\n",
      "seed = 433\n"
     ]
    },
    {
     "name": "stderr",
     "output_type": "stream",
     "text": [
      "100%|██████████| 50/50 [00:00<00:00, 23753.00it/s]\n"
     ]
    },
    {
     "name": "stdout",
     "output_type": "stream",
     "text": [
      "social welfare: 40355.26611435565\n",
      "number of allocated tasks: 50\n",
      "seed = 434\n"
     ]
    },
    {
     "name": "stderr",
     "output_type": "stream",
     "text": [
      "100%|██████████| 50/50 [00:00<00:00, 17543.52it/s]\n"
     ]
    },
    {
     "name": "stdout",
     "output_type": "stream",
     "text": [
      "social welfare: 37572.34760597377\n",
      "number of allocated tasks: 50\n",
      "seed = 435\n"
     ]
    },
    {
     "name": "stderr",
     "output_type": "stream",
     "text": [
      "100%|██████████| 50/50 [00:00<00:00, 20317.30it/s]\n"
     ]
    },
    {
     "name": "stdout",
     "output_type": "stream",
     "text": [
      "social welfare: 38723.73339646518\n",
      "number of allocated tasks: 50\n",
      "seed = 436\n"
     ]
    },
    {
     "name": "stderr",
     "output_type": "stream",
     "text": [
      "100%|██████████| 50/50 [00:00<00:00, 23529.14it/s]\n"
     ]
    },
    {
     "name": "stdout",
     "output_type": "stream",
     "text": [
      "social welfare: 42258.42521140299\n",
      "number of allocated tasks: 50\n",
      "seed = 437\n"
     ]
    },
    {
     "name": "stderr",
     "output_type": "stream",
     "text": [
      "100%|██████████| 50/50 [00:00<00:00, 17786.04it/s]\n"
     ]
    },
    {
     "name": "stdout",
     "output_type": "stream",
     "text": [
      "social welfare: 39843.03497939745\n",
      "number of allocated tasks: 50\n",
      "seed = 438\n"
     ]
    },
    {
     "name": "stderr",
     "output_type": "stream",
     "text": [
      "100%|██████████| 50/50 [00:00<00:00, 20852.66it/s]\n"
     ]
    },
    {
     "name": "stdout",
     "output_type": "stream",
     "text": [
      "social welfare: 38517.3067659424\n",
      "number of allocated tasks: 50\n",
      "seed = 439\n"
     ]
    },
    {
     "name": "stderr",
     "output_type": "stream",
     "text": [
      "100%|██████████| 50/50 [00:00<00:00, 22163.94it/s]\n"
     ]
    },
    {
     "name": "stdout",
     "output_type": "stream",
     "text": [
      "social welfare: 35468.71211614321\n",
      "number of allocated tasks: 50\n",
      "seed = 440\n"
     ]
    },
    {
     "name": "stderr",
     "output_type": "stream",
     "text": [
      "100%|██████████| 50/50 [00:00<00:00, 23160.15it/s]\n"
     ]
    },
    {
     "name": "stdout",
     "output_type": "stream",
     "text": [
      "social welfare: 34971.84156653644\n",
      "number of allocated tasks: 50\n",
      "seed = 441\n"
     ]
    },
    {
     "name": "stderr",
     "output_type": "stream",
     "text": [
      "100%|██████████| 50/50 [00:00<00:00, 23452.83it/s]\n"
     ]
    },
    {
     "name": "stdout",
     "output_type": "stream",
     "text": [
      "social welfare: 41351.23366721038\n",
      "number of allocated tasks: 50\n",
      "seed = 442\n"
     ]
    },
    {
     "name": "stderr",
     "output_type": "stream",
     "text": [
      "100%|██████████| 50/50 [00:00<00:00, 22603.49it/s]\n"
     ]
    },
    {
     "name": "stdout",
     "output_type": "stream",
     "text": [
      "social welfare: 35934.11114279695\n",
      "number of allocated tasks: 50\n",
      "seed = 443\n"
     ]
    },
    {
     "name": "stderr",
     "output_type": "stream",
     "text": [
      "100%|██████████| 50/50 [00:00<00:00, 23820.45it/s]\n"
     ]
    },
    {
     "name": "stdout",
     "output_type": "stream",
     "text": [
      "social welfare: 38186.91068961765\n",
      "number of allocated tasks: 50\n",
      "seed = 444\n"
     ]
    },
    {
     "name": "stderr",
     "output_type": "stream",
     "text": [
      "100%|██████████| 50/50 [00:00<00:00, 15560.97it/s]\n"
     ]
    },
    {
     "name": "stdout",
     "output_type": "stream",
     "text": [
      "social welfare: 41224.685673424305\n",
      "number of allocated tasks: 50\n",
      "seed = 445\n"
     ]
    },
    {
     "name": "stderr",
     "output_type": "stream",
     "text": [
      "100%|██████████| 50/50 [00:00<00:00, 22937.24it/s]\n"
     ]
    },
    {
     "name": "stdout",
     "output_type": "stream",
     "text": [
      "social welfare: 44605.33462357099\n",
      "number of allocated tasks: 50\n",
      "seed = 446\n"
     ]
    },
    {
     "name": "stderr",
     "output_type": "stream",
     "text": [
      "100%|██████████| 50/50 [00:00<00:00, 21441.08it/s]\n"
     ]
    },
    {
     "name": "stdout",
     "output_type": "stream",
     "text": [
      "social welfare: 39041.22588725179\n",
      "number of allocated tasks: 50\n",
      "seed = 447\n"
     ]
    },
    {
     "name": "stderr",
     "output_type": "stream",
     "text": [
      "100%|██████████| 50/50 [00:00<00:00, 19887.64it/s]\n"
     ]
    },
    {
     "name": "stdout",
     "output_type": "stream",
     "text": [
      "social welfare: 34097.10219122676\n",
      "number of allocated tasks: 50\n",
      "seed = 448\n"
     ]
    },
    {
     "name": "stderr",
     "output_type": "stream",
     "text": [
      "100%|██████████| 50/50 [00:00<00:00, 17953.53it/s]\n"
     ]
    },
    {
     "name": "stdout",
     "output_type": "stream",
     "text": [
      "social welfare: 35302.62313222856\n",
      "number of allocated tasks: 50\n",
      "seed = 449\n"
     ]
    },
    {
     "name": "stderr",
     "output_type": "stream",
     "text": [
      "100%|██████████| 50/50 [00:00<00:00, 20608.81it/s]\n"
     ]
    },
    {
     "name": "stdout",
     "output_type": "stream",
     "text": [
      "social welfare: 40272.92644431872\n",
      "number of allocated tasks: 50\n",
      "seed = 450\n"
     ]
    },
    {
     "name": "stderr",
     "output_type": "stream",
     "text": [
      "100%|██████████| 50/50 [00:00<00:00, 19723.05it/s]\n"
     ]
    },
    {
     "name": "stdout",
     "output_type": "stream",
     "text": [
      "social welfare: 39243.18094319138\n",
      "number of allocated tasks: 50\n",
      "seed = 451\n"
     ]
    },
    {
     "name": "stderr",
     "output_type": "stream",
     "text": [
      "100%|██████████| 50/50 [00:00<00:00, 24030.62it/s]\n"
     ]
    },
    {
     "name": "stdout",
     "output_type": "stream",
     "text": [
      "social welfare: 40176.50301951743\n",
      "number of allocated tasks: 50\n",
      "seed = 452\n"
     ]
    },
    {
     "name": "stderr",
     "output_type": "stream",
     "text": [
      "100%|██████████| 50/50 [00:00<00:00, 18545.74it/s]\n"
     ]
    },
    {
     "name": "stdout",
     "output_type": "stream",
     "text": [
      "social welfare: 37300.07160932778\n",
      "number of allocated tasks: 50\n",
      "seed = 453\n"
     ]
    },
    {
     "name": "stderr",
     "output_type": "stream",
     "text": [
      "100%|██████████| 50/50 [00:00<00:00, 19425.27it/s]\n"
     ]
    },
    {
     "name": "stdout",
     "output_type": "stream",
     "text": [
      "social welfare: 42405.66940340548\n",
      "number of allocated tasks: 50\n",
      "seed = 454\n"
     ]
    },
    {
     "name": "stderr",
     "output_type": "stream",
     "text": [
      "100%|██████████| 50/50 [00:00<00:00, 15327.82it/s]\n"
     ]
    },
    {
     "name": "stdout",
     "output_type": "stream",
     "text": [
      "social welfare: 33761.995750579525\n",
      "number of allocated tasks: 50\n",
      "seed = 455\n"
     ]
    },
    {
     "name": "stderr",
     "output_type": "stream",
     "text": [
      "100%|██████████| 50/50 [00:00<00:00, 22482.33it/s]\n"
     ]
    },
    {
     "name": "stdout",
     "output_type": "stream",
     "text": [
      "social welfare: 40644.32413482997\n",
      "number of allocated tasks: 50\n",
      "seed = 456\n"
     ]
    },
    {
     "name": "stderr",
     "output_type": "stream",
     "text": [
      "100%|██████████| 50/50 [00:00<00:00, 20064.60it/s]\n"
     ]
    },
    {
     "name": "stdout",
     "output_type": "stream",
     "text": [
      "social welfare: 40112.32924247535\n",
      "number of allocated tasks: 50\n",
      "seed = 457\n"
     ]
    },
    {
     "name": "stderr",
     "output_type": "stream",
     "text": [
      "100%|██████████| 50/50 [00:00<00:00, 24789.03it/s]\n"
     ]
    },
    {
     "name": "stdout",
     "output_type": "stream",
     "text": [
      "social welfare: 37714.50322525677\n",
      "number of allocated tasks: 50\n",
      "seed = 458\n"
     ]
    },
    {
     "name": "stderr",
     "output_type": "stream",
     "text": [
      "100%|██████████| 50/50 [00:00<00:00, 12527.79it/s]\n"
     ]
    },
    {
     "name": "stdout",
     "output_type": "stream",
     "text": [
      "social welfare: 38253.48799209316\n",
      "number of allocated tasks: 50\n",
      "seed = 459\n"
     ]
    },
    {
     "name": "stderr",
     "output_type": "stream",
     "text": [
      "100%|██████████| 50/50 [00:00<00:00, 19553.86it/s]\n"
     ]
    },
    {
     "name": "stdout",
     "output_type": "stream",
     "text": [
      "social welfare: 37358.931611914835\n",
      "number of allocated tasks: 50\n",
      "seed = 460\n"
     ]
    },
    {
     "name": "stderr",
     "output_type": "stream",
     "text": [
      "100%|██████████| 50/50 [00:00<00:00, 21213.35it/s]\n"
     ]
    },
    {
     "name": "stdout",
     "output_type": "stream",
     "text": [
      "social welfare: 38070.01333454285\n",
      "number of allocated tasks: 50\n",
      "seed = 461\n"
     ]
    },
    {
     "name": "stderr",
     "output_type": "stream",
     "text": [
      "100%|██████████| 50/50 [00:00<00:00, 23574.10it/s]\n"
     ]
    },
    {
     "name": "stdout",
     "output_type": "stream",
     "text": [
      "social welfare: 38167.717239830126\n",
      "number of allocated tasks: 50\n",
      "seed = 462\n"
     ]
    },
    {
     "name": "stderr",
     "output_type": "stream",
     "text": [
      "100%|██████████| 50/50 [00:00<00:00, 22312.50it/s]\n"
     ]
    },
    {
     "name": "stdout",
     "output_type": "stream",
     "text": [
      "social welfare: 37486.95101807068\n",
      "number of allocated tasks: 50\n",
      "seed = 463\n"
     ]
    },
    {
     "name": "stderr",
     "output_type": "stream",
     "text": [
      "100%|██████████| 50/50 [00:00<00:00, 19387.56it/s]\n"
     ]
    },
    {
     "name": "stdout",
     "output_type": "stream",
     "text": [
      "social welfare: 38217.76832015114\n",
      "number of allocated tasks: 50\n",
      "seed = 464\n"
     ]
    },
    {
     "name": "stderr",
     "output_type": "stream",
     "text": [
      "100%|██████████| 50/50 [00:00<00:00, 21966.61it/s]\n"
     ]
    },
    {
     "name": "stdout",
     "output_type": "stream",
     "text": [
      "social welfare: 40988.16006666256\n",
      "number of allocated tasks: 50\n",
      "seed = 465\n"
     ]
    },
    {
     "name": "stderr",
     "output_type": "stream",
     "text": [
      "100%|██████████| 50/50 [00:00<00:00, 19266.44it/s]\n"
     ]
    },
    {
     "name": "stdout",
     "output_type": "stream",
     "text": [
      "social welfare: 35233.64135716426\n",
      "number of allocated tasks: 50\n",
      "seed = 466\n"
     ]
    },
    {
     "name": "stderr",
     "output_type": "stream",
     "text": [
      "100%|██████████| 50/50 [00:00<00:00, 20688.09it/s]\n"
     ]
    },
    {
     "name": "stdout",
     "output_type": "stream",
     "text": [
      "social welfare: 37352.369165954115\n",
      "number of allocated tasks: 50\n",
      "seed = 467\n"
     ]
    },
    {
     "name": "stderr",
     "output_type": "stream",
     "text": [
      "100%|██████████| 50/50 [00:00<00:00, 20137.81it/s]\n"
     ]
    },
    {
     "name": "stdout",
     "output_type": "stream",
     "text": [
      "social welfare: 35291.979653169095\n",
      "number of allocated tasks: 50\n",
      "seed = 468\n"
     ]
    },
    {
     "name": "stderr",
     "output_type": "stream",
     "text": [
      "100%|██████████| 50/50 [00:00<00:00, 21852.16it/s]\n"
     ]
    },
    {
     "name": "stdout",
     "output_type": "stream",
     "text": [
      "social welfare: 40861.15568048264\n",
      "number of allocated tasks: 50\n",
      "seed = 469\n"
     ]
    },
    {
     "name": "stderr",
     "output_type": "stream",
     "text": [
      "100%|██████████| 50/50 [00:00<00:00, 16965.88it/s]\n"
     ]
    },
    {
     "name": "stdout",
     "output_type": "stream",
     "text": [
      "social welfare: 42517.68039353356\n",
      "number of allocated tasks: 50\n",
      "seed = 470\n"
     ]
    },
    {
     "name": "stderr",
     "output_type": "stream",
     "text": [
      "100%|██████████| 50/50 [00:00<00:00, 17951.99it/s]\n"
     ]
    },
    {
     "name": "stdout",
     "output_type": "stream",
     "text": [
      "social welfare: 34175.06701107396\n",
      "number of allocated tasks: 50\n",
      "seed = 471\n"
     ]
    },
    {
     "name": "stderr",
     "output_type": "stream",
     "text": [
      "100%|██████████| 50/50 [00:00<00:00, 16711.71it/s]\n"
     ]
    },
    {
     "name": "stdout",
     "output_type": "stream",
     "text": [
      "social welfare: 43577.1346627229\n",
      "number of allocated tasks: 50\n",
      "seed = 472\n"
     ]
    },
    {
     "name": "stderr",
     "output_type": "stream",
     "text": [
      "100%|██████████| 50/50 [00:00<00:00, 17170.07it/s]\n"
     ]
    },
    {
     "name": "stdout",
     "output_type": "stream",
     "text": [
      "social welfare: 37920.42950980702\n",
      "number of allocated tasks: 50\n",
      "seed = 473\n"
     ]
    },
    {
     "name": "stderr",
     "output_type": "stream",
     "text": [
      "100%|██████████| 50/50 [00:00<00:00, 17835.96it/s]\n"
     ]
    },
    {
     "name": "stdout",
     "output_type": "stream",
     "text": [
      "social welfare: 38930.68225976794\n",
      "number of allocated tasks: 50\n",
      "seed = 474\n"
     ]
    },
    {
     "name": "stderr",
     "output_type": "stream",
     "text": [
      "100%|██████████| 50/50 [00:00<00:00, 18832.18it/s]\n"
     ]
    },
    {
     "name": "stdout",
     "output_type": "stream",
     "text": [
      "social welfare: 38266.31517613486\n",
      "number of allocated tasks: 50\n",
      "seed = 475\n"
     ]
    },
    {
     "name": "stderr",
     "output_type": "stream",
     "text": [
      "100%|██████████| 50/50 [00:00<00:00, 16539.05it/s]\n"
     ]
    },
    {
     "name": "stdout",
     "output_type": "stream",
     "text": [
      "social welfare: 37503.942897739515\n",
      "number of allocated tasks: 50\n",
      "seed = 476\n"
     ]
    },
    {
     "name": "stderr",
     "output_type": "stream",
     "text": [
      "100%|██████████| 50/50 [00:00<00:00, 20168.80it/s]\n"
     ]
    },
    {
     "name": "stdout",
     "output_type": "stream",
     "text": [
      "social welfare: 34570.84419715928\n",
      "number of allocated tasks: 50\n",
      "seed = 477\n"
     ]
    },
    {
     "name": "stderr",
     "output_type": "stream",
     "text": [
      "100%|██████████| 50/50 [00:00<00:00, 22987.53it/s]\n"
     ]
    },
    {
     "name": "stdout",
     "output_type": "stream",
     "text": [
      "social welfare: 39697.16309577161\n",
      "number of allocated tasks: 50\n",
      "seed = 478\n"
     ]
    },
    {
     "name": "stderr",
     "output_type": "stream",
     "text": [
      "100%|██████████| 50/50 [00:00<00:00, 23325.01it/s]\n"
     ]
    },
    {
     "name": "stdout",
     "output_type": "stream",
     "text": [
      "social welfare: 36531.8708953907\n",
      "number of allocated tasks: 50\n",
      "seed = 479\n"
     ]
    },
    {
     "name": "stderr",
     "output_type": "stream",
     "text": [
      "100%|██████████| 50/50 [00:00<00:00, 23563.51it/s]\n"
     ]
    },
    {
     "name": "stdout",
     "output_type": "stream",
     "text": [
      "social welfare: 39116.56267095889\n",
      "number of allocated tasks: 50\n",
      "seed = 480\n"
     ]
    },
    {
     "name": "stderr",
     "output_type": "stream",
     "text": [
      "100%|██████████| 50/50 [00:00<00:00, 16539.05it/s]\n"
     ]
    },
    {
     "name": "stdout",
     "output_type": "stream",
     "text": [
      "social welfare: 33075.20016490973\n",
      "number of allocated tasks: 50\n",
      "seed = 481\n"
     ]
    },
    {
     "name": "stderr",
     "output_type": "stream",
     "text": [
      "100%|██████████| 50/50 [00:00<00:00, 20661.60it/s]\n"
     ]
    },
    {
     "name": "stdout",
     "output_type": "stream",
     "text": [
      "social welfare: 39223.52478051794\n",
      "number of allocated tasks: 50\n",
      "seed = 482\n"
     ]
    },
    {
     "name": "stderr",
     "output_type": "stream",
     "text": [
      "100%|██████████| 50/50 [00:00<00:00, 24071.99it/s]\n"
     ]
    },
    {
     "name": "stdout",
     "output_type": "stream",
     "text": [
      "social welfare: 38896.586348767196\n",
      "number of allocated tasks: 50\n",
      "seed = 483\n"
     ]
    },
    {
     "name": "stderr",
     "output_type": "stream",
     "text": [
      "100%|██████████| 50/50 [00:00<00:00, 22957.33it/s]\n"
     ]
    },
    {
     "name": "stdout",
     "output_type": "stream",
     "text": [
      "social welfare: 36460.962630473274\n",
      "number of allocated tasks: 50\n",
      "seed = 484\n"
     ]
    },
    {
     "name": "stderr",
     "output_type": "stream",
     "text": [
      "100%|██████████| 50/50 [00:00<00:00, 17935.11it/s]\n"
     ]
    },
    {
     "name": "stdout",
     "output_type": "stream",
     "text": [
      "social welfare: 38174.39144857657\n",
      "number of allocated tasks: 50\n",
      "seed = 485\n"
     ]
    },
    {
     "name": "stderr",
     "output_type": "stream",
     "text": [
      "100%|██████████| 50/50 [00:00<00:00, 22105.53it/s]\n"
     ]
    },
    {
     "name": "stdout",
     "output_type": "stream",
     "text": [
      "social welfare: 38976.653126581055\n",
      "number of allocated tasks: 50\n",
      "seed = 486\n"
     ]
    },
    {
     "name": "stderr",
     "output_type": "stream",
     "text": [
      "100%|██████████| 50/50 [00:00<00:00, 21081.14it/s]\n"
     ]
    },
    {
     "name": "stdout",
     "output_type": "stream",
     "text": [
      "social welfare: 35939.75985254927\n",
      "number of allocated tasks: 50\n",
      "seed = 487\n"
     ]
    },
    {
     "name": "stderr",
     "output_type": "stream",
     "text": [
      "100%|██████████| 50/50 [00:00<00:00, 22213.24it/s]\n"
     ]
    },
    {
     "name": "stdout",
     "output_type": "stream",
     "text": [
      "social welfare: 34613.27605674143\n",
      "number of allocated tasks: 50\n",
      "seed = 488\n"
     ]
    },
    {
     "name": "stderr",
     "output_type": "stream",
     "text": [
      "100%|██████████| 50/50 [00:00<00:00, 22140.54it/s]\n"
     ]
    },
    {
     "name": "stdout",
     "output_type": "stream",
     "text": [
      "social welfare: 39640.250766966594\n",
      "number of allocated tasks: 50\n",
      "seed = 489\n"
     ]
    },
    {
     "name": "stderr",
     "output_type": "stream",
     "text": [
      "100%|██████████| 50/50 [00:00<00:00, 18069.55it/s]\n"
     ]
    },
    {
     "name": "stdout",
     "output_type": "stream",
     "text": [
      "social welfare: 34982.307324639616\n",
      "number of allocated tasks: 50\n",
      "seed = 490\n"
     ]
    },
    {
     "name": "stderr",
     "output_type": "stream",
     "text": [
      "100%|██████████| 50/50 [00:00<00:00, 19961.47it/s]\n"
     ]
    },
    {
     "name": "stdout",
     "output_type": "stream",
     "text": [
      "social welfare: 35777.21092109286\n",
      "number of allocated tasks: 50\n",
      "seed = 491\n"
     ]
    },
    {
     "name": "stderr",
     "output_type": "stream",
     "text": [
      "100%|██████████| 50/50 [00:00<00:00, 20209.62it/s]\n"
     ]
    },
    {
     "name": "stdout",
     "output_type": "stream",
     "text": [
      "social welfare: 39864.73117887266\n",
      "number of allocated tasks: 50\n",
      "seed = 492\n"
     ]
    },
    {
     "name": "stderr",
     "output_type": "stream",
     "text": [
      "100%|██████████| 50/50 [00:00<00:00, 18293.37it/s]\n"
     ]
    },
    {
     "name": "stdout",
     "output_type": "stream",
     "text": [
      "social welfare: 40241.892790789265\n",
      "number of allocated tasks: 50\n",
      "seed = 493\n"
     ]
    },
    {
     "name": "stderr",
     "output_type": "stream",
     "text": [
      "100%|██████████| 50/50 [00:00<00:00, 20728.99it/s]\n"
     ]
    },
    {
     "name": "stdout",
     "output_type": "stream",
     "text": [
      "social welfare: 40146.699341558204\n",
      "number of allocated tasks: 50\n",
      "seed = 494\n"
     ]
    },
    {
     "name": "stderr",
     "output_type": "stream",
     "text": [
      "100%|██████████| 50/50 [00:00<00:00, 18593.42it/s]\n"
     ]
    },
    {
     "name": "stdout",
     "output_type": "stream",
     "text": [
      "social welfare: 38575.59911852736\n",
      "number of allocated tasks: 50\n",
      "seed = 495\n"
     ]
    },
    {
     "name": "stderr",
     "output_type": "stream",
     "text": [
      "100%|██████████| 50/50 [00:00<00:00, 21720.89it/s]\n"
     ]
    },
    {
     "name": "stdout",
     "output_type": "stream",
     "text": [
      "social welfare: 40578.90472460294\n",
      "number of allocated tasks: 50\n",
      "seed = 496\n"
     ]
    },
    {
     "name": "stderr",
     "output_type": "stream",
     "text": [
      "100%|██████████| 50/50 [00:00<00:00, 23685.93it/s]\n"
     ]
    },
    {
     "name": "stdout",
     "output_type": "stream",
     "text": [
      "social welfare: 40739.89907979144\n",
      "number of allocated tasks: 50\n",
      "seed = 497\n"
     ]
    },
    {
     "name": "stderr",
     "output_type": "stream",
     "text": [
      "100%|██████████| 50/50 [00:00<00:00, 24815.43it/s]\n"
     ]
    },
    {
     "name": "stdout",
     "output_type": "stream",
     "text": [
      "social welfare: 36822.6011447913\n",
      "number of allocated tasks: 50\n",
      "seed = 498\n"
     ]
    },
    {
     "name": "stderr",
     "output_type": "stream",
     "text": [
      "100%|██████████| 50/50 [00:00<00:00, 18096.06it/s]\n"
     ]
    },
    {
     "name": "stdout",
     "output_type": "stream",
     "text": [
      "social welfare: 38264.22102487491\n",
      "number of allocated tasks: 50\n",
      "seed = 499\n"
     ]
    },
    {
     "name": "stderr",
     "output_type": "stream",
     "text": [
      "100%|██████████| 50/50 [00:00<00:00, 20998.82it/s]\n"
     ]
    },
    {
     "name": "stdout",
     "output_type": "stream",
     "text": [
      "social welfare: 42252.24831573321\n",
      "number of allocated tasks: 50\n",
      "average social welfare = 38814.241600511305\n"
     ]
    }
   ],
   "source": [
    "total_sw = 0\n",
    "n_trials = 500\n",
    "for seed in range(0, n_trials):\n",
    "    print(f\"seed = {seed}\")\n",
    "    # set the parameters\n",
    "    (seed, mipgap, n_tasks, n_time, n_nodes, resource_coefficient, high_value_slackness, \n",
    "    low_value_slackness, valuation_ratio, resource_ratio, p_high_value_task, avg_resource_capacity, \n",
    "     avg_unit_cost, epsilons_tuple, epsilon_steps_tuple, auction_type) = set_parameters(seed=seed)\n",
    "    # generate synthetic data for the simulation\n",
    "    df_tasks, df_nodes, n_time, n_tasks, n_nodes = \\\n",
    "        generate_synthetic_data_edge_cloud(avg_resource_capacity, avg_unit_cost, n_tasks=n_tasks,\n",
    "                                           n_time=n_time, n_nodes=n_nodes,\n",
    "                                           p_high_value_tasks=p_high_value_task,\n",
    "                                           high_value_slackness_lower_limit=high_value_slackness,\n",
    "                                           high_value_slackness_upper_limit=high_value_slackness,\n",
    "                                           low_value_slackness_lower_limit=low_value_slackness,\n",
    "                                           low_value_slackness_upper_limit=low_value_slackness,\n",
    "                                           k_resource=resource_coefficient,\n",
    "                                           resource_demand_high=resource_ratio,\n",
    "                                           vc_ratio=valuation_ratio,\n",
    "                                           seed=seed)\n",
    "    df_tasks = df_tasks.rename(columns={\"storage\": \"DISK\"})\n",
    "    df_nodes = df_nodes.rename(\n",
    "        columns={\"storage\": \"DISK\", \"storage_cost\": \"DISK_cost\"})\n",
    "    # run Offline Optimal algo.\n",
    "    mipgap=0.1\n",
    "    social_welfare, social_welfare_solution, number_of_allocated_tasks, allocation_scheme = \\\n",
    "        oom.offline_optimal(df_tasks, df_nodes, n_time, n_tasks, n_nodes,\n",
    "                            mipgap=mipgap)\n",
    "    print(\"social welfare:\", social_welfare)\n",
    "    print(\"number of allocated tasks:\", number_of_allocated_tasks)\n",
    "    total_sw += social_welfare\n",
    "    \n",
    "avg_sw = total_sw/n_trials\n",
    "print(f\"average social welfare = {avg_sw}\")"
   ]
  },
  {
   "cell_type": "code",
   "execution_count": 8,
   "metadata": {},
   "outputs": [
    {
     "ename": "ZeroDivisionError",
     "evalue": "division by zero",
     "output_type": "error",
     "traceback": [
      "\u001b[0;31m---------------------------------------------------------------------------\u001b[0m",
      "\u001b[0;31mZeroDivisionError\u001b[0m                         Traceback (most recent call last)",
      "\u001b[0;32m<ipython-input-8-9e1622b385b6>\u001b[0m in \u001b[0;36m<module>\u001b[0;34m\u001b[0m\n\u001b[0;32m----> 1\u001b[0;31m \u001b[0;36m1\u001b[0m\u001b[0;34m/\u001b[0m\u001b[0;36m0\u001b[0m\u001b[0;34m\u001b[0m\u001b[0;34m\u001b[0m\u001b[0m\n\u001b[0m",
      "\u001b[0;31mZeroDivisionError\u001b[0m: division by zero"
     ]
    }
   ],
   "source": [
    "1/0"
   ]
  },
  {
   "cell_type": "markdown",
   "metadata": {},
   "source": [
    "### Online Myopic:"
   ]
  },
  {
   "cell_type": "code",
   "execution_count": null,
   "metadata": {},
   "outputs": [],
   "source": [
    "# run online myopic algo.\n",
    "social_welfare, number_of_allocated_tasks, allocation_scheme = \\\n",
    "    online_myopic(df_tasks, df_nodes, n_time, n_tasks, n_nodes)\n",
    "print(\"social welfare:\", social_welfare)\n",
    "print(\"number of allocated tasks:\", number_of_allocated_tasks)"
   ]
  },
  {
   "cell_type": "code",
   "execution_count": null,
   "metadata": {},
   "outputs": [],
   "source": [
    "raise SystemExit(\"Stop✋\")"
   ]
  },
  {
   "cell_type": "code",
   "execution_count": null,
   "metadata": {},
   "outputs": [],
   "source": [
    "# social_welfare_partial = get_social_welfare(df_tasks, df_nodes,\n",
    "#                                             allocation_scheme, start_id=int(n_tasks/3),\n",
    "#                                             end_id=int(n_tasks/3*2))\n",
    "# social_welfare_partial"
   ]
  },
  {
   "cell_type": "markdown",
   "metadata": {},
   "source": [
    "### Optimal Pricing:"
   ]
  },
  {
   "cell_type": "code",
   "execution_count": null,
   "metadata": {},
   "outputs": [],
   "source": [
    "# run Optimal Pricing algo.\n",
    "# set price range\n",
    "column = df_tasks['valuation_coefficient']\n",
    "price_upper_value = column.max()\n",
    "price_lower_value = 0\n",
    "# granularity = (price_upper_value - price_lower_value) / 5\n",
    "granularity = (price_upper_value - price_lower_value) / 10\n",
    "\n",
    "# run OP algo.\n",
    "list_social_welfare, list_number_of_allocated_tasks, optimal_phi, allocation_scheme = \\\n",
    "    opm.optimal_pricing(df_tasks, df_nodes, n_time, n_tasks, n_nodes,\n",
    "                        granularity=granularity,\n",
    "                        price_upper_value=price_upper_value,\n",
    "                        price_lower_value=price_lower_value, global_phi=False)\n",
    "print(\"social welfare:\", list_social_welfare)\n",
    "print(\"number of allocated tasks:\", list_number_of_allocated_tasks)\n",
    "print(f\"optimal_phi = {optimal_phi}\")\n",
    "\n",
    "# # the social welfare of 100 tasks in the middle\n",
    "# social_welfare_partial = get_social_welfare(df_tasks, df_nodes,\n",
    "#                                             allocation_scheme, start_id=99,\n",
    "#                                             end_id=199)\n",
    "# print(f\"social_welfare_partial={social_welfare_partial}\")"
   ]
  },
  {
   "cell_type": "code",
   "execution_count": null,
   "metadata": {},
   "outputs": [],
   "source": [
    "raise SystemExit(\"Stop Here✋\")"
   ]
  },
  {
   "cell_type": "markdown",
   "metadata": {},
   "source": [
    "### Reverse Auction V1"
   ]
  },
  {
   "cell_type": "markdown",
   "metadata": {},
   "source": [
    "### Execution"
   ]
  },
  {
   "cell_type": "code",
   "execution_count": null,
   "metadata": {},
   "outputs": [],
   "source": [
    "number_of_tasks = 300\n",
    "num_actions = 10\n",
    "valuation_coefficient_ratio = 2\n",
    "high_value_proportion = 0.1\n",
    "time_length = int(number_of_tasks / 10)\n",
    "num_trials = seed + 1\n",
    "resource_ratio = 1\n",
    "seed=0\n",
    "filehandler = open(f\"./trained_agents/reverse_auction_v1_seed={seed}_rc={resource_coefficient_original}_agents\", 'rb')\n",
    "agents_list = pickle.load(filehandler)\n",
    "sw_list, total_value, df_tasks_2, df_nodes, agents_list, allocation_scheme = \\\n",
    "    execute_multi_agent_sarsa(num_actions=num_actions,\n",
    "                              time_length=time_length,\n",
    "                              high_value_proportion=high_value_proportion,\n",
    "                              total_number_of_steps=number_of_tasks,\n",
    "                              num_fog_nodes=6,\n",
    "                              resource_coefficient_original=resource_coefficient_original,\n",
    "                              valuation_coefficient_ratio=valuation_coefficient_ratio,\n",
    "                              number_of_runs=num_trials, plot_bool=True,\n",
    "                              bool_decay=True,\n",
    "                              resource_ratio=resource_ratio,\n",
    "                              agents_list=agents_list, training_seed=seed,\n",
    "                              verbose=False)\n",
    "\n",
    "sys.stdout = stdout\n",
    "print(f\"total value of tasks = {total_value}\")\n",
    "social_welfare = sw_list[-1]\n",
    "print(f\"total social welfare = {social_welfare}\")\n",
    "social_welfare_partial = sw_list[199] - sw_list[99]\n",
    "print(f\"social_welfare_partial={social_welfare_partial}\")\n",
    "print(df_tasks_2.head())"
   ]
  },
  {
   "cell_type": "code",
   "execution_count": null,
   "metadata": {},
   "outputs": [],
   "source": [
    "raise SystemExit(\"Stop✋\")"
   ]
  },
  {
   "cell_type": "markdown",
   "metadata": {},
   "source": [
    "## Training"
   ]
  },
  {
   "cell_type": "code",
   "execution_count": null,
   "metadata": {},
   "outputs": [],
   "source": [
    "# set the parameters\n",
    "(seed, mipgap, n_tasks, n_time, n_nodes, resource_coefficient, high_value_slackness, \n",
    "low_value_slackness, valuation_ratio, resource_ratio, p_high_value_task, avg_resource_capacity,\n",
    " avg_unit_cost, epsilons_tuple, epsilon_steps_tuple, auction_type) = set_parameters(30000)\n",
    "num_actions=10\n",
    "verbose=False\n",
    "\n",
    "# train the agents\n",
    "(sw_list, total_value, df_tasks_1, df_nodes, agents_list,\n",
    "allocation_scheme) = train_multi_agent_sarsa(avg_resource_capacity, avg_unit_cost, \n",
    "                                        alpha=0.02,\n",
    "            beta=0.001, epsilon_tuple=epsilons_tuple, epsilon_steps_tuple=epsilon_steps_tuple,\n",
    "            high_value_proportion=p_high_value_task, num_actions=num_actions,\n",
    "            time_length=n_time, total_number_of_steps=n_tasks, num_fog_nodes=6,\n",
    "            valuation_coefficient_ratio=valuation_ratio,\n",
    "            resource_ratio=resource_ratio, seed=seed, verbose=verbose,\n",
    "            plot_bool=True, auction_type=auction_type)\n",
    "\n",
    "# save the trained agents\n",
    "filehandler = open(f\"../trained_agents/reverse_auction_v1_seed={seed}_agents\",\n",
    "                   'wb')\n",
    "pickle.dump(agents_list, filehandler)\n",
    "\n",
    "# print the results\n",
    "print(\"social welfare:\", sw_list[-1])\n",
    "print(\"total value:\", total_value)"
   ]
  },
  {
   "cell_type": "markdown",
   "metadata": {},
   "source": [
    "### Execution"
   ]
  },
  {
   "cell_type": "code",
   "execution_count": null,
   "metadata": {},
   "outputs": [],
   "source": [
    "# get the trained agents\n",
    "filehandler = open(f\"../trained_agents/reverse_auction_v1_seed={seed}_agents\", 'rb')\n",
    "agents_list = pickle.load(filehandler)\n",
    "\n",
    "# set the parameters\n",
    "(seed, mipgap, n_tasks, n_time, n_nodes, resource_coefficient, high_value_slackness, \n",
    "low_value_slackness, valuation_ratio, resource_ratio, p_high_value_task, avg_resource_capacity,\n",
    " avg_unit_cost, epsilons_tuple, epsilon_steps_tuple, auction_type) = set_parameters(10000)\n",
    "num_trials=1\n",
    "\n",
    "# allocate tasks:\n",
    "sw_list, total_value, df_tasks_2, df_nodes, agents_list, allocation_scheme = \\\n",
    "    execute_multi_agent_sarsa(avg_resource_capacity, avg_unit_cost, num_actions=num_actions,\n",
    "                              time_length=n_time,\n",
    "                              high_value_proportion=p_high_value_task,\n",
    "                              total_number_of_steps=n_tasks,\n",
    "                              num_fog_nodes=6,\n",
    "                              valuation_coefficient_ratio=valuation_ratio,\n",
    "                              number_of_runs=num_trials, plot_bool=True,\n",
    "                              bool_decay=True,\n",
    "                              resource_ratio=resource_ratio,\n",
    "                              agents_list=agents_list, training_seed=seed,\n",
    "                              verbose=False, auction_type=auction_type)\n",
    "\n",
    "sys.stdout = stdout\n",
    "print(f\"auction type = {auction_type}\")\n",
    "print(f\"total value of tasks = {total_value}\")\n",
    "social_welfare = sw_list[-1]\n",
    "print(f\"total social welfare = {social_welfare}\")\n",
    "# social_welfare_partial = sw_list[int(number_of_tasks/3*2)] - sw_list[int(number_of_tasks/3)]\n",
    "# print(f\"social_welfare_partial={social_welfare_partial}\")\n",
    "# print(df_tasks_2.head())"
   ]
  },
  {
   "cell_type": "code",
   "execution_count": null,
   "metadata": {},
   "outputs": [],
   "source": [
    "raise SystemExit(\"Stop✋\")"
   ]
  },
  {
   "cell_type": "code",
   "execution_count": null,
   "metadata": {},
   "outputs": [],
   "source": [
    "# make sure the tasks are the same.\n",
    "df_tasks_2.head()\n",
    "df_tasks.head()\n",
    "df_tasks_2.tail()\n",
    "df_tasks.tail()"
   ]
  },
  {
   "cell_type": "code",
   "execution_count": null,
   "metadata": {},
   "outputs": [],
   "source": []
  },
  {
   "cell_type": "code",
   "execution_count": 4,
   "metadata": {},
   "outputs": [
    {
     "data": {
      "text/html": [
       "<div>\n",
       "<style scoped>\n",
       "    .dataframe tbody tr th:only-of-type {\n",
       "        vertical-align: middle;\n",
       "    }\n",
       "\n",
       "    .dataframe tbody tr th {\n",
       "        vertical-align: top;\n",
       "    }\n",
       "\n",
       "    .dataframe thead th {\n",
       "        text-align: right;\n",
       "    }\n",
       "</style>\n",
       "<table border=\"1\" class=\"dataframe\">\n",
       "  <thead>\n",
       "    <tr style=\"text-align: right;\">\n",
       "      <th></th>\n",
       "      <th>CPU</th>\n",
       "      <th>RAM</th>\n",
       "      <th>DISK</th>\n",
       "      <th>CPU_cost</th>\n",
       "      <th>RAM_cost</th>\n",
       "      <th>DISK_cost</th>\n",
       "    </tr>\n",
       "  </thead>\n",
       "  <tbody>\n",
       "    <tr>\n",
       "      <th>0</th>\n",
       "      <td>1.0</td>\n",
       "      <td>1.0</td>\n",
       "      <td>1.0</td>\n",
       "      <td>1.0</td>\n",
       "      <td>1.0</td>\n",
       "      <td>1.0</td>\n",
       "    </tr>\n",
       "    <tr>\n",
       "      <th>1</th>\n",
       "      <td>0.0</td>\n",
       "      <td>0.0</td>\n",
       "      <td>0.0</td>\n",
       "      <td>0.0</td>\n",
       "      <td>0.0</td>\n",
       "      <td>0.0</td>\n",
       "    </tr>\n",
       "    <tr>\n",
       "      <th>2</th>\n",
       "      <td>0.0</td>\n",
       "      <td>0.0</td>\n",
       "      <td>0.0</td>\n",
       "      <td>0.0</td>\n",
       "      <td>0.0</td>\n",
       "      <td>0.0</td>\n",
       "    </tr>\n",
       "  </tbody>\n",
       "</table>\n",
       "</div>"
      ],
      "text/plain": [
       "   CPU  RAM  DISK  CPU_cost  RAM_cost  DISK_cost\n",
       "0  1.0  1.0   1.0       1.0       1.0        1.0\n",
       "1  0.0  0.0   0.0       0.0       0.0        0.0\n",
       "2  0.0  0.0   0.0       0.0       0.0        0.0"
      ]
     },
     "execution_count": 4,
     "metadata": {},
     "output_type": "execute_result"
    },
    {
     "data": {
      "text/plain": [
       "array([1., 1., 1., 1., 1., 1.])"
      ]
     },
     "execution_count": 4,
     "metadata": {},
     "output_type": "execute_result"
    }
   ],
   "source": [
    "# test normalisation\n",
    "df = df_nodes\n",
    "normalized_df=(df-df.min())/(df.max()-df.min())\n",
    "normalized_df\n",
    "task_info = normalized_df.iloc[0]\n",
    "task_info = task_info.to_numpy()\n",
    "task_info"
   ]
  },
  {
   "cell_type": "code",
   "execution_count": 5,
   "metadata": {
    "collapsed": true,
    "jupyter": {
     "outputs_hidden": true,
     "source_hidden": true
    }
   },
   "outputs": [
    {
     "data": {
      "text/plain": [
       "array([0., 0., 0., 0., 0., 0., 0., 0., 0., 0., 0., 0., 0., 0., 0., 0., 0.,\n",
       "       0., 0., 0., 0., 0., 0., 0., 0., 0., 0., 0., 0., 0., 0., 0., 0., 0.,\n",
       "       0., 0., 0., 0., 0., 0., 0., 0., 0., 0., 0., 0., 0., 0., 0., 0., 0.,\n",
       "       0., 0., 0., 0., 0., 0., 0., 0., 0., 0., 0., 0., 0., 0., 0., 0., 0.,\n",
       "       0., 0., 0., 0., 0., 0., 0., 0., 0., 0., 0., 0., 0., 0., 0., 0., 0.,\n",
       "       0., 0., 0., 0., 0., 0., 0., 0., 0., 0., 0., 0., 0., 0., 0., 0., 0.,\n",
       "       0., 0., 0., 0., 0., 0., 0., 0., 0., 0., 0., 0., 0., 0., 0., 0., 0.,\n",
       "       0., 0., 0., 0., 0., 0., 0., 0., 0., 0., 0., 0., 0., 0., 0., 0., 0.,\n",
       "       0., 0., 0., 0., 0., 0., 0., 0., 0., 0., 0., 0., 0., 0., 0., 0., 0.,\n",
       "       0., 0., 0., 0., 0., 0., 0., 0., 0., 0., 0., 0., 0., 0., 0., 0., 0.,\n",
       "       0., 0., 0., 0., 0., 0., 0., 0., 0., 0.])"
      ]
     },
     "execution_count": 5,
     "metadata": {},
     "output_type": "execute_result"
    }
   ],
   "source": [
    "future_occup = np.zeros((6, 10, 3), dtype=float)\n",
    "future_occup = future_occup.flatten()\n",
    "future_occup"
   ]
  },
  {
   "cell_type": "code",
   "execution_count": 6,
   "metadata": {
    "jupyter": {
     "source_hidden": true
    }
   },
   "outputs": [
    {
     "data": {
      "text/html": [
       "<div>\n",
       "<style scoped>\n",
       "    .dataframe tbody tr th:only-of-type {\n",
       "        vertical-align: middle;\n",
       "    }\n",
       "\n",
       "    .dataframe tbody tr th {\n",
       "        vertical-align: top;\n",
       "    }\n",
       "\n",
       "    .dataframe thead th {\n",
       "        text-align: right;\n",
       "    }\n",
       "</style>\n",
       "<table border=\"1\" class=\"dataframe\">\n",
       "  <thead>\n",
       "    <tr style=\"text-align: right;\">\n",
       "      <th></th>\n",
       "      <th>CPU</th>\n",
       "      <th>RAM</th>\n",
       "      <th>DISK</th>\n",
       "      <th>CPU_cost</th>\n",
       "      <th>RAM_cost</th>\n",
       "      <th>DISK_cost</th>\n",
       "    </tr>\n",
       "  </thead>\n",
       "  <tbody>\n",
       "    <tr>\n",
       "      <th>0</th>\n",
       "      <td>50.0</td>\n",
       "      <td>50.0</td>\n",
       "      <td>50.0</td>\n",
       "      <td>3.0</td>\n",
       "      <td>3.0</td>\n",
       "      <td>3.0</td>\n",
       "    </tr>\n",
       "    <tr>\n",
       "      <th>1</th>\n",
       "      <td>3.0</td>\n",
       "      <td>3.0</td>\n",
       "      <td>3.0</td>\n",
       "      <td>0.0</td>\n",
       "      <td>0.0</td>\n",
       "      <td>0.0</td>\n",
       "    </tr>\n",
       "    <tr>\n",
       "      <th>2</th>\n",
       "      <td>3.0</td>\n",
       "      <td>3.0</td>\n",
       "      <td>3.0</td>\n",
       "      <td>0.0</td>\n",
       "      <td>0.0</td>\n",
       "      <td>0.0</td>\n",
       "    </tr>\n",
       "  </tbody>\n",
       "</table>\n",
       "</div>"
      ],
      "text/plain": [
       "    CPU   RAM  DISK  CPU_cost  RAM_cost  DISK_cost\n",
       "0  50.0  50.0  50.0       3.0       3.0        3.0\n",
       "1   3.0   3.0   3.0       0.0       0.0        0.0\n",
       "2   3.0   3.0   3.0       0.0       0.0        0.0"
      ]
     },
     "execution_count": 6,
     "metadata": {},
     "output_type": "execute_result"
    },
    {
     "name": "stdout",
     "output_type": "stream",
     "text": [
      "0\n",
      "50.0\n",
      "1\n",
      "3.0\n",
      "2\n",
      "3.0\n"
     ]
    }
   ],
   "source": [
    "df_nodes\n",
    "for id, info in df_nodes.iterrows():\n",
    "    print(id)\n",
    "    print(info.get('CPU'))"
   ]
  }
 ],
 "metadata": {
  "kernelspec": {
   "display_name": "Python 3",
   "language": "python",
   "name": "python3"
  },
  "language_info": {
   "codemirror_mode": {
    "name": "ipython",
    "version": 3
   },
   "file_extension": ".py",
   "mimetype": "text/x-python",
   "name": "python",
   "nbconvert_exporter": "python",
   "pygments_lexer": "ipython3",
   "version": "3.7.7"
  }
 },
 "nbformat": 4,
 "nbformat_minor": 4
}
