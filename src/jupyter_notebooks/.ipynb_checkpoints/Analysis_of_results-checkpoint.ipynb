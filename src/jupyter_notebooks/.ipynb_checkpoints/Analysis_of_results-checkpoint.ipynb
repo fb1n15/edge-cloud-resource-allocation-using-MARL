{
 "cells": [
  {
   "cell_type": "code",
   "execution_count": 92,
   "metadata": {},
   "outputs": [],
   "source": [
    "import numpy as np\n",
    "import pandas as pd\n",
    "import matplotlib.pyplot as plt\n",
    "import csv\n",
    "from scipy import stats\n",
    "import seaborn as sns\n",
    "%matplotlib inline\n",
    "sns.set_style(\"darkgrid\")\n",
    "# https://stackoverflow.com/a/37347783/7060068\n",
    "pd.set_option('display.max_columns', None)  # or 1000\n",
    "pd.set_option('display.max_rows', None)  # or 1000"
   ]
  },
  {
   "cell_type": "code",
   "execution_count": 97,
   "metadata": {},
   "outputs": [],
   "source": [
    "# Let’s change the default plot size so we have a better view of our line plots:\n",
    "fig_size = plt.rcParams[\"figure.figsize\"]\n",
    "fig_size[0] = 10\n",
    "fig_size[1] = 6\n",
    "plt.rcParams[\"figure.figsize\"] = fig_size"
   ]
  },
  {
   "cell_type": "markdown",
   "metadata": {},
   "source": [
    "## 20 tasks in each episode and 5 actions for each edge node"
   ]
  },
  {
   "cell_type": "code",
   "execution_count": 122,
   "metadata": {
    "collapsed": true,
    "jupyter": {
     "outputs_hidden": true
    }
   },
   "outputs": [
    {
     "name": "stdout",
     "output_type": "stream",
     "text": [
      "['PPO_EdgeCloudEnv1_2ed4d_00001_1_lr=0.001,train_batch_size=3000_2021-11-03_13-08-48', 'PPO_EdgeCloudEnv1_2936b_00000_0_lr=0.0001,train_batch_size=3000_2021-11-03_13-08-39', 'experiment_state-2021-11-03_13-08-48.json', 'PPO_EdgeCloudEnv1_2ed83_00001_1_lr=0.001,train_batch_size=3000_2021-11-03_13-08-48', 'PPO_EdgeCloudEnv1_2c54b_00001_1_lr=0.001,train_batch_size=3000_2021-11-03_13-08-44', 'PPO_EdgeCloudEnv1_2c592_00001_1_lr=0.001,train_batch_size=3000_2021-11-03_13-08-44', 'PPO_EdgeCloudEnv1_29366_00001_1_lr=0.001,train_batch_size=3000_2021-11-03_13-08-39', 'PPO_EdgeCloudEnv1_2e945_00000_0_lr=0.0001,train_batch_size=3000_2021-11-03_13-08-48', 'PPO_EdgeCloudEnv1_2ed8a_00000_0_lr=0.0001,train_batch_size=3000_2021-11-03_13-08-48', 'PPO_EdgeCloudEnv1_2c5e4_00001_1_lr=0.001,train_batch_size=3000_2021-11-03_13-08-44', 'PPO_EdgeCloudEnv1_2e92b_00001_1_lr=0.001,train_batch_size=3000_2021-11-03_13-08-48', 'PPO_EdgeCloudEnv1_2c525_00000_0_lr=0.0001,train_batch_size=3000_2021-11-03_13-08-44', 'experiment_state-2021-11-03_13-08-44.json', 'PPO_EdgeCloudEnv1_2ed8a_00001_1_lr=0.001,train_batch_size=3000_2021-11-03_13-08-48', 'PPO_EdgeCloudEnv1_2ed83_00000_0_lr=0.0001,train_batch_size=3000_2021-11-03_13-08-48', 'PPO_EdgeCloudEnv1_2c580_00001_1_lr=0.001,train_batch_size=3000_2021-11-03_13-08-44', 'PPO_EdgeCloudEnv1_2936b_00001_1_lr=0.001,train_batch_size=3000_2021-11-03_13-08-39', 'PPO_EdgeCloudEnv1_2e92f_00001_1_lr=0.001,train_batch_size=3000_2021-11-03_13-08-48', 'experiment_state-2021-11-03_13-08-39.json', 'PPO_EdgeCloudEnv1_2c595_00001_1_lr=0.001,train_batch_size=3000_2021-11-03_13-08-44', 'PPO_EdgeCloudEnv1_2c518_00000_0_lr=0.0001,train_batch_size=3000_2021-11-03_13-08-44', 'PPO_EdgeCloudEnv1_2e92b_00000_0_lr=0.0001,train_batch_size=3000_2021-11-03_13-08-48', 'PPO_EdgeCloudEnv1_2e933_00001_1_lr=0.001,train_batch_size=3000_2021-11-03_13-08-48', 'PPO_EdgeCloudEnv1_2c595_00000_0_lr=0.0001,train_batch_size=3000_2021-11-03_13-08-44', 'PPO_EdgeCloudEnv1_2c576_00001_1_lr=0.001,train_batch_size=3000_2021-11-03_13-08-44', 'PPO_EdgeCloudEnv1_2c54b_00000_0_lr=0.0001,train_batch_size=3000_2021-11-03_13-08-44', 'PPO_EdgeCloudEnv1_2c5de_00001_1_lr=0.001,train_batch_size=3000_2021-11-03_13-08-44', 'PPO_EdgeCloudEnv1_2c5be_00000_0_lr=0.0001,train_batch_size=3000_2021-11-03_13-08-44', 'PPO_EdgeCloudEnv1_2c578_00001_1_lr=0.001,train_batch_size=3000_2021-11-03_13-08-44', 'PPO_EdgeCloudEnv1_2c5e4_00000_0_lr=0.0001,train_batch_size=3000_2021-11-03_13-08-44', 'PPO_EdgeCloudEnv1_2ed53_00001_1_lr=0.001,train_batch_size=3000_2021-11-03_13-08-48', 'PPO_EdgeCloudEnv1_2c59b_00001_1_lr=0.001,train_batch_size=3000_2021-11-03_13-08-44', 'PPO_EdgeCloudEnv1_2c580_00000_0_lr=0.0001,train_batch_size=3000_2021-11-03_13-08-44', 'PPO_EdgeCloudEnv1_2c5dc_00001_1_lr=0.001,train_batch_size=3000_2021-11-03_13-08-44', 'PPO_EdgeCloudEnv1_2c590_00001_1_lr=0.001,train_batch_size=3000_2021-11-03_13-08-44', 'PPO_EdgeCloudEnv1_2c5dc_00000_0_lr=0.0001,train_batch_size=3000_2021-11-03_13-08-44', 'PPO_EdgeCloudEnv1_2c5be_00001_1_lr=0.001,train_batch_size=3000_2021-11-03_13-08-44_3c51', 'basic-variant-state-2021-11-03_13-08-44.json', 'PPO_EdgeCloudEnv1_2c471_00000_0_lr=0.0001,train_batch_size=3000_2021-11-03_13-08-44', 'PPO_EdgeCloudEnv1_2c473_00000_0_lr=0.0001,train_batch_size=3000_2021-11-03_13-08-44_9c4e', 'PPO_EdgeCloudEnv1_2c53e_00000_0_lr=0.0001,train_batch_size=3000_2021-11-03_13-08-44', 'PPO_EdgeCloudEnv1_2e933_00000_0_lr=0.0001,train_batch_size=3000_2021-11-03_13-08-48', 'PPO_EdgeCloudEnv1_2c5be_00001_1_lr=0.001,train_batch_size=3000_2021-11-03_13-08-44', 'basic-variant-state-2021-11-03_13-08-48.json', 'PPO_EdgeCloudEnv1_2c471_00001_1_lr=0.001,train_batch_size=3000_2021-11-03_13-08-44', 'PPO_EdgeCloudEnv1_2c578_00000_0_lr=0.0001,train_batch_size=3000_2021-11-03_13-08-44', 'PPO_EdgeCloudEnv1_2c576_00000_0_lr=0.0001,train_batch_size=3000_2021-11-03_13-08-44', 'PPO_EdgeCloudEnv1_2c518_00001_1_lr=0.001,train_batch_size=3000_2021-11-03_13-08-44', 'PPO_EdgeCloudEnv1_2ed4d_00000_0_lr=0.0001,train_batch_size=3000_2021-11-03_13-08-48', 'PPO_EdgeCloudEnv1_2c473_00000_0_lr=0.0001,train_batch_size=3000_2021-11-03_13-08-44', 'PPO_EdgeCloudEnv1_2c464_00000_0_lr=0.0001,train_batch_size=3000_2021-11-03_13-08-44', 'PPO_EdgeCloudEnv1_2e92f_00000_0_lr=0.0001,train_batch_size=3000_2021-11-03_13-08-48', 'PPO_EdgeCloudEnv1_2c5de_00000_0_lr=0.0001,train_batch_size=3000_2021-11-03_13-08-44', 'PPO_EdgeCloudEnv1_2ed53_00000_0_lr=0.0001,train_batch_size=3000_2021-11-03_13-08-48', 'PPO_EdgeCloudEnv1_2c53e_00001_1_lr=0.001,train_batch_size=3000_2021-11-03_13-08-44', 'PPO_EdgeCloudEnv1_2c59b_00000_0_lr=0.0001,train_batch_size=3000_2021-11-03_13-08-44', 'PPO_EdgeCloudEnv1_2c592_00000_0_lr=0.0001,train_batch_size=3000_2021-11-03_13-08-44', 'basic-variant-state-2021-11-03_13-08-39.json', 'PPO_EdgeCloudEnv1_2c464_00001_1_lr=0.001,train_batch_size=3000_2021-11-03_13-08-44', 'PPO_EdgeCloudEnv1_2c525_00001_1_lr=0.001,train_batch_size=3000_2021-11-03_13-08-44', 'PPO_EdgeCloudEnv1_2c473_00001_1_lr=0.001,train_batch_size=3000_2021-11-03_13-08-44', 'PPO_EdgeCloudEnv1_2c590_00000_0_lr=0.0001,train_batch_size=3000_2021-11-03_13-08-44', 'PPO_EdgeCloudEnv1_29366_00000_0_lr=0.0001,train_batch_size=3000_2021-11-03_13-08-39', 'PPO_EdgeCloudEnv1_2e945_00001_1_lr=0.001,train_batch_size=3000_2021-11-03_13-08-48']\n"
     ]
    }
   ],
   "source": [
    "# get all names from the folder\n",
    "# https://stackoverflow.com/a/29206464/7060068\n",
    "import os\n",
    "\n",
    "path = '/Users/fan/OneDrive - University of Southampton/My-Projects/Edge-Cloud-Resource-Allocation/marl-edge-cloud/results/edge_cloud_independent_ppo_with_history_2_actions'\n",
    "dir_list = os.listdir(path)\n",
    "print(dir_list)"
   ]
  },
  {
   "cell_type": "code",
   "execution_count": 127,
   "metadata": {},
   "outputs": [
    {
     "name": "stdout",
     "output_type": "stream",
     "text": [
      "/Users/fan/OneDrive - University of Southampton/My-Projects/Edge-Cloud-Resource-Allocation/marl-edge-cloud/results/edge_cloud_independent_ppo_with_history_2_actions/PPO_EdgeCloudEnv1_2936b_00000_0_lr=0.0001,train_batch_size=3000_2021-11-03_13-08-39/result.json\n",
      "/Users/fan/OneDrive - University of Southampton/My-Projects/Edge-Cloud-Resource-Allocation/marl-edge-cloud/results/edge_cloud_independent_ppo_with_history_2_actions/PPO_EdgeCloudEnv1_2e945_00000_0_lr=0.0001,train_batch_size=3000_2021-11-03_13-08-48/result.json\n",
      "/Users/fan/OneDrive - University of Southampton/My-Projects/Edge-Cloud-Resource-Allocation/marl-edge-cloud/results/edge_cloud_independent_ppo_with_history_2_actions/PPO_EdgeCloudEnv1_2ed8a_00000_0_lr=0.0001,train_batch_size=3000_2021-11-03_13-08-48/result.json\n",
      "/Users/fan/OneDrive - University of Southampton/My-Projects/Edge-Cloud-Resource-Allocation/marl-edge-cloud/results/edge_cloud_independent_ppo_with_history_2_actions/PPO_EdgeCloudEnv1_2c525_00000_0_lr=0.0001,train_batch_size=3000_2021-11-03_13-08-44/result.json\n",
      "/Users/fan/OneDrive - University of Southampton/My-Projects/Edge-Cloud-Resource-Allocation/marl-edge-cloud/results/edge_cloud_independent_ppo_with_history_2_actions/PPO_EdgeCloudEnv1_2ed83_00000_0_lr=0.0001,train_batch_size=3000_2021-11-03_13-08-48/result.json\n",
      "/Users/fan/OneDrive - University of Southampton/My-Projects/Edge-Cloud-Resource-Allocation/marl-edge-cloud/results/edge_cloud_independent_ppo_with_history_2_actions/PPO_EdgeCloudEnv1_2c518_00000_0_lr=0.0001,train_batch_size=3000_2021-11-03_13-08-44/result.json\n",
      "/Users/fan/OneDrive - University of Southampton/My-Projects/Edge-Cloud-Resource-Allocation/marl-edge-cloud/results/edge_cloud_independent_ppo_with_history_2_actions/PPO_EdgeCloudEnv1_2e92b_00000_0_lr=0.0001,train_batch_size=3000_2021-11-03_13-08-48/result.json\n",
      "/Users/fan/OneDrive - University of Southampton/My-Projects/Edge-Cloud-Resource-Allocation/marl-edge-cloud/results/edge_cloud_independent_ppo_with_history_2_actions/PPO_EdgeCloudEnv1_2c595_00000_0_lr=0.0001,train_batch_size=3000_2021-11-03_13-08-44/result.json\n",
      "/Users/fan/OneDrive - University of Southampton/My-Projects/Edge-Cloud-Resource-Allocation/marl-edge-cloud/results/edge_cloud_independent_ppo_with_history_2_actions/PPO_EdgeCloudEnv1_2c54b_00000_0_lr=0.0001,train_batch_size=3000_2021-11-03_13-08-44/result.json\n",
      "/Users/fan/OneDrive - University of Southampton/My-Projects/Edge-Cloud-Resource-Allocation/marl-edge-cloud/results/edge_cloud_independent_ppo_with_history_2_actions/PPO_EdgeCloudEnv1_2c5be_00000_0_lr=0.0001,train_batch_size=3000_2021-11-03_13-08-44/result.json\n",
      "/Users/fan/OneDrive - University of Southampton/My-Projects/Edge-Cloud-Resource-Allocation/marl-edge-cloud/results/edge_cloud_independent_ppo_with_history_2_actions/PPO_EdgeCloudEnv1_2c5e4_00000_0_lr=0.0001,train_batch_size=3000_2021-11-03_13-08-44/result.json\n",
      "/Users/fan/OneDrive - University of Southampton/My-Projects/Edge-Cloud-Resource-Allocation/marl-edge-cloud/results/edge_cloud_independent_ppo_with_history_2_actions/PPO_EdgeCloudEnv1_2c580_00000_0_lr=0.0001,train_batch_size=3000_2021-11-03_13-08-44/result.json\n",
      "/Users/fan/OneDrive - University of Southampton/My-Projects/Edge-Cloud-Resource-Allocation/marl-edge-cloud/results/edge_cloud_independent_ppo_with_history_2_actions/PPO_EdgeCloudEnv1_2c5dc_00000_0_lr=0.0001,train_batch_size=3000_2021-11-03_13-08-44/result.json\n",
      "/Users/fan/OneDrive - University of Southampton/My-Projects/Edge-Cloud-Resource-Allocation/marl-edge-cloud/results/edge_cloud_independent_ppo_with_history_2_actions/PPO_EdgeCloudEnv1_2c471_00000_0_lr=0.0001,train_batch_size=3000_2021-11-03_13-08-44/result.json\n",
      "/Users/fan/OneDrive - University of Southampton/My-Projects/Edge-Cloud-Resource-Allocation/marl-edge-cloud/results/edge_cloud_independent_ppo_with_history_2_actions/PPO_EdgeCloudEnv1_2c473_00000_0_lr=0.0001,train_batch_size=3000_2021-11-03_13-08-44_9c4e/result.json\n",
      "/Users/fan/OneDrive - University of Southampton/My-Projects/Edge-Cloud-Resource-Allocation/marl-edge-cloud/results/edge_cloud_independent_ppo_with_history_2_actions/PPO_EdgeCloudEnv1_2c53e_00000_0_lr=0.0001,train_batch_size=3000_2021-11-03_13-08-44/result.json\n",
      "/Users/fan/OneDrive - University of Southampton/My-Projects/Edge-Cloud-Resource-Allocation/marl-edge-cloud/results/edge_cloud_independent_ppo_with_history_2_actions/PPO_EdgeCloudEnv1_2e933_00000_0_lr=0.0001,train_batch_size=3000_2021-11-03_13-08-48/result.json\n",
      "/Users/fan/OneDrive - University of Southampton/My-Projects/Edge-Cloud-Resource-Allocation/marl-edge-cloud/results/edge_cloud_independent_ppo_with_history_2_actions/PPO_EdgeCloudEnv1_2c578_00000_0_lr=0.0001,train_batch_size=3000_2021-11-03_13-08-44/result.json\n",
      "/Users/fan/OneDrive - University of Southampton/My-Projects/Edge-Cloud-Resource-Allocation/marl-edge-cloud/results/edge_cloud_independent_ppo_with_history_2_actions/PPO_EdgeCloudEnv1_2c576_00000_0_lr=0.0001,train_batch_size=3000_2021-11-03_13-08-44/result.json\n",
      "/Users/fan/OneDrive - University of Southampton/My-Projects/Edge-Cloud-Resource-Allocation/marl-edge-cloud/results/edge_cloud_independent_ppo_with_history_2_actions/PPO_EdgeCloudEnv1_2ed4d_00000_0_lr=0.0001,train_batch_size=3000_2021-11-03_13-08-48/result.json\n",
      "/Users/fan/OneDrive - University of Southampton/My-Projects/Edge-Cloud-Resource-Allocation/marl-edge-cloud/results/edge_cloud_independent_ppo_with_history_2_actions/PPO_EdgeCloudEnv1_2c473_00000_0_lr=0.0001,train_batch_size=3000_2021-11-03_13-08-44/result.json\n",
      "/Users/fan/OneDrive - University of Southampton/My-Projects/Edge-Cloud-Resource-Allocation/marl-edge-cloud/results/edge_cloud_independent_ppo_with_history_2_actions/PPO_EdgeCloudEnv1_2c464_00000_0_lr=0.0001,train_batch_size=3000_2021-11-03_13-08-44/result.json\n",
      "/Users/fan/OneDrive - University of Southampton/My-Projects/Edge-Cloud-Resource-Allocation/marl-edge-cloud/results/edge_cloud_independent_ppo_with_history_2_actions/PPO_EdgeCloudEnv1_2e92f_00000_0_lr=0.0001,train_batch_size=3000_2021-11-03_13-08-48/result.json\n",
      "/Users/fan/OneDrive - University of Southampton/My-Projects/Edge-Cloud-Resource-Allocation/marl-edge-cloud/results/edge_cloud_independent_ppo_with_history_2_actions/PPO_EdgeCloudEnv1_2c5de_00000_0_lr=0.0001,train_batch_size=3000_2021-11-03_13-08-44/result.json\n",
      "/Users/fan/OneDrive - University of Southampton/My-Projects/Edge-Cloud-Resource-Allocation/marl-edge-cloud/results/edge_cloud_independent_ppo_with_history_2_actions/PPO_EdgeCloudEnv1_2ed53_00000_0_lr=0.0001,train_batch_size=3000_2021-11-03_13-08-48/result.json\n",
      "/Users/fan/OneDrive - University of Southampton/My-Projects/Edge-Cloud-Resource-Allocation/marl-edge-cloud/results/edge_cloud_independent_ppo_with_history_2_actions/PPO_EdgeCloudEnv1_2c59b_00000_0_lr=0.0001,train_batch_size=3000_2021-11-03_13-08-44/result.json\n",
      "/Users/fan/OneDrive - University of Southampton/My-Projects/Edge-Cloud-Resource-Allocation/marl-edge-cloud/results/edge_cloud_independent_ppo_with_history_2_actions/PPO_EdgeCloudEnv1_2c592_00000_0_lr=0.0001,train_batch_size=3000_2021-11-03_13-08-44/result.json\n",
      "/Users/fan/OneDrive - University of Southampton/My-Projects/Edge-Cloud-Resource-Allocation/marl-edge-cloud/results/edge_cloud_independent_ppo_with_history_2_actions/PPO_EdgeCloudEnv1_2c590_00000_0_lr=0.0001,train_batch_size=3000_2021-11-03_13-08-44/result.json\n",
      "/Users/fan/OneDrive - University of Southampton/My-Projects/Edge-Cloud-Resource-Allocation/marl-edge-cloud/results/edge_cloud_independent_ppo_with_history_2_actions/PPO_EdgeCloudEnv1_29366_00000_0_lr=0.0001,train_batch_size=3000_2021-11-03_13-08-39/result.json\n"
     ]
    },
    {
     "ename": "ValueError",
     "evalue": "No objects to concatenate",
     "output_type": "error",
     "traceback": [
      "\u001b[0;31m---------------------------------------------------------------------------\u001b[0m",
      "\u001b[0;31mValueError\u001b[0m                                Traceback (most recent call last)",
      "\u001b[0;32m<ipython-input-127-df4c34491233>\u001b[0m in \u001b[0;36m<module>\u001b[0;34m\u001b[0m\n\u001b[1;32m     29\u001b[0m         \u001b[0;32mcontinue\u001b[0m\u001b[0;34m\u001b[0m\u001b[0;34m\u001b[0m\u001b[0m\n\u001b[1;32m     30\u001b[0m \u001b[0;34m\u001b[0m\u001b[0m\n\u001b[0;32m---> 31\u001b[0;31m \u001b[0mdf_results\u001b[0m \u001b[0;34m=\u001b[0m \u001b[0mpd\u001b[0m\u001b[0;34m.\u001b[0m\u001b[0mconcat\u001b[0m\u001b[0;34m(\u001b[0m\u001b[0mresults\u001b[0m\u001b[0;34m,\u001b[0m \u001b[0maxis\u001b[0m\u001b[0;34m=\u001b[0m\u001b[0;36m0\u001b[0m\u001b[0;34m)\u001b[0m\u001b[0;34m\u001b[0m\u001b[0;34m\u001b[0m\u001b[0m\n\u001b[0m\u001b[1;32m     32\u001b[0m df_results = df_results[['Social Welfare (Online Myopic)_mean', 'Social Welfare_mean', \n\u001b[1;32m     33\u001b[0m                          'Social Welfare (Random Allocation)_mean', 'Social Welfare (All Bidding Zero)_mean']]\n",
      "\u001b[0;32m~/anaconda3/envs/reverse-auction/lib/python3.7/site-packages/pandas/core/reshape/concat.py\u001b[0m in \u001b[0;36mconcat\u001b[0;34m(objs, axis, join, ignore_index, keys, levels, names, verify_integrity, sort, copy)\u001b[0m\n\u001b[1;32m    293\u001b[0m         \u001b[0mverify_integrity\u001b[0m\u001b[0;34m=\u001b[0m\u001b[0mverify_integrity\u001b[0m\u001b[0;34m,\u001b[0m\u001b[0;34m\u001b[0m\u001b[0;34m\u001b[0m\u001b[0m\n\u001b[1;32m    294\u001b[0m         \u001b[0mcopy\u001b[0m\u001b[0;34m=\u001b[0m\u001b[0mcopy\u001b[0m\u001b[0;34m,\u001b[0m\u001b[0;34m\u001b[0m\u001b[0;34m\u001b[0m\u001b[0m\n\u001b[0;32m--> 295\u001b[0;31m         \u001b[0msort\u001b[0m\u001b[0;34m=\u001b[0m\u001b[0msort\u001b[0m\u001b[0;34m,\u001b[0m\u001b[0;34m\u001b[0m\u001b[0;34m\u001b[0m\u001b[0m\n\u001b[0m\u001b[1;32m    296\u001b[0m     )\n\u001b[1;32m    297\u001b[0m \u001b[0;34m\u001b[0m\u001b[0m\n",
      "\u001b[0;32m~/anaconda3/envs/reverse-auction/lib/python3.7/site-packages/pandas/core/reshape/concat.py\u001b[0m in \u001b[0;36m__init__\u001b[0;34m(self, objs, axis, join, keys, levels, names, ignore_index, verify_integrity, copy, sort)\u001b[0m\n\u001b[1;32m    340\u001b[0m \u001b[0;34m\u001b[0m\u001b[0m\n\u001b[1;32m    341\u001b[0m         \u001b[0;32mif\u001b[0m \u001b[0mlen\u001b[0m\u001b[0;34m(\u001b[0m\u001b[0mobjs\u001b[0m\u001b[0;34m)\u001b[0m \u001b[0;34m==\u001b[0m \u001b[0;36m0\u001b[0m\u001b[0;34m:\u001b[0m\u001b[0;34m\u001b[0m\u001b[0;34m\u001b[0m\u001b[0m\n\u001b[0;32m--> 342\u001b[0;31m             \u001b[0;32mraise\u001b[0m \u001b[0mValueError\u001b[0m\u001b[0;34m(\u001b[0m\u001b[0;34m\"No objects to concatenate\"\u001b[0m\u001b[0;34m)\u001b[0m\u001b[0;34m\u001b[0m\u001b[0;34m\u001b[0m\u001b[0m\n\u001b[0m\u001b[1;32m    343\u001b[0m \u001b[0;34m\u001b[0m\u001b[0m\n\u001b[1;32m    344\u001b[0m         \u001b[0;32mif\u001b[0m \u001b[0mkeys\u001b[0m \u001b[0;32mis\u001b[0m \u001b[0;32mNone\u001b[0m\u001b[0;34m:\u001b[0m\u001b[0;34m\u001b[0m\u001b[0;34m\u001b[0m\u001b[0m\n",
      "\u001b[0;31mValueError\u001b[0m: No objects to concatenate"
     ]
    }
   ],
   "source": [
    "# read results in .json files\n",
    "import json\n",
    "\n",
    "hyperparamter_string = 'lr=0.0001,train_batch_size=3000_2021-11-03'\n",
    "\n",
    "df_results = pd.DataFrame()\n",
    "results = []\n",
    "for folder in dir_list:\n",
    "    file_path = f'{path}/{folder}/result.json'\n",
    "    if hyperparamter_string not in file_path:  # only consider the specific hyperparameters combination \n",
    "        continue\n",
    "    # load data using Python JSON module\n",
    "    print(file_path)\n",
    "    try:\n",
    "        with open(file_path) as f:\n",
    "            # json.loads (and json.load) does not decode multiple json object. So load each line at a time.\n",
    "            # https://stackoverflow.com/a/29312618/7060068\n",
    "            for line in f:\n",
    "                data = json.loads(line)\n",
    "                print(data)\n",
    "                break\n",
    "                data_row = data['custom_metrics']\n",
    "                \n",
    "        #         df = pd.DataFrame.from_dict(data, index=0)\n",
    "                # https://stackoverflow.com/a/17840195/7060068\n",
    "                df = pd.DataFrame(data_row, index=[data['timesteps_total']])\n",
    "                results.append(df)\n",
    "    except NotADirectoryError:\n",
    "        continue\n",
    "\n",
    "df_results = pd.concat(results, axis=0)\n",
    "df_results = df_results[['Social Welfare (Online Myopic)_mean', 'Social Welfare_mean', \n",
    "                         'Social Welfare (Random Allocation)_mean', 'Social Welfare (All Bidding Zero)_mean']]\n",
    "df_results.head()"
   ]
  },
  {
   "cell_type": "markdown",
   "metadata": {},
   "source": [
    "### Online Myopic"
   ]
  },
  {
   "cell_type": "code",
   "execution_count": 114,
   "metadata": {},
   "outputs": [
    {
     "data": {
      "text/plain": [
       "Text(0.5, 0, 'Timesteps')"
      ]
     },
     "execution_count": 114,
     "metadata": {},
     "output_type": "execute_result"
    },
    {
     "data": {
      "text/plain": [
       "Text(0, 0.5, 'Mean Social Welfare')"
      ]
     },
     "execution_count": 114,
     "metadata": {},
     "output_type": "execute_result"
    },
    {
     "data": {
      "text/plain": [
       "(0.0, 3050.4502963972254)"
      ]
     },
     "execution_count": 114,
     "metadata": {},
     "output_type": "execute_result"
    },
    {
     "data": {
      "image/png": "[encoded data removed]",
      "text/plain": [
       "<Figure size 720x432 with 1 Axes>"
      ]
     },
     "metadata": {},
     "output_type": "display_data"
    }
   ],
   "source": [
    "# plot the confidence interval for the mean\n",
    "# https://stackoverflow.com/a/44941463/7060068\n",
    "\n",
    "p = sns.lineplot(x=df_results.index, y='Social Welfare (Online Myopic)_mean', data=df_results)  # 2 actions (blue)\n",
    "p.set_xlabel(\"Timesteps\", fontsize = 14)\n",
    "p.set_ylabel(\"Mean Social Welfare\", fontsize = 14)\n",
    "# https://stackoverflow.com/a/57101557/7060068\n",
    "p.axes.set_ylim(0)"
   ]
  },
  {
   "cell_type": "markdown",
   "metadata": {},
   "source": [
    "### All Bidding Zero"
   ]
  },
  {
   "cell_type": "code",
   "execution_count": 102,
   "metadata": {},
   "outputs": [
    {
     "data": {
      "text/plain": [
       "Text(0.5, 0, 'Timesteps')"
      ]
     },
     "execution_count": 102,
     "metadata": {},
     "output_type": "execute_result"
    },
    {
     "data": {
      "text/plain": [
       "Text(0, 0.5, 'Mean Social Welfare')"
      ]
     },
     "execution_count": 102,
     "metadata": {},
     "output_type": "execute_result"
    },
    {
     "data": {
      "text/plain": [
       "(0.0, 1315.562930758603)"
      ]
     },
     "execution_count": 102,
     "metadata": {},
     "output_type": "execute_result"
    },
    {
     "data": {
      "image/png": "[encoded data removed]",
      "text/plain": [
       "<Figure size 720x432 with 1 Axes>"
      ]
     },
     "metadata": {},
     "output_type": "display_data"
    }
   ],
   "source": [
    "p = sns.lineplot(x=df_results.index, y='Social Welfare (All Bidding Zero)_mean', data=df_results)  # 2 actions (blue)\n",
    "p.set_xlabel(\"Timesteps\", fontsize = 14)\n",
    "p.set_ylabel(\"Mean Social Welfare\", fontsize = 14)\n",
    "p.axes.set_ylim(0)"
   ]
  },
  {
   "cell_type": "markdown",
   "metadata": {},
   "source": [
    "### MARL"
   ]
  },
  {
   "cell_type": "code",
   "execution_count": 103,
   "metadata": {},
   "outputs": [
    {
     "data": {
      "text/plain": [
       "Text(0.5, 0, 'Timesteps')"
      ]
     },
     "execution_count": 103,
     "metadata": {},
     "output_type": "execute_result"
    },
    {
     "data": {
      "text/plain": [
       "Text(0, 0.5, 'Mean Social Welfare')"
      ]
     },
     "execution_count": 103,
     "metadata": {},
     "output_type": "execute_result"
    },
    {
     "data": {
      "text/plain": [
       "(0.0, 1224.4246142596403)"
      ]
     },
     "execution_count": 103,
     "metadata": {},
     "output_type": "execute_result"
    },
    {
     "data": {
      "image/png": "[encoded data removed]",
      "text/plain": [
       "<Figure size 720x432 with 1 Axes>"
      ]
     },
     "metadata": {},
     "output_type": "display_data"
    }
   ],
   "source": [
    "p = sns.lineplot(x=df_results.index, y='Social Welfare_mean', data=df_results)  # 2 actions (blue)\n",
    "p.set_xlabel(\"Timesteps\", fontsize = 14)\n",
    "p.set_ylabel(\"Mean Social Welfare\", fontsize = 14)\n",
    "p.axes.set_ylim(0)"
   ]
  },
  {
   "cell_type": "markdown",
   "metadata": {},
   "source": [
    "### Random Allocation"
   ]
  },
  {
   "cell_type": "code",
   "execution_count": 104,
   "metadata": {},
   "outputs": [
    {
     "data": {
      "text/plain": [
       "Text(0.5, 0, 'Timesteps')"
      ]
     },
     "execution_count": 104,
     "metadata": {},
     "output_type": "execute_result"
    },
    {
     "data": {
      "text/plain": [
       "Text(0, 0.5, 'Mean Social Welfare')"
      ]
     },
     "execution_count": 104,
     "metadata": {},
     "output_type": "execute_result"
    },
    {
     "data": {
      "text/plain": [
       "(0.0, 1338.7496149188078)"
      ]
     },
     "execution_count": 104,
     "metadata": {},
     "output_type": "execute_result"
    },
    {
     "data": {
      "image/png": "[encoded data removed]",
      "text/plain": [
       "<Figure size 720x432 with 1 Axes>"
      ]
     },
     "metadata": {},
     "output_type": "display_data"
    }
   ],
   "source": [
    "p = sns.lineplot(x=df_results.index, y='Social Welfare (Random Allocation)_mean', data=df_results)  # 2 actions (blue)\n",
    "p.set_xlabel(\"Timesteps\", fontsize = 14)\n",
    "p.set_ylabel(\"Mean Social Welfare\", fontsize = 14)\n",
    "p.axes.set_ylim(0)"
   ]
  },
  {
   "cell_type": "code",
   "execution_count": 86,
   "metadata": {},
   "outputs": [
    {
     "ename": "ZeroDivisionError",
     "evalue": "division by zero",
     "output_type": "error",
     "traceback": [
      "\u001b[0;31m---------------------------------------------------------------------------\u001b[0m",
      "\u001b[0;31mZeroDivisionError\u001b[0m                         Traceback (most recent call last)",
      "\u001b[0;32m<ipython-input-86-9e1622b385b6>\u001b[0m in \u001b[0;36m<module>\u001b[0;34m\u001b[0m\n\u001b[0;32m----> 1\u001b[0;31m \u001b[0;36m1\u001b[0m\u001b[0;34m/\u001b[0m\u001b[0;36m0\u001b[0m\u001b[0;34m\u001b[0m\u001b[0;34m\u001b[0m\u001b[0m\n\u001b[0m",
      "\u001b[0;31mZeroDivisionError\u001b[0m: division by zero"
     ]
    }
   ],
   "source": [
    "1/0"
   ]
  },
  {
   "cell_type": "markdown",
   "metadata": {},
   "source": [
    "## Use data from the progress.csv file."
   ]
  },
  {
   "cell_type": "code",
   "execution_count": 7,
   "metadata": {},
   "outputs": [],
   "source": [
    "# load from file\n",
    "# https://thispointer.com/python-three-ways-to-check-if-a-file-is-empty/\n",
    "# concatenating df1 and df2 along rows\n",
    "# vertical_concat = pd.concat([df1, df2], axis=0)\n",
    "# https://www.geeksforgeeks.org/how-to-concatenate-two-or-more-pandas-dataframes/\n",
    "hyperparamter_string = 'lr=0.0001,train_batch_size=3000'\n",
    "df_results = pd.DataFrame()\n",
    "for folder in dir_list:\n",
    "    file_path = f'{path}/{folder}/progress.csv'\n",
    "    if not os.path.isfile(file_path):  # jump over useless paths\n",
    "        continue\n",
    "    if hyperparamter_string not in file_path:  # only consider the specific hyperparameters combination \n",
    "        continue\n",
    "    with open (file_path) as f:\n",
    "        if os.stat(file_path).st_size != 0:\n",
    "            df_f = pd.read_csv(f)\n",
    "            if df_results.empty:\n",
    "                df_results = df_f\n",
    "            else:\n",
    "                df_results = df_results.append(df_f, ignore_index = True)"
   ]
  },
  {
   "cell_type": "code",
   "execution_count": 8,
   "metadata": {},
   "outputs": [
    {
     "name": "stdout",
     "output_type": "stream",
     "text": [
      "357\n"
     ]
    },
    {
     "data": {
      "text/html": [
       "<div>\n",
       "<style scoped>\n",
       "    .dataframe tbody tr th:only-of-type {\n",
       "        vertical-align: middle;\n",
       "    }\n",
       "\n",
       "    .dataframe tbody tr th {\n",
       "        vertical-align: top;\n",
       "    }\n",
       "\n",
       "    .dataframe thead th {\n",
       "        text-align: right;\n",
       "    }\n",
       "</style>\n",
       "<table border=\"1\" class=\"dataframe\">\n",
       "  <thead>\n",
       "    <tr style=\"text-align: right;\">\n",
       "      <th></th>\n",
       "      <th>episode_reward_max</th>\n",
       "      <th>episode_reward_min</th>\n",
       "      <th>episode_reward_mean</th>\n",
       "      <th>episode_len_mean</th>\n",
       "      <th>episodes_this_iter</th>\n",
       "      <th>num_healthy_workers</th>\n",
       "      <th>timesteps_total</th>\n",
       "      <th>agent_timesteps_total</th>\n",
       "      <th>done</th>\n",
       "      <th>episodes_total</th>\n",
       "      <th>...</th>\n",
       "      <th>info/learner/default/learner_stats/allreduce_latency</th>\n",
       "      <th>info/learner/default/learner_stats/cur_kl_coeff</th>\n",
       "      <th>info/learner/default/learner_stats/cur_lr</th>\n",
       "      <th>info/learner/default/learner_stats/total_loss</th>\n",
       "      <th>info/learner/default/learner_stats/policy_loss</th>\n",
       "      <th>info/learner/default/learner_stats/vf_loss</th>\n",
       "      <th>info/learner/default/learner_stats/vf_explained_var</th>\n",
       "      <th>info/learner/default/learner_stats/kl</th>\n",
       "      <th>info/learner/default/learner_stats/entropy</th>\n",
       "      <th>info/learner/default/learner_stats/entropy_coeff</th>\n",
       "    </tr>\n",
       "  </thead>\n",
       "  <tbody>\n",
       "    <tr>\n",
       "      <th>0</th>\n",
       "      <td>14951.943607</td>\n",
       "      <td>6661.389542</td>\n",
       "      <td>10686.041999</td>\n",
       "      <td>20.0</td>\n",
       "      <td>154</td>\n",
       "      <td>7</td>\n",
       "      <td>3080</td>\n",
       "      <td>9240</td>\n",
       "      <td>False</td>\n",
       "      <td>154</td>\n",
       "      <td>...</td>\n",
       "      <td>0.0</td>\n",
       "      <td>0.2</td>\n",
       "      <td>0.0001</td>\n",
       "      <td>3.424359e+06</td>\n",
       "      <td>-0.002127</td>\n",
       "      <td>3.424359e+06</td>\n",
       "      <td>0.005795</td>\n",
       "      <td>0.008954</td>\n",
       "      <td>1.600188</td>\n",
       "      <td>0.0</td>\n",
       "    </tr>\n",
       "    <tr>\n",
       "      <th>1</th>\n",
       "      <td>14318.974241</td>\n",
       "      <td>8328.678376</td>\n",
       "      <td>11074.965234</td>\n",
       "      <td>20.0</td>\n",
       "      <td>154</td>\n",
       "      <td>7</td>\n",
       "      <td>6160</td>\n",
       "      <td>18480</td>\n",
       "      <td>False</td>\n",
       "      <td>308</td>\n",
       "      <td>...</td>\n",
       "      <td>0.0</td>\n",
       "      <td>0.2</td>\n",
       "      <td>0.0001</td>\n",
       "      <td>3.645552e+06</td>\n",
       "      <td>0.001846</td>\n",
       "      <td>3.645552e+06</td>\n",
       "      <td>0.026189</td>\n",
       "      <td>0.012128</td>\n",
       "      <td>1.593240</td>\n",
       "      <td>0.0</td>\n",
       "    </tr>\n",
       "    <tr>\n",
       "      <th>2</th>\n",
       "      <td>15218.088859</td>\n",
       "      <td>7318.343723</td>\n",
       "      <td>10932.642307</td>\n",
       "      <td>20.0</td>\n",
       "      <td>154</td>\n",
       "      <td>7</td>\n",
       "      <td>9240</td>\n",
       "      <td>27720</td>\n",
       "      <td>False</td>\n",
       "      <td>462</td>\n",
       "      <td>...</td>\n",
       "      <td>0.0</td>\n",
       "      <td>0.2</td>\n",
       "      <td>0.0001</td>\n",
       "      <td>3.393351e+06</td>\n",
       "      <td>0.001760</td>\n",
       "      <td>3.393351e+06</td>\n",
       "      <td>0.035891</td>\n",
       "      <td>0.014833</td>\n",
       "      <td>1.582788</td>\n",
       "      <td>0.0</td>\n",
       "    </tr>\n",
       "    <tr>\n",
       "      <th>3</th>\n",
       "      <td>14304.079945</td>\n",
       "      <td>6638.035354</td>\n",
       "      <td>11179.813963</td>\n",
       "      <td>20.0</td>\n",
       "      <td>154</td>\n",
       "      <td>7</td>\n",
       "      <td>12320</td>\n",
       "      <td>36960</td>\n",
       "      <td>False</td>\n",
       "      <td>616</td>\n",
       "      <td>...</td>\n",
       "      <td>0.0</td>\n",
       "      <td>0.2</td>\n",
       "      <td>0.0001</td>\n",
       "      <td>3.439165e+06</td>\n",
       "      <td>0.003879</td>\n",
       "      <td>3.439165e+06</td>\n",
       "      <td>0.048657</td>\n",
       "      <td>0.015552</td>\n",
       "      <td>1.553997</td>\n",
       "      <td>0.0</td>\n",
       "    </tr>\n",
       "    <tr>\n",
       "      <th>4</th>\n",
       "      <td>14830.053690</td>\n",
       "      <td>6087.008121</td>\n",
       "      <td>11302.032003</td>\n",
       "      <td>20.0</td>\n",
       "      <td>154</td>\n",
       "      <td>7</td>\n",
       "      <td>15400</td>\n",
       "      <td>46200</td>\n",
       "      <td>False</td>\n",
       "      <td>770</td>\n",
       "      <td>...</td>\n",
       "      <td>0.0</td>\n",
       "      <td>0.2</td>\n",
       "      <td>0.0001</td>\n",
       "      <td>3.525264e+06</td>\n",
       "      <td>0.005538</td>\n",
       "      <td>3.525264e+06</td>\n",
       "      <td>0.069872</td>\n",
       "      <td>0.018805</td>\n",
       "      <td>1.562889</td>\n",
       "      <td>0.0</td>\n",
       "    </tr>\n",
       "  </tbody>\n",
       "</table>\n",
       "<p>5 rows × 73 columns</p>\n",
       "</div>"
      ],
      "text/plain": [
       "   episode_reward_max  episode_reward_min  episode_reward_mean  \\\n",
       "0        14951.943607         6661.389542         10686.041999   \n",
       "1        14318.974241         8328.678376         11074.965234   \n",
       "2        15218.088859         7318.343723         10932.642307   \n",
       "3        14304.079945         6638.035354         11179.813963   \n",
       "4        14830.053690         6087.008121         11302.032003   \n",
       "\n",
       "   episode_len_mean  episodes_this_iter  num_healthy_workers  timesteps_total  \\\n",
       "0              20.0                 154                    7             3080   \n",
       "1              20.0                 154                    7             6160   \n",
       "2              20.0                 154                    7             9240   \n",
       "3              20.0                 154                    7            12320   \n",
       "4              20.0                 154                    7            15400   \n",
       "\n",
       "   agent_timesteps_total   done  episodes_total  ...  \\\n",
       "0                   9240  False             154  ...   \n",
       "1                  18480  False             308  ...   \n",
       "2                  27720  False             462  ...   \n",
       "3                  36960  False             616  ...   \n",
       "4                  46200  False             770  ...   \n",
       "\n",
       "   info/learner/default/learner_stats/allreduce_latency  \\\n",
       "0                                                0.0      \n",
       "1                                                0.0      \n",
       "2                                                0.0      \n",
       "3                                                0.0      \n",
       "4                                                0.0      \n",
       "\n",
       "  info/learner/default/learner_stats/cur_kl_coeff  \\\n",
       "0                                             0.2   \n",
       "1                                             0.2   \n",
       "2                                             0.2   \n",
       "3                                             0.2   \n",
       "4                                             0.2   \n",
       "\n",
       "  info/learner/default/learner_stats/cur_lr  \\\n",
       "0                                    0.0001   \n",
       "1                                    0.0001   \n",
       "2                                    0.0001   \n",
       "3                                    0.0001   \n",
       "4                                    0.0001   \n",
       "\n",
       "   info/learner/default/learner_stats/total_loss  \\\n",
       "0                                   3.424359e+06   \n",
       "1                                   3.645552e+06   \n",
       "2                                   3.393351e+06   \n",
       "3                                   3.439165e+06   \n",
       "4                                   3.525264e+06   \n",
       "\n",
       "   info/learner/default/learner_stats/policy_loss  \\\n",
       "0                                       -0.002127   \n",
       "1                                        0.001846   \n",
       "2                                        0.001760   \n",
       "3                                        0.003879   \n",
       "4                                        0.005538   \n",
       "\n",
       "   info/learner/default/learner_stats/vf_loss  \\\n",
       "0                                3.424359e+06   \n",
       "1                                3.645552e+06   \n",
       "2                                3.393351e+06   \n",
       "3                                3.439165e+06   \n",
       "4                                3.525264e+06   \n",
       "\n",
       "   info/learner/default/learner_stats/vf_explained_var  \\\n",
       "0                                           0.005795     \n",
       "1                                           0.026189     \n",
       "2                                           0.035891     \n",
       "3                                           0.048657     \n",
       "4                                           0.069872     \n",
       "\n",
       "  info/learner/default/learner_stats/kl  \\\n",
       "0                              0.008954   \n",
       "1                              0.012128   \n",
       "2                              0.014833   \n",
       "3                              0.015552   \n",
       "4                              0.018805   \n",
       "\n",
       "  info/learner/default/learner_stats/entropy  \\\n",
       "0                                   1.600188   \n",
       "1                                   1.593240   \n",
       "2                                   1.582788   \n",
       "3                                   1.553997   \n",
       "4                                   1.562889   \n",
       "\n",
       "   info/learner/default/learner_stats/entropy_coeff  \n",
       "0                                               0.0  \n",
       "1                                               0.0  \n",
       "2                                               0.0  \n",
       "3                                               0.0  \n",
       "4                                               0.0  \n",
       "\n",
       "[5 rows x 73 columns]"
      ]
     },
     "execution_count": 8,
     "metadata": {},
     "output_type": "execute_result"
    }
   ],
   "source": [
    "print(len(df_results))\n",
    "df_results.head()"
   ]
  },
  {
   "cell_type": "code",
   "execution_count": 82,
   "metadata": {},
   "outputs": [],
   "source": [
    "df_results1 = df_results"
   ]
  },
  {
   "cell_type": "code",
   "execution_count": 102,
   "metadata": {},
   "outputs": [],
   "source": [
    "path = '/Users/fan/OneDrive - University of Southampton/My-Projects/Edge-Cloud-Resource-Allocation/marl-edge-cloud/results/edge_cloud_independent_ppo_with_history_2_actions'\n",
    "dir_list = os.listdir(path)\n",
    "hyperparamter_string = 'lr=0.0001,train_batch_size=3000'\n",
    "df_results = pd.DataFrame()\n",
    "for folder in dir_list:\n",
    "    file_path = f'{path}/{folder}/progress.csv'\n",
    "    if not os.path.isfile(file_path):  # jump over useless paths\n",
    "        continue\n",
    "    if hyperparamter_string not in file_path:  # only consider the specific hyperparameters combination \n",
    "        continue\n",
    "    with open (file_path) as f:\n",
    "        if os.stat(file_path).st_size != 0:\n",
    "            df_f = pd.read_csv(f)\n",
    "            if df_results.empty:\n",
    "                df_results = df_f\n",
    "            else:\n",
    "                df_results = df_results.append(df_f, ignore_index = True)"
   ]
  },
  {
   "cell_type": "code",
   "execution_count": 9,
   "metadata": {},
   "outputs": [
    {
     "data": {
      "text/plain": [
       "<AxesSubplot:xlabel='timesteps_total', ylabel='episode_reward_mean'>"
      ]
     },
     "execution_count": 9,
     "metadata": {},
     "output_type": "execute_result"
    },
    {
     "data": {
      "image/png": "[encoded data removed]",
      "text/plain": [
       "<Figure size 720x432 with 1 Axes>"
      ]
     },
     "metadata": {},
     "output_type": "display_data"
    }
   ],
   "source": [
    "# plot the confidence interval for the mean\n",
    "# dont't have customised measurements in the progress.csv file, maybe we need to get data from the *.json file.\n",
    "sns.lineplot(x='timesteps_total',y='episode_reward_mean', data=df_results)  # 2 actions (blue)\n",
    "# sns.lineplot(x='timesteps_total',y='episode_reward_mean', data=df_results1)  # 5 actions (yellow)"
   ]
  },
  {
   "cell_type": "code",
   "execution_count": 96,
   "metadata": {},
   "outputs": [
    {
     "ename": "FileNotFoundError",
     "evalue": "[Errno 2] No such file or directory: 'simulation_results_ILP\\\\s2(sw)_40_0.35_8.0_30.csv'",
     "output_type": "error",
     "traceback": [
      "\u001b[1;31m---------------------------------------------------------------------------\u001b[0m",
      "\u001b[1;31mFileNotFoundError\u001b[0m                         Traceback (most recent call last)",
      "\u001b[1;32m<ipython-input-96-ad59fa04ffda>\u001b[0m in \u001b[0;36m<module>\u001b[1;34m()\u001b[0m\n\u001b[0;32m      7\u001b[0m         \u001b[1;32mfor\u001b[0m \u001b[0mi\u001b[0m \u001b[1;32min\u001b[0m \u001b[0mrange\u001b[0m\u001b[1;33m(\u001b[0m\u001b[1;36m30\u001b[0m\u001b[1;33m,\u001b[0m\u001b[0mNoS\u001b[0m\u001b[1;33m)\u001b[0m\u001b[1;33m:\u001b[0m\u001b[1;33m\u001b[0m\u001b[0m\n\u001b[0;32m      8\u001b[0m             f = open('simulation_results_ILP\\\\s2(sw)'\n\u001b[1;32m----> 9\u001b[1;33m                                                  +'_'+str(NoT)+'_'+str(k)+'_'+str(F)+'_'+str(i)+'.csv')\n\u001b[0m\u001b[0;32m     10\u001b[0m \u001b[1;33m\u001b[0m\u001b[0m\n\u001b[0;32m     11\u001b[0m             \u001b[0mf\u001b[0m\u001b[1;33m.\u001b[0m\u001b[0mclose\u001b[0m\u001b[1;33m(\u001b[0m\u001b[1;33m)\u001b[0m\u001b[1;33m\u001b[0m\u001b[0m\n",
      "\u001b[1;31mFileNotFoundError\u001b[0m: [Errno 2] No such file or directory: 'simulation_results_ILP\\\\s2(sw)_40_0.35_8.0_30.csv'"
     ]
    }
   ],
   "source": [
    "# test if some file is missing\n",
    "oo = {}\n",
    "NoT = 40 # number of tasks in the whole time period\n",
    "NoS = 60 # number of samples\n",
    "for F in [8.0]:\n",
    "    for k in [0.35, 0.4, 0.45]:\n",
    "        for i in range(30,NoS):\n",
    "            f = open('simulation_results_ILP\\\\s2(sw)'\n",
    "                                                 +'_'+str(NoT)+'_'+str(k)+'_'+str(F)+'_'+str(i)+'.csv')\n",
    "           \n",
    "            f.close()"
   ]
  },
  {
   "cell_type": "code",
   "execution_count": 81,
   "metadata": {},
   "outputs": [
    {
     "ename": "FileNotFoundError",
     "evalue": "[Errno 2] No such file or directory: 'simulation_results_ILP\\\\fog(tm)_20_0.35_8.0_56.csv'",
     "output_type": "error",
     "traceback": [
      "\u001b[1;31m---------------------------------------------------------------------------\u001b[0m",
      "\u001b[1;31mFileNotFoundError\u001b[0m                         Traceback (most recent call last)",
      "\u001b[1;32m<ipython-input-81-c2a854b63216>\u001b[0m in \u001b[0;36m<module>\u001b[1;34m()\u001b[0m\n\u001b[0;32m      7\u001b[0m \u001b[1;33m\u001b[0m\u001b[0m\n\u001b[0;32m      8\u001b[0m f = open('simulation_results_ILP\\\\fog(tm)'\n\u001b[1;32m----> 9\u001b[1;33m                                                  +'_'+str(NoT)+'_'+str(k)+'_'+str(F)+'_'+str(i)+'.csv')\n\u001b[0m\u001b[0;32m     10\u001b[0m \u001b[0mcsv_f\u001b[0m \u001b[1;33m=\u001b[0m \u001b[0mcsv\u001b[0m\u001b[1;33m.\u001b[0m\u001b[0mreader\u001b[0m\u001b[1;33m(\u001b[0m\u001b[0mf\u001b[0m\u001b[1;33m)\u001b[0m\u001b[1;33m\u001b[0m\u001b[0m\n\u001b[0;32m     11\u001b[0m \u001b[1;32mfor\u001b[0m \u001b[0mrow\u001b[0m \u001b[1;32min\u001b[0m \u001b[0mcsv_f\u001b[0m\u001b[1;33m:\u001b[0m\u001b[1;33m\u001b[0m\u001b[0m\n",
      "\u001b[1;31mFileNotFoundError\u001b[0m: [Errno 2] No such file or directory: 'simulation_results_ILP\\\\fog(tm)_20_0.35_8.0_56.csv'"
     ]
    }
   ],
   "source": [
    "# print the value of the file\n",
    "NoT = 20 # number of tasks in the whole time period\n",
    "NoS = 23 # number of samples\n",
    "F = 8.0\n",
    "k = 0.35\n",
    "\n",
    "\n",
    "f = open('simulation_results_ILP\\\\fog(tm)'\n",
    "                                                 +'_'+str(NoT)+'_'+str(k)+'_'+str(F)+'_'+str(i)+'.csv')\n",
    "csv_f = csv.reader(f)\n",
    "for row in csv_f:\n",
    "    print(float(row[0]))\n",
    "f.close()"
   ]
  },
  {
   "cell_type": "code",
   "execution_count": 61,
   "metadata": {},
   "outputs": [
    {
     "ename": "FileNotFoundError",
     "evalue": "[Errno 2] No such file or directory: 'simulation_results_ILP\\\\oo(tn)_20_0.35_8.0_0.csv'",
     "output_type": "error",
     "traceback": [
      "\u001b[1;31m---------------------------------------------------------------------------\u001b[0m",
      "\u001b[1;31mFileNotFoundError\u001b[0m                         Traceback (most recent call last)",
      "\u001b[1;32m<ipython-input-61-9e9057513a4f>\u001b[0m in \u001b[0;36m<module>\u001b[1;34m()\u001b[0m\n\u001b[0;32m      9\u001b[0m \u001b[1;31m#                                                  +'_'+str(NoT)+'_'+str(k)+'_'+str(F)+'_'+str(i)+'.csv')\u001b[0m\u001b[1;33m\u001b[0m\u001b[1;33m\u001b[0m\u001b[0m\n\u001b[0;32m     10\u001b[0m             f = open('simulation_results_ILP\\\\oo(tn)'\n\u001b[1;32m---> 11\u001b[1;33m                                                  +'_'+str(NoT)+'_'+str(k)+'_'+str(F)+'_'+str(i)+'.csv')\n\u001b[0m\u001b[0;32m     12\u001b[0m             \u001b[0mcsv_f\u001b[0m \u001b[1;33m=\u001b[0m \u001b[0mcsv\u001b[0m\u001b[1;33m.\u001b[0m\u001b[0mreader\u001b[0m\u001b[1;33m(\u001b[0m\u001b[0mf\u001b[0m\u001b[1;33m)\u001b[0m\u001b[1;33m\u001b[0m\u001b[0m\n\u001b[0;32m     13\u001b[0m             \u001b[1;32mfor\u001b[0m \u001b[0mrow\u001b[0m \u001b[1;32min\u001b[0m \u001b[0mcsv_f\u001b[0m\u001b[1;33m:\u001b[0m\u001b[1;33m\u001b[0m\u001b[0m\n",
      "\u001b[1;31mFileNotFoundError\u001b[0m: [Errno 2] No such file or directory: 'simulation_results_ILP\\\\oo(tn)_20_0.35_8.0_0.csv'"
     ]
    }
   ],
   "source": [
    "# get the data\n",
    "oo = {}\n",
    "NoT = 20 # number of tasks in the whole time period\n",
    "NoS = 100 # number of samples\n",
    "for F in [8.0]:\n",
    "    for k in [0.35, 0.4, 0.45]:\n",
    "        for i in range(NoS):\n",
    "            f = open('simulation_results_ILP\\\\oo(sw)'\n",
    "                                                 +'_'+str(NoT)+'_'+str(k)+'_'+str(F)+'_'+str(i)+'.csv')\n",
    "            csv_f = csv.reader(f)\n",
    "            for row in csv_f:\n",
    "                oo['sw', NoT, k, F, i] = float(row[0])\n",
    "            f.close()\n",
    "\n",
    "# s2 = {}\n",
    "# NoT = 20\n",
    "# NoS = 100 # number of samples\n",
    "# for F in [8.0]:\n",
    "#     for k in [0.35, 0.4, 0.45]:\n",
    "#         for i in range(1,NoS+1):\n",
    "#             f = open('simulation_results_ILP\\s2(sw)'\n",
    "#                                                  +'_'+str(NoT)+'_'+str(k)+'_'+str(F)+'_'+str(i)+'.csv')\n",
    "#             csv_f = csv.reader(f)\n",
    "#             for row in csv_f:\n",
    "#                 s2['sw', NoT, k, F, i] = float(row[0])\n",
    "#             f.close()\n",
    "\n",
    "og = {}\n",
    "NoT = 20\n",
    "NoS = 100 # number of samples\n",
    "for F in [8.0]:\n",
    "    for k in [0.35, 0.4, 0.45]:\n",
    "        for i in range(NoS):\n",
    "            f = open('simulation_results_ILP/og(sw)'\n",
    "                                                 +'_'+str(NoT)+'_'+str(k)+'_'+str(F)+'_'+str(i)+'.csv')\n",
    "            csv_f = csv.reader(f)\n",
    "            for row in csv_f:\n",
    "                og['sw', NoT, k, F, i] = float(row[0])\n",
    "            f.close()\n",
    "            \n",
    "fog = {}\n",
    "NoT = 20\n",
    "NoS = 100 # number of samples\n",
    "for F in [8.0]:\n",
    "    for k in [0.35, 0.4, 0.45]:\n",
    "        for i in range(NoS):\n",
    "            f = open('simulation_results_ILP/fog(sw)' \n",
    "                                                 +'_'+str(NoT)+'_'+str(k)+'_'+str(F)+'_'+str(i)+'.csv')\n",
    "            csv_f = csv.reader(f)\n",
    "            for row in csv_f:\n",
    "                fog['sw', NoT, k, F, i] = float(row[0])\n",
    "            f.close()"
   ]
  },
  {
   "cell_type": "code",
   "execution_count": 49,
   "metadata": {},
   "outputs": [],
   "source": [
    "# whe F = 8 construct a dataframe\n",
    "d = {}\n",
    "F = 8.0\n",
    "NoT = 20\n",
    "\n",
    "for k in [0.35, 0.4, 0.45]:\n",
    "    d[k] = [oo['sw', NoT, k, F, i] for i in range(10)]\n",
    "result_oo = pd.DataFrame(data=d)\n",
    "# print(result_oo)\n",
    "# for k in [0.35, 0.4, 0.45]:\n",
    "#     d[k] = [s2['sw', NoT, k, F, i] for i in range(10)]\n",
    "# result_s2 = pd.DataFrame(data=d)\n",
    "\n",
    "# online greedy：\n",
    "for k in [0.35, 0.4, 0.45]:\n",
    "    d[k] = [og['sw', NoT, k, F, i] for i in range(10)]\n",
    "result_og = pd.DataFrame(data=d)\n",
    "\n",
    "# online greedy：\n",
    "for k in [0.35, 0.4, 0.45]:\n",
    "    d[k] = [fog['sw', NoT, k, F, i] for i in range(10)]\n",
    "result_fog = pd.DataFrame(data=d)"
   ]
  },
  {
   "cell_type": "code",
   "execution_count": 50,
   "metadata": {},
   "outputs": [
    {
     "data": {
      "text/html": [
       "<div>\n",
       "<style>\n",
       "    .dataframe thead tr:only-child th {\n",
       "        text-align: right;\n",
       "    }\n",
       "\n",
       "    .dataframe thead th {\n",
       "        text-align: left;\n",
       "    }\n",
       "\n",
       "    .dataframe tbody tr th {\n",
       "        vertical-align: top;\n",
       "    }\n",
       "</style>\n",
       "<table border=\"1\" class=\"dataframe\">\n",
       "  <thead>\n",
       "    <tr style=\"text-align: right;\">\n",
       "      <th></th>\n",
       "      <th>0.35</th>\n",
       "      <th>0.4</th>\n",
       "      <th>0.45</th>\n",
       "    </tr>\n",
       "  </thead>\n",
       "  <tbody>\n",
       "    <tr>\n",
       "      <th>0</th>\n",
       "      <td>76.885713</td>\n",
       "      <td>130.451414</td>\n",
       "      <td>147.986178</td>\n",
       "    </tr>\n",
       "    <tr>\n",
       "      <th>1</th>\n",
       "      <td>30.509043</td>\n",
       "      <td>111.756084</td>\n",
       "      <td>179.278694</td>\n",
       "    </tr>\n",
       "    <tr>\n",
       "      <th>2</th>\n",
       "      <td>95.362268</td>\n",
       "      <td>95.362268</td>\n",
       "      <td>109.339905</td>\n",
       "    </tr>\n",
       "    <tr>\n",
       "      <th>3</th>\n",
       "      <td>79.681996</td>\n",
       "      <td>115.216091</td>\n",
       "      <td>115.216091</td>\n",
       "    </tr>\n",
       "    <tr>\n",
       "      <th>4</th>\n",
       "      <td>58.345266</td>\n",
       "      <td>64.015251</td>\n",
       "      <td>147.388581</td>\n",
       "    </tr>\n",
       "  </tbody>\n",
       "</table>\n",
       "</div>"
      ],
      "text/plain": [
       "        0.35        0.40        0.45\n",
       "0  76.885713  130.451414  147.986178\n",
       "1  30.509043  111.756084  179.278694\n",
       "2  95.362268   95.362268  109.339905\n",
       "3  79.681996  115.216091  115.216091\n",
       "4  58.345266   64.015251  147.388581"
      ]
     },
     "execution_count": 50,
     "metadata": {},
     "output_type": "execute_result"
    }
   ],
   "source": [
    "result_oo.head()\n",
    "result_fog.head()"
   ]
  },
  {
   "cell_type": "code",
   "execution_count": 51,
   "metadata": {},
   "outputs": [],
   "source": [
    "mean_oo = result_oo.mean(axis = 0)\n",
    "# pd.DataFrame.std: Return sample standard deviation\n",
    "std_oo = result_oo.std(axis = 0)  \n",
    "\n",
    "mean_og = result_og.mean(axis = 0)\n",
    "# pd.DataFrame.std: Return sample standard deviation\n",
    "std_og = result_og.std(axis = 0)  \n",
    "\n",
    "mean_fog = result_fog.mean(axis = 0)\n",
    "# pd.DataFrame.std: Return sample standard deviation\n",
    "std_fog = result_fog.std(axis = 0)  "
   ]
  },
  {
   "cell_type": "code",
   "execution_count": 8,
   "metadata": {},
   "outputs": [
    {
     "data": {
      "text/plain": [
       "2.2621571627409915"
      ]
     },
     "execution_count": 8,
     "metadata": {},
     "output_type": "execute_result"
    }
   ],
   "source": [
    "stats.t.ppf(1-0.025, NoS -1)"
   ]
  },
  {
   "cell_type": "code",
   "execution_count": 54,
   "metadata": {},
   "outputs": [
    {
     "data": {
      "text/plain": [
       "<function matplotlib.pyplot.show(*args, **kw)>"
      ]
     },
     "execution_count": 54,
     "metadata": {},
     "output_type": "execute_result"
    },
    {
     "data": {
      "image/png": "[encoded data removed]",
      "text/plain": [
       "<Figure size 432x288 with 1 Axes>"
      ]
     },
     "metadata": {},
     "output_type": "display_data"
    }
   ],
   "source": [
    "# Degrees of Freedom = n – 1, \n",
    "plt.errorbar(mean_oo.index, mean_oo, xerr = 0, \n",
    "             yerr = std_oo / np.sqrt(NoS) * stats.t.ppf(1-0.025, NoS -1), uplims =True, lolims = True)\n",
    "plt.errorbar(mean_og.index, mean_og, xerr = 0, \n",
    "             yerr = std_og / np.sqrt(NoS) * stats.t.ppf(1-0.025, NoS -1), uplims =True, lolims = True)\n",
    "plt.errorbar(mean_fog.index, mean_fog, xerr = 0, \n",
    "             yerr = std_fog / np.sqrt(NoS) * stats.t.ppf(1-0.025, NoS -1), uplims =True, lolims = True)\n",
    "\n",
    "# plt.errorbar(mean_sp.index, mean_sp, xerr = 0, yerr = std_sp * 2.024, uplims =True, lolims = True)\n",
    "# plt.errorbar(mean_ogwf.index, mean_ogwf, xerr = 0, yerr = std_ogwf * 2.201, uplims =True, lolims = True)\n",
    "\n",
    "# plt.legend(['offline optimal','online greedy','SWMOA', 'flexible online greedy'], loc = 'lower right')\n",
    "plt.legend(['offline optimal','online greedy','flexible online greedy'],\n",
    "           loc = 'lower right')\n",
    "plt.xlabel(\"resource coefficient\")\n",
    "plt.ylabel(\"social welfare\")\n",
    "\n",
    "# setting y axis limit\n",
    "axes = plt.gca()\n",
    "# axes.set_ylim([0,150])\n",
    "\n",
    "plt.show\n",
    "# plt.savefig('comparison of four algorithms.png')"
   ]
  },
  {
   "cell_type": "code",
   "execution_count": 9,
   "metadata": {},
   "outputs": [
    {
     "data": {
      "text/plain": [
       "<matplotlib.axes._subplots.AxesSubplot at 0x19adac9a080>"
      ]
     },
     "execution_count": 9,
     "metadata": {},
     "output_type": "execute_result"
    },
    {
     "data": {
      "image/png": "[encoded data removed]",
      "text/plain": [
       "<matplotlib.figure.Figure at 0x19adae1d710>"
      ]
     },
     "metadata": {},
     "output_type": "display_data"
    }
   ],
   "source": [
    "figure = result_oo.boxplot(column = [0.1, 0.2, 0.3, 0.4, 0.5, 0.6], grid = False)\n",
    "figure"
   ]
  },
  {
   "cell_type": "code",
   "execution_count": 10,
   "metadata": {},
   "outputs": [
    {
     "data": {
      "text/html": [
       "<div>\n",
       "<style scoped>\n",
       "    .dataframe tbody tr th:only-of-type {\n",
       "        vertical-align: middle;\n",
       "    }\n",
       "\n",
       "    .dataframe tbody tr th {\n",
       "        vertical-align: top;\n",
       "    }\n",
       "\n",
       "    .dataframe thead th {\n",
       "        text-align: right;\n",
       "    }\n",
       "</style>\n",
       "<table border=\"1\" class=\"dataframe\">\n",
       "  <thead>\n",
       "    <tr style=\"text-align: right;\">\n",
       "      <th></th>\n",
       "      <th>0.1</th>\n",
       "      <th>0.2</th>\n",
       "      <th>0.3</th>\n",
       "      <th>0.4</th>\n",
       "      <th>0.5</th>\n",
       "      <th>0.6</th>\n",
       "    </tr>\n",
       "  </thead>\n",
       "  <tbody>\n",
       "    <tr>\n",
       "      <th>0</th>\n",
       "      <td>14.804852</td>\n",
       "      <td>332.890855</td>\n",
       "      <td>652.369911</td>\n",
       "      <td>746.533202</td>\n",
       "      <td>777.027914</td>\n",
       "      <td>792.476771</td>\n",
       "    </tr>\n",
       "    <tr>\n",
       "      <th>1</th>\n",
       "      <td>56.521479</td>\n",
       "      <td>370.154354</td>\n",
       "      <td>493.321468</td>\n",
       "      <td>528.951987</td>\n",
       "      <td>589.274848</td>\n",
       "      <td>594.596347</td>\n",
       "    </tr>\n",
       "    <tr>\n",
       "      <th>2</th>\n",
       "      <td>47.411757</td>\n",
       "      <td>407.639529</td>\n",
       "      <td>711.373646</td>\n",
       "      <td>816.137509</td>\n",
       "      <td>862.060722</td>\n",
       "      <td>866.744365</td>\n",
       "    </tr>\n",
       "    <tr>\n",
       "      <th>3</th>\n",
       "      <td>100.571917</td>\n",
       "      <td>326.468696</td>\n",
       "      <td>619.003658</td>\n",
       "      <td>740.686540</td>\n",
       "      <td>806.678539</td>\n",
       "      <td>812.698734</td>\n",
       "    </tr>\n",
       "    <tr>\n",
       "      <th>4</th>\n",
       "      <td>23.902616</td>\n",
       "      <td>321.094077</td>\n",
       "      <td>522.944716</td>\n",
       "      <td>612.995375</td>\n",
       "      <td>687.752965</td>\n",
       "      <td>710.076344</td>\n",
       "    </tr>\n",
       "    <tr>\n",
       "      <th>5</th>\n",
       "      <td>154.762243</td>\n",
       "      <td>480.981699</td>\n",
       "      <td>769.852791</td>\n",
       "      <td>851.784412</td>\n",
       "      <td>873.735865</td>\n",
       "      <td>876.118105</td>\n",
       "    </tr>\n",
       "    <tr>\n",
       "      <th>6</th>\n",
       "      <td>72.933631</td>\n",
       "      <td>444.426765</td>\n",
       "      <td>699.576083</td>\n",
       "      <td>780.564186</td>\n",
       "      <td>871.350049</td>\n",
       "      <td>888.037135</td>\n",
       "    </tr>\n",
       "    <tr>\n",
       "      <th>7</th>\n",
       "      <td>220.364277</td>\n",
       "      <td>574.035761</td>\n",
       "      <td>755.896787</td>\n",
       "      <td>875.784334</td>\n",
       "      <td>916.232126</td>\n",
       "      <td>930.780785</td>\n",
       "    </tr>\n",
       "    <tr>\n",
       "      <th>8</th>\n",
       "      <td>52.719876</td>\n",
       "      <td>383.106946</td>\n",
       "      <td>574.283435</td>\n",
       "      <td>696.686036</td>\n",
       "      <td>767.569875</td>\n",
       "      <td>776.806368</td>\n",
       "    </tr>\n",
       "    <tr>\n",
       "      <th>9</th>\n",
       "      <td>50.178481</td>\n",
       "      <td>349.119487</td>\n",
       "      <td>632.016703</td>\n",
       "      <td>732.477321</td>\n",
       "      <td>798.342159</td>\n",
       "      <td>821.735499</td>\n",
       "    </tr>\n",
       "  </tbody>\n",
       "</table>\n",
       "</div>"
      ],
      "text/plain": [
       "          0.1         0.2         0.3         0.4         0.5         0.6\n",
       "0   14.804852  332.890855  652.369911  746.533202  777.027914  792.476771\n",
       "1   56.521479  370.154354  493.321468  528.951987  589.274848  594.596347\n",
       "2   47.411757  407.639529  711.373646  816.137509  862.060722  866.744365\n",
       "3  100.571917  326.468696  619.003658  740.686540  806.678539  812.698734\n",
       "4   23.902616  321.094077  522.944716  612.995375  687.752965  710.076344\n",
       "5  154.762243  480.981699  769.852791  851.784412  873.735865  876.118105\n",
       "6   72.933631  444.426765  699.576083  780.564186  871.350049  888.037135\n",
       "7  220.364277  574.035761  755.896787  875.784334  916.232126  930.780785\n",
       "8   52.719876  383.106946  574.283435  696.686036  767.569875  776.806368\n",
       "9   50.178481  349.119487  632.016703  732.477321  798.342159  821.735499"
      ]
     },
     "execution_count": 10,
     "metadata": {},
     "output_type": "execute_result"
    }
   ],
   "source": [
    "result_ogf = pd.read_csv(\"ogf.csv\", names =[0.1, 0.2, 0.3, 0.4, 0.5, 0.6])\n",
    "result_ogf"
   ]
  },
  {
   "cell_type": "code",
   "execution_count": 12,
   "metadata": {},
   "outputs": [
    {
     "data": {
      "text/plain": [
       "<matplotlib.axes._subplots.AxesSubplot at 0x19adb26d2e8>"
      ]
     },
     "execution_count": 12,
     "metadata": {},
     "output_type": "execute_result"
    },
    {
     "data": {
      "image/png": "[encoded data removed]",
      "text/plain": [
       "<matplotlib.figure.Figure at 0x19adaea1438>"
      ]
     },
     "metadata": {},
     "output_type": "display_data"
    }
   ],
   "source": [
    "figure = result_ogf.boxplot(column = [0.1, 0.2, 0.3, 0.4, 0.5, 0.6], grid = False)\n",
    "figure"
   ]
  }
 ],
 "metadata": {
  "kernelspec": {
   "display_name": "Python 3",
   "language": "python",
   "name": "python3"
  },
  "language_info": {
   "codemirror_mode": {
    "name": "ipython",
    "version": 3
   },
   "file_extension": ".py",
   "mimetype": "text/x-python",
   "name": "python",
   "nbconvert_exporter": "python",
   "pygments_lexer": "ipython3",
   "version": "3.7.7"
  }
 },
 "nbformat": 4,
 "nbformat_minor": 4
}
