{
 "cells": [
  {
   "cell_type": "markdown",
   "metadata": {},
   "source": [
    "### To plot figures for the Thesis (HPO part)"
   ]
  },
  {
   "cell_type": "code",
   "execution_count": 1,
   "metadata": {
    "tags": []
   },
   "outputs": [],
   "source": [
    "import numpy as np\n",
    "import pandas as pd\n",
    "import matplotlib.pyplot as plt\n",
    "import csv\n",
    "from scipy import stats\n",
    "import seaborn as sns\n",
    "from pprint import pprint\n",
    "import os\n",
    "import json\n",
    "\n",
    "%matplotlib inline\n",
    "sns.set_style(\"whitegrid\")  # Proposed themes: darkgrid, whitegrid, dark, white, and ticks\n",
    "# https://stackoverflow.com/a/37347783/7060068\n",
    "pd.set_option('display.max_columns', None)  # or 1000\n",
    "pd.set_option('display.max_rows', None)  # or 1000"
   ]
  },
  {
   "cell_type": "code",
   "execution_count": 2,
   "metadata": {
    "tags": []
   },
   "outputs": [],
   "source": [
    "# Let’s change the default plot size so we have a better view of our line plots:\n",
    "fig_size = plt.rcParams[\"figure.figsize\"]\n",
    "fig_size[0] = 10\n",
    "fig_size[1] = 6\n",
    "plt.rcParams[\"figure.figsize\"] = fig_size"
   ]
  },
  {
   "cell_type": "markdown",
   "metadata": {},
   "source": [
    "## Different depth (hidden layer)"
   ]
  },
  {
   "cell_type": "code",
   "execution_count": 3,
   "metadata": {},
   "outputs": [],
   "source": [
    "# get all names from the folder\n",
    "# https://stackoverflow.com/a/29206464/7060068\n",
    "path = '/Users/fan/OneDrive - University of Southampton/My-Projects/Edge-Cloud-Resource-Allocation/marl-edge-cloud/results/Hyperparameter_Optimization__model_depth'\n",
    "dir_list = os.listdir(path)"
   ]
  },
  {
   "cell_type": "code",
   "execution_count": 4,
   "metadata": {},
   "outputs": [
    {
     "name": "stdout",
     "output_type": "stream",
     "text": [
      "number of folders = 15\n"
     ]
    }
   ],
   "source": [
    "print(f\"number of folders = {len(dir_list)}\")"
   ]
  },
  {
   "cell_type": "code",
   "execution_count": 5,
   "metadata": {
    "collapsed": true,
    "jupyter": {
     "outputs_hidden": true
    },
    "tags": []
   },
   "outputs": [
    {
     "name": "stdout",
     "output_type": "stream",
     "text": [
      "/Users/fan/OneDrive - University of Southampton/My-Projects/Edge-Cloud-Resource-Allocation/marl-edge-cloud/results/Hyperparameter_Optimization__model_depth/PPO_EdgeCloudEnv1_c7972_00000_0_clip_param=0.3,entropy_coeff=0.01,auction_type=first-price,lambda=0.95,lr=0.0001,layers=[256, 256,_2022-03-30_12-37-29/params.json\n",
      "depth = 1\n",
      "number of trials = 0\n",
      "numbler of rows of the results: 0\n",
      "depth = 2\n",
      "number of trials = 0\n",
      "numbler of rows of the results: 0\n",
      "depth = 3\n",
      "number of trials = 0\n",
      "numbler of rows of the results: 0\n",
      "      Social Welfare (PPO)_mean  Social Welfare (PPO)_min  \\\n",
      "3120               15730.950441              11745.892532   \n",
      "\n",
      "      Social Welfare (PPO)_max  depth  \n",
      "3120              20842.304903      4  \n",
      "      Social Welfare (PPO)_mean  Social Welfare (PPO)_min  \\\n",
      "6240               14481.240541              10496.378834   \n",
      "\n",
      "      Social Welfare (PPO)_max  depth  \n",
      "6240              19787.115323      4  \n",
      "      Social Welfare (PPO)_mean  Social Welfare (PPO)_min  \\\n",
      "9360               15728.416547              11169.018318   \n",
      "\n",
      "      Social Welfare (PPO)_max  depth  \n",
      "9360              21327.398157      4  \n",
      "       Social Welfare (PPO)_mean  Social Welfare (PPO)_min  \\\n",
      "12480               16326.996121              10791.410833   \n",
      "\n",
      "       Social Welfare (PPO)_max  depth  \n",
      "12480              20779.708417      4  \n",
      "       Social Welfare (PPO)_mean  Social Welfare (PPO)_min  \\\n",
      "15600               15614.179987               9962.554962   \n",
      "\n",
      "       Social Welfare (PPO)_max  depth  \n",
      "15600              19804.792601      4  \n",
      "       Social Welfare (PPO)_mean  Social Welfare (PPO)_min  \\\n",
      "18720               15523.822537               9962.554962   \n",
      "\n",
      "       Social Welfare (PPO)_max  depth  \n",
      "18720              19659.480947      4  \n",
      "       Social Welfare (PPO)_mean  Social Welfare (PPO)_min  \\\n",
      "21840               16008.248334               9210.129618   \n",
      "\n",
      "       Social Welfare (PPO)_max  depth  \n",
      "21840              23418.106683      4  \n",
      "       Social Welfare (PPO)_mean  Social Welfare (PPO)_min  \\\n",
      "24960               15456.223324               9210.129618   \n",
      "\n",
      "       Social Welfare (PPO)_max  depth  \n",
      "24960              20304.315178      4  \n",
      "       Social Welfare (PPO)_mean  Social Welfare (PPO)_min  \\\n",
      "28080               16183.876905              13137.156018   \n",
      "\n",
      "       Social Welfare (PPO)_max  depth  \n",
      "28080              20115.414177      4  \n",
      "       Social Welfare (PPO)_mean  Social Welfare (PPO)_min  \\\n",
      "31200               16722.013741              13371.421978   \n",
      "\n",
      "       Social Welfare (PPO)_max  depth  \n",
      "31200               22061.61554      4  \n",
      "       Social Welfare (PPO)_mean  Social Welfare (PPO)_min  \\\n",
      "34320               16578.587657              13148.386644   \n",
      "\n",
      "       Social Welfare (PPO)_max  depth  \n",
      "34320               22061.61554      4  \n",
      "       Social Welfare (PPO)_mean  Social Welfare (PPO)_min  \\\n",
      "37440               15523.203477               9519.664963   \n",
      "\n",
      "       Social Welfare (PPO)_max  depth  \n",
      "37440              20061.431573      4  \n",
      "       Social Welfare (PPO)_mean  Social Welfare (PPO)_min  \\\n",
      "40560               16503.812454              10298.667051   \n",
      "\n",
      "       Social Welfare (PPO)_max  depth  \n",
      "40560              20668.828353      4  \n",
      "       Social Welfare (PPO)_mean  Social Welfare (PPO)_min  \\\n",
      "43680                16563.26992              13063.821069   \n",
      "\n",
      "       Social Welfare (PPO)_max  depth  \n",
      "43680              20668.828353      4  \n",
      "       Social Welfare (PPO)_mean  Social Welfare (PPO)_min  \\\n",
      "46800               16291.002832              11375.280026   \n",
      "\n",
      "       Social Welfare (PPO)_max  depth  \n",
      "46800              20624.616564      4  \n",
      "       Social Welfare (PPO)_mean  Social Welfare (PPO)_min  \\\n",
      "49920               17128.430361              12548.389812   \n",
      "\n",
      "       Social Welfare (PPO)_max  depth  \n",
      "49920              22225.330449      4  \n",
      "       Social Welfare (PPO)_mean  Social Welfare (PPO)_min  \\\n",
      "53040               16136.837546              12211.199289   \n",
      "\n",
      "       Social Welfare (PPO)_max  depth  \n",
      "53040              21490.307911      4  \n",
      "       Social Welfare (PPO)_mean  Social Welfare (PPO)_min  \\\n",
      "56160               15852.246542              12010.989633   \n",
      "\n",
      "       Social Welfare (PPO)_max  depth  \n",
      "56160              20500.116955      4  \n",
      "       Social Welfare (PPO)_mean  Social Welfare (PPO)_min  \\\n",
      "59280               16087.240145              12268.617113   \n",
      "\n",
      "       Social Welfare (PPO)_max  depth  \n",
      "59280              20580.937636      4  \n",
      "       Social Welfare (PPO)_mean  Social Welfare (PPO)_min  \\\n",
      "62400                16000.73765               12621.06291   \n",
      "\n",
      "       Social Welfare (PPO)_max  depth  \n",
      "62400              20464.114414      4  \n",
      "       Social Welfare (PPO)_mean  Social Welfare (PPO)_min  \\\n",
      "65520               16313.515339              11191.762409   \n",
      "\n",
      "       Social Welfare (PPO)_max  depth  \n",
      "65520              20387.259415      4  \n",
      "       Social Welfare (PPO)_mean  Social Welfare (PPO)_min  \\\n",
      "68640               16095.371858              10446.295747   \n",
      "\n",
      "       Social Welfare (PPO)_max  depth  \n",
      "68640              21338.096062      4  \n",
      "       Social Welfare (PPO)_mean  Social Welfare (PPO)_min  \\\n",
      "71760               15818.237646              10446.295747   \n",
      "\n",
      "       Social Welfare (PPO)_max  depth  \n",
      "71760              21338.096062      4  \n",
      "       Social Welfare (PPO)_mean  Social Welfare (PPO)_min  \\\n",
      "74880               15054.375656              12042.181449   \n",
      "\n",
      "       Social Welfare (PPO)_max  depth  \n",
      "74880               20862.25604      4  \n",
      "       Social Welfare (PPO)_mean  Social Welfare (PPO)_min  \\\n",
      "78000               16752.553041                12623.2814   \n",
      "\n",
      "       Social Welfare (PPO)_max  depth  \n",
      "78000               20862.25604      4  \n",
      "       Social Welfare (PPO)_mean  Social Welfare (PPO)_min  \\\n",
      "81120               16327.445317              11845.439337   \n",
      "\n",
      "       Social Welfare (PPO)_max  depth  \n",
      "81120              20485.710293      4  \n",
      "       Social Welfare (PPO)_mean  Social Welfare (PPO)_min  \\\n",
      "84240               16333.077036              11101.728474   \n",
      "\n",
      "       Social Welfare (PPO)_max  depth  \n",
      "84240              19727.896798      4  \n",
      "       Social Welfare (PPO)_mean  Social Welfare (PPO)_min  \\\n",
      "87360               16345.388458              11848.429889   \n",
      "\n",
      "       Social Welfare (PPO)_max  depth  \n",
      "87360              21230.793624      4  \n",
      "       Social Welfare (PPO)_mean  Social Welfare (PPO)_min  \\\n",
      "90480               15883.232624              11848.429889   \n",
      "\n",
      "       Social Welfare (PPO)_max  depth  \n",
      "90480                20680.8782      4  \n",
      "       Social Welfare (PPO)_mean  Social Welfare (PPO)_min  \\\n",
      "93600               16000.712283              12387.356066   \n",
      "\n",
      "       Social Welfare (PPO)_max  depth  \n",
      "93600              21098.609154      4  \n",
      "       Social Welfare (PPO)_mean  Social Welfare (PPO)_min  \\\n",
      "96720               16368.295665              12396.241984   \n",
      "\n",
      "       Social Welfare (PPO)_max  depth  \n",
      "96720              21799.414724      4  \n",
      "       Social Welfare (PPO)_mean  Social Welfare (PPO)_min  \\\n",
      "99840               15447.681817                9659.36644   \n",
      "\n",
      "       Social Welfare (PPO)_max  depth  \n",
      "99840              21799.414724      4  \n",
      "        Social Welfare (PPO)_mean  Social Welfare (PPO)_min  \\\n",
      "102960               15083.152714              11324.798079   \n",
      "\n",
      "        Social Welfare (PPO)_max  depth  \n",
      "102960              20261.673972      4  \n",
      "depth = 4\n",
      "number of trials = 1\n",
      "numbler of rows of the results: 33\n",
      "depth = 5\n",
      "number of trials = 0\n",
      "numbler of rows of the results: 33\n",
      "/Users/fan/OneDrive - University of Southampton/My-Projects/Edge-Cloud-Resource-Allocation/marl-edge-cloud/results/Hyperparameter_Optimization__model_depth/PPO_EdgeCloudEnv1_d94a9_00000_0_clip_param=0.3,entropy_coeff=0.01,auction_type=first-price,lambda=0.95,lr=0.0001,layers=[256, 256]_2022-03-28_17-33-51/params.json\n",
      "depth = 1\n",
      "number of trials = 0\n",
      "numbler of rows of the results: 33\n",
      "      Social Welfare (PPO)_mean  Social Welfare (PPO)_min  \\\n",
      "3120               15285.972529              12050.441341   \n",
      "\n",
      "      Social Welfare (PPO)_max  depth  \n",
      "3120              20749.538438      2  \n",
      "      Social Welfare (PPO)_mean  Social Welfare (PPO)_min  \\\n",
      "6240               14296.067554               9902.907879   \n",
      "\n",
      "      Social Welfare (PPO)_max  depth  \n",
      "6240              20294.389859      2  \n",
      "      Social Welfare (PPO)_mean  Social Welfare (PPO)_min  \\\n",
      "9360               15677.634854               9902.907879   \n",
      "\n",
      "      Social Welfare (PPO)_max  depth  \n",
      "9360              21633.294576      2  \n",
      "       Social Welfare (PPO)_mean  Social Welfare (PPO)_min  \\\n",
      "12480                16539.72925                9946.76696   \n",
      "\n",
      "       Social Welfare (PPO)_max  depth  \n",
      "12480              21374.256783      2  \n",
      "       Social Welfare (PPO)_mean  Social Welfare (PPO)_min  \\\n",
      "15600               16193.360553               9739.124869   \n",
      "\n",
      "       Social Welfare (PPO)_max  depth  \n",
      "15600              21374.256783      2  \n",
      "       Social Welfare (PPO)_mean  Social Welfare (PPO)_min  \\\n",
      "18720               16453.310878              10548.243528   \n",
      "\n",
      "       Social Welfare (PPO)_max  depth  \n",
      "18720              21361.653728      2  \n",
      "       Social Welfare (PPO)_mean  Social Welfare (PPO)_min  \\\n",
      "21840                17061.30987              11133.211641   \n",
      "\n",
      "       Social Welfare (PPO)_max  depth  \n",
      "21840              25870.974791      2  \n",
      "       Social Welfare (PPO)_mean  Social Welfare (PPO)_min  \\\n",
      "24960               16767.916147              11133.211641   \n",
      "\n",
      "       Social Welfare (PPO)_max  depth  \n",
      "24960               24920.25746      2  \n",
      "       Social Welfare (PPO)_mean  Social Welfare (PPO)_min  \\\n",
      "28080               17733.261052              13291.045991   \n",
      "\n",
      "       Social Welfare (PPO)_max  depth  \n",
      "28080              21614.412945      2  \n",
      "       Social Welfare (PPO)_mean  Social Welfare (PPO)_min  \\\n",
      "31200               18453.342519              13664.780776   \n",
      "\n",
      "       Social Welfare (PPO)_max  depth  \n",
      "31200              22760.352512      2  \n",
      "       Social Welfare (PPO)_mean  Social Welfare (PPO)_min  \\\n",
      "34320               18268.752851              13906.935282   \n",
      "\n",
      "       Social Welfare (PPO)_max  depth  \n",
      "34320              22459.408749      2  \n",
      "       Social Welfare (PPO)_mean  Social Welfare (PPO)_min  \\\n",
      "37440               17658.297571              12817.350683   \n",
      "\n",
      "       Social Welfare (PPO)_max  depth  \n",
      "37440              22917.458764      2  \n",
      "       Social Welfare (PPO)_mean  Social Welfare (PPO)_min  \\\n",
      "40560               18822.234547              13526.324414   \n",
      "\n",
      "       Social Welfare (PPO)_max  depth  \n",
      "40560              22884.139665      2  \n",
      "       Social Welfare (PPO)_mean  Social Welfare (PPO)_min  \\\n",
      "43680               19412.842852              14296.738996   \n",
      "\n",
      "       Social Welfare (PPO)_max  depth  \n",
      "43680              24898.571799      2  \n",
      "       Social Welfare (PPO)_mean  Social Welfare (PPO)_min  \\\n",
      "46800               19495.903759              14296.738996   \n",
      "\n",
      "       Social Welfare (PPO)_max  depth  \n",
      "46800              24898.571799      2  \n",
      "       Social Welfare (PPO)_mean  Social Welfare (PPO)_min  \\\n",
      "49920               20845.036921              13799.421851   \n",
      "\n",
      "       Social Welfare (PPO)_max  depth  \n",
      "49920              25712.879977      2  \n",
      "       Social Welfare (PPO)_mean  Social Welfare (PPO)_min  \\\n",
      "53040               20020.486791               14122.08516   \n",
      "\n",
      "       Social Welfare (PPO)_max  depth  \n",
      "53040              25514.074013      2  \n",
      "       Social Welfare (PPO)_mean  Social Welfare (PPO)_min  \\\n",
      "56160               19877.533129              14894.372633   \n",
      "\n",
      "       Social Welfare (PPO)_max  depth  \n",
      "56160               25086.15412      2  \n",
      "       Social Welfare (PPO)_mean  Social Welfare (PPO)_min  \\\n",
      "59280               21151.086602              15089.048643   \n",
      "\n",
      "       Social Welfare (PPO)_max  depth  \n",
      "59280              26144.979855      2  \n",
      "       Social Welfare (PPO)_mean  Social Welfare (PPO)_min  \\\n",
      "62400               20472.566151              15960.359781   \n",
      "\n",
      "       Social Welfare (PPO)_max  depth  \n",
      "62400              27225.828187      2  \n",
      "       Social Welfare (PPO)_mean  Social Welfare (PPO)_min  \\\n",
      "65520               21181.695313              15506.096208   \n",
      "\n",
      "       Social Welfare (PPO)_max  depth  \n",
      "65520              27228.191193      2  \n",
      "       Social Welfare (PPO)_mean  Social Welfare (PPO)_min  \\\n",
      "68640               21413.683788              15150.367014   \n",
      "\n",
      "       Social Welfare (PPO)_max  depth  \n",
      "68640              26804.921528      2  \n",
      "       Social Welfare (PPO)_mean  Social Welfare (PPO)_min  \\\n",
      "71760               20546.922176              15150.367014   \n",
      "\n",
      "       Social Welfare (PPO)_max  depth  \n",
      "71760              26670.107038      2  \n",
      "       Social Welfare (PPO)_mean  Social Welfare (PPO)_min  \\\n",
      "74880               19865.610619              13760.593303   \n",
      "\n",
      "       Social Welfare (PPO)_max  depth  \n",
      "74880              27536.806109      2  \n",
      "       Social Welfare (PPO)_mean  Social Welfare (PPO)_min  \\\n",
      "78000                21848.16265              14055.897481   \n",
      "\n",
      "       Social Welfare (PPO)_max  depth  \n",
      "78000              27536.806109      2  \n",
      "       Social Welfare (PPO)_mean  Social Welfare (PPO)_min  \\\n",
      "81120               21876.594327              15281.790111   \n",
      "\n",
      "       Social Welfare (PPO)_max  depth  \n",
      "81120               25442.08243      2  \n",
      "       Social Welfare (PPO)_mean  Social Welfare (PPO)_min  \\\n",
      "84240                22191.79697              13870.965564   \n",
      "\n",
      "       Social Welfare (PPO)_max  depth  \n",
      "84240              26400.457651      2  \n",
      "       Social Welfare (PPO)_mean  Social Welfare (PPO)_min  \\\n",
      "87360               22446.836016              14997.192373   \n",
      "\n",
      "       Social Welfare (PPO)_max  depth  \n",
      "87360              27390.295363      2  \n",
      "       Social Welfare (PPO)_mean  Social Welfare (PPO)_min  \\\n",
      "90480               21675.081553              15907.068883   \n",
      "\n",
      "       Social Welfare (PPO)_max  depth  \n",
      "90480              27390.295363      2  \n",
      "       Social Welfare (PPO)_mean  Social Welfare (PPO)_min  \\\n",
      "93600               21677.904968              16042.798988   \n",
      "\n",
      "       Social Welfare (PPO)_max  depth  \n",
      "93600              27300.288086      2  \n",
      "       Social Welfare (PPO)_mean  Social Welfare (PPO)_min  \\\n",
      "96720               22278.587199              16397.814921   \n",
      "\n",
      "       Social Welfare (PPO)_max  depth  \n",
      "96720              26338.790396      2  \n",
      "       Social Welfare (PPO)_mean  Social Welfare (PPO)_min  \\\n",
      "99840               21532.802862              15685.361291   \n",
      "\n",
      "       Social Welfare (PPO)_max  depth  \n",
      "99840              25615.036523      2  \n",
      "        Social Welfare (PPO)_mean  Social Welfare (PPO)_min  \\\n",
      "102960               20650.948826              12937.166363   \n",
      "\n",
      "        Social Welfare (PPO)_max  depth  \n",
      "102960              26354.683349      2  \n",
      "depth = 2\n",
      "number of trials = 1\n",
      "numbler of rows of the results: 66\n",
      "depth = 3\n",
      "number of trials = 0\n",
      "numbler of rows of the results: 66\n",
      "depth = 4\n",
      "number of trials = 0\n",
      "numbler of rows of the results: 66\n",
      "depth = 5\n",
      "number of trials = 0\n",
      "numbler of rows of the results: 66\n",
      "/Users/fan/OneDrive - University of Southampton/My-Projects/Edge-Cloud-Resource-Allocation/marl-edge-cloud/results/Hyperparameter_Optimization__model_depth/PPO_EdgeCloudEnv1_22d72_00000_0_clip_param=0.3,entropy_coeff=0.01,auction_type=first-price,lambda=0.95,lr=0.0001,layers=[256],obse_2022-03-28_11-52-18/params.json\n",
      "      Social Welfare (PPO)_mean  Social Welfare (PPO)_min  \\\n",
      "3120               15420.251209              12479.928874   \n",
      "\n",
      "      Social Welfare (PPO)_max  depth  \n",
      "3120               19466.65511      1  \n",
      "      Social Welfare (PPO)_mean  Social Welfare (PPO)_min  \\\n",
      "6240               14302.790741              10302.633304   \n",
      "\n",
      "      Social Welfare (PPO)_max  depth  \n",
      "6240              19010.023308      1  \n",
      "      Social Welfare (PPO)_mean  Social Welfare (PPO)_min  \\\n",
      "9360                15789.92928               10729.14238   \n",
      "\n",
      "      Social Welfare (PPO)_max  depth  \n",
      "9360              22269.659055      1  \n",
      "       Social Welfare (PPO)_mean  Social Welfare (PPO)_min  \\\n",
      "12480               16839.650845              10680.948781   \n",
      "\n",
      "       Social Welfare (PPO)_max  depth  \n",
      "12480              21399.387393      1  \n",
      "       Social Welfare (PPO)_mean  Social Welfare (PPO)_min  \\\n",
      "15600               16544.203477              10147.681491   \n",
      "\n",
      "       Social Welfare (PPO)_max  depth  \n",
      "15600              21399.387393      1  \n",
      "       Social Welfare (PPO)_mean  Social Welfare (PPO)_min  \\\n",
      "18720               16862.635649              10987.421068   \n",
      "\n",
      "       Social Welfare (PPO)_max  depth  \n",
      "18720              21979.271494      1  \n",
      "       Social Welfare (PPO)_mean  Social Welfare (PPO)_min  \\\n",
      "21840               17593.497111              12237.940782   \n",
      "\n",
      "       Social Welfare (PPO)_max  depth  \n",
      "21840               25219.18929      1  \n",
      "       Social Welfare (PPO)_mean  Social Welfare (PPO)_min  \\\n",
      "24960               17542.287011              12791.228054   \n",
      "\n",
      "       Social Welfare (PPO)_max  depth  \n",
      "24960               24254.24356      1  \n",
      "       Social Welfare (PPO)_mean  Social Welfare (PPO)_min  \\\n",
      "28080               18767.877907               12801.77285   \n",
      "\n",
      "       Social Welfare (PPO)_max  depth  \n",
      "28080               23386.72456      1  \n",
      "       Social Welfare (PPO)_mean  Social Welfare (PPO)_min  \\\n",
      "31200               19800.810086              15487.541916   \n",
      "\n",
      "       Social Welfare (PPO)_max  depth  \n",
      "31200              25027.187393      1  \n",
      "       Social Welfare (PPO)_mean  Social Welfare (PPO)_min  \\\n",
      "34320                 19805.9662              15190.233725   \n",
      "\n",
      "       Social Welfare (PPO)_max  depth  \n",
      "34320               25545.10112      1  \n",
      "       Social Welfare (PPO)_mean  Social Welfare (PPO)_min  \\\n",
      "37440               19427.107159              13598.198747   \n",
      "\n",
      "       Social Welfare (PPO)_max  depth  \n",
      "37440               26434.97702      1  \n",
      "       Social Welfare (PPO)_mean  Social Welfare (PPO)_min  \\\n",
      "40560                20341.96163              13598.198747   \n",
      "\n",
      "       Social Welfare (PPO)_max  depth  \n",
      "40560               25667.67975      1  \n",
      "       Social Welfare (PPO)_mean  Social Welfare (PPO)_min  \\\n",
      "43680               21528.025693              16116.633555   \n",
      "\n",
      "       Social Welfare (PPO)_max  depth  \n",
      "43680              27910.127809      1  \n",
      "       Social Welfare (PPO)_mean  Social Welfare (PPO)_min  \\\n",
      "46800               21155.696618              15198.271153   \n",
      "\n",
      "       Social Welfare (PPO)_max  depth  \n",
      "46800              26361.193915      1  \n",
      "       Social Welfare (PPO)_mean  Social Welfare (PPO)_min  \\\n",
      "49920               22550.479882              17544.512019   \n",
      "\n",
      "       Social Welfare (PPO)_max  depth  \n",
      "49920              26623.233015      1  \n",
      "       Social Welfare (PPO)_mean  Social Welfare (PPO)_min  \\\n",
      "53040               21322.352441              16811.514295   \n",
      "\n",
      "       Social Welfare (PPO)_max  depth  \n",
      "53040              26506.862831      1  \n",
      "       Social Welfare (PPO)_mean  Social Welfare (PPO)_min  \\\n",
      "56160               21518.677288              16811.514295   \n",
      "\n",
      "       Social Welfare (PPO)_max  depth  \n",
      "56160              26506.862831      1  \n",
      "       Social Welfare (PPO)_mean  Social Welfare (PPO)_min  \\\n",
      "59280               22426.720731              16574.237324   \n",
      "\n",
      "       Social Welfare (PPO)_max  depth  \n",
      "59280              26804.139764      1  \n",
      "       Social Welfare (PPO)_mean  Social Welfare (PPO)_min  \\\n",
      "62400               21796.325721              16574.237324   \n",
      "\n",
      "       Social Welfare (PPO)_max  depth  \n",
      "62400               28512.27171      1  \n",
      "       Social Welfare (PPO)_mean  Social Welfare (PPO)_min  \\\n",
      "65520               22212.154083              17905.360214   \n",
      "\n",
      "       Social Welfare (PPO)_max  depth  \n",
      "65520              28453.797856      1  \n",
      "       Social Welfare (PPO)_mean  Social Welfare (PPO)_min  \\\n",
      "68640               22205.719171              17506.640097   \n",
      "\n",
      "       Social Welfare (PPO)_max  depth  \n",
      "68640              26574.652381      1  \n",
      "       Social Welfare (PPO)_mean  Social Welfare (PPO)_min  \\\n",
      "71760                20625.53704              16897.021091   \n",
      "\n",
      "       Social Welfare (PPO)_max  depth  \n",
      "71760              26574.652381      1  \n",
      "       Social Welfare (PPO)_mean  Social Welfare (PPO)_min  \\\n",
      "74880               19906.136989              14850.694726   \n",
      "\n",
      "       Social Welfare (PPO)_max  depth  \n",
      "74880              27481.266452      1  \n",
      "       Social Welfare (PPO)_mean  Social Welfare (PPO)_min  \\\n",
      "78000               22334.175962              15898.964676   \n",
      "\n",
      "       Social Welfare (PPO)_max  depth  \n",
      "78000               26364.92947      1  \n",
      "       Social Welfare (PPO)_mean  Social Welfare (PPO)_min  \\\n",
      "81120                 22197.8207              17405.234455   \n",
      "\n",
      "       Social Welfare (PPO)_max  depth  \n",
      "81120              25388.349982      1  \n",
      "       Social Welfare (PPO)_mean  Social Welfare (PPO)_min  \\\n",
      "84240               22589.287285              13332.173887   \n",
      "\n",
      "       Social Welfare (PPO)_max  depth  \n",
      "84240              26522.901169      1  \n",
      "       Social Welfare (PPO)_mean  Social Welfare (PPO)_min  \\\n",
      "87360               22736.642026               14458.69897   \n",
      "\n",
      "       Social Welfare (PPO)_max  depth  \n",
      "87360              27122.998288      1  \n",
      "       Social Welfare (PPO)_mean  Social Welfare (PPO)_min  \\\n",
      "90480               22085.304573              16571.122212   \n",
      "\n",
      "       Social Welfare (PPO)_max  depth  \n",
      "90480              26664.307636      1  \n",
      "       Social Welfare (PPO)_mean  Social Welfare (PPO)_min  \\\n",
      "93600               21805.837832              16595.727556   \n",
      "\n",
      "       Social Welfare (PPO)_max  depth  \n",
      "93600              25987.684501      1  \n",
      "       Social Welfare (PPO)_mean  Social Welfare (PPO)_min  \\\n",
      "96720                22577.86806              16054.979852   \n",
      "\n",
      "       Social Welfare (PPO)_max  depth  \n",
      "96720              26065.753006      1  \n",
      "       Social Welfare (PPO)_mean  Social Welfare (PPO)_min  \\\n",
      "99840               22114.815965              16054.979852   \n",
      "\n",
      "       Social Welfare (PPO)_max  depth  \n",
      "99840              26065.753006      1  \n",
      "        Social Welfare (PPO)_mean  Social Welfare (PPO)_min  \\\n",
      "102960               21011.486547              14799.175592   \n",
      "\n",
      "        Social Welfare (PPO)_max  depth  \n",
      "102960              26187.140797      1  \n",
      "depth = 1\n",
      "number of trials = 1\n",
      "numbler of rows of the results: 99\n",
      "depth = 2\n",
      "number of trials = 0\n",
      "numbler of rows of the results: 99\n",
      "depth = 3\n",
      "number of trials = 0\n",
      "numbler of rows of the results: 99\n",
      "depth = 4\n",
      "number of trials = 0\n",
      "numbler of rows of the results: 99\n",
      "depth = 5\n",
      "number of trials = 0\n",
      "numbler of rows of the results: 99\n",
      "/Users/fan/OneDrive - University of Southampton/My-Projects/Edge-Cloud-Resource-Allocation/marl-edge-cloud/results/Hyperparameter_Optimization__model_depth/basic-variant-state-2022-03-28_17-33-50.json/params.json\n",
      "/Users/fan/OneDrive - University of Southampton/My-Projects/Edge-Cloud-Resource-Allocation/marl-edge-cloud/results/Hyperparameter_Optimization__model_depth/experiment_state-2022-03-30_12-37-29.json/params.json\n",
      "/Users/fan/OneDrive - University of Southampton/My-Projects/Edge-Cloud-Resource-Allocation/marl-edge-cloud/results/Hyperparameter_Optimization__model_depth/basic-variant-state-2022-03-28_11-52-18.json/params.json\n",
      "/Users/fan/OneDrive - University of Southampton/My-Projects/Edge-Cloud-Resource-Allocation/marl-edge-cloud/results/Hyperparameter_Optimization__model_depth/PPO_EdgeCloudEnv1_22d72_00003_3_clip_param=0.3,entropy_coeff=0.01,auction_type=first-price,lambda=0.95,lr=0.0001,layers=[256, 256,_2022-03-28_12-25-27/params.json\n",
      "/Users/fan/OneDrive - University of Southampton/My-Projects/Edge-Cloud-Resource-Allocation/marl-edge-cloud/results/Hyperparameter_Optimization__model_depth/experiment_state-2022-03-28_17-33-50.json/params.json\n",
      "/Users/fan/OneDrive - University of Southampton/My-Projects/Edge-Cloud-Resource-Allocation/marl-edge-cloud/results/Hyperparameter_Optimization__model_depth/PPO_EdgeCloudEnv1_d94a9_00002_2_clip_param=0.3,entropy_coeff=0.01,auction_type=first-price,lambda=0.95,lr=0.0001,layers=[256, 256,_2022-03-28_18-17-35/params.json\n",
      "depth = 1\n",
      "number of trials = 0\n",
      "numbler of rows of the results: 99\n",
      "depth = 2\n",
      "number of trials = 0\n",
      "numbler of rows of the results: 99\n",
      "depth = 3\n",
      "number of trials = 0\n",
      "numbler of rows of the results: 99\n",
      "depth = 4\n",
      "number of trials = 0\n",
      "numbler of rows of the results: 99\n",
      "      Social Welfare (PPO)_mean  Social Welfare (PPO)_min  \\\n",
      "3120               15643.953056              12141.511303   \n",
      "\n",
      "      Social Welfare (PPO)_max  depth  \n",
      "3120              21015.659957      5  \n",
      "      Social Welfare (PPO)_mean  Social Welfare (PPO)_min  \\\n",
      "6240               14391.101588              10107.471007   \n",
      "\n",
      "      Social Welfare (PPO)_max  depth  \n",
      "6240               20032.02026      5  \n",
      "      Social Welfare (PPO)_mean  Social Welfare (PPO)_min  \\\n",
      "9360               15625.586619              10923.939896   \n",
      "\n",
      "      Social Welfare (PPO)_max  depth  \n",
      "9360              20900.678346      5  \n",
      "       Social Welfare (PPO)_mean  Social Welfare (PPO)_min  \\\n",
      "12480               16053.194224               8757.416641   \n",
      "\n",
      "       Social Welfare (PPO)_max  depth  \n",
      "12480              20900.678346      5  \n",
      "       Social Welfare (PPO)_mean  Social Welfare (PPO)_min  \\\n",
      "15600               15644.293668              10608.438831   \n",
      "\n",
      "       Social Welfare (PPO)_max  depth  \n",
      "15600              20190.567849      5  \n",
      "       Social Welfare (PPO)_mean  Social Welfare (PPO)_min  \\\n",
      "18720               15719.686596              10641.150635   \n",
      "\n",
      "       Social Welfare (PPO)_max  depth  \n",
      "18720              20453.922172      5  \n",
      "       Social Welfare (PPO)_mean  Social Welfare (PPO)_min  \\\n",
      "21840               15985.532187               9926.756215   \n",
      "\n",
      "       Social Welfare (PPO)_max  depth  \n",
      "21840              23237.304244      5  \n",
      "       Social Welfare (PPO)_mean  Social Welfare (PPO)_min  \\\n",
      "24960               15522.668539               9926.756215   \n",
      "\n",
      "       Social Welfare (PPO)_max  depth  \n",
      "24960              21625.017926      5  \n",
      "       Social Welfare (PPO)_mean  Social Welfare (PPO)_min  \\\n",
      "28080               16354.348281              12413.735146   \n",
      "\n",
      "       Social Welfare (PPO)_max  depth  \n",
      "28080              20233.274367      5  \n",
      "       Social Welfare (PPO)_mean  Social Welfare (PPO)_min  \\\n",
      "31200               16963.199987              13190.150681   \n",
      "\n",
      "       Social Welfare (PPO)_max  depth  \n",
      "31200              22225.251216      5  \n",
      "       Social Welfare (PPO)_mean  Social Welfare (PPO)_min  \\\n",
      "34320               16591.989682                 12873.721   \n",
      "\n",
      "       Social Welfare (PPO)_max  depth  \n",
      "34320              22225.251216      5  \n",
      "       Social Welfare (PPO)_mean  Social Welfare (PPO)_min  \\\n",
      "37440               15773.159921               9108.927822   \n",
      "\n",
      "       Social Welfare (PPO)_max  depth  \n",
      "37440              20923.113955      5  \n",
      "       Social Welfare (PPO)_mean  Social Welfare (PPO)_min  \\\n",
      "40560               16567.154586               9779.616093   \n",
      "\n",
      "       Social Welfare (PPO)_max  depth  \n",
      "40560              20362.401421      5  \n",
      "       Social Welfare (PPO)_mean  Social Welfare (PPO)_min  \\\n",
      "43680                16842.39451              13414.148606   \n",
      "\n",
      "       Social Welfare (PPO)_max  depth  \n",
      "43680              21560.285075      5  \n",
      "       Social Welfare (PPO)_mean  Social Welfare (PPO)_min  \\\n",
      "46800               16636.383528              12369.356321   \n",
      "\n",
      "       Social Welfare (PPO)_max  depth  \n",
      "46800              21560.285075      5  \n",
      "       Social Welfare (PPO)_mean  Social Welfare (PPO)_min  \\\n",
      "49920               17353.125051              13301.506634   \n",
      "\n",
      "       Social Welfare (PPO)_max  depth  \n",
      "49920              21883.452126      5  \n",
      "       Social Welfare (PPO)_mean  Social Welfare (PPO)_min  \\\n",
      "53040               16319.534395              12113.141453   \n",
      "\n",
      "       Social Welfare (PPO)_max  depth  \n",
      "53040              20831.223935      5  \n",
      "       Social Welfare (PPO)_mean  Social Welfare (PPO)_min  \\\n",
      "56160               16108.835633              12113.141453   \n",
      "\n",
      "       Social Welfare (PPO)_max  depth  \n",
      "56160              19567.545257      5  \n",
      "       Social Welfare (PPO)_mean  Social Welfare (PPO)_min  \\\n",
      "59280               16579.682701              13185.970888   \n",
      "\n",
      "       Social Welfare (PPO)_max  depth  \n",
      "59280              19830.383786      5  \n",
      "       Social Welfare (PPO)_mean  Social Welfare (PPO)_min  \\\n",
      "62400               16375.118739              12125.545598   \n",
      "\n",
      "       Social Welfare (PPO)_max  depth  \n",
      "62400              19653.572703      5  \n",
      "       Social Welfare (PPO)_mean  Social Welfare (PPO)_min  \\\n",
      "65520                16473.67408              11633.962916   \n",
      "\n",
      "       Social Welfare (PPO)_max  depth  \n",
      "65520              20626.139647      5  \n",
      "       Social Welfare (PPO)_mean  Social Welfare (PPO)_min  \\\n",
      "68640               16253.880585              10498.474193   \n",
      "\n",
      "       Social Welfare (PPO)_max  depth  \n",
      "68640              20583.391884      5  \n",
      "       Social Welfare (PPO)_mean  Social Welfare (PPO)_min  \\\n",
      "71760                 15774.4095              10498.474193   \n",
      "\n",
      "       Social Welfare (PPO)_max  depth  \n",
      "71760              19555.213584      5  \n",
      "       Social Welfare (PPO)_mean  Social Welfare (PPO)_min  \\\n",
      "74880                15102.02969              10722.183021   \n",
      "\n",
      "       Social Welfare (PPO)_max  depth  \n",
      "74880              19925.556797      5  \n",
      "       Social Welfare (PPO)_mean  Social Welfare (PPO)_min  \\\n",
      "78000               16795.402532              10722.183021   \n",
      "\n",
      "       Social Welfare (PPO)_max  depth  \n",
      "78000              20400.156615      5  \n",
      "       Social Welfare (PPO)_mean  Social Welfare (PPO)_min  \\\n",
      "81120               16411.311639              11938.949781   \n",
      "\n",
      "       Social Welfare (PPO)_max  depth  \n",
      "81120              20238.397844      5  \n",
      "       Social Welfare (PPO)_mean  Social Welfare (PPO)_min  \\\n",
      "84240                16635.35844              10930.898361   \n",
      "\n",
      "       Social Welfare (PPO)_max  depth  \n",
      "84240              19662.978286      5  \n",
      "       Social Welfare (PPO)_mean  Social Welfare (PPO)_min  \\\n",
      "87360               16505.371659              12149.779861   \n",
      "\n",
      "       Social Welfare (PPO)_max  depth  \n",
      "87360              21559.741161      5  \n",
      "       Social Welfare (PPO)_mean  Social Welfare (PPO)_min  \\\n",
      "90480               16021.503177              12762.801801   \n",
      "\n",
      "       Social Welfare (PPO)_max  depth  \n",
      "90480              21559.741161      5  \n",
      "       Social Welfare (PPO)_mean  Social Welfare (PPO)_min  \\\n",
      "93600               16238.132872              12250.715176   \n",
      "\n",
      "       Social Welfare (PPO)_max  depth  \n",
      "93600              19592.512549      5  \n",
      "       Social Welfare (PPO)_mean  Social Welfare (PPO)_min  \\\n",
      "96720               16627.683387                12458.4963   \n",
      "\n",
      "       Social Welfare (PPO)_max  depth  \n",
      "96720              20811.628037      5  \n",
      "       Social Welfare (PPO)_mean  Social Welfare (PPO)_min  \\\n",
      "99840               15782.106595              10535.322597   \n",
      "\n",
      "       Social Welfare (PPO)_max  depth  \n",
      "99840              20417.626566      5  \n",
      "        Social Welfare (PPO)_mean  Social Welfare (PPO)_min  \\\n",
      "102960               15232.459577              11068.240166   \n",
      "\n",
      "        Social Welfare (PPO)_max  depth  \n",
      "102960              20387.631687      5  \n",
      "depth = 5\n",
      "number of trials = 1\n",
      "numbler of rows of the results: 132\n",
      "/Users/fan/OneDrive - University of Southampton/My-Projects/Edge-Cloud-Resource-Allocation/marl-edge-cloud/results/Hyperparameter_Optimization__model_depth/PPO_EdgeCloudEnv1_d94a9_00001_1_clip_param=0.3,entropy_coeff=0.01,auction_type=first-price,lambda=0.95,lr=0.0001,layers=[256, 256,_2022-03-28_17-33-51/params.json\n",
      "/Users/fan/OneDrive - University of Southampton/My-Projects/Edge-Cloud-Resource-Allocation/marl-edge-cloud/results/Hyperparameter_Optimization__model_depth/PPO_EdgeCloudEnv1_22d72_00001_1_clip_param=0.3,entropy_coeff=0.01,auction_type=first-price,lambda=0.95,lr=0.0001,layers=[256, 256]_2022-03-28_11-52-39/params.json\n",
      "/Users/fan/OneDrive - University of Southampton/My-Projects/Edge-Cloud-Resource-Allocation/marl-edge-cloud/results/Hyperparameter_Optimization__model_depth/PPO_EdgeCloudEnv1_22d72_00004_4_clip_param=0.3,entropy_coeff=0.01,auction_type=first-price,lambda=0.95,lr=0.0001,layers=[256, 256,_2022-03-28_13-05-27/params.json\n",
      "depth = 1\n",
      "number of trials = 0\n",
      "numbler of rows of the results: 132\n",
      "depth = 2\n",
      "number of trials = 0\n",
      "numbler of rows of the results: 132\n",
      "depth = 3\n",
      "number of trials = 0\n",
      "numbler of rows of the results: 132\n",
      "depth = 4\n",
      "number of trials = 0\n",
      "numbler of rows of the results: 132\n",
      "      Social Welfare (PPO)_mean  Social Welfare (PPO)_min  \\\n",
      "3120               15643.953056              12141.511303   \n",
      "\n",
      "      Social Welfare (PPO)_max  depth  \n",
      "3120              21015.659957      5  \n",
      "      Social Welfare (PPO)_mean  Social Welfare (PPO)_min  \\\n",
      "6240               14391.101588              10107.471007   \n",
      "\n",
      "      Social Welfare (PPO)_max  depth  \n",
      "6240               20032.02026      5  \n",
      "      Social Welfare (PPO)_mean  Social Welfare (PPO)_min  \\\n",
      "9360               15625.586619              10923.939896   \n",
      "\n",
      "      Social Welfare (PPO)_max  depth  \n",
      "9360              20900.678346      5  \n",
      "       Social Welfare (PPO)_mean  Social Welfare (PPO)_min  \\\n",
      "12480               16053.194224               8757.416641   \n",
      "\n",
      "       Social Welfare (PPO)_max  depth  \n",
      "12480              20900.678346      5  \n",
      "       Social Welfare (PPO)_mean  Social Welfare (PPO)_min  \\\n",
      "15600               15644.293668              10608.438831   \n",
      "\n",
      "       Social Welfare (PPO)_max  depth  \n",
      "15600              20190.567849      5  \n",
      "       Social Welfare (PPO)_mean  Social Welfare (PPO)_min  \\\n",
      "18720               15719.686596              10641.150635   \n",
      "\n",
      "       Social Welfare (PPO)_max  depth  \n",
      "18720              20453.922172      5  \n",
      "       Social Welfare (PPO)_mean  Social Welfare (PPO)_min  \\\n",
      "21840               15985.532187               9926.756215   \n",
      "\n",
      "       Social Welfare (PPO)_max  depth  \n",
      "21840              23237.304244      5  \n",
      "       Social Welfare (PPO)_mean  Social Welfare (PPO)_min  \\\n",
      "24960               15522.668539               9926.756215   \n",
      "\n",
      "       Social Welfare (PPO)_max  depth  \n",
      "24960              21625.017926      5  \n",
      "       Social Welfare (PPO)_mean  Social Welfare (PPO)_min  \\\n",
      "28080               16354.348281              12413.735146   \n",
      "\n",
      "       Social Welfare (PPO)_max  depth  \n",
      "28080              20233.274367      5  \n",
      "       Social Welfare (PPO)_mean  Social Welfare (PPO)_min  \\\n",
      "31200               16963.199987              13190.150681   \n",
      "\n",
      "       Social Welfare (PPO)_max  depth  \n",
      "31200              22225.251216      5  \n",
      "depth = 5\n",
      "number of trials = 1\n",
      "numbler of rows of the results: 142\n",
      "/Users/fan/OneDrive - University of Southampton/My-Projects/Edge-Cloud-Resource-Allocation/marl-edge-cloud/results/Hyperparameter_Optimization__model_depth/PPO_EdgeCloudEnv1_22d72_00002_2_clip_param=0.3,entropy_coeff=0.01,auction_type=first-price,lambda=0.95,lr=0.0001,layers=[256, 256,_2022-03-28_12-25-25/params.json\n",
      "depth = 1\n",
      "number of trials = 0\n",
      "numbler of rows of the results: 142\n",
      "depth = 2\n",
      "number of trials = 0\n",
      "numbler of rows of the results: 142\n",
      "      Social Welfare (PPO)_mean  Social Welfare (PPO)_min  \\\n",
      "3120               15729.825024              12024.365577   \n",
      "\n",
      "      Social Welfare (PPO)_max  depth  \n",
      "3120              19677.793039      3  \n",
      "      Social Welfare (PPO)_mean  Social Welfare (PPO)_min  \\\n",
      "6240               14526.849944               9867.732072   \n",
      "\n",
      "      Social Welfare (PPO)_max  depth  \n",
      "6240              20169.376824      3  \n",
      "      Social Welfare (PPO)_mean  Social Welfare (PPO)_min  \\\n",
      "9360               15658.752612              10573.014994   \n",
      "\n",
      "      Social Welfare (PPO)_max  depth  \n",
      "9360              21075.407773      3  \n",
      "       Social Welfare (PPO)_mean  Social Welfare (PPO)_min  \\\n",
      "12480               16459.937445               9603.890572   \n",
      "\n",
      "       Social Welfare (PPO)_max  depth  \n",
      "12480              21311.918409      3  \n",
      "       Social Welfare (PPO)_mean  Social Welfare (PPO)_min  \\\n",
      "15600               15766.047862               9603.890572   \n",
      "\n",
      "       Social Welfare (PPO)_max  depth  \n",
      "15600              21503.193991      3  \n",
      "       Social Welfare (PPO)_mean  Social Welfare (PPO)_min  \\\n",
      "18720               15768.198353              10516.142116   \n",
      "\n",
      "       Social Welfare (PPO)_max  depth  \n",
      "18720              21503.193991      3  \n",
      "       Social Welfare (PPO)_mean  Social Welfare (PPO)_min  \\\n",
      "21840               16105.372083              10708.563746   \n",
      "\n",
      "       Social Welfare (PPO)_max  depth  \n",
      "21840              22466.754965      3  \n",
      "       Social Welfare (PPO)_mean  Social Welfare (PPO)_min  \\\n",
      "24960               15769.914307              11484.665079   \n",
      "\n",
      "       Social Welfare (PPO)_max  depth  \n",
      "24960              22342.620841      3  \n",
      "       Social Welfare (PPO)_mean  Social Welfare (PPO)_min  \\\n",
      "28080               16397.469724              11484.665079   \n",
      "\n",
      "       Social Welfare (PPO)_max  depth  \n",
      "28080               19690.44691      3  \n",
      "       Social Welfare (PPO)_mean  Social Welfare (PPO)_min  \\\n",
      "31200               17087.393165               12764.69175   \n",
      "\n",
      "       Social Welfare (PPO)_max  depth  \n",
      "31200              21340.954696      3  \n",
      "       Social Welfare (PPO)_mean  Social Welfare (PPO)_min  \\\n",
      "34320               16856.519543              12485.298656   \n",
      "\n",
      "       Social Welfare (PPO)_max  depth  \n",
      "34320              21134.763396      3  \n",
      "       Social Welfare (PPO)_mean  Social Welfare (PPO)_min  \\\n",
      "37440               15838.105391               8990.717463   \n",
      "\n",
      "       Social Welfare (PPO)_max  depth  \n",
      "37440              22034.266163      3  \n",
      "       Social Welfare (PPO)_mean  Social Welfare (PPO)_min  \\\n",
      "40560               16735.429809               8990.717463   \n",
      "\n",
      "       Social Welfare (PPO)_max  depth  \n",
      "40560              21404.026491      3  \n",
      "       Social Welfare (PPO)_mean  Social Welfare (PPO)_min  \\\n",
      "43680                16632.43837              13380.890791   \n",
      "\n",
      "       Social Welfare (PPO)_max  depth  \n",
      "43680              22013.846646      3  \n",
      "       Social Welfare (PPO)_mean  Social Welfare (PPO)_min  \\\n",
      "46800               16331.424465              12619.547065   \n",
      "\n",
      "       Social Welfare (PPO)_max  depth  \n",
      "46800              21119.256853      3  \n",
      "       Social Welfare (PPO)_mean  Social Welfare (PPO)_min  \\\n",
      "49920               17202.492622              12834.940476   \n",
      "\n",
      "       Social Welfare (PPO)_max  depth  \n",
      "49920              22299.648395      3  \n",
      "       Social Welfare (PPO)_mean  Social Welfare (PPO)_min  \\\n",
      "53040               16148.495089               12235.12167   \n",
      "\n",
      "       Social Welfare (PPO)_max  depth  \n",
      "53040              22299.648395      3  \n",
      "       Social Welfare (PPO)_mean  Social Welfare (PPO)_min  \\\n",
      "56160               16018.586514              12534.123265   \n",
      "\n",
      "       Social Welfare (PPO)_max  depth  \n",
      "56160              20728.602358      3  \n",
      "       Social Welfare (PPO)_mean  Social Welfare (PPO)_min  \\\n",
      "59280               16366.856215              12534.123265   \n",
      "\n",
      "       Social Welfare (PPO)_max  depth  \n",
      "59280              20198.545468      3  \n",
      "       Social Welfare (PPO)_mean  Social Welfare (PPO)_min  \\\n",
      "62400               16355.935059              11822.463632   \n",
      "\n",
      "       Social Welfare (PPO)_max  depth  \n",
      "62400              20198.545468      3  \n",
      "       Social Welfare (PPO)_mean  Social Welfare (PPO)_min  \\\n",
      "65520               16522.079464               11547.35513   \n",
      "\n",
      "       Social Welfare (PPO)_max  depth  \n",
      "65520              20748.257937      3  \n",
      "       Social Welfare (PPO)_mean  Social Welfare (PPO)_min  \\\n",
      "68640               16209.254081              10489.495809   \n",
      "\n",
      "       Social Welfare (PPO)_max  depth  \n",
      "68640              20703.011121      3  \n",
      "       Social Welfare (PPO)_mean  Social Welfare (PPO)_min  \\\n",
      "71760               15905.905023              11290.040337   \n",
      "\n",
      "       Social Welfare (PPO)_max  depth  \n",
      "71760              20285.850636      3  \n",
      "       Social Welfare (PPO)_mean  Social Welfare (PPO)_min  \\\n",
      "74880               15390.210618              11723.747227   \n",
      "\n",
      "       Social Welfare (PPO)_max  depth  \n",
      "74880              20700.297539      3  \n",
      "       Social Welfare (PPO)_mean  Social Welfare (PPO)_min  \\\n",
      "78000               16949.394521              12062.024904   \n",
      "\n",
      "       Social Welfare (PPO)_max  depth  \n",
      "78000              20700.297539      3  \n",
      "       Social Welfare (PPO)_mean  Social Welfare (PPO)_min  \\\n",
      "81120               16688.733481              11184.569488   \n",
      "\n",
      "       Social Welfare (PPO)_max  depth  \n",
      "81120              20449.850565      3  \n",
      "       Social Welfare (PPO)_mean  Social Welfare (PPO)_min  \\\n",
      "84240                16692.65696              11155.170761   \n",
      "\n",
      "       Social Welfare (PPO)_max  depth  \n",
      "84240              19763.742924      3  \n",
      "       Social Welfare (PPO)_mean  Social Welfare (PPO)_min  \\\n",
      "87360               16787.111732              12556.407113   \n",
      "\n",
      "       Social Welfare (PPO)_max  depth  \n",
      "87360              23266.912122      3  \n",
      "       Social Welfare (PPO)_mean  Social Welfare (PPO)_min  \\\n",
      "90480                16275.20965              12803.494052   \n",
      "\n",
      "       Social Welfare (PPO)_max  depth  \n",
      "90480              23266.912122      3  \n",
      "       Social Welfare (PPO)_mean  Social Welfare (PPO)_min  \\\n",
      "93600                16315.68602              12485.462029   \n",
      "\n",
      "       Social Welfare (PPO)_max  depth  \n",
      "93600               20002.93023      3  \n",
      "       Social Welfare (PPO)_mean  Social Welfare (PPO)_min  \\\n",
      "96720               16657.253105              13011.450436   \n",
      "\n",
      "       Social Welfare (PPO)_max  depth  \n",
      "96720              21792.904326      3  \n",
      "       Social Welfare (PPO)_mean  Social Welfare (PPO)_min  \\\n",
      "99840               15653.121969              10299.985773   \n",
      "\n",
      "       Social Welfare (PPO)_max  depth  \n",
      "99840              20990.320318      3  \n",
      "        Social Welfare (PPO)_mean  Social Welfare (PPO)_min  \\\n",
      "102960               15344.281262              10299.985773   \n",
      "\n",
      "        Social Welfare (PPO)_max  depth  \n",
      "102960              20490.163621      3  \n",
      "depth = 3\n",
      "number of trials = 1\n",
      "numbler of rows of the results: 175\n",
      "depth = 4\n",
      "number of trials = 0\n",
      "numbler of rows of the results: 175\n",
      "depth = 5\n",
      "number of trials = 0\n",
      "numbler of rows of the results: 175\n",
      "/Users/fan/OneDrive - University of Southampton/My-Projects/Edge-Cloud-Resource-Allocation/marl-edge-cloud/results/Hyperparameter_Optimization__model_depth/basic-variant-state-2022-03-30_12-37-29.json/params.json\n",
      "/Users/fan/OneDrive - University of Southampton/My-Projects/Edge-Cloud-Resource-Allocation/marl-edge-cloud/results/Hyperparameter_Optimization__model_depth/experiment_state-2022-03-28_11-52-18.json/params.json\n"
     ]
    }
   ],
   "source": [
    "# get the dataframe of the results\n",
    "df_results = pd.DataFrame()\n",
    "results = []\n",
    "cntr=0  # counter of the number of trials that satisfy this hyperparameter combination\n",
    "for folder in dir_list:\n",
    "    params_path = f'{path}/{folder}/params.json'\n",
    "    file_path = f'{path}/{folder}/result.json'\n",
    "    try:\n",
    "        print(params_path)\n",
    "        with open(params_path) as f:\n",
    "            params = json.load(f)\n",
    "    except Exception:  # some \n",
    "        continue\n",
    "    for depth in range(1, 6):  # number of hidden layers\n",
    "        cntr = 0\n",
    "        if params['model'][\"custom_model_config\"]['layers']==[256] * depth:\n",
    "            cntr+=1\n",
    "            with open(file_path) as f:\n",
    "                # json.loads (and json.load) does not decode multiple json object. So load each line at a time.\n",
    "                # https://stackoverflow.com/a/29312618/7060068\n",
    "                for line in f:\n",
    "                    data = json.loads(line)\n",
    "    #                 print(data)\n",
    "        #             break\n",
    "                    data_row = data['custom_metrics']\n",
    "\n",
    "            #         df = pd.DataFrame.from_dict(data, index=0)\n",
    "                    # https://stackoverflow.com/a/17840195/7060068\n",
    "                    df = pd.DataFrame(data_row, index=[data['timesteps_total']])\n",
    "                    df['depth'] = depth\n",
    "                    print(df)\n",
    "                    results.append(df)\n",
    "        print(f\"depth = {depth}\")\n",
    "        print(f\"number of trials = {cntr}\")\n",
    "        print(f\"numbler of rows of the results: {len(results)}\")\n",
    "    else:\n",
    "        continue"
   ]
  },
  {
   "cell_type": "code",
   "execution_count": 6,
   "metadata": {},
   "outputs": [
    {
     "data": {
      "text/html": [
       "<div>\n",
       "<style scoped>\n",
       "    .dataframe tbody tr th:only-of-type {\n",
       "        vertical-align: middle;\n",
       "    }\n",
       "\n",
       "    .dataframe tbody tr th {\n",
       "        vertical-align: top;\n",
       "    }\n",
       "\n",
       "    .dataframe thead th {\n",
       "        text-align: right;\n",
       "    }\n",
       "</style>\n",
       "<table border=\"1\" class=\"dataframe\">\n",
       "  <thead>\n",
       "    <tr style=\"text-align: right;\">\n",
       "      <th></th>\n",
       "      <th>Social Welfare (PPO)_mean</th>\n",
       "      <th>depth</th>\n",
       "    </tr>\n",
       "  </thead>\n",
       "  <tbody>\n",
       "    <tr>\n",
       "      <th>3120</th>\n",
       "      <td>15730.950441</td>\n",
       "      <td>4</td>\n",
       "    </tr>\n",
       "    <tr>\n",
       "      <th>6240</th>\n",
       "      <td>14481.240541</td>\n",
       "      <td>4</td>\n",
       "    </tr>\n",
       "    <tr>\n",
       "      <th>9360</th>\n",
       "      <td>15728.416547</td>\n",
       "      <td>4</td>\n",
       "    </tr>\n",
       "    <tr>\n",
       "      <th>12480</th>\n",
       "      <td>16326.996121</td>\n",
       "      <td>4</td>\n",
       "    </tr>\n",
       "    <tr>\n",
       "      <th>15600</th>\n",
       "      <td>15614.179987</td>\n",
       "      <td>4</td>\n",
       "    </tr>\n",
       "  </tbody>\n",
       "</table>\n",
       "</div>"
      ],
      "text/plain": [
       "       Social Welfare (PPO)_mean  depth\n",
       "3120                15730.950441      4\n",
       "6240                14481.240541      4\n",
       "9360                15728.416547      4\n",
       "12480               16326.996121      4\n",
       "15600               15614.179987      4"
      ]
     },
     "execution_count": 6,
     "metadata": {},
     "output_type": "execute_result"
    }
   ],
   "source": [
    "df_results = pd.concat(results, axis=0)\n",
    "# process the results\n",
    "df_results = df_results[['Social Welfare (PPO)_mean', 'depth']]\n",
    "df_results.head()"
   ]
  },
  {
   "cell_type": "code",
   "execution_count": 7,
   "metadata": {},
   "outputs": [
    {
     "data": {
      "text/html": [
       "<div>\n",
       "<style scoped>\n",
       "    .dataframe tbody tr th:only-of-type {\n",
       "        vertical-align: middle;\n",
       "    }\n",
       "\n",
       "    .dataframe tbody tr th {\n",
       "        vertical-align: top;\n",
       "    }\n",
       "\n",
       "    .dataframe thead th {\n",
       "        text-align: right;\n",
       "    }\n",
       "</style>\n",
       "<table border=\"1\" class=\"dataframe\">\n",
       "  <thead>\n",
       "    <tr style=\"text-align: right;\">\n",
       "      <th></th>\n",
       "      <th>timesteps</th>\n",
       "      <th>mean social welfare</th>\n",
       "      <th>depth</th>\n",
       "    </tr>\n",
       "  </thead>\n",
       "  <tbody>\n",
       "    <tr>\n",
       "      <th>0</th>\n",
       "      <td>3120</td>\n",
       "      <td>15730.950441</td>\n",
       "      <td>4</td>\n",
       "    </tr>\n",
       "    <tr>\n",
       "      <th>1</th>\n",
       "      <td>6240</td>\n",
       "      <td>14481.240541</td>\n",
       "      <td>4</td>\n",
       "    </tr>\n",
       "    <tr>\n",
       "      <th>2</th>\n",
       "      <td>9360</td>\n",
       "      <td>15728.416547</td>\n",
       "      <td>4</td>\n",
       "    </tr>\n",
       "    <tr>\n",
       "      <th>3</th>\n",
       "      <td>12480</td>\n",
       "      <td>16326.996121</td>\n",
       "      <td>4</td>\n",
       "    </tr>\n",
       "    <tr>\n",
       "      <th>4</th>\n",
       "      <td>15600</td>\n",
       "      <td>15614.179987</td>\n",
       "      <td>4</td>\n",
       "    </tr>\n",
       "  </tbody>\n",
       "</table>\n",
       "</div>"
      ],
      "text/plain": [
       "   timesteps  mean social welfare  depth\n",
       "0       3120         15730.950441      4\n",
       "1       6240         14481.240541      4\n",
       "2       9360         15728.416547      4\n",
       "3      12480         16326.996121      4\n",
       "4      15600         15614.179987      4"
      ]
     },
     "execution_count": 7,
     "metadata": {},
     "output_type": "execute_result"
    }
   ],
   "source": [
    "# make the number of timesteps as a new column\n",
    "# https://pandas.pydata.org/docs/reference/api/pandas.DataFrame.reset_index.html\n",
    "df_results_reset = df_results.copy()\n",
    "df_results_reset = df_results_reset.reset_index(col_fill='timesteps')\n",
    "\n",
    "# change the name of the first column from `index` to `timesteps`\n",
    "df_results_reset = df_results_reset.rename(columns={\"index\": \"timesteps\", \n",
    "                                                   \"Social Welfare (PPO)_mean\": \"mean social welfare\"}, errors='raise')\n",
    "\n",
    "df_results_reset.head()"
   ]
  },
  {
   "cell_type": "code",
   "execution_count": 8,
   "metadata": {
    "tags": []
   },
   "outputs": [
    {
     "data": {
      "text/plain": [
       "(0.0, 23158.670749145054)"
      ]
     },
     "execution_count": 8,
     "metadata": {},
     "output_type": "execute_result"
    },
    {
     "data": {
      "image/png": "[encoded data removed]",
      "text/plain": [
       "<Figure size 720x432 with 1 Axes>"
      ]
     },
     "metadata": {},
     "output_type": "display_data"
    }
   ],
   "source": [
    "# plot the results all in one figure\n",
    "# https://stackoverflow.com/a/55579762/7060068\n",
    "p = sns.lineplot(x='timesteps', y='mean social welfare', hue='depth', \n",
    "                 style='depth', palette='bright',\n",
    "                 data=df_results_reset)  # 2 actions (blue)\n",
    "p.axes.set_ylim(0)"
   ]
  },
  {
   "cell_type": "code",
   "execution_count": 9,
   "metadata": {},
   "outputs": [],
   "source": [
    "# save the figure\n",
    "# https://www.delftstack.com/howto/seaborn/seaborn-save-figure/\n",
    "figure = p.get_figure()    \n",
    "figure.savefig('HPO_model_depth.png', dpi = 1200)"
   ]
  },
  {
   "cell_type": "code",
   "execution_count": 10,
   "metadata": {},
   "outputs": [
    {
     "ename": "ZeroDivisionError",
     "evalue": "division by zero",
     "output_type": "error",
     "traceback": [
      "\u001b[0;31m---------------------------------------------------------------------------\u001b[0m",
      "\u001b[0;31mZeroDivisionError\u001b[0m                         Traceback (most recent call last)",
      "\u001b[0;32m<ipython-input-10-9e1622b385b6>\u001b[0m in \u001b[0;36m<module>\u001b[0;34m\u001b[0m\n\u001b[0;32m----> 1\u001b[0;31m \u001b[0;36m1\u001b[0m\u001b[0;34m/\u001b[0m\u001b[0;36m0\u001b[0m\u001b[0;34m\u001b[0m\u001b[0;34m\u001b[0m\u001b[0m\n\u001b[0m",
      "\u001b[0;31mZeroDivisionError\u001b[0m: division by zero"
     ]
    }
   ],
   "source": [
    "1/0"
   ]
  },
  {
   "cell_type": "markdown",
   "metadata": {},
   "source": [
    "## Different train batch size"
   ]
  },
  {
   "cell_type": "code",
   "execution_count": 11,
   "metadata": {},
   "outputs": [],
   "source": [
    "# get all names from the folder\n",
    "# https://stackoverflow.com/a/29206464/7060068\n",
    "path = '/Users/fan/OneDrive - University of Southampton/My-Projects/Edge-Cloud-Resource-Allocation/marl-edge-cloud/results/Hyperparameter_Optimization__train_batch_size'\n",
    "dir_list = os.listdir(path)"
   ]
  },
  {
   "cell_type": "code",
   "execution_count": 12,
   "metadata": {},
   "outputs": [
    {
     "name": "stdout",
     "output_type": "stream",
     "text": [
      "number of folders = 14\n"
     ]
    }
   ],
   "source": [
    "print(f\"number of folders = {len(dir_list)}\")"
   ]
  },
  {
   "cell_type": "code",
   "execution_count": 13,
   "metadata": {
    "tags": []
   },
   "outputs": [],
   "source": [
    "# get the dataframe of the results\n",
    "df_results = pd.DataFrame()\n",
    "results = []\n",
    "cntr=0  # counter of the number of trials that satisfy this hyperparameter combination\n",
    "for folder in dir_list:\n",
    "    params_path = f'{path}/{folder}/params.json'\n",
    "    file_path = f'{path}/{folder}/result.json'\n",
    "    try:\n",
    "#         print(params_path)\n",
    "        with open(params_path) as f:\n",
    "            params = json.load(f)\n",
    "    except Exception:  # some \n",
    "        continue\n",
    "    for train_batch_size in [1000, 2000, 3000, 4000, 5000]:  # number of hidden layers\n",
    "        cntr = 0\n",
    "        if params['train_batch_size']== train_batch_size:\n",
    "            cntr+=1\n",
    "            with open(file_path) as f:\n",
    "                # json.loads (and json.load) does not decode multiple json object. So load each line at a time.\n",
    "                # https://stackoverflow.com/a/29312618/7060068\n",
    "                for line in f:\n",
    "                    data = json.loads(line)\n",
    "    #                 print(data)\n",
    "        #             break\n",
    "                    data_row = data['custom_metrics']\n",
    "\n",
    "            #         df = pd.DataFrame.from_dict(data, index=0)\n",
    "                    # https://stackoverflow.com/a/17840195/7060068\n",
    "                    df = pd.DataFrame(data_row, index=[data['timesteps_total']])\n",
    "                    df['train_batch_size'] = train_batch_size\n",
    "#                     print(df)\n",
    "                    results.append(df)\n",
    "#         print(f\"train_batch_size = {train_batch_size}\")\n",
    "#         print(f\"number of trials = {cntr}\")\n",
    "#         print(f\"numbler of rows of the results: {len(results)}\")\n",
    "    else:\n",
    "        continue"
   ]
  },
  {
   "cell_type": "code",
   "execution_count": 14,
   "metadata": {},
   "outputs": [
    {
     "data": {
      "text/html": [
       "<div>\n",
       "<style scoped>\n",
       "    .dataframe tbody tr th:only-of-type {\n",
       "        vertical-align: middle;\n",
       "    }\n",
       "\n",
       "    .dataframe tbody tr th {\n",
       "        vertical-align: top;\n",
       "    }\n",
       "\n",
       "    .dataframe thead th {\n",
       "        text-align: right;\n",
       "    }\n",
       "</style>\n",
       "<table border=\"1\" class=\"dataframe\">\n",
       "  <thead>\n",
       "    <tr style=\"text-align: right;\">\n",
       "      <th></th>\n",
       "      <th>Social Welfare (PPO)_mean</th>\n",
       "      <th>train_batch_size</th>\n",
       "    </tr>\n",
       "  </thead>\n",
       "  <tbody>\n",
       "    <tr>\n",
       "      <th>3120</th>\n",
       "      <td>15420.251209</td>\n",
       "      <td>3000</td>\n",
       "    </tr>\n",
       "    <tr>\n",
       "      <th>6240</th>\n",
       "      <td>14302.790741</td>\n",
       "      <td>3000</td>\n",
       "    </tr>\n",
       "    <tr>\n",
       "      <th>9360</th>\n",
       "      <td>15789.929280</td>\n",
       "      <td>3000</td>\n",
       "    </tr>\n",
       "    <tr>\n",
       "      <th>12480</th>\n",
       "      <td>16839.650845</td>\n",
       "      <td>3000</td>\n",
       "    </tr>\n",
       "    <tr>\n",
       "      <th>15600</th>\n",
       "      <td>16544.203477</td>\n",
       "      <td>3000</td>\n",
       "    </tr>\n",
       "  </tbody>\n",
       "</table>\n",
       "</div>"
      ],
      "text/plain": [
       "       Social Welfare (PPO)_mean  train_batch_size\n",
       "3120                15420.251209              3000\n",
       "6240                14302.790741              3000\n",
       "9360                15789.929280              3000\n",
       "12480               16839.650845              3000\n",
       "15600               16544.203477              3000"
      ]
     },
     "execution_count": 14,
     "metadata": {},
     "output_type": "execute_result"
    }
   ],
   "source": [
    "df_results = pd.concat(results, axis=0)\n",
    "# process the results\n",
    "df_results = df_results[['Social Welfare (PPO)_mean', 'train_batch_size']]\n",
    "df_results.head()"
   ]
  },
  {
   "cell_type": "code",
   "execution_count": 15,
   "metadata": {},
   "outputs": [
    {
     "data": {
      "text/html": [
       "<div>\n",
       "<style scoped>\n",
       "    .dataframe tbody tr th:only-of-type {\n",
       "        vertical-align: middle;\n",
       "    }\n",
       "\n",
       "    .dataframe tbody tr th {\n",
       "        vertical-align: top;\n",
       "    }\n",
       "\n",
       "    .dataframe thead th {\n",
       "        text-align: right;\n",
       "    }\n",
       "</style>\n",
       "<table border=\"1\" class=\"dataframe\">\n",
       "  <thead>\n",
       "    <tr style=\"text-align: right;\">\n",
       "      <th></th>\n",
       "      <th>timesteps</th>\n",
       "      <th>mean social welfare</th>\n",
       "      <th>train_batch_size</th>\n",
       "    </tr>\n",
       "  </thead>\n",
       "  <tbody>\n",
       "    <tr>\n",
       "      <th>0</th>\n",
       "      <td>3120</td>\n",
       "      <td>15420.251209</td>\n",
       "      <td>3000</td>\n",
       "    </tr>\n",
       "    <tr>\n",
       "      <th>1</th>\n",
       "      <td>6240</td>\n",
       "      <td>14302.790741</td>\n",
       "      <td>3000</td>\n",
       "    </tr>\n",
       "    <tr>\n",
       "      <th>2</th>\n",
       "      <td>9360</td>\n",
       "      <td>15789.929280</td>\n",
       "      <td>3000</td>\n",
       "    </tr>\n",
       "    <tr>\n",
       "      <th>3</th>\n",
       "      <td>12480</td>\n",
       "      <td>16839.650845</td>\n",
       "      <td>3000</td>\n",
       "    </tr>\n",
       "    <tr>\n",
       "      <th>4</th>\n",
       "      <td>15600</td>\n",
       "      <td>16544.203477</td>\n",
       "      <td>3000</td>\n",
       "    </tr>\n",
       "  </tbody>\n",
       "</table>\n",
       "</div>"
      ],
      "text/plain": [
       "   timesteps  mean social welfare  train_batch_size\n",
       "0       3120         15420.251209              3000\n",
       "1       6240         14302.790741              3000\n",
       "2       9360         15789.929280              3000\n",
       "3      12480         16839.650845              3000\n",
       "4      15600         16544.203477              3000"
      ]
     },
     "execution_count": 15,
     "metadata": {},
     "output_type": "execute_result"
    }
   ],
   "source": [
    "# make the number of timesteps as a new column\n",
    "# https://pandas.pydata.org/docs/reference/api/pandas.DataFrame.reset_index.html\n",
    "df_results_reset = df_results.copy()\n",
    "df_results_reset = df_results_reset.reset_index(col_fill='timesteps')\n",
    "\n",
    "# change the name of the first column from `index` to `timesteps`\n",
    "df_results_reset = df_results_reset.rename(columns={\"index\": \"timesteps\", \n",
    "                                                   \"Social Welfare (PPO)_mean\": \"mean social welfare\"}, errors='raise')\n",
    "\n",
    "df_results_reset.head()"
   ]
  },
  {
   "cell_type": "code",
   "execution_count": 16,
   "metadata": {
    "tags": []
   },
   "outputs": [
    {
     "data": {
      "text/plain": [
       "(0.0, 23827.18725792113)"
      ]
     },
     "execution_count": 16,
     "metadata": {},
     "output_type": "execute_result"
    },
    {
     "data": {
      "image/png": "[encoded data removed]",
      "text/plain": [
       "<Figure size 720x432 with 1 Axes>"
      ]
     },
     "metadata": {},
     "output_type": "display_data"
    }
   ],
   "source": [
    "# plot the results all in one figure\n",
    "# https://stackoverflow.com/a/55579762/7060068\n",
    "p = sns.lineplot(x='timesteps', y='mean social welfare', hue='train_batch_size',\n",
    "                 style='train_batch_size', palette='bright',\n",
    "                 data=df_results_reset)  # 2 actions (blue)\n",
    "p.axes.set_ylim(0)"
   ]
  },
  {
   "cell_type": "code",
   "execution_count": 17,
   "metadata": {},
   "outputs": [],
   "source": [
    "# save the figure\n",
    "figure = p.get_figure()    \n",
    "figure.savefig('HPO_train_batch_size.png', dpi = 1200)"
   ]
  },
  {
   "cell_type": "code",
   "execution_count": 18,
   "metadata": {},
   "outputs": [
    {
     "ename": "ZeroDivisionError",
     "evalue": "division by zero",
     "output_type": "error",
     "traceback": [
      "\u001b[0;31m---------------------------------------------------------------------------\u001b[0m",
      "\u001b[0;31mZeroDivisionError\u001b[0m                         Traceback (most recent call last)",
      "\u001b[0;32m<ipython-input-18-9e1622b385b6>\u001b[0m in \u001b[0;36m<module>\u001b[0;34m\u001b[0m\n\u001b[0;32m----> 1\u001b[0;31m \u001b[0;36m1\u001b[0m\u001b[0;34m/\u001b[0m\u001b[0;36m0\u001b[0m\u001b[0;34m\u001b[0m\u001b[0;34m\u001b[0m\u001b[0m\n\u001b[0m",
      "\u001b[0;31mZeroDivisionError\u001b[0m: division by zero"
     ]
    }
   ],
   "source": [
    "1/0"
   ]
  },
  {
   "cell_type": "markdown",
   "metadata": {},
   "source": [
    "## The function to process data for plotting"
   ]
  },
  {
   "cell_type": "code",
   "execution_count": null,
   "metadata": {
    "tags": []
   },
   "outputs": [],
   "source": [
    "def process_data(learning_rate, minibatch_size, batch_size,\n",
    "                 auction_type, lamda, clip_param, \n",
    "                 entropy_coeff):\n",
    "    # get the dataframe of the results\n",
    "    df_results = pd.DataFrame()\n",
    "    results = []\n",
    "    cntr=0  # counter of the number of trials that satisfy this hyperparameter combination\n",
    "    for folder in dir_list:\n",
    "        params_path = f'{path}/{folder}/params.json'\n",
    "        file_path = f'{path}/{folder}/result.json'\n",
    "        try:\n",
    "            with open(params_path) as f:\n",
    "                params = json.load(f)\n",
    "        except Exception:  # some \n",
    "            continue\n",
    "        try:\n",
    "            if (params['lr']==learning_rate and params['sgd_minibatch_size']== minibatch_size\n",
    "            and params['train_batch_size']==batch_size and \n",
    "                params['env_config']['auction_type']==auction_type and params['lambda']==lamda\n",
    "               and params['clip_param']==clip_param and params['entropy_coeff']==entropy_coeff):\n",
    "                cntr+=1\n",
    "                with open(file_path) as f:\n",
    "                    # json.loads (and json.load) does not decode multiple json object. So load each line at a time.\n",
    "                    # https://stackoverflow.com/a/29312618/7060068\n",
    "                    for line in f:\n",
    "                        data = json.loads(line)\n",
    "            #             print(data)\n",
    "            #             break\n",
    "                        data_row = data['custom_metrics']\n",
    "\n",
    "                #         df = pd.DataFrame.from_dict(data, index=0)\n",
    "                        # https://stackoverflow.com/a/17840195/7060068\n",
    "                        df = pd.DataFrame(data_row, index=[data['timesteps_total']])\n",
    "                        results.append(df)\n",
    "            else:\n",
    "                continue\n",
    "        except KeyError:\n",
    "            continue\n",
    "    \n",
    "    print(f\"number of trials = {cntr}\")\n",
    "    print(f\"numbler of rows of the results: {len(df_results)}\")\n",
    "\n",
    "    df_results = pd.concat(results, axis=0)\n",
    "\n",
    "    # process the results\n",
    "    df_results = df_results[['Social Welfare (Online Myopic)_mean', 'Social Welfare (PPO)_mean', \n",
    "                             'Social Welfare (Random Allocation)_mean', 'Social Welfare (All Bidding Zero)_mean',\n",
    "                            'Social Welfare (Offline Optimal)_mean']]\n",
    "    \n",
    "    # make the number of timesteps as a new column\n",
    "    # https://pandas.pydata.org/docs/reference/api/pandas.DataFrame.reset_index.html\n",
    "    df_results_reset = df_results.copy()\n",
    "    df_results_reset = df_results_reset.reset_index(col_fill='timesteps')\n",
    "\n",
    "    # change the name of the first column from `index` to `timesteps`\n",
    "    df_results_reset = df_results_reset.rename(columns={\"index\": \"timesteps\", \n",
    "                                                       \"Social Welfare (Online Myopic)_mean\": \"Online Myopic\",\n",
    "                                                       \"Social Welfare (PPO)_mean\": \"MARL (PPO)\",\n",
    "                                                       \"Social Welfare (Random Allocation)_mean\": \"Random Allocation\",\n",
    "                                                       \"Social Welfare (All Bidding Zero)_mean\": \"All Bidding Zero\",\n",
    "                                                       \"Social Welfare (Offline Optimal)_mean\": \"Offline Optimal\"}, errors='raise')\n",
    "\n",
    "    df_results_reset.head()\n",
    "\n",
    "    # make a dataframe for plotting several lines in one figure\n",
    "    # https://stackoverflow.com/a/55579762/7060068\n",
    "\n",
    "    df_results_preproc = pd.melt(df_results_reset, ['timesteps'], var_name='algorithms',\n",
    "                                value_name='mean social welfare')\n",
    "\n",
    "    return df_results_preproc"
   ]
  },
  {
   "cell_type": "markdown",
   "metadata": {},
   "source": [
    "## 40 tasks, 5 actions, no-history, revenue as reward"
   ]
  },
  {
   "cell_type": "code",
   "execution_count": null,
   "metadata": {
    "tags": []
   },
   "outputs": [],
   "source": [
    "# The values of the hyperparameters\n",
    "LR=0.0001\n",
    "MINIBATCH_SIZE=128\n",
    "BATCH_SIZE=3000\n",
    "AUCTION_TYPE='first-price'\n",
    "LAMBDA=0.95\n",
    "CLIP_PARAM=0.3\n",
    "ENTROPY_COEFF=0"
   ]
  },
  {
   "cell_type": "code",
   "execution_count": null,
   "metadata": {
    "tags": []
   },
   "outputs": [],
   "source": [
    "df_results_preproc = process_data(learning_rate=LR, minibatch_size=MINIBATCH_SIZE, batch_size=BATCH_SIZE,\n",
    "                 auction_type=AUCTION_TYPE, lamda=LAMBDA, clip_param=CLIP_PARAM, \n",
    "                 entropy_coeff=ENTROPY_COEFF)\n",
    "df_results_preproc.head()"
   ]
  },
  {
   "cell_type": "code",
   "execution_count": null,
   "metadata": {
    "tags": []
   },
   "outputs": [],
   "source": [
    "# plot the results all in one figure\n",
    "# https://stackoverflow.com/a/55579762/7060068\n",
    "p = sns.lineplot(x='timesteps', y='mean social welfare', hue='algorithms', \n",
    "                 data=df_results_preproc)  # 2 actions (blue)\n",
    "p.axes.set_ylim(0)"
   ]
  },
  {
   "cell_type": "code",
   "execution_count": null,
   "metadata": {},
   "outputs": [],
   "source": [
    "# Save the plot\n",
    "fig = p.get_figure()\n",
    "fig.savefig(\"figure1.png\")"
   ]
  },
  {
   "cell_type": "markdown",
   "metadata": {},
   "source": [
    "## 40 tasks, 5 actions, no-history, revenue as reward"
   ]
  },
  {
   "cell_type": "code",
   "execution_count": null,
   "metadata": {
    "tags": []
   },
   "outputs": [],
   "source": [
    "# The values of the hyperparameters\n",
    "LR=0.0001\n",
    "MINIBATCH_SIZE=128\n",
    "BATCH_SIZE=3000\n",
    "AUCTION_TYPE='first-price'\n",
    "LAMBDA=0.95\n",
    "CLIP_PARAM=0.1\n",
    "ENTROPY_COEFF=0"
   ]
  },
  {
   "cell_type": "code",
   "execution_count": null,
   "metadata": {
    "jupyter": {
     "source_hidden": true
    },
    "tags": []
   },
   "outputs": [],
   "source": [
    "df_results_preproc = process_data(learning_rate=LR, minibatch_size=MINIBATCH_SIZE, batch_size=BATCH_SIZE,\n",
    "                 auction_type=AUCTION_TYPE, lamda=LAMBDA, clip_param=CLIP_PARAM, \n",
    "                 entropy_coeff=ENTROPY_COEFF)"
   ]
  },
  {
   "cell_type": "code",
   "execution_count": null,
   "metadata": {
    "jupyter": {
     "source_hidden": true
    },
    "tags": []
   },
   "outputs": [],
   "source": [
    "# plot the results all in one figure\n",
    "# https://stackoverflow.com/a/55579762/7060068\n",
    "p = sns.lineplot(x='timesteps', y='mean social welfare', hue='algorithms', \n",
    "                 data=df_results_preproc)  # 2 actions (blue)\n",
    "p.axes.set_ylim(0)"
   ]
  },
  {
   "cell_type": "markdown",
   "metadata": {},
   "source": [
    "## 40 tasks, 5 actions, no-history, revenue as reward"
   ]
  },
  {
   "cell_type": "code",
   "execution_count": null,
   "metadata": {
    "tags": []
   },
   "outputs": [],
   "source": [
    "# The values of the hyperparameters\n",
    "LR=0.0001\n",
    "MINIBATCH_SIZE=128\n",
    "BATCH_SIZE=3000\n",
    "AUCTION_TYPE='first-price'\n",
    "LAMBDA=1\n",
    "CLIP_PARAM=0.1\n",
    "ENTROPY_COEFF=0"
   ]
  },
  {
   "cell_type": "code",
   "execution_count": null,
   "metadata": {
    "tags": []
   },
   "outputs": [],
   "source": [
    "df_results_preproc = process_data(learning_rate=LR, minibatch_size=MINIBATCH_SIZE, batch_size=BATCH_SIZE,\n",
    "                 auction_type=AUCTION_TYPE, lamda=LAMBDA, clip_param=CLIP_PARAM, \n",
    "                 entropy_coeff=ENTROPY_COEFF)"
   ]
  },
  {
   "cell_type": "code",
   "execution_count": null,
   "metadata": {
    "jupyter": {
     "source_hidden": true
    },
    "tags": []
   },
   "outputs": [],
   "source": [
    "# plot the results all in one figure\n",
    "# https://stackoverflow.com/a/55579762/7060068\n",
    "p = sns.lineplot(x='timesteps', y='mean social welfare', hue='algorithms', \n",
    "                 data=df_results_preproc)  # 2 actions (blue)\n",
    "p.axes.set_ylim(0)"
   ]
  },
  {
   "cell_type": "markdown",
   "metadata": {},
   "source": [
    "## 40 tasks, 5 actions, no-history, revenue as reward"
   ]
  },
  {
   "cell_type": "code",
   "execution_count": null,
   "metadata": {
    "tags": []
   },
   "outputs": [],
   "source": [
    "# The values of the hyperparameters\n",
    "LR=0.0001\n",
    "MINIBATCH_SIZE=128\n",
    "BATCH_SIZE=3000\n",
    "AUCTION_TYPE='first-price'\n",
    "LAMBDA=0.9\n",
    "CLIP_PARAM=0.2\n",
    "ENTROPY_COEFF=0"
   ]
  },
  {
   "cell_type": "code",
   "execution_count": null,
   "metadata": {
    "jupyter": {
     "source_hidden": true
    },
    "tags": []
   },
   "outputs": [],
   "source": [
    "df_results_preproc = process_data(learning_rate=LR, minibatch_size=MINIBATCH_SIZE, batch_size=BATCH_SIZE,\n",
    "                 auction_type=AUCTION_TYPE, lamda=LAMBDA, clip_param=CLIP_PARAM, \n",
    "                 entropy_coeff=ENTROPY_COEFF)"
   ]
  },
  {
   "cell_type": "code",
   "execution_count": null,
   "metadata": {
    "jupyter": {
     "source_hidden": true
    },
    "tags": []
   },
   "outputs": [],
   "source": [
    "# plot the results all in one figure\n",
    "# https://stackoverflow.com/a/55579762/7060068\n",
    "p = sns.lineplot(x='timesteps', y='mean social welfare', hue='algorithms', \n",
    "                 data=df_results_preproc)  # 2 actions (blue)\n",
    "p.axes.set_ylim(0)"
   ]
  },
  {
   "cell_type": "markdown",
   "metadata": {},
   "source": [
    "## 40 tasks, 5 actions, no-history, revenue as reward"
   ]
  },
  {
   "cell_type": "code",
   "execution_count": null,
   "metadata": {
    "tags": []
   },
   "outputs": [],
   "source": [
    "# The values of the hyperparameters\n",
    "LR=0.0001\n",
    "MINIBATCH_SIZE=128\n",
    "BATCH_SIZE=3000\n",
    "AUCTION_TYPE='first-price'\n",
    "LAMBDA=0.9\n",
    "CLIP_PARAM=0.3\n",
    "ENTROPY_COEFF=0"
   ]
  },
  {
   "cell_type": "code",
   "execution_count": null,
   "metadata": {
    "jupyter": {
     "source_hidden": true
    },
    "tags": []
   },
   "outputs": [],
   "source": [
    "df_results_preproc = process_data(learning_rate=LR, minibatch_size=MINIBATCH_SIZE, batch_size=BATCH_SIZE,\n",
    "                 auction_type=AUCTION_TYPE, lamda=LAMBDA, clip_param=CLIP_PARAM, \n",
    "                 entropy_coeff=ENTROPY_COEFF)"
   ]
  },
  {
   "cell_type": "code",
   "execution_count": null,
   "metadata": {
    "jupyter": {
     "source_hidden": true
    },
    "tags": []
   },
   "outputs": [],
   "source": [
    "# plot the results all in one figure\n",
    "# https://stackoverflow.com/a/55579762/7060068\n",
    "p = sns.lineplot(x='timesteps', y='mean social welfare', hue='algorithms', \n",
    "                 data=df_results_preproc)  # 2 actions (blue)\n",
    "p.axes.set_ylim(0)"
   ]
  },
  {
   "cell_type": "markdown",
   "metadata": {},
   "source": [
    "## 40 tasks, 5 actions, no-history, revenue as reward"
   ]
  },
  {
   "cell_type": "code",
   "execution_count": null,
   "metadata": {
    "tags": []
   },
   "outputs": [],
   "source": [
    "# The values of the hyperparameters\n",
    "LR=0.0001\n",
    "MINIBATCH_SIZE=128\n",
    "BATCH_SIZE=3000\n",
    "AUCTION_TYPE='first-price'\n",
    "LAMBDA=0.9\n",
    "CLIP_PARAM=0.3\n",
    "ENTROPY_COEFF=0.01"
   ]
  },
  {
   "cell_type": "code",
   "execution_count": null,
   "metadata": {
    "jupyter": {
     "source_hidden": true
    },
    "tags": []
   },
   "outputs": [],
   "source": [
    "df_results_preproc = process_data(learning_rate=LR, minibatch_size=MINIBATCH_SIZE, batch_size=BATCH_SIZE,\n",
    "                 auction_type=AUCTION_TYPE, lamda=LAMBDA, clip_param=CLIP_PARAM, \n",
    "                 entropy_coeff=ENTROPY_COEFF)"
   ]
  },
  {
   "cell_type": "code",
   "execution_count": null,
   "metadata": {
    "jupyter": {
     "source_hidden": true
    },
    "tags": []
   },
   "outputs": [],
   "source": [
    "# plot the results all in one figure\n",
    "# https://stackoverflow.com/a/55579762/7060068\n",
    "p = sns.lineplot(x='timesteps', y='mean social welfare', hue='algorithms', \n",
    "                 data=df_results_preproc)  # 2 actions (blue)\n",
    "p.axes.set_ylim(0)"
   ]
  },
  {
   "cell_type": "code",
   "execution_count": null,
   "metadata": {},
   "outputs": [],
   "source": [
    "1/0"
   ]
  },
  {
   "cell_type": "markdown",
   "metadata": {},
   "source": [
    "## 40 tasks, 5 actions, no-history, revenue as reward"
   ]
  },
  {
   "cell_type": "code",
   "execution_count": null,
   "metadata": {
    "tags": []
   },
   "outputs": [],
   "source": [
    "# The values of the hyperparameters\n",
    "LR=0.0001\n",
    "MINIBATCH_SIZE=128\n",
    "BATCH_SIZE=3000\n",
    "AUCTION_TYPE='first-price'\n",
    "LAMBDA=0.9\n",
    "CLIP_PARAM=0.1\n",
    "ENTROPY_COEFF=0"
   ]
  },
  {
   "cell_type": "code",
   "execution_count": null,
   "metadata": {
    "jupyter": {
     "source_hidden": true
    },
    "tags": []
   },
   "outputs": [],
   "source": [
    "df_results_preproc = process_data(learning_rate=LR, minibatch_size=MINIBATCH_SIZE, batch_size=BATCH_SIZE,\n",
    "                 auction_type=AUCTION_TYPE, lamda=LAMBDA, clip_param=CLIP_PARAM, \n",
    "                 entropy_coeff=ENTROPY_COEFF)"
   ]
  },
  {
   "cell_type": "code",
   "execution_count": null,
   "metadata": {
    "jupyter": {
     "source_hidden": true
    },
    "tags": []
   },
   "outputs": [],
   "source": [
    "# plot the results all in one figure\n",
    "# https://stackoverflow.com/a/55579762/7060068\n",
    "p = sns.lineplot(x='timesteps', y='mean social welfare', hue='algorithms', \n",
    "                 data=df_results_preproc)  # 2 actions (blue)\n",
    "p.axes.set_ylim(0)"
   ]
  },
  {
   "cell_type": "markdown",
   "metadata": {},
   "source": [
    "## 40 tasks, 5 actions, no-history, revenue as reward"
   ]
  },
  {
   "cell_type": "code",
   "execution_count": null,
   "metadata": {
    "tags": []
   },
   "outputs": [],
   "source": [
    "# The values of the hyperparameters\n",
    "LR=0.0001\n",
    "MINIBATCH_SIZE=128\n",
    "BATCH_SIZE=3000\n",
    "AUCTION_TYPE='first-price'\n",
    "LAMBDA=0.9\n",
    "CLIP_PARAM=0.1\n",
    "ENTROPY_COEFF=0"
   ]
  },
  {
   "cell_type": "code",
   "execution_count": null,
   "metadata": {
    "jupyter": {
     "source_hidden": true
    },
    "tags": []
   },
   "outputs": [],
   "source": [
    "df_results_preproc = process_data(learning_rate=LR, minibatch_size=MINIBATCH_SIZE, batch_size=BATCH_SIZE,\n",
    "                 auction_type=AUCTION_TYPE, lamda=LAMBDA, clip_param=CLIP_PARAM, \n",
    "                 entropy_coeff=ENTROPY_COEFF)"
   ]
  },
  {
   "cell_type": "code",
   "execution_count": null,
   "metadata": {
    "jupyter": {
     "source_hidden": true
    },
    "tags": []
   },
   "outputs": [],
   "source": [
    "# plot the results all in one figure\n",
    "# https://stackoverflow.com/a/55579762/7060068\n",
    "p = sns.lineplot(x='timesteps', y='mean social welfare', hue='algorithms', \n",
    "                 data=df_results_preproc)  # 2 actions (blue)\n",
    "p.axes.set_ylim(0)"
   ]
  },
  {
   "cell_type": "markdown",
   "metadata": {},
   "source": [
    "## 40 tasks, 5 actions, no-history, revenue as reward"
   ]
  },
  {
   "cell_type": "code",
   "execution_count": null,
   "metadata": {
    "tags": []
   },
   "outputs": [],
   "source": [
    "# The values of the hyperparameters\n",
    "LR=0.0001\n",
    "MINIBATCH_SIZE=128\n",
    "BATCH_SIZE=3000\n",
    "AUCTION_TYPE='first-price'\n",
    "LAMBDA=0.9\n",
    "CLIP_PARAM=0.1\n",
    "ENTROPY_COEFF=0"
   ]
  },
  {
   "cell_type": "code",
   "execution_count": null,
   "metadata": {
    "jupyter": {
     "source_hidden": true
    },
    "tags": []
   },
   "outputs": [],
   "source": [
    "df_results_preproc = process_data(learning_rate=LR, minibatch_size=MINIBATCH_SIZE, batch_size=BATCH_SIZE,\n",
    "                 auction_type=AUCTION_TYPE, lamda=LAMBDA, clip_param=CLIP_PARAM, \n",
    "                 entropy_coeff=ENTROPY_COEFF)"
   ]
  },
  {
   "cell_type": "code",
   "execution_count": null,
   "metadata": {
    "jupyter": {
     "source_hidden": true
    },
    "tags": []
   },
   "outputs": [],
   "source": [
    "# plot the results all in one figure\n",
    "# https://stackoverflow.com/a/55579762/7060068\n",
    "p = sns.lineplot(x='timesteps', y='mean social welfare', hue='algorithms', \n",
    "                 data=df_results_preproc)  # 2 actions (blue)\n",
    "p.axes.set_ylim(0)"
   ]
  },
  {
   "cell_type": "markdown",
   "metadata": {},
   "source": [
    "## 40 tasks, 5 actions, no-history, revenue as reward"
   ]
  },
  {
   "cell_type": "code",
   "execution_count": null,
   "metadata": {
    "tags": []
   },
   "outputs": [],
   "source": [
    "# The values of the hyperparameters\n",
    "LR=0.0001\n",
    "MINIBATCH_SIZE=128\n",
    "BATCH_SIZE=3000\n",
    "AUCTION_TYPE='first-price'\n",
    "LAMBDA=0.9\n",
    "CLIP_PARAM=0.1\n",
    "ENTROPY_COEFF=0"
   ]
  },
  {
   "cell_type": "code",
   "execution_count": null,
   "metadata": {
    "jupyter": {
     "source_hidden": true
    },
    "tags": []
   },
   "outputs": [],
   "source": [
    "df_results_preproc = process_data(learning_rate=LR, minibatch_size=MINIBATCH_SIZE, batch_size=BATCH_SIZE,\n",
    "                 auction_type=AUCTION_TYPE, lamda=LAMBDA, clip_param=CLIP_PARAM, \n",
    "                 entropy_coeff=ENTROPY_COEFF)"
   ]
  },
  {
   "cell_type": "code",
   "execution_count": null,
   "metadata": {
    "jupyter": {
     "source_hidden": true
    },
    "tags": []
   },
   "outputs": [],
   "source": [
    "# plot the results all in one figure\n",
    "# https://stackoverflow.com/a/55579762/7060068\n",
    "p = sns.lineplot(x='timesteps', y='mean social welfare', hue='algorithms', \n",
    "                 data=df_results_preproc)  # 2 actions (blue)\n",
    "p.axes.set_ylim(0)"
   ]
  },
  {
   "cell_type": "markdown",
   "metadata": {},
   "source": [
    "## 40 tasks, 5 actions, no-history, revenue as reward"
   ]
  },
  {
   "cell_type": "code",
   "execution_count": null,
   "metadata": {
    "tags": []
   },
   "outputs": [],
   "source": [
    "# The values of the hyperparameters\n",
    "LR=0.0001\n",
    "MINIBATCH_SIZE=128\n",
    "BATCH_SIZE=3000\n",
    "AUCTION_TYPE='first-price'\n",
    "LAMBDA=0.9\n",
    "CLIP_PARAM=0.1\n",
    "ENTROPY_COEFF=0"
   ]
  },
  {
   "cell_type": "code",
   "execution_count": null,
   "metadata": {
    "jupyter": {
     "source_hidden": true
    },
    "tags": []
   },
   "outputs": [],
   "source": [
    "df_results_preproc = process_data(learning_rate=LR, minibatch_size=MINIBATCH_SIZE, batch_size=BATCH_SIZE,\n",
    "                 auction_type=AUCTION_TYPE, lamda=LAMBDA, clip_param=CLIP_PARAM, \n",
    "                 entropy_coeff=ENTROPY_COEFF)"
   ]
  },
  {
   "cell_type": "code",
   "execution_count": null,
   "metadata": {
    "jupyter": {
     "source_hidden": true
    },
    "tags": []
   },
   "outputs": [],
   "source": [
    "# plot the results all in one figure\n",
    "# https://stackoverflow.com/a/55579762/7060068\n",
    "p = sns.lineplot(x='timesteps', y='mean social welfare', hue='algorithms', \n",
    "                 data=df_results_preproc)  # 2 actions (blue)\n",
    "p.axes.set_ylim(0)"
   ]
  },
  {
   "cell_type": "markdown",
   "metadata": {},
   "source": [
    "## 40 tasks, 5 actions, no-history, revenue as reward"
   ]
  },
  {
   "cell_type": "code",
   "execution_count": null,
   "metadata": {
    "tags": []
   },
   "outputs": [],
   "source": [
    "# The values of the hyperparameters\n",
    "LR=0.0001\n",
    "MINIBATCH_SIZE=128\n",
    "BATCH_SIZE=3000\n",
    "AUCTION_TYPE='first-price'\n",
    "LAMBDA=0.9\n",
    "CLIP_PARAM=0.1\n",
    "ENTROPY_COEFF=0"
   ]
  },
  {
   "cell_type": "code",
   "execution_count": null,
   "metadata": {
    "jupyter": {
     "source_hidden": true
    },
    "tags": []
   },
   "outputs": [],
   "source": [
    "df_results_preproc = process_data(learning_rate=LR, minibatch_size=MINIBATCH_SIZE, batch_size=BATCH_SIZE,\n",
    "                 auction_type=AUCTION_TYPE, lamda=LAMBDA, clip_param=CLIP_PARAM, \n",
    "                 entropy_coeff=ENTROPY_COEFF)"
   ]
  },
  {
   "cell_type": "code",
   "execution_count": null,
   "metadata": {
    "jupyter": {
     "source_hidden": true
    },
    "tags": []
   },
   "outputs": [],
   "source": [
    "# plot the results all in one figure\n",
    "# https://stackoverflow.com/a/55579762/7060068\n",
    "p = sns.lineplot(x='timesteps', y='mean social welfare', hue='algorithms', \n",
    "                 data=df_results_preproc)  # 2 actions (blue)\n",
    "p.axes.set_ylim(0)"
   ]
  },
  {
   "cell_type": "markdown",
   "metadata": {},
   "source": [
    "## 40 tasks, 5 actions, no-history, revenue as reward"
   ]
  },
  {
   "cell_type": "code",
   "execution_count": null,
   "metadata": {
    "tags": []
   },
   "outputs": [],
   "source": [
    "# The values of the hyperparameters\n",
    "LR=0.0001\n",
    "MINIBATCH_SIZE=128\n",
    "BATCH_SIZE=3000\n",
    "AUCTION_TYPE='first-price'\n",
    "LAMBDA=0.9\n",
    "CLIP_PARAM=0.1\n",
    "ENTROPY_COEFF=0"
   ]
  },
  {
   "cell_type": "code",
   "execution_count": null,
   "metadata": {
    "jupyter": {
     "source_hidden": true
    },
    "tags": []
   },
   "outputs": [],
   "source": [
    "df_results_preproc = process_data(learning_rate=LR, minibatch_size=MINIBATCH_SIZE, batch_size=BATCH_SIZE,\n",
    "                 auction_type=AUCTION_TYPE, lamda=LAMBDA, clip_param=CLIP_PARAM, \n",
    "                 entropy_coeff=ENTROPY_COEFF)"
   ]
  },
  {
   "cell_type": "code",
   "execution_count": null,
   "metadata": {
    "jupyter": {
     "source_hidden": true
    },
    "tags": []
   },
   "outputs": [],
   "source": [
    "# plot the results all in one figure\n",
    "# https://stackoverflow.com/a/55579762/7060068\n",
    "p = sns.lineplot(x='timesteps', y='mean social welfare', hue='algorithms', \n",
    "                 data=df_results_preproc)  # 2 actions (blue)\n",
    "p.axes.set_ylim(0)"
   ]
  },
  {
   "cell_type": "markdown",
   "metadata": {},
   "source": [
    "## 40 tasks, 5 actions, no-history, revenue as reward"
   ]
  },
  {
   "cell_type": "code",
   "execution_count": null,
   "metadata": {
    "tags": []
   },
   "outputs": [],
   "source": [
    "# The values of the hyperparameters\n",
    "LR=0.0001\n",
    "MINIBATCH_SIZE=128\n",
    "BATCH_SIZE=3000\n",
    "AUCTION_TYPE='first-price'\n",
    "LAMBDA=0.9\n",
    "CLIP_PARAM=0.1\n",
    "ENTROPY_COEFF=0"
   ]
  },
  {
   "cell_type": "code",
   "execution_count": null,
   "metadata": {
    "jupyter": {
     "source_hidden": true
    },
    "tags": []
   },
   "outputs": [],
   "source": [
    "df_results_preproc = process_data(learning_rate=LR, minibatch_size=MINIBATCH_SIZE, batch_size=BATCH_SIZE,\n",
    "                 auction_type=AUCTION_TYPE, lamda=LAMBDA, clip_param=CLIP_PARAM, \n",
    "                 entropy_coeff=ENTROPY_COEFF)"
   ]
  },
  {
   "cell_type": "code",
   "execution_count": null,
   "metadata": {
    "jupyter": {
     "source_hidden": true
    },
    "tags": []
   },
   "outputs": [],
   "source": [
    "# plot the results all in one figure\n",
    "# https://stackoverflow.com/a/55579762/7060068\n",
    "p = sns.lineplot(x='timesteps', y='mean social welfare', hue='algorithms', \n",
    "                 data=df_results_preproc)  # 2 actions (blue)\n",
    "p.axes.set_ylim(0)"
   ]
  },
  {
   "cell_type": "markdown",
   "metadata": {},
   "source": [
    "## 40 tasks, 5 actions, no-history, revenue as reward"
   ]
  },
  {
   "cell_type": "code",
   "execution_count": null,
   "metadata": {
    "tags": []
   },
   "outputs": [],
   "source": [
    "# The values of the hyperparameters\n",
    "LR=0.0001\n",
    "MINIBATCH_SIZE=128\n",
    "BATCH_SIZE=3000\n",
    "AUCTION_TYPE='first-price'\n",
    "LAMBDA=0.9\n",
    "CLIP_PARAM=0.1\n",
    "ENTROPY_COEFF=0"
   ]
  },
  {
   "cell_type": "code",
   "execution_count": null,
   "metadata": {
    "jupyter": {
     "source_hidden": true
    },
    "tags": []
   },
   "outputs": [],
   "source": [
    "df_results_preproc = process_data(learning_rate=LR, minibatch_size=MINIBATCH_SIZE, batch_size=BATCH_SIZE,\n",
    "                 auction_type=AUCTION_TYPE, lamda=LAMBDA, clip_param=CLIP_PARAM, \n",
    "                 entropy_coeff=ENTROPY_COEFF)"
   ]
  },
  {
   "cell_type": "code",
   "execution_count": null,
   "metadata": {
    "jupyter": {
     "source_hidden": true
    },
    "tags": []
   },
   "outputs": [],
   "source": [
    "# plot the results all in one figure\n",
    "# https://stackoverflow.com/a/55579762/7060068\n",
    "p = sns.lineplot(x='timesteps', y='mean social welfare', hue='algorithms', \n",
    "                 data=df_results_preproc)  # 2 actions (blue)\n",
    "p.axes.set_ylim(0)"
   ]
  },
  {
   "cell_type": "markdown",
   "metadata": {},
   "source": [
    "## 40 tasks, 5 actions, no-history, revenue as reward"
   ]
  },
  {
   "cell_type": "code",
   "execution_count": null,
   "metadata": {
    "tags": []
   },
   "outputs": [],
   "source": [
    "# The values of the hyperparameters\n",
    "LR=0.0001\n",
    "MINIBATCH_SIZE=128\n",
    "BATCH_SIZE=3000\n",
    "AUCTION_TYPE='first-price'\n",
    "LAMBDA=0.9\n",
    "CLIP_PARAM=0.1\n",
    "ENTROPY_COEFF=0"
   ]
  },
  {
   "cell_type": "code",
   "execution_count": null,
   "metadata": {
    "jupyter": {
     "source_hidden": true
    },
    "tags": []
   },
   "outputs": [],
   "source": [
    "df_results_preproc = process_data(learning_rate=LR, minibatch_size=MINIBATCH_SIZE, batch_size=BATCH_SIZE,\n",
    "                 auction_type=AUCTION_TYPE, lamda=LAMBDA, clip_param=CLIP_PARAM, \n",
    "                 entropy_coeff=ENTROPY_COEFF)"
   ]
  },
  {
   "cell_type": "code",
   "execution_count": null,
   "metadata": {
    "jupyter": {
     "source_hidden": true
    },
    "tags": []
   },
   "outputs": [],
   "source": [
    "# plot the results all in one figure\n",
    "# https://stackoverflow.com/a/55579762/7060068\n",
    "p = sns.lineplot(x='timesteps', y='mean social welfare', hue='algorithms', \n",
    "                 data=df_results_preproc)  # 2 actions (blue)\n",
    "p.axes.set_ylim(0)"
   ]
  },
  {
   "cell_type": "markdown",
   "metadata": {},
   "source": [
    "## 40 tasks, 5 actions, no-history, revenue as reward"
   ]
  },
  {
   "cell_type": "code",
   "execution_count": null,
   "metadata": {
    "tags": []
   },
   "outputs": [],
   "source": [
    "# The values of the hyperparameters\n",
    "LR=0.0001\n",
    "MINIBATCH_SIZE=128\n",
    "BATCH_SIZE=3000\n",
    "AUCTION_TYPE='first-price'\n",
    "LAMBDA=0.9\n",
    "CLIP_PARAM=0.1\n",
    "ENTROPY_COEFF=0"
   ]
  },
  {
   "cell_type": "code",
   "execution_count": null,
   "metadata": {
    "jupyter": {
     "source_hidden": true
    },
    "tags": []
   },
   "outputs": [],
   "source": [
    "df_results_preproc = process_data(learning_rate=LR, minibatch_size=MINIBATCH_SIZE, batch_size=BATCH_SIZE,\n",
    "                 auction_type=AUCTION_TYPE, lamda=LAMBDA, clip_param=CLIP_PARAM, \n",
    "                 entropy_coeff=ENTROPY_COEFF)"
   ]
  },
  {
   "cell_type": "code",
   "execution_count": null,
   "metadata": {
    "jupyter": {
     "source_hidden": true
    },
    "tags": []
   },
   "outputs": [],
   "source": [
    "# plot the results all in one figure\n",
    "# https://stackoverflow.com/a/55579762/7060068\n",
    "p = sns.lineplot(x='timesteps', y='mean social welfare', hue='algorithms', \n",
    "                 data=df_results_preproc)  # 2 actions (blue)\n",
    "p.axes.set_ylim(0)"
   ]
  },
  {
   "cell_type": "markdown",
   "metadata": {},
   "source": [
    "## 40 tasks, 5 actions, no-history, revenue as reward"
   ]
  },
  {
   "cell_type": "code",
   "execution_count": null,
   "metadata": {
    "tags": []
   },
   "outputs": [],
   "source": [
    "# The values of the hyperparameters\n",
    "LR=0.0001\n",
    "MINIBATCH_SIZE=128\n",
    "BATCH_SIZE=3000\n",
    "AUCTION_TYPE='first-price'\n",
    "LAMBDA=0.9\n",
    "CLIP_PARAM=0.1\n",
    "ENTROPY_COEFF=0"
   ]
  },
  {
   "cell_type": "code",
   "execution_count": null,
   "metadata": {
    "jupyter": {
     "source_hidden": true
    },
    "tags": []
   },
   "outputs": [],
   "source": [
    "df_results_preproc = process_data(learning_rate=LR, minibatch_size=MINIBATCH_SIZE, batch_size=BATCH_SIZE,\n",
    "                 auction_type=AUCTION_TYPE, lamda=LAMBDA, clip_param=CLIP_PARAM, \n",
    "                 entropy_coeff=ENTROPY_COEFF)"
   ]
  },
  {
   "cell_type": "code",
   "execution_count": null,
   "metadata": {
    "jupyter": {
     "source_hidden": true
    },
    "tags": []
   },
   "outputs": [],
   "source": [
    "# plot the results all in one figure\n",
    "# https://stackoverflow.com/a/55579762/7060068\n",
    "p = sns.lineplot(x='timesteps', y='mean social welfare', hue='algorithms', \n",
    "                 data=df_results_preproc)  # 2 actions (blue)\n",
    "p.axes.set_ylim(0)"
   ]
  },
  {
   "cell_type": "markdown",
   "metadata": {},
   "source": [
    "## 40 tasks, 5 actions, no-history, revenue as reward\n",
    "- lr=0.0001,sgd_minibatch_size=64,train_batch_size=3000, second-price auction"
   ]
  },
  {
   "cell_type": "code",
   "execution_count": null,
   "metadata": {
    "tags": []
   },
   "outputs": [],
   "source": [
    "# set some hyperparameters\n",
    "LR=0.0001\n",
    "MINIBATCH_SIZE=64\n",
    "BATCH_SIZE=3000\n",
    "AUCTION_TYPE='second-price'"
   ]
  },
  {
   "cell_type": "code",
   "execution_count": null,
   "metadata": {
    "jupyter": {
     "source_hidden": true
    },
    "tags": []
   },
   "outputs": [],
   "source": [
    "# get the dataframe of the results\n",
    "df_results = pd.DataFrame()\n",
    "results = []\n",
    "cntr=1\n",
    "for folder in dir_list:\n",
    "    params_path = f'{path}/{folder}/params.json'\n",
    "    file_path = f'{path}/{folder}/result.json'\n",
    "    try:\n",
    "        with open(params_path) as f:\n",
    "            params = json.load(f)\n",
    "    except NotADirectoryError:  # some \n",
    "        continue\n",
    "    if (params['lr']==LR and params['sgd_minibatch_size']== MINIBATCH_SIZE\n",
    "    and params['train_batch_size']==BATCH_SIZE and params['env_config']['auction_type']==AUCTION_TYPE):\n",
    "        cntr+=1\n",
    "        with open(file_path) as f:\n",
    "            # json.loads (and json.load) does not decode multiple json object. So load each line at a time.\n",
    "            # https://stackoverflow.com/a/29312618/7060068\n",
    "            for line in f:\n",
    "                data = json.loads(line)\n",
    "    #             print(data)\n",
    "    #             break\n",
    "                data_row = data['custom_metrics']\n",
    "\n",
    "        #         df = pd.DataFrame.from_dict(data, index=0)\n",
    "                # https://stackoverflow.com/a/17840195/7060068\n",
    "                df = pd.DataFrame(data_row, index=[data['timesteps_total']])\n",
    "                results.append(df)\n",
    "    else:\n",
    "        continue\n",
    "    \n",
    "\n",
    "df_results = pd.concat(results, axis=0)\n",
    "df_results.head()"
   ]
  },
  {
   "cell_type": "code",
   "execution_count": null,
   "metadata": {
    "jupyter": {
     "source_hidden": true
    },
    "tags": []
   },
   "outputs": [],
   "source": [
    "# process the results\n",
    "df_results = df_results[['Social Welfare (Online Myopic)_mean', 'Social Welfare (PPO)_mean', \n",
    "                         'Social Welfare (Random Allocation)_mean', 'Social Welfare (All Bidding Zero)_mean',\n",
    "                        'Social Welfare (Offline Optimal)_mean']]\n",
    "print(f\"number of trials = {cntr}\")\n",
    "print(f\"numbler of rows of the results: {len(df_results)}\")\n",
    "df_results.head()\n",
    "\n",
    "# make the number of timesteps as a new column\n",
    "# https://pandas.pydata.org/docs/reference/api/pandas.DataFrame.reset_index.html\n",
    "df_results_reset = df_results.copy()\n",
    "df_results_reset = df_results_reset.reset_index(col_fill='timesteps')\n",
    "\n",
    "# change the name of the first column from `index` to `timesteps`\n",
    "df_results_reset = df_results_reset.rename(columns={\"index\": \"timesteps\", \n",
    "                                                   \"Social Welfare (Online Myopic)_mean\": \"Online Myopic\",\n",
    "                                                   \"Social Welfare (PPO)_mean\": \"MARL (PPO)\",\n",
    "                                                   \"Social Welfare (Random Allocation)_mean\": \"Random Allocation\",\n",
    "                                                   \"Social Welfare (All Bidding Zero)_mean\": \"All Bidding Zero\",\n",
    "                                                   \"Social Welfare (Offline Optimal)_mean\": \"Offline Optimal\"}, errors='raise')\n",
    "\n",
    "df_results_reset.head()\n",
    "\n",
    "# make a dataframe for plotting several lines in one figure\n",
    "# https://stackoverflow.com/a/55579762/7060068\n",
    "\n",
    "df_results_preproc = pd.melt(df_results_reset, ['timesteps'], var_name='algorithms',\n",
    "                            value_name='mean social welfare')\n",
    "\n",
    "df_results_preproc.head()"
   ]
  },
  {
   "cell_type": "code",
   "execution_count": null,
   "metadata": {
    "jupyter": {
     "source_hidden": true
    },
    "tags": []
   },
   "outputs": [],
   "source": [
    "# plot the results all in one figure\n",
    "# https://stackoverflow.com/a/55579762/7060068\n",
    "p = sns.lineplot(x='timesteps', y='mean social welfare', hue='algorithms', \n",
    "                 data=df_results_preproc)  # 2 actions (blue)\n",
    "p.axes.set_ylim(0)"
   ]
  },
  {
   "cell_type": "markdown",
   "metadata": {},
   "source": [
    "## 40 tasks, 5 actions, no-history, revenue as reward\n",
    "- lr=0.001,sgd_minibatch_size=64,train_batch_size=3000, first-price auction"
   ]
  },
  {
   "cell_type": "code",
   "execution_count": null,
   "metadata": {
    "tags": []
   },
   "outputs": [],
   "source": [
    "# set some hyperparameters\n",
    "LR=0.001\n",
    "MINIBATCH_SIZE=64\n",
    "BATCH_SIZE=3000\n",
    "AUCTION_TYPE='first-price'"
   ]
  },
  {
   "cell_type": "code",
   "execution_count": null,
   "metadata": {
    "jupyter": {
     "source_hidden": true
    },
    "tags": []
   },
   "outputs": [],
   "source": [
    "# get the dataframe of the results\n",
    "df_results = pd.DataFrame()\n",
    "results = []\n",
    "cntr=1\n",
    "for folder in dir_list:\n",
    "    params_path = f'{path}/{folder}/params.json'\n",
    "    file_path = f'{path}/{folder}/result.json'\n",
    "    try:\n",
    "        with open(params_path) as f:\n",
    "            params = json.load(f)\n",
    "    except NotADirectoryError:  # some \n",
    "        continue\n",
    "    if (params['lr']==LR and params['sgd_minibatch_size']== MINIBATCH_SIZE\n",
    "    and params['train_batch_size']==BATCH_SIZE and params['env_config']['auction_type']==AUCTION_TYPE):\n",
    "        cntr+=1\n",
    "        with open(file_path) as f:\n",
    "            # json.loads (and json.load) does not decode multiple json object. So load each line at a time.\n",
    "            # https://stackoverflow.com/a/29312618/7060068\n",
    "            for line in f:\n",
    "                data = json.loads(line)\n",
    "    #             print(data)\n",
    "    #             break\n",
    "                data_row = data['custom_metrics']\n",
    "\n",
    "        #         df = pd.DataFrame.from_dict(data, index=0)\n",
    "                # https://stackoverflow.com/a/17840195/7060068\n",
    "                df = pd.DataFrame(data_row, index=[data['timesteps_total']])\n",
    "                results.append(df)\n",
    "    else:\n",
    "        continue\n",
    "    \n",
    "\n",
    "df_results = pd.concat(results, axis=0)\n",
    "# df_results.head()\n",
    "print(f\"number of trials = {cntr}\")\n",
    "print(f\"numbler of rows of the results: {len(df_results)}\")"
   ]
  },
  {
   "cell_type": "code",
   "execution_count": null,
   "metadata": {
    "jupyter": {
     "source_hidden": true
    },
    "tags": []
   },
   "outputs": [],
   "source": [
    "# process the results\n",
    "df_results = df_results[['Social Welfare (Online Myopic)_mean', 'Social Welfare (PPO)_mean', \n",
    "                         'Social Welfare (Random Allocation)_mean', 'Social Welfare (All Bidding Zero)_mean',\n",
    "                        'Social Welfare (Offline Optimal)_mean']]\n",
    "\n",
    "df_results.head()\n",
    "\n",
    "# make the number of timesteps as a new column\n",
    "# https://pandas.pydata.org/docs/reference/api/pandas.DataFrame.reset_index.html\n",
    "df_results_reset = df_results.copy()\n",
    "df_results_reset = df_results_reset.reset_index(col_fill='timesteps')\n",
    "\n",
    "# change the name of the first column from `index` to `timesteps`\n",
    "df_results_reset = df_results_reset.rename(columns={\"index\": \"timesteps\", \n",
    "                                                   \"Social Welfare (Online Myopic)_mean\": \"Online Myopic\",\n",
    "                                                   \"Social Welfare (PPO)_mean\": \"MARL (PPO)\",\n",
    "                                                   \"Social Welfare (Random Allocation)_mean\": \"Random Allocation\",\n",
    "                                                   \"Social Welfare (All Bidding Zero)_mean\": \"All Bidding Zero\",\n",
    "                                                   \"Social Welfare (Offline Optimal)_mean\": \"Offline Optimal\"}, errors='raise')\n",
    "\n",
    "df_results_reset.head()\n",
    "\n",
    "# make a dataframe for plotting several lines in one figure\n",
    "# https://stackoverflow.com/a/55579762/7060068\n",
    "\n",
    "df_results_preproc = pd.melt(df_results_reset, ['timesteps'], var_name='algorithms',\n",
    "                            value_name='mean social welfare')\n",
    "\n",
    "# df_results_preproc.head()"
   ]
  },
  {
   "cell_type": "code",
   "execution_count": null,
   "metadata": {
    "jupyter": {
     "source_hidden": true
    },
    "tags": []
   },
   "outputs": [],
   "source": [
    "# plot the results all in one figure\n",
    "# https://stackoverflow.com/a/55579762/7060068\n",
    "p = sns.lineplot(x='timesteps', y='mean social welfare', hue='algorithms', \n",
    "                 data=df_results_preproc)  # 2 actions (blue)\n",
    "p.axes.set_ylim(0)"
   ]
  },
  {
   "cell_type": "markdown",
   "metadata": {},
   "source": [
    "## 40 tasks, 5 actions, no-history, revenue as reward\n",
    "- lr=0.001,sgd_minibatch_size=64,train_batch_size=3000, second-price auction"
   ]
  },
  {
   "cell_type": "code",
   "execution_count": null,
   "metadata": {
    "tags": []
   },
   "outputs": [],
   "source": [
    "# set some hyperparameters\n",
    "LR=0.001\n",
    "MINIBATCH_SIZE=64\n",
    "BATCH_SIZE=3000\n",
    "AUCTION_TYPE='second-price'"
   ]
  },
  {
   "cell_type": "code",
   "execution_count": null,
   "metadata": {
    "jupyter": {
     "source_hidden": true
    },
    "tags": []
   },
   "outputs": [],
   "source": [
    "# get the dataframe of the results\n",
    "df_results = pd.DataFrame()\n",
    "results = []\n",
    "cntr=1\n",
    "for folder in dir_list:\n",
    "    params_path = f'{path}/{folder}/params.json'\n",
    "    file_path = f'{path}/{folder}/result.json'\n",
    "    try:\n",
    "        with open(params_path) as f:\n",
    "            params = json.load(f)\n",
    "    except NotADirectoryError:  # some \n",
    "        continue\n",
    "    if (params['lr']==LR and params['sgd_minibatch_size']== MINIBATCH_SIZE\n",
    "    and params['train_batch_size']==BATCH_SIZE and params['env_config']['auction_type']==AUCTION_TYPE):\n",
    "        cntr+=1\n",
    "        with open(file_path) as f:\n",
    "            # json.loads (and json.load) does not decode multiple json object. So load each line at a time.\n",
    "            # https://stackoverflow.com/a/29312618/7060068\n",
    "            for line in f:\n",
    "                data = json.loads(line)\n",
    "    #             print(data)\n",
    "    #             break\n",
    "                data_row = data['custom_metrics']\n",
    "\n",
    "        #         df = pd.DataFrame.from_dict(data, index=0)\n",
    "                # https://stackoverflow.com/a/17840195/7060068\n",
    "                df = pd.DataFrame(data_row, index=[data['timesteps_total']])\n",
    "                results.append(df)\n",
    "    else:\n",
    "        continue\n",
    "    \n",
    "\n",
    "df_results = pd.concat(results, axis=0)\n",
    "# df_results.head()\n",
    "print(f\"number of trials = {cntr}\")\n",
    "print(f\"numbler of rows of the results: {len(df_results)}\")"
   ]
  },
  {
   "cell_type": "code",
   "execution_count": null,
   "metadata": {
    "jupyter": {
     "source_hidden": true
    },
    "tags": []
   },
   "outputs": [],
   "source": [
    "# process the results\n",
    "df_results = df_results[['Social Welfare (Online Myopic)_mean', 'Social Welfare (PPO)_mean', \n",
    "                         'Social Welfare (Random Allocation)_mean', 'Social Welfare (All Bidding Zero)_mean',\n",
    "                        'Social Welfare (Offline Optimal)_mean']]\n",
    "\n",
    "df_results.head()\n",
    "\n",
    "# make the number of timesteps as a new column\n",
    "# https://pandas.pydata.org/docs/reference/api/pandas.DataFrame.reset_index.html\n",
    "df_results_reset = df_results.copy()\n",
    "df_results_reset = df_results_reset.reset_index(col_fill='timesteps')\n",
    "\n",
    "# change the name of the first column from `index` to `timesteps`\n",
    "df_results_reset = df_results_reset.rename(columns={\"index\": \"timesteps\", \n",
    "                                                   \"Social Welfare (Online Myopic)_mean\": \"Online Myopic\",\n",
    "                                                   \"Social Welfare (PPO)_mean\": \"MARL (PPO)\",\n",
    "                                                   \"Social Welfare (Random Allocation)_mean\": \"Random Allocation\",\n",
    "                                                   \"Social Welfare (All Bidding Zero)_mean\": \"All Bidding Zero\",\n",
    "                                                   \"Social Welfare (Offline Optimal)_mean\": \"Offline Optimal\"}, errors='raise')\n",
    "\n",
    "df_results_reset.head()\n",
    "\n",
    "# make a dataframe for plotting several lines in one figure\n",
    "# https://stackoverflow.com/a/55579762/7060068\n",
    "\n",
    "df_results_preproc = pd.melt(df_results_reset, ['timesteps'], var_name='algorithms',\n",
    "                            value_name='mean social welfare')\n",
    "\n",
    "# df_results_preproc.head()"
   ]
  },
  {
   "cell_type": "code",
   "execution_count": null,
   "metadata": {
    "jupyter": {
     "source_hidden": true
    },
    "tags": []
   },
   "outputs": [],
   "source": [
    "# plot the results all in one figure\n",
    "# https://stackoverflow.com/a/55579762/7060068\n",
    "p = sns.lineplot(x='timesteps', y='mean social welfare', hue='algorithms', \n",
    "                 data=df_results_preproc)  # 2 actions (blue)\n",
    "p.axes.set_ylim(0)"
   ]
  },
  {
   "cell_type": "markdown",
   "metadata": {},
   "source": [
    "## 40 tasks, 5 actions, no-history, revenue as reward\n",
    "- lr=0.0001,sgd_minibatch_size=128,train_batch_size=3000, first-price auction"
   ]
  },
  {
   "cell_type": "code",
   "execution_count": null,
   "metadata": {
    "tags": []
   },
   "outputs": [],
   "source": [
    "# set some hyperparameters\n",
    "LR=0.0001\n",
    "MINIBATCH_SIZE=128\n",
    "BATCH_SIZE=3000\n",
    "AUCTION_TYPE='first-price'"
   ]
  },
  {
   "cell_type": "code",
   "execution_count": null,
   "metadata": {
    "jupyter": {
     "source_hidden": true
    },
    "tags": []
   },
   "outputs": [],
   "source": [
    "# get the dataframe of the results\n",
    "df_results = pd.DataFrame()\n",
    "results = []\n",
    "cntr=1\n",
    "for folder in dir_list:\n",
    "    params_path = f'{path}/{folder}/params.json'\n",
    "    file_path = f'{path}/{folder}/result.json'\n",
    "    try:\n",
    "        with open(params_path) as f:\n",
    "            params = json.load(f)\n",
    "    except NotADirectoryError:  # some \n",
    "        continue\n",
    "    if (params['lr']==LR and params['sgd_minibatch_size']== MINIBATCH_SIZE\n",
    "    and params['train_batch_size']==BATCH_SIZE and params['env_config']['auction_type']==AUCTION_TYPE):\n",
    "        cntr+=1\n",
    "        with open(file_path) as f:\n",
    "            # json.loads (and json.load) does not decode multiple json object. So load each line at a time.\n",
    "            # https://stackoverflow.com/a/29312618/7060068\n",
    "            for line in f:\n",
    "                data = json.loads(line)\n",
    "    #             print(data)\n",
    "    #             break\n",
    "                data_row = data['custom_metrics']\n",
    "\n",
    "        #         df = pd.DataFrame.from_dict(data, index=0)\n",
    "                # https://stackoverflow.com/a/17840195/7060068\n",
    "                df = pd.DataFrame(data_row, index=[data['timesteps_total']])\n",
    "                results.append(df)\n",
    "    else:\n",
    "        continue\n",
    "    \n",
    "\n",
    "df_results = pd.concat(results, axis=0)\n",
    "# df_results.head()\n",
    "print(f\"number of trials = {cntr}\")\n",
    "print(f\"numbler of rows of the results: {len(df_results)}\")"
   ]
  },
  {
   "cell_type": "code",
   "execution_count": null,
   "metadata": {
    "jupyter": {
     "source_hidden": true
    },
    "tags": []
   },
   "outputs": [],
   "source": [
    "# process the results\n",
    "df_results = df_results[['Social Welfare (Online Myopic)_mean', 'Social Welfare (PPO)_mean', \n",
    "                         'Social Welfare (Random Allocation)_mean', 'Social Welfare (All Bidding Zero)_mean',\n",
    "                        'Social Welfare (Offline Optimal)_mean']]\n",
    "\n",
    "df_results.head()\n",
    "\n",
    "# make the number of timesteps as a new column\n",
    "# https://pandas.pydata.org/docs/reference/api/pandas.DataFrame.reset_index.html\n",
    "df_results_reset = df_results.copy()\n",
    "df_results_reset = df_results_reset.reset_index(col_fill='timesteps')\n",
    "\n",
    "# change the name of the first column from `index` to `timesteps`\n",
    "df_results_reset = df_results_reset.rename(columns={\"index\": \"timesteps\", \n",
    "                                                   \"Social Welfare (Online Myopic)_mean\": \"Online Myopic\",\n",
    "                                                   \"Social Welfare (PPO)_mean\": \"MARL (PPO)\",\n",
    "                                                   \"Social Welfare (Random Allocation)_mean\": \"Random Allocation\",\n",
    "                                                   \"Social Welfare (All Bidding Zero)_mean\": \"All Bidding Zero\",\n",
    "                                                   \"Social Welfare (Offline Optimal)_mean\": \"Offline Optimal\"}, errors='raise')\n",
    "\n",
    "df_results_reset.head()\n",
    "\n",
    "# make a dataframe for plotting several lines in one figure\n",
    "# https://stackoverflow.com/a/55579762/7060068\n",
    "\n",
    "df_results_preproc = pd.melt(df_results_reset, ['timesteps'], var_name='algorithms',\n",
    "                            value_name='mean social welfare')\n",
    "\n",
    "# df_results_preproc.head()"
   ]
  },
  {
   "cell_type": "code",
   "execution_count": null,
   "metadata": {
    "jupyter": {
     "source_hidden": true
    },
    "tags": []
   },
   "outputs": [],
   "source": [
    "# plot the results all in one figure\n",
    "# https://stackoverflow.com/a/55579762/7060068\n",
    "p = sns.lineplot(x='timesteps', y='mean social welfare', hue='algorithms', \n",
    "                 data=df_results_preproc)  # 2 actions (blue)\n",
    "p.axes.set_ylim(0)"
   ]
  },
  {
   "cell_type": "markdown",
   "metadata": {},
   "source": [
    "## 40 tasks, 5 actions, no-history, revenue as reward\n",
    "- lr=0.0001,sgd_minibatch_size=128,train_batch_size=3000, second-price auction"
   ]
  },
  {
   "cell_type": "code",
   "execution_count": null,
   "metadata": {
    "tags": []
   },
   "outputs": [],
   "source": [
    "# set some hyperparameters\n",
    "LR=0.0001\n",
    "MINIBATCH_SIZE=128\n",
    "BATCH_SIZE=3000\n",
    "AUCTION_TYPE='second-price'"
   ]
  },
  {
   "cell_type": "code",
   "execution_count": null,
   "metadata": {
    "jupyter": {
     "source_hidden": true
    },
    "tags": []
   },
   "outputs": [],
   "source": [
    "# get the dataframe of the results\n",
    "df_results = pd.DataFrame()\n",
    "results = []\n",
    "cntr=1\n",
    "for folder in dir_list:\n",
    "    params_path = f'{path}/{folder}/params.json'\n",
    "    file_path = f'{path}/{folder}/result.json'\n",
    "    try:\n",
    "        with open(params_path) as f:\n",
    "            params = json.load(f)\n",
    "    except NotADirectoryError:  # some \n",
    "        continue\n",
    "    if (params['lr']==LR and params['sgd_minibatch_size']== MINIBATCH_SIZE\n",
    "    and params['train_batch_size']==BATCH_SIZE and params['env_config']['auction_type']==AUCTION_TYPE):\n",
    "        cntr+=1\n",
    "        with open(file_path) as f:\n",
    "            # json.loads (and json.load) does not decode multiple json object. So load each line at a time.\n",
    "            # https://stackoverflow.com/a/29312618/7060068\n",
    "            for line in f:\n",
    "                data = json.loads(line)\n",
    "    #             print(data)\n",
    "    #             break\n",
    "                data_row = data['custom_metrics']\n",
    "\n",
    "        #         df = pd.DataFrame.from_dict(data, index=0)\n",
    "                # https://stackoverflow.com/a/17840195/7060068\n",
    "                df = pd.DataFrame(data_row, index=[data['timesteps_total']])\n",
    "                results.append(df)\n",
    "    else:\n",
    "        continue\n",
    "    \n",
    "\n",
    "df_results = pd.concat(results, axis=0)\n",
    "# df_results.head()\n",
    "print(f\"number of trials = {cntr}\")\n",
    "print(f\"numbler of rows of the results: {len(df_results)}\")"
   ]
  },
  {
   "cell_type": "code",
   "execution_count": null,
   "metadata": {
    "jupyter": {
     "source_hidden": true
    },
    "tags": []
   },
   "outputs": [],
   "source": [
    "# process the results\n",
    "df_results = df_results[['Social Welfare (Online Myopic)_mean', 'Social Welfare (PPO)_mean', \n",
    "                         'Social Welfare (Random Allocation)_mean', 'Social Welfare (All Bidding Zero)_mean',\n",
    "                        'Social Welfare (Offline Optimal)_mean']]\n",
    "\n",
    "df_results.head()\n",
    "\n",
    "# make the number of timesteps as a new column\n",
    "# https://pandas.pydata.org/docs/reference/api/pandas.DataFrame.reset_index.html\n",
    "df_results_reset = df_results.copy()\n",
    "df_results_reset = df_results_reset.reset_index(col_fill='timesteps')\n",
    "\n",
    "# change the name of the first column from `index` to `timesteps`\n",
    "df_results_reset = df_results_reset.rename(columns={\"index\": \"timesteps\", \n",
    "                                                   \"Social Welfare (Online Myopic)_mean\": \"Online Myopic\",\n",
    "                                                   \"Social Welfare (PPO)_mean\": \"MARL (PPO)\",\n",
    "                                                   \"Social Welfare (Random Allocation)_mean\": \"Random Allocation\",\n",
    "                                                   \"Social Welfare (All Bidding Zero)_mean\": \"All Bidding Zero\",\n",
    "                                                   \"Social Welfare (Offline Optimal)_mean\": \"Offline Optimal\"}, errors='raise')\n",
    "\n",
    "df_results_reset.head()\n",
    "\n",
    "# make a dataframe for plotting several lines in one figure\n",
    "# https://stackoverflow.com/a/55579762/7060068\n",
    "\n",
    "df_results_preproc = pd.melt(df_results_reset, ['timesteps'], var_name='algorithms',\n",
    "                            value_name='mean social welfare')\n",
    "\n",
    "# df_results_preproc.head()"
   ]
  },
  {
   "cell_type": "code",
   "execution_count": null,
   "metadata": {
    "tags": []
   },
   "outputs": [],
   "source": [
    "# plot the results all in one figure\n",
    "# https://stackoverflow.com/a/55579762/7060068\n",
    "p = sns.lineplot(x='timesteps', y='mean social welfare', hue='algorithms', \n",
    "                 data=df_results_preproc)  # 2 actions (blue)\n",
    "p.axes.set_ylim(0)"
   ]
  },
  {
   "cell_type": "markdown",
   "metadata": {},
   "source": [
    "## 40 tasks, 5 actions, no-history, revenue as reward\n",
    "- lr=0.0001,sgd_minibatch_size=128,train_batch_size=4000, first-price auction"
   ]
  },
  {
   "cell_type": "code",
   "execution_count": null,
   "metadata": {
    "tags": []
   },
   "outputs": [],
   "source": [
    "# set some hyperparameters\n",
    "LR=0.0001\n",
    "MINIBATCH_SIZE=128\n",
    "BATCH_SIZE=4000\n",
    "AUCTION_TYPE='first-price'"
   ]
  },
  {
   "cell_type": "code",
   "execution_count": null,
   "metadata": {
    "jupyter": {
     "source_hidden": true
    },
    "tags": []
   },
   "outputs": [],
   "source": [
    "# get the dataframe of the results\n",
    "df_results = pd.DataFrame()\n",
    "results = []\n",
    "cntr=1\n",
    "for folder in dir_list:\n",
    "    params_path = f'{path}/{folder}/params.json'\n",
    "    file_path = f'{path}/{folder}/result.json'\n",
    "    try:\n",
    "        with open(params_path) as f:\n",
    "            params = json.load(f)\n",
    "    except NotADirectoryError:  # some \n",
    "        continue\n",
    "    if (params['lr']==LR and params['sgd_minibatch_size']== MINIBATCH_SIZE\n",
    "    and params['train_batch_size']==BATCH_SIZE and params['env_config']['auction_type']==AUCTION_TYPE):\n",
    "        cntr+=1\n",
    "        with open(file_path) as f:\n",
    "            # json.loads (and json.load) does not decode multiple json object. So load each line at a time.\n",
    "            # https://stackoverflow.com/a/29312618/7060068\n",
    "            for line in f:\n",
    "                data = json.loads(line)\n",
    "    #             print(data)\n",
    "    #             break\n",
    "                data_row = data['custom_metrics']\n",
    "\n",
    "        #         df = pd.DataFrame.from_dict(data, index=0)\n",
    "                # https://stackoverflow.com/a/17840195/7060068\n",
    "                df = pd.DataFrame(data_row, index=[data['timesteps_total']])\n",
    "                results.append(df)\n",
    "    else:\n",
    "        continue\n",
    "    \n",
    "\n",
    "df_results = pd.concat(results, axis=0)\n",
    "# df_results.head()\n",
    "print(f\"number of trials = {cntr}\")\n",
    "print(f\"numbler of rows of the results: {len(df_results)}\")"
   ]
  },
  {
   "cell_type": "code",
   "execution_count": null,
   "metadata": {
    "jupyter": {
     "source_hidden": true
    },
    "tags": []
   },
   "outputs": [],
   "source": [
    "# process the results\n",
    "df_results = df_results[['Social Welfare (Online Myopic)_mean', 'Social Welfare (PPO)_mean', \n",
    "                         'Social Welfare (Random Allocation)_mean', 'Social Welfare (All Bidding Zero)_mean',\n",
    "                        'Social Welfare (Offline Optimal)_mean']]\n",
    "\n",
    "df_results.head()\n",
    "\n",
    "# make the number of timesteps as a new column\n",
    "# https://pandas.pydata.org/docs/reference/api/pandas.DataFrame.reset_index.html\n",
    "df_results_reset = df_results.copy()\n",
    "df_results_reset = df_results_reset.reset_index(col_fill='timesteps')\n",
    "\n",
    "# change the name of the first column from `index` to `timesteps`\n",
    "df_results_reset = df_results_reset.rename(columns={\"index\": \"timesteps\", \n",
    "                                                   \"Social Welfare (Online Myopic)_mean\": \"Online Myopic\",\n",
    "                                                   \"Social Welfare (PPO)_mean\": \"MARL (PPO)\",\n",
    "                                                   \"Social Welfare (Random Allocation)_mean\": \"Random Allocation\",\n",
    "                                                   \"Social Welfare (All Bidding Zero)_mean\": \"All Bidding Zero\",\n",
    "                                                   \"Social Welfare (Offline Optimal)_mean\": \"Offline Optimal\"}, errors='raise')\n",
    "\n",
    "df_results_reset.head()\n",
    "\n",
    "# make a dataframe for plotting several lines in one figure\n",
    "# https://stackoverflow.com/a/55579762/7060068\n",
    "\n",
    "df_results_preproc = pd.melt(df_results_reset, ['timesteps'], var_name='algorithms',\n",
    "                            value_name='mean social welfare')\n",
    "\n",
    "# df_results_preproc.head()"
   ]
  },
  {
   "cell_type": "code",
   "execution_count": null,
   "metadata": {
    "tags": []
   },
   "outputs": [],
   "source": [
    "# plot the results all in one figure\n",
    "# https://stackoverflow.com/a/55579762/7060068\n",
    "p = sns.lineplot(x='timesteps', y='mean social welfare', hue='algorithms', \n",
    "                 data=df_results_preproc)  # 2 actions (blue)\n",
    "p.axes.set_ylim(0)"
   ]
  },
  {
   "cell_type": "markdown",
   "metadata": {},
   "source": [
    "## 40 tasks, 5 actions, no-history, revenue as reward\n",
    "- lr=0.0001,sgd_minibatch_size=128,train_batch_size=4000, second-price auction"
   ]
  },
  {
   "cell_type": "code",
   "execution_count": null,
   "metadata": {
    "tags": []
   },
   "outputs": [],
   "source": [
    "# set some hyperparameters\n",
    "LR=0.0001\n",
    "MINIBATCH_SIZE=128\n",
    "BATCH_SIZE=4000\n",
    "AUCTION_TYPE='second-price'"
   ]
  },
  {
   "cell_type": "code",
   "execution_count": null,
   "metadata": {
    "jupyter": {
     "source_hidden": true
    },
    "tags": []
   },
   "outputs": [],
   "source": [
    "# get the dataframe of the results\n",
    "df_results = pd.DataFrame()\n",
    "results = []\n",
    "cntr=1\n",
    "for folder in dir_list:\n",
    "    params_path = f'{path}/{folder}/params.json'\n",
    "    file_path = f'{path}/{folder}/result.json'\n",
    "    try:\n",
    "        with open(params_path) as f:\n",
    "            params = json.load(f)\n",
    "    except NotADirectoryError:  # some \n",
    "        continue\n",
    "    if (params['lr']==LR and params['sgd_minibatch_size']== MINIBATCH_SIZE\n",
    "    and params['train_batch_size']==BATCH_SIZE and params['env_config']['auction_type']==AUCTION_TYPE):\n",
    "        cntr+=1\n",
    "        with open(file_path) as f:\n",
    "            # json.loads (and json.load) does not decode multiple json object. So load each line at a time.\n",
    "            # https://stackoverflow.com/a/29312618/7060068\n",
    "            for line in f:\n",
    "                data = json.loads(line)\n",
    "    #             print(data)\n",
    "    #             break\n",
    "                data_row = data['custom_metrics']\n",
    "\n",
    "        #         df = pd.DataFrame.from_dict(data, index=0)\n",
    "                # https://stackoverflow.com/a/17840195/7060068\n",
    "                df = pd.DataFrame(data_row, index=[data['timesteps_total']])\n",
    "                results.append(df)\n",
    "    else:\n",
    "        continue\n",
    "    \n",
    "\n",
    "df_results = pd.concat(results, axis=0)\n",
    "# df_results.head()\n",
    "print(f\"number of trials = {cntr}\")\n",
    "print(f\"numbler of rows of the results: {len(df_results)}\")"
   ]
  },
  {
   "cell_type": "code",
   "execution_count": null,
   "metadata": {
    "jupyter": {
     "source_hidden": true
    },
    "tags": []
   },
   "outputs": [],
   "source": [
    "# process the results\n",
    "df_results = df_results[['Social Welfare (Online Myopic)_mean', 'Social Welfare (PPO)_mean', \n",
    "                         'Social Welfare (Random Allocation)_mean', 'Social Welfare (All Bidding Zero)_mean',\n",
    "                        'Social Welfare (Offline Optimal)_mean']]\n",
    "\n",
    "df_results.head()\n",
    "\n",
    "# make the number of timesteps as a new column\n",
    "# https://pandas.pydata.org/docs/reference/api/pandas.DataFrame.reset_index.html\n",
    "df_results_reset = df_results.copy()\n",
    "df_results_reset = df_results_reset.reset_index(col_fill='timesteps')\n",
    "\n",
    "# change the name of the first column from `index` to `timesteps`\n",
    "df_results_reset = df_results_reset.rename(columns={\"index\": \"timesteps\", \n",
    "                                                   \"Social Welfare (Online Myopic)_mean\": \"Online Myopic\",\n",
    "                                                   \"Social Welfare (PPO)_mean\": \"MARL (PPO)\",\n",
    "                                                   \"Social Welfare (Random Allocation)_mean\": \"Random Allocation\",\n",
    "                                                   \"Social Welfare (All Bidding Zero)_mean\": \"All Bidding Zero\",\n",
    "                                                   \"Social Welfare (Offline Optimal)_mean\": \"Offline Optimal\"}, errors='raise')\n",
    "\n",
    "df_results_reset.head()\n",
    "\n",
    "# make a dataframe for plotting several lines in one figure\n",
    "# https://stackoverflow.com/a/55579762/7060068\n",
    "\n",
    "df_results_preproc = pd.melt(df_results_reset, ['timesteps'], var_name='algorithms',\n",
    "                            value_name='mean social welfare')\n",
    "\n",
    "# df_results_preproc.head()"
   ]
  },
  {
   "cell_type": "code",
   "execution_count": null,
   "metadata": {
    "tags": []
   },
   "outputs": [],
   "source": [
    "# plot the results all in one figure\n",
    "# https://stackoverflow.com/a/55579762/7060068\n",
    "p = sns.lineplot(x='timesteps', y='mean social welfare', hue='algorithms', \n",
    "                 data=df_results_preproc)  # 2 actions (blue)\n",
    "p.axes.set_ylim(0)"
   ]
  },
  {
   "cell_type": "code",
   "execution_count": null,
   "metadata": {},
   "outputs": [],
   "source": [
    "1/0"
   ]
  },
  {
   "cell_type": "markdown",
   "metadata": {},
   "source": [
    "## 40 tasks, 5 actions, first-price auction, no-history, revenue as reward\n",
    "- lr=0.0001,layers=[256, 256, 256],train_batch_size=3000"
   ]
  },
  {
   "cell_type": "code",
   "execution_count": null,
   "metadata": {
    "jupyter": {
     "source_hidden": true
    }
   },
   "outputs": [],
   "source": [
    "# get all names from the folder\n",
    "# https://stackoverflow.com/a/29206464/7060068\n",
    "import os\n",
    "\n",
    "path = '/Users/fan/OneDrive - University of Southampton/My-Projects/Edge-Cloud-Resource-Allocation/marl-edge-cloud/results/5-actions_first-price_no-history_revenue'\n",
    "dir_list = os.listdir(path)\n",
    "# print(dir_list)\n",
    "\n",
    "# read results in .json files\n",
    "import json\n",
    "\n",
    "hyperparamter_string = 'lr=0.0001,layers=[256, 256, 256],train_batch_size=3000_2021-12-10'\n",
    "\n",
    "df_results = pd.DataFrame()\n",
    "results = []\n",
    "cntr=1\n",
    "for folder in dir_list:\n",
    "    file_path = f'{path}/{folder}/result.json'\n",
    "    if hyperparamter_string not in file_path:  # only consider the specific hyperparameters combination \n",
    "        continue\n",
    "    if not os.path.isfile(file_path):  # jump over useless paths\n",
    "        continue\n",
    "    # load data using Python JSON module\n",
    "#     print(file_path)\n",
    "    cntr+=1\n",
    "    with open(file_path) as f:\n",
    "        # json.loads (and json.load) does not decode multiple json object. So load each line at a time.\n",
    "        # https://stackoverflow.com/a/29312618/7060068\n",
    "        for line in f:\n",
    "            data = json.loads(line)\n",
    "#             print(data)\n",
    "#             break\n",
    "            data_row = data['custom_metrics']\n",
    "\n",
    "    #         df = pd.DataFrame.from_dict(data, index=0)\n",
    "            # https://stackoverflow.com/a/17840195/7060068\n",
    "            df = pd.DataFrame(data_row, index=[data['timesteps_total']])\n",
    "            results.append(df)\n",
    "\n",
    "df_results = pd.concat(results, axis=0)\n",
    "df_results.head()\n",
    "\n",
    "df_results = df_results[['Social Welfare (Online Myopic)_mean', 'Social Welfare (PPO)_mean', \n",
    "                         'Social Welfare (Random Allocation)_mean', 'Social Welfare (All Bidding Zero)_mean',\n",
    "                        'Social Welfare (Offline Optimal)_mean']]\n",
    "print(f\"number of trials = {cntr}\")\n",
    "print(f\"numbler of rows of the results: {len(df_results)}\")\n",
    "df_results.head()\n",
    "\n",
    "# make the number of timesteps as a new column\n",
    "# https://pandas.pydata.org/docs/reference/api/pandas.DataFrame.reset_index.html\n",
    "df_results_reset = df_results.copy()\n",
    "df_results_reset = df_results_reset.reset_index(col_fill='timesteps')\n",
    "\n",
    "# change the name of the first column from `index` to `timesteps`\n",
    "df_results_reset = df_results_reset.rename(columns={\"index\": \"timesteps\", \n",
    "                                                   \"Social Welfare (Online Myopic)_mean\": \"Online Myopic\",\n",
    "                                                   \"Social Welfare (PPO)_mean\": \"MARL (PPO)\",\n",
    "                                                   \"Social Welfare (Random Allocation)_mean\": \"Random Allocation\",\n",
    "                                                   \"Social Welfare (All Bidding Zero)_mean\": \"All Bidding Zero\",\n",
    "                                                   \"Social Welfare (Offline Optimal)_mean\": \"Offline Optimal\"}, errors='raise')\n",
    "\n",
    "df_results_reset.head()\n",
    "\n",
    "# make a dataframe for plotting several lines in one figure\n",
    "# https://stackoverflow.com/a/55579762/7060068\n",
    "\n",
    "df_results_preproc = pd.melt(df_results_reset, ['timesteps'], var_name='algorithms',\n",
    "                            value_name='mean social welfare')\n",
    "\n",
    "df_results_preproc.head()"
   ]
  },
  {
   "cell_type": "code",
   "execution_count": null,
   "metadata": {
    "jupyter": {
     "source_hidden": true
    }
   },
   "outputs": [],
   "source": [
    "# plot the results all in one figure\n",
    "# https://stackoverflow.com/a/55579762/7060068\n",
    "p = sns.lineplot(x='timesteps', y='mean social welfare', hue='algorithms', \n",
    "                 data=df_results_preproc)  # 2 actions (blue)\n",
    "p.axes.set_ylim(0)"
   ]
  },
  {
   "cell_type": "markdown",
   "metadata": {},
   "source": [
    "## 40 tasks, 5 actions, first-price auction, no-history, revenue as reward\n",
    "- lr=0.001,layers=[256, 256],train_batch_size=3000"
   ]
  },
  {
   "cell_type": "code",
   "execution_count": null,
   "metadata": {
    "jupyter": {
     "source_hidden": true
    }
   },
   "outputs": [],
   "source": [
    "# get all names from the folder\n",
    "# https://stackoverflow.com/a/29206464/7060068\n",
    "import os\n",
    "\n",
    "path = '/Users/fan/OneDrive - University of Southampton/My-Projects/Edge-Cloud-Resource-Allocation/marl-edge-cloud/results/5-actions_first-price_no-history_revenue'\n",
    "dir_list = os.listdir(path)\n",
    "# print(dir_list)\n",
    "\n",
    "# read results in .json files\n",
    "import json\n",
    "\n",
    "hyperparamter_string = 'lr=0.001,layers=[256, 256],train_batch_size=3000_2021-12-10'\n",
    "\n",
    "df_results = pd.DataFrame()\n",
    "results = []\n",
    "cntr=1\n",
    "for folder in dir_list:\n",
    "    file_path = f'{path}/{folder}/result.json'\n",
    "    if hyperparamter_string not in file_path:  # only consider the specific hyperparameters combination \n",
    "        continue\n",
    "    if not os.path.isfile(file_path):  # jump over useless paths\n",
    "        continue\n",
    "    # load data using Python JSON module\n",
    "#     print(file_path)\n",
    "    cntr+=1\n",
    "    with open(file_path) as f:\n",
    "        # json.loads (and json.load) does not decode multiple json object. So load each line at a time.\n",
    "        # https://stackoverflow.com/a/29312618/7060068\n",
    "        for line in f:\n",
    "            data = json.loads(line)\n",
    "#             print(data)\n",
    "#             break\n",
    "            data_row = data['custom_metrics']\n",
    "\n",
    "    #         df = pd.DataFrame.from_dict(data, index=0)\n",
    "            # https://stackoverflow.com/a/17840195/7060068\n",
    "            df = pd.DataFrame(data_row, index=[data['timesteps_total']])\n",
    "            results.append(df)\n",
    "\n",
    "df_results = pd.concat(results, axis=0)\n",
    "df_results.head()\n",
    "\n",
    "df_results = df_results[['Social Welfare (Online Myopic)_mean', 'Social Welfare (PPO)_mean', \n",
    "                         'Social Welfare (Random Allocation)_mean', 'Social Welfare (All Bidding Zero)_mean',\n",
    "                        'Social Welfare (Offline Optimal)_mean']]\n",
    "print(f\"number of trials = {cntr}\")\n",
    "print(f\"numbler of rows of the results: {len(df_results)}\")\n",
    "df_results.head()\n",
    "\n",
    "# make the number of timesteps as a new column\n",
    "# https://pandas.pydata.org/docs/reference/api/pandas.DataFrame.reset_index.html\n",
    "df_results_reset = df_results.copy()\n",
    "df_results_reset = df_results_reset.reset_index(col_fill='timesteps')\n",
    "\n",
    "# change the name of the first column from `index` to `timesteps`\n",
    "df_results_reset = df_results_reset.rename(columns={\"index\": \"timesteps\", \n",
    "                                                   \"Social Welfare (Online Myopic)_mean\": \"Online Myopic\",\n",
    "                                                   \"Social Welfare (PPO)_mean\": \"MARL (PPO)\",\n",
    "                                                   \"Social Welfare (Random Allocation)_mean\": \"Random Allocation\",\n",
    "                                                   \"Social Welfare (All Bidding Zero)_mean\": \"All Bidding Zero\",\n",
    "                                                   \"Social Welfare (Offline Optimal)_mean\": \"Offline Optimal\"}, errors='raise')\n",
    "\n",
    "df_results_reset.head()\n",
    "\n",
    "# make a dataframe for plotting several lines in one figure\n",
    "# https://stackoverflow.com/a/55579762/7060068\n",
    "\n",
    "df_results_preproc = pd.melt(df_results_reset, ['timesteps'], var_name='algorithms',\n",
    "                            value_name='mean social welfare')\n",
    "\n",
    "df_results_preproc.head()"
   ]
  },
  {
   "cell_type": "code",
   "execution_count": null,
   "metadata": {
    "jupyter": {
     "source_hidden": true
    }
   },
   "outputs": [],
   "source": [
    "# plot the results all in one figure\n",
    "# https://stackoverflow.com/a/55579762/7060068\n",
    "p = sns.lineplot(x='timesteps', y='mean social welfare', hue='algorithms', \n",
    "                 data=df_results_preproc)  # 2 actions (blue)\n",
    "p.axes.set_ylim(0)"
   ]
  },
  {
   "cell_type": "markdown",
   "metadata": {},
   "source": [
    "## 40 tasks, 5 actions, first-price auction, with-history, revenue as reward\n",
    "- lr=0.0001,layers=[256, 256],train_batch_size=3000"
   ]
  },
  {
   "cell_type": "code",
   "execution_count": null,
   "metadata": {
    "jupyter": {
     "source_hidden": true
    }
   },
   "outputs": [],
   "source": [
    "# get all names from the folder\n",
    "# https://stackoverflow.com/a/29206464/7060068\n",
    "import os\n",
    "\n",
    "path = '/Users/fan/OneDrive - University of Southampton/My-Projects/Edge-Cloud-Resource-Allocation/marl-edge-cloud/results/5-actions_first-price_with-history_revenue'\n",
    "dir_list = os.listdir(path)\n",
    "# print(dir_list)\n",
    "\n",
    "# read results in .json files\n",
    "import json\n",
    "\n",
    "hyperparamter_string = 'lr=0.0001,layers=[256, 256],train_batch_size=3000_2021-12-10'\n",
    "\n",
    "df_results = pd.DataFrame()\n",
    "results = []\n",
    "cntr=1\n",
    "for folder in dir_list:\n",
    "    file_path = f'{path}/{folder}/result.json'\n",
    "    if hyperparamter_string not in file_path:  # only consider the specific hyperparameters combination \n",
    "        continue\n",
    "    if not os.path.isfile(file_path):  # jump over useless paths\n",
    "        continue\n",
    "    # load data using Python JSON module\n",
    "#     print(file_path)\n",
    "    cntr+=1\n",
    "    with open(file_path) as f:\n",
    "        # json.loads (and json.load) does not decode multiple json object. So load each line at a time.\n",
    "        # https://stackoverflow.com/a/29312618/7060068\n",
    "        for line in f:\n",
    "            data = json.loads(line)\n",
    "#             print(data)\n",
    "#             break\n",
    "            data_row = data['custom_metrics']\n",
    "\n",
    "    #         df = pd.DataFrame.from_dict(data, index=0)\n",
    "            # https://stackoverflow.com/a/17840195/7060068\n",
    "            df = pd.DataFrame(data_row, index=[data['timesteps_total']])\n",
    "            results.append(df)\n",
    "\n",
    "df_results = pd.concat(results, axis=0)\n",
    "df_results.head()\n",
    "\n",
    "df_results = df_results[['Social Welfare (Online Myopic)_mean', 'Social Welfare (PPO)_mean', \n",
    "                         'Social Welfare (Random Allocation)_mean', 'Social Welfare (All Bidding Zero)_mean',\n",
    "                        'Social Welfare (Offline Optimal)_mean']]\n",
    "print(f\"number of trials = {cntr}\")\n",
    "print(f\"numbler of rows of the results: {len(df_results)}\")\n",
    "df_results.head()\n",
    "\n",
    "# make the number of timesteps as a new column\n",
    "# https://pandas.pydata.org/docs/reference/api/pandas.DataFrame.reset_index.html\n",
    "df_results_reset = df_results.copy()\n",
    "df_results_reset = df_results_reset.reset_index(col_fill='timesteps')\n",
    "\n",
    "# change the name of the first column from `index` to `timesteps`\n",
    "df_results_reset = df_results_reset.rename(columns={\"index\": \"timesteps\", \n",
    "                                                   \"Social Welfare (Online Myopic)_mean\": \"Online Myopic\",\n",
    "                                                   \"Social Welfare (PPO)_mean\": \"MARL (PPO)\",\n",
    "                                                   \"Social Welfare (Random Allocation)_mean\": \"Random Allocation\",\n",
    "                                                   \"Social Welfare (All Bidding Zero)_mean\": \"All Bidding Zero\",\n",
    "                                                   \"Social Welfare (Offline Optimal)_mean\": \"Offline Optimal\"}, errors='raise')\n",
    "\n",
    "df_results_reset.head()\n",
    "\n",
    "# make a dataframe for plotting several lines in one figure\n",
    "# https://stackoverflow.com/a/55579762/7060068\n",
    "\n",
    "df_results_preproc = pd.melt(df_results_reset, ['timesteps'], var_name='algorithms',\n",
    "                            value_name='mean social welfare')\n",
    "\n",
    "df_results_preproc.head()"
   ]
  },
  {
   "cell_type": "code",
   "execution_count": null,
   "metadata": {
    "jupyter": {
     "source_hidden": true
    }
   },
   "outputs": [],
   "source": [
    "# plot the results all in one figure\n",
    "# https://stackoverflow.com/a/55579762/7060068\n",
    "p = sns.lineplot(x='timesteps', y='mean social welfare', hue='algorithms', \n",
    "                 data=df_results_preproc)  # 2 actions (blue)\n",
    "p.axes.set_ylim(0)"
   ]
  },
  {
   "cell_type": "markdown",
   "metadata": {},
   "source": [
    "## 40 tasks, 5 actions, first-price auction, with-history, revenue as reward\n",
    "- lr=0.0001,layers=[256, 256],train_batch_size=4000"
   ]
  },
  {
   "cell_type": "code",
   "execution_count": null,
   "metadata": {
    "jupyter": {
     "source_hidden": true
    }
   },
   "outputs": [],
   "source": [
    "# get all names from the folder\n",
    "# https://stackoverflow.com/a/29206464/7060068\n",
    "import os\n",
    "\n",
    "path = '/Users/fan/OneDrive - University of Southampton/My-Projects/Edge-Cloud-Resource-Allocation/marl-edge-cloud/results/5-actions_first-price_with-history_revenue'\n",
    "dir_list = os.listdir(path)\n",
    "# print(dir_list)\n",
    "\n",
    "# read results in .json files\n",
    "import json\n",
    "\n",
    "hyperparamter_string = 'lr=0.0001,layers=[256, 256],train_batch_size=4000_2021-12-10'\n",
    "\n",
    "df_results = pd.DataFrame()\n",
    "results = []\n",
    "cntr=1\n",
    "for folder in dir_list:\n",
    "    file_path = f'{path}/{folder}/result.json'\n",
    "    if hyperparamter_string not in file_path:  # only consider the specific hyperparameters combination \n",
    "        continue\n",
    "    if not os.path.isfile(file_path):  # jump over useless paths\n",
    "        continue\n",
    "    # load data using Python JSON module\n",
    "#     print(file_path)\n",
    "    cntr+=1\n",
    "    with open(file_path) as f:\n",
    "        # json.loads (and json.load) does not decode multiple json object. So load each line at a time.\n",
    "        # https://stackoverflow.com/a/29312618/7060068\n",
    "        for line in f:\n",
    "            data = json.loads(line)\n",
    "#             print(data)\n",
    "#             break\n",
    "            data_row = data['custom_metrics']\n",
    "\n",
    "    #         df = pd.DataFrame.from_dict(data, index=0)\n",
    "            # https://stackoverflow.com/a/17840195/7060068\n",
    "            df = pd.DataFrame(data_row, index=[data['timesteps_total']])\n",
    "            results.append(df)\n",
    "\n",
    "df_results = pd.concat(results, axis=0)\n",
    "df_results.head()\n",
    "\n",
    "df_results = df_results[['Social Welfare (Online Myopic)_mean', 'Social Welfare (PPO)_mean', \n",
    "                         'Social Welfare (Random Allocation)_mean', 'Social Welfare (All Bidding Zero)_mean',\n",
    "                        'Social Welfare (Offline Optimal)_mean']]\n",
    "print(f\"number of trials = {cntr}\")\n",
    "print(f\"numbler of rows of the results: {len(df_results)}\")\n",
    "df_results.head()\n",
    "\n",
    "# make the number of timesteps as a new column\n",
    "# https://pandas.pydata.org/docs/reference/api/pandas.DataFrame.reset_index.html\n",
    "df_results_reset = df_results.copy()\n",
    "df_results_reset = df_results_reset.reset_index(col_fill='timesteps')\n",
    "\n",
    "# change the name of the first column from `index` to `timesteps`\n",
    "df_results_reset = df_results_reset.rename(columns={\"index\": \"timesteps\", \n",
    "                                                   \"Social Welfare (Online Myopic)_mean\": \"Online Myopic\",\n",
    "                                                   \"Social Welfare (PPO)_mean\": \"MARL (PPO)\",\n",
    "                                                   \"Social Welfare (Random Allocation)_mean\": \"Random Allocation\",\n",
    "                                                   \"Social Welfare (All Bidding Zero)_mean\": \"All Bidding Zero\",\n",
    "                                                   \"Social Welfare (Offline Optimal)_mean\": \"Offline Optimal\"}, errors='raise')\n",
    "\n",
    "df_results_reset.head()\n",
    "\n",
    "# make a dataframe for plotting several lines in one figure\n",
    "# https://stackoverflow.com/a/55579762/7060068\n",
    "\n",
    "df_results_preproc = pd.melt(df_results_reset, ['timesteps'], var_name='algorithms',\n",
    "                            value_name='mean social welfare')\n",
    "\n",
    "df_results_preproc.head()"
   ]
  },
  {
   "cell_type": "code",
   "execution_count": null,
   "metadata": {
    "jupyter": {
     "source_hidden": true
    }
   },
   "outputs": [],
   "source": [
    "# plot the results all in one figure\n",
    "# https://stackoverflow.com/a/55579762/7060068\n",
    "p = sns.lineplot(x='timesteps', y='mean social welfare', hue='algorithms', \n",
    "                 data=df_results_preproc)  # 2 actions (blue)\n",
    "p.axes.set_ylim(0)"
   ]
  },
  {
   "cell_type": "markdown",
   "metadata": {},
   "source": [
    "## 40 tasks, 5 actions, second-price auction, no-history, revenue as reward\n",
    "- lr=0.0001,layers=[256, 256, 256],train_batch_size=3000"
   ]
  },
  {
   "cell_type": "code",
   "execution_count": null,
   "metadata": {
    "jupyter": {
     "source_hidden": true
    }
   },
   "outputs": [],
   "source": [
    "# get all names from the folder\n",
    "# https://stackoverflow.com/a/29206464/7060068\n",
    "import os\n",
    "\n",
    "path = '/Users/fan/OneDrive - University of Southampton/My-Projects/Edge-Cloud-Resource-Allocation/marl-edge-cloud/results/5-actions_second-price_no-history_revenue'\n",
    "dir_list = os.listdir(path)\n",
    "# print(dir_list)\n",
    "\n",
    "# read results in .json files\n",
    "import json\n",
    "\n",
    "hyperparamter_string = 'lr=0.0001,layers=[256, 256, 256],train_batch_size=3000_2021-12-10'\n",
    "\n",
    "df_results = pd.DataFrame()\n",
    "results = []\n",
    "cntr=1\n",
    "for folder in dir_list:\n",
    "    file_path = f'{path}/{folder}/result.json'\n",
    "    if hyperparamter_string not in file_path:  # only consider the specific hyperparameters combination \n",
    "        continue\n",
    "    if not os.path.isfile(file_path):  # jump over useless paths\n",
    "        continue\n",
    "    # load data using Python JSON module\n",
    "#     print(file_path)\n",
    "    cntr+=1\n",
    "    with open(file_path) as f:\n",
    "        # json.loads (and json.load) does not decode multiple json object. So load each line at a time.\n",
    "        # https://stackoverflow.com/a/29312618/7060068\n",
    "        for line in f:\n",
    "            data = json.loads(line)\n",
    "#             print(data)\n",
    "#             break\n",
    "            data_row = data['custom_metrics']\n",
    "\n",
    "    #         df = pd.DataFrame.from_dict(data, index=0)\n",
    "            # https://stackoverflow.com/a/17840195/7060068\n",
    "            df = pd.DataFrame(data_row, index=[data['timesteps_total']])\n",
    "            results.append(df)\n",
    "\n",
    "df_results = pd.concat(results, axis=0)\n",
    "df_results.head()\n",
    "\n",
    "df_results = df_results[['Social Welfare (Online Myopic)_mean', 'Social Welfare (PPO)_mean', \n",
    "                         'Social Welfare (Random Allocation)_mean', 'Social Welfare (All Bidding Zero)_mean',\n",
    "                        'Social Welfare (Offline Optimal)_mean']]\n",
    "print(f\"number of trials = {cntr}\")\n",
    "print(f\"numbler of rows of the results: {len(df_results)}\")\n",
    "df_results.head()\n",
    "\n",
    "# make the number of timesteps as a new column\n",
    "# https://pandas.pydata.org/docs/reference/api/pandas.DataFrame.reset_index.html\n",
    "df_results_reset = df_results.copy()\n",
    "df_results_reset = df_results_reset.reset_index(col_fill='timesteps')\n",
    "\n",
    "# change the name of the first column from `index` to `timesteps`\n",
    "df_results_reset = df_results_reset.rename(columns={\"index\": \"timesteps\", \n",
    "                                                   \"Social Welfare (Online Myopic)_mean\": \"Online Myopic\",\n",
    "                                                   \"Social Welfare (PPO)_mean\": \"MARL (PPO)\",\n",
    "                                                   \"Social Welfare (Random Allocation)_mean\": \"Random Allocation\",\n",
    "                                                   \"Social Welfare (All Bidding Zero)_mean\": \"All Bidding Zero\",\n",
    "                                                   \"Social Welfare (Offline Optimal)_mean\": \"Offline Optimal\"}, errors='raise')\n",
    "\n",
    "df_results_reset.head()\n",
    "\n",
    "# make a dataframe for plotting several lines in one figure\n",
    "# https://stackoverflow.com/a/55579762/7060068\n",
    "\n",
    "df_results_preproc = pd.melt(df_results_reset, ['timesteps'], var_name='algorithms',\n",
    "                            value_name='mean social welfare')\n",
    "\n",
    "df_results_preproc.head()"
   ]
  },
  {
   "cell_type": "code",
   "execution_count": null,
   "metadata": {
    "jupyter": {
     "source_hidden": true
    }
   },
   "outputs": [],
   "source": [
    "# plot the results all in one figure\n",
    "# https://stackoverflow.com/a/55579762/7060068\n",
    "p = sns.lineplot(x='timesteps', y='mean social welfare', hue='algorithms', \n",
    "                 data=df_results_preproc)  # 2 actions (blue)\n",
    "p.axes.set_ylim(0)"
   ]
  },
  {
   "cell_type": "code",
   "execution_count": null,
   "metadata": {},
   "outputs": [],
   "source": [
    "1/0"
   ]
  },
  {
   "cell_type": "code",
   "execution_count": null,
   "metadata": {
    "jupyter": {
     "source_hidden": true
    }
   },
   "outputs": [],
   "source": [
    "1/0"
   ]
  },
  {
   "cell_type": "markdown",
   "metadata": {},
   "source": [
    "## 40 tasks, 5 actions, second-price auction, no-history"
   ]
  },
  {
   "cell_type": "code",
   "execution_count": null,
   "metadata": {
    "jupyter": {
     "source_hidden": true
    }
   },
   "outputs": [],
   "source": [
    "# get all names from the folder\n",
    "# https://stackoverflow.com/a/29206464/7060068\n",
    "import os\n",
    "\n",
    "path = '/Users/fan/OneDrive - University of Southampton/My-Projects/Edge-Cloud-Resource-Allocation/marl-edge-cloud/results/5-actions_second-price_no-history_revenue'\n",
    "dir_list = os.listdir(path)\n",
    "# print(dir_list)"
   ]
  },
  {
   "cell_type": "code",
   "execution_count": null,
   "metadata": {
    "jupyter": {
     "source_hidden": true
    }
   },
   "outputs": [],
   "source": [
    "# read results in .json files\n",
    "import json\n",
    "\n",
    "hyperparamter_string = 'lr=0.0001,layers=[256, 256],train_batch_size=3000'\n",
    "\n",
    "df_results = pd.DataFrame()\n",
    "results = []\n",
    "for folder in dir_list:\n",
    "    file_path = f'{path}/{folder}/result.json'\n",
    "    if hyperparamter_string not in file_path:  # only consider the specific hyperparameters combination \n",
    "        continue\n",
    "    if not os.path.isfile(file_path):  # jump over useless paths\n",
    "        continue\n",
    "    # load data using Python JSON module\n",
    "#     print(file_path)\n",
    "    with open(file_path) as f:\n",
    "        # json.loads (and json.load) does not decode multiple json object. So load each line at a time.\n",
    "        # https://stackoverflow.com/a/29312618/7060068\n",
    "        for line in f:\n",
    "            data = json.loads(line)\n",
    "#             print(data)\n",
    "#             break\n",
    "            data_row = data['custom_metrics']\n",
    "\n",
    "    #         df = pd.DataFrame.from_dict(data, index=0)\n",
    "            # https://stackoverflow.com/a/17840195/7060068\n",
    "            df = pd.DataFrame(data_row, index=[data['timesteps_total']])\n",
    "            results.append(df)\n",
    "\n",
    "df_results = pd.concat(results, axis=0)\n",
    "df_results = df_results[['Social Welfare (Online Myopic)_mean', 'Social Welfare_mean', \n",
    "                         'Social Welfare (Random Allocation)_mean', 'Social Welfare (All Bidding Zero)_mean']]\n",
    "print(len(df_results))\n",
    "df_results.head(10)"
   ]
  },
  {
   "cell_type": "code",
   "execution_count": null,
   "metadata": {
    "jupyter": {
     "source_hidden": true
    }
   },
   "outputs": [],
   "source": [
    "# make the number of timesteps as a new column\n",
    "# https://pandas.pydata.org/docs/reference/api/pandas.DataFrame.reset_index.html\n",
    "df_results_reset = df_results.copy()\n",
    "df_results_reset = df_results_reset.reset_index(col_fill='timesteps')"
   ]
  },
  {
   "cell_type": "code",
   "execution_count": null,
   "metadata": {
    "jupyter": {
     "source_hidden": true
    }
   },
   "outputs": [],
   "source": [
    "# change the name of the first column from `index` to `timesteps`\n",
    "df_results_reset = df_results_reset.rename(columns={\"index\": \"timesteps\", \n",
    "                                                   \"Social Welfare (Online Myopic)_mean\": \"Online Myopic\",\n",
    "                                                   \"Social Welfare_mean\": \"MARL\",\n",
    "                                                   \"Social Welfare (Random Allocation)_mean\": \"Random Allocation\",\n",
    "                                                   \"Social Welfare (All Bidding Zero)_mean\": \"All Bidding Zero\"}, errors='raise')"
   ]
  },
  {
   "cell_type": "code",
   "execution_count": null,
   "metadata": {
    "jupyter": {
     "source_hidden": true
    }
   },
   "outputs": [],
   "source": [
    "df_results_reset.head()"
   ]
  },
  {
   "cell_type": "code",
   "execution_count": null,
   "metadata": {
    "jupyter": {
     "source_hidden": true
    }
   },
   "outputs": [],
   "source": [
    "# make a dataframe for plotting several lines in one figure\n",
    "# https://stackoverflow.com/a/55579762/7060068\n",
    "\n",
    "df_results_preproc = pd.melt(df_results_reset, ['timesteps'], var_name='algorithms',\n",
    "                            value_name='mean social welfare')"
   ]
  },
  {
   "cell_type": "code",
   "execution_count": null,
   "metadata": {
    "jupyter": {
     "source_hidden": true
    }
   },
   "outputs": [],
   "source": [
    "df_results_preproc.head()"
   ]
  },
  {
   "cell_type": "code",
   "execution_count": null,
   "metadata": {
    "jupyter": {
     "source_hidden": true
    }
   },
   "outputs": [],
   "source": [
    "# plot the results all in one figure\n",
    "# https://stackoverflow.com/a/55579762/7060068\n",
    "p = sns.lineplot(x='timesteps', y='mean social welfare', hue='algorithms', \n",
    "                 data=df_results_preproc)  # 2 actions (blue)\n",
    "p.axes.set_ylim(0)"
   ]
  },
  {
   "cell_type": "code",
   "execution_count": null,
   "metadata": {
    "jupyter": {
     "source_hidden": true
    }
   },
   "outputs": [],
   "source": [
    "1/0"
   ]
  },
  {
   "cell_type": "markdown",
   "metadata": {},
   "source": [
    "## 40 tasks, 5 actions, first-price auction, with-history"
   ]
  },
  {
   "cell_type": "code",
   "execution_count": null,
   "metadata": {
    "jupyter": {
     "source_hidden": true
    }
   },
   "outputs": [],
   "source": [
    "# get all names from the folder\n",
    "# https://stackoverflow.com/a/29206464/7060068\n",
    "import os\n",
    "\n",
    "path = '/Users/fan/OneDrive - University of Southampton/My-Projects/Edge-Cloud-Resource-Allocation/marl-edge-cloud/results/5-actions_first-price_with-history_revenue'\n",
    "dir_list = os.listdir(path)\n",
    "# print(dir_list)"
   ]
  },
  {
   "cell_type": "code",
   "execution_count": null,
   "metadata": {
    "jupyter": {
     "source_hidden": true
    }
   },
   "outputs": [],
   "source": [
    "# read results in .json files\n",
    "import json\n",
    "\n",
    "hyperparamter_string = 'lr=0.0001,layers=[256, 256],train_batch_size=3000'\n",
    "\n",
    "df_results = pd.DataFrame()\n",
    "results = []\n",
    "for folder in dir_list:\n",
    "    file_path = f'{path}/{folder}/result.json'\n",
    "    if hyperparamter_string not in file_path:  # only consider the specific hyperparameters combination \n",
    "        continue\n",
    "    if not os.path.isfile(file_path):  # jump over useless paths\n",
    "        continue\n",
    "    # load data using Python JSON module\n",
    "#     print(file_path)\n",
    "    with open(file_path) as f:\n",
    "        # json.loads (and json.load) does not decode multiple json object. So load each line at a time.\n",
    "        # https://stackoverflow.com/a/29312618/7060068\n",
    "        for line in f:\n",
    "            data = json.loads(line)\n",
    "#             print(data)\n",
    "#             break\n",
    "            data_row = data['custom_metrics']\n",
    "\n",
    "    #         df = pd.DataFrame.from_dict(data, index=0)\n",
    "            # https://stackoverflow.com/a/17840195/7060068\n",
    "            df = pd.DataFrame(data_row, index=[data['timesteps_total']])\n",
    "            results.append(df)\n",
    "\n",
    "df_results = pd.concat(results, axis=0)\n",
    "df_results = df_results[['Social Welfare (Online Myopic)_mean', 'Social Welfare_mean', \n",
    "                         'Social Welfare (Random Allocation)_mean', 'Social Welfare (All Bidding Zero)_mean']]\n",
    "print(len(df_results))\n",
    "df_results.head(10)"
   ]
  },
  {
   "cell_type": "code",
   "execution_count": null,
   "metadata": {
    "jupyter": {
     "source_hidden": true
    }
   },
   "outputs": [],
   "source": [
    "# make the number of timesteps as a new column\n",
    "# https://pandas.pydata.org/docs/reference/api/pandas.DataFrame.reset_index.html\n",
    "df_results_reset = df_results.copy()\n",
    "df_results_reset = df_results_reset.reset_index(col_fill='timesteps')"
   ]
  },
  {
   "cell_type": "code",
   "execution_count": null,
   "metadata": {
    "jupyter": {
     "source_hidden": true
    }
   },
   "outputs": [],
   "source": [
    "# change the name of the first column from `index` to `timesteps`\n",
    "df_results_reset = df_results_reset.rename(columns={\"index\": \"timesteps\", \n",
    "                                                   \"Social Welfare (Online Myopic)_mean\": \"Online Myopic\",\n",
    "                                                   \"Social Welfare_mean\": \"MARL\",\n",
    "                                                   \"Social Welfare (Random Allocation)_mean\": \"Random Allocation\",\n",
    "                                                   \"Social Welfare (All Bidding Zero)_mean\": \"All Bidding Zero\"}, errors='raise')"
   ]
  },
  {
   "cell_type": "code",
   "execution_count": null,
   "metadata": {
    "jupyter": {
     "source_hidden": true
    }
   },
   "outputs": [],
   "source": [
    "df_results_reset.head()"
   ]
  },
  {
   "cell_type": "code",
   "execution_count": null,
   "metadata": {
    "jupyter": {
     "source_hidden": true
    }
   },
   "outputs": [],
   "source": [
    "# make a dataframe for plotting several lines in one figure\n",
    "# https://stackoverflow.com/a/55579762/7060068\n",
    "\n",
    "df_results_preproc = pd.melt(df_results_reset, ['timesteps'], var_name='algorithms',\n",
    "                            value_name='mean social welfare')"
   ]
  },
  {
   "cell_type": "code",
   "execution_count": null,
   "metadata": {
    "jupyter": {
     "source_hidden": true
    }
   },
   "outputs": [],
   "source": [
    "df_results_preproc.head()"
   ]
  },
  {
   "cell_type": "code",
   "execution_count": null,
   "metadata": {
    "jupyter": {
     "source_hidden": true
    }
   },
   "outputs": [],
   "source": [
    "# plot the results all in one figure\n",
    "# https://stackoverflow.com/a/55579762/7060068\n",
    "p = sns.lineplot(x='timesteps', y='mean social welfare', hue='algorithms', \n",
    "                 data=df_results_preproc)  # 2 actions (blue)\n",
    "p.axes.set_ylim(0)"
   ]
  },
  {
   "cell_type": "code",
   "execution_count": null,
   "metadata": {
    "jupyter": {
     "source_hidden": true
    }
   },
   "outputs": [],
   "source": [
    "1/0"
   ]
  },
  {
   "cell_type": "markdown",
   "metadata": {},
   "source": [
    "### Online Myopic"
   ]
  },
  {
   "cell_type": "code",
   "execution_count": null,
   "metadata": {},
   "outputs": [],
   "source": [
    "# plot the confidence interval for the mean\n",
    "# https://stackoverflow.com/a/44941463/7060068\n",
    "\n",
    "p = sns.lineplot(x=df_results.index, y='Social Welfare (Online Myopic)_mean', data=df_results)  # 2 actions (blue)\n",
    "p.set_xlabel(\"Timesteps\", fontsize = 14)\n",
    "p.set_ylabel(\"Mean Social Welfare\", fontsize = 14)\n",
    "# https://stackoverflow.com/a/57101557/7060068\n",
    "p.axes.set_ylim(0)"
   ]
  },
  {
   "cell_type": "markdown",
   "metadata": {},
   "source": [
    "### All Bidding Zero"
   ]
  },
  {
   "cell_type": "code",
   "execution_count": null,
   "metadata": {},
   "outputs": [],
   "source": [
    "p = sns.lineplot(x=df_results.index, y='Social Welfare (All Bidding Zero)_mean', data=df_results)  # 2 actions (blue)\n",
    "p.set_xlabel(\"Timesteps\", fontsize = 14)\n",
    "p.set_ylabel(\"Mean Social Welfare\", fontsize = 14)\n",
    "p.axes.set_ylim(0)"
   ]
  },
  {
   "cell_type": "markdown",
   "metadata": {},
   "source": [
    "### MARL"
   ]
  },
  {
   "cell_type": "code",
   "execution_count": null,
   "metadata": {},
   "outputs": [],
   "source": [
    "p = sns.lineplot(x=df_results.index, y='Social Welfare_mean', data=df_results)  # 2 actions (blue)\n",
    "p.set_xlabel(\"Timesteps\", fontsize = 14)\n",
    "p.set_ylabel(\"Mean Social Welfare\", fontsize = 14)\n",
    "p.axes.set_ylim(0)"
   ]
  },
  {
   "cell_type": "markdown",
   "metadata": {},
   "source": [
    "### Random Allocation"
   ]
  },
  {
   "cell_type": "code",
   "execution_count": null,
   "metadata": {},
   "outputs": [],
   "source": [
    "p = sns.lineplot(x=df_results.index, y='Social Welfare (Random Allocation)_mean', data=df_results)  # 2 actions (blue)\n",
    "p.set_xlabel(\"Timesteps\", fontsize = 14)\n",
    "p.set_ylabel(\"Mean Social Welfare\", fontsize = 14)\n",
    "p.axes.set_ylim(0)"
   ]
  },
  {
   "cell_type": "code",
   "execution_count": null,
   "metadata": {},
   "outputs": [],
   "source": [
    "1/0"
   ]
  },
  {
   "cell_type": "markdown",
   "metadata": {},
   "source": [
    "## Use data from the progress.csv file."
   ]
  },
  {
   "cell_type": "code",
   "execution_count": null,
   "metadata": {},
   "outputs": [],
   "source": [
    "# load from file\n",
    "# https://thispointer.com/python-three-ways-to-check-if-a-file-is-empty/\n",
    "# concatenating df1 and df2 along rows\n",
    "# vertical_concat = pd.concat([df1, df2], axis=0)\n",
    "# https://www.geeksforgeeks.org/how-to-concatenate-two-or-more-pandas-dataframes/\n",
    "hyperparamter_string = 'lr=0.0001,train_batch_size=3000'\n",
    "df_results = pd.DataFrame()\n",
    "for folder in dir_list:\n",
    "    file_path = f'{path}/{folder}/progress.csv'\n",
    "    if not os.path.isfile(file_path):  # jump over useless paths\n",
    "        continue\n",
    "    if hyperparamter_string not in file_path:  # only consider the specific hyperparameters combination \n",
    "        continue\n",
    "    with open (file_path) as f:\n",
    "        if os.stat(file_path).st_size != 0:\n",
    "            df_f = pd.read_csv(f)\n",
    "            if df_results.empty:\n",
    "                df_results = df_f\n",
    "            else:\n",
    "                df_results = df_results.append(df_f, ignore_index = True)"
   ]
  },
  {
   "cell_type": "code",
   "execution_count": null,
   "metadata": {},
   "outputs": [],
   "source": [
    "print(len(df_results))\n",
    "df_results.head()"
   ]
  },
  {
   "cell_type": "code",
   "execution_count": null,
   "metadata": {},
   "outputs": [],
   "source": [
    "df_results1 = df_results"
   ]
  },
  {
   "cell_type": "code",
   "execution_count": null,
   "metadata": {},
   "outputs": [],
   "source": [
    "path = '/Users/fan/OneDrive - University of Southampton/My-Projects/Edge-Cloud-Resource-Allocation/marl-edge-cloud/results/edge_cloud_independent_ppo_with_history_2_actions'\n",
    "dir_list = os.listdir(path)\n",
    "hyperparamter_string = 'lr=0.0001,train_batch_size=3000'\n",
    "df_results = pd.DataFrame()\n",
    "for folder in dir_list:\n",
    "    file_path = f'{path}/{folder}/progress.csv'\n",
    "    if not os.path.isfile(file_path):  # jump over useless paths\n",
    "        continue\n",
    "    if hyperparamter_string not in file_path:  # only consider the specific hyperparameters combination \n",
    "        continue\n",
    "    with open (file_path) as f:\n",
    "        if os.stat(file_path).st_size != 0:\n",
    "            df_f = pd.read_csv(f)\n",
    "            if df_results.empty:\n",
    "                df_results = df_f\n",
    "            else:\n",
    "                df_results = df_results.append(df_f, ignore_index = True)"
   ]
  },
  {
   "cell_type": "code",
   "execution_count": null,
   "metadata": {},
   "outputs": [],
   "source": [
    "# plot the confidence interval for the mean\n",
    "# dont't have customised measurements in the progress.csv file, maybe we need to get data from the *.json file.\n",
    "sns.lineplot(x='timesteps_total',y='episode_reward_mean', data=df_results)  # 2 actions (blue)\n",
    "# sns.lineplot(x='timesteps_total',y='episode_reward_mean', data=df_results1)  # 5 actions (yellow)"
   ]
  },
  {
   "cell_type": "code",
   "execution_count": null,
   "metadata": {},
   "outputs": [],
   "source": [
    "# test if some file is missing\n",
    "oo = {}\n",
    "NoT = 40 # number of tasks in the whole time period\n",
    "NoS = 60 # number of samples\n",
    "for F in [8.0]:\n",
    "    for k in [0.35, 0.4, 0.45]:\n",
    "        for i in range(30,NoS):\n",
    "            f = open('simulation_results_ILP\\\\s2(sw)'\n",
    "                                                 +'_'+str(NoT)+'_'+str(k)+'_'+str(F)+'_'+str(i)+'.csv')\n",
    "           \n",
    "            f.close()"
   ]
  },
  {
   "cell_type": "code",
   "execution_count": null,
   "metadata": {},
   "outputs": [],
   "source": [
    "# print the value of the file\n",
    "NoT = 20 # number of tasks in the whole time period\n",
    "NoS = 23 # number of samples\n",
    "F = 8.0\n",
    "k = 0.35\n",
    "\n",
    "\n",
    "f = open('simulation_results_ILP\\\\fog(tm)'\n",
    "                                                 +'_'+str(NoT)+'_'+str(k)+'_'+str(F)+'_'+str(i)+'.csv')\n",
    "csv_f = csv.reader(f)\n",
    "for row in csv_f:\n",
    "    print(float(row[0]))\n",
    "f.close()"
   ]
  },
  {
   "cell_type": "code",
   "execution_count": null,
   "metadata": {},
   "outputs": [],
   "source": [
    "# get the data\n",
    "oo = {}\n",
    "NoT = 20 # number of tasks in the whole time period\n",
    "NoS = 100 # number of samples\n",
    "for F in [8.0]:\n",
    "    for k in [0.35, 0.4, 0.45]:\n",
    "        for i in range(NoS):\n",
    "            f = open('simulation_results_ILP\\\\oo(sw)'\n",
    "                                                 +'_'+str(NoT)+'_'+str(k)+'_'+str(F)+'_'+str(i)+'.csv')\n",
    "            csv_f = csv.reader(f)\n",
    "            for row in csv_f:\n",
    "                oo['sw', NoT, k, F, i] = float(row[0])\n",
    "            f.close()\n",
    "\n",
    "# s2 = {}\n",
    "# NoT = 20\n",
    "# NoS = 100 # number of samples\n",
    "# for F in [8.0]:\n",
    "#     for k in [0.35, 0.4, 0.45]:\n",
    "#         for i in range(1,NoS+1):\n",
    "#             f = open('simulation_results_ILP\\s2(sw)'\n",
    "#                                                  +'_'+str(NoT)+'_'+str(k)+'_'+str(F)+'_'+str(i)+'.csv')\n",
    "#             csv_f = csv.reader(f)\n",
    "#             for row in csv_f:\n",
    "#                 s2['sw', NoT, k, F, i] = float(row[0])\n",
    "#             f.close()\n",
    "\n",
    "og = {}\n",
    "NoT = 20\n",
    "NoS = 100 # number of samples\n",
    "for F in [8.0]:\n",
    "    for k in [0.35, 0.4, 0.45]:\n",
    "        for i in range(NoS):\n",
    "            f = open('simulation_results_ILP/og(sw)'\n",
    "                                                 +'_'+str(NoT)+'_'+str(k)+'_'+str(F)+'_'+str(i)+'.csv')\n",
    "            csv_f = csv.reader(f)\n",
    "            for row in csv_f:\n",
    "                og['sw', NoT, k, F, i] = float(row[0])\n",
    "            f.close()\n",
    "            \n",
    "fog = {}\n",
    "NoT = 20\n",
    "NoS = 100 # number of samples\n",
    "for F in [8.0]:\n",
    "    for k in [0.35, 0.4, 0.45]:\n",
    "        for i in range(NoS):\n",
    "            f = open('simulation_results_ILP/fog(sw)' \n",
    "                                                 +'_'+str(NoT)+'_'+str(k)+'_'+str(F)+'_'+str(i)+'.csv')\n",
    "            csv_f = csv.reader(f)\n",
    "            for row in csv_f:\n",
    "                fog['sw', NoT, k, F, i] = float(row[0])\n",
    "            f.close()"
   ]
  },
  {
   "cell_type": "code",
   "execution_count": null,
   "metadata": {},
   "outputs": [],
   "source": [
    "# whe F = 8 construct a dataframe\n",
    "d = {}\n",
    "F = 8.0\n",
    "NoT = 20\n",
    "\n",
    "for k in [0.35, 0.4, 0.45]:\n",
    "    d[k] = [oo['sw', NoT, k, F, i] for i in range(10)]\n",
    "result_oo = pd.DataFrame(data=d)\n",
    "# print(result_oo)\n",
    "# for k in [0.35, 0.4, 0.45]:\n",
    "#     d[k] = [s2['sw', NoT, k, F, i] for i in range(10)]\n",
    "# result_s2 = pd.DataFrame(data=d)\n",
    "\n",
    "# online greedy：\n",
    "for k in [0.35, 0.4, 0.45]:\n",
    "    d[k] = [og['sw', NoT, k, F, i] for i in range(10)]\n",
    "result_og = pd.DataFrame(data=d)\n",
    "\n",
    "# online greedy：\n",
    "for k in [0.35, 0.4, 0.45]:\n",
    "    d[k] = [fog['sw', NoT, k, F, i] for i in range(10)]\n",
    "result_fog = pd.DataFrame(data=d)"
   ]
  },
  {
   "cell_type": "code",
   "execution_count": null,
   "metadata": {},
   "outputs": [],
   "source": [
    "result_oo.head()\n",
    "result_fog.head()"
   ]
  },
  {
   "cell_type": "code",
   "execution_count": null,
   "metadata": {},
   "outputs": [],
   "source": [
    "mean_oo = result_oo.mean(axis = 0)\n",
    "# pd.DataFrame.std: Return sample standard deviation\n",
    "std_oo = result_oo.std(axis = 0)  \n",
    "\n",
    "mean_og = result_og.mean(axis = 0)\n",
    "# pd.DataFrame.std: Return sample standard deviation\n",
    "std_og = result_og.std(axis = 0)  \n",
    "\n",
    "mean_fog = result_fog.mean(axis = 0)\n",
    "# pd.DataFrame.std: Return sample standard deviation\n",
    "std_fog = result_fog.std(axis = 0)  "
   ]
  },
  {
   "cell_type": "code",
   "execution_count": null,
   "metadata": {},
   "outputs": [],
   "source": [
    "stats.t.ppf(1-0.025, NoS -1)"
   ]
  },
  {
   "cell_type": "code",
   "execution_count": null,
   "metadata": {},
   "outputs": [],
   "source": [
    "# Degrees of Freedom = n – 1, \n",
    "plt.errorbar(mean_oo.index, mean_oo, xerr = 0, \n",
    "             yerr = std_oo / np.sqrt(NoS) * stats.t.ppf(1-0.025, NoS -1), uplims =True, lolims = True)\n",
    "plt.errorbar(mean_og.index, mean_og, xerr = 0, \n",
    "             yerr = std_og / np.sqrt(NoS) * stats.t.ppf(1-0.025, NoS -1), uplims =True, lolims = True)\n",
    "plt.errorbar(mean_fog.index, mean_fog, xerr = 0, \n",
    "             yerr = std_fog / np.sqrt(NoS) * stats.t.ppf(1-0.025, NoS -1), uplims =True, lolims = True)\n",
    "\n",
    "# plt.errorbar(mean_sp.index, mean_sp, xerr = 0, yerr = std_sp * 2.024, uplims =True, lolims = True)\n",
    "# plt.errorbar(mean_ogwf.index, mean_ogwf, xerr = 0, yerr = std_ogwf * 2.201, uplims =True, lolims = True)\n",
    "\n",
    "# plt.legend(['offline optimal','online greedy','SWMOA', 'flexible online greedy'], loc = 'lower right')\n",
    "plt.legend(['offline optimal','online greedy','flexible online greedy'],\n",
    "           loc = 'lower right')\n",
    "plt.xlabel(\"resource coefficient\")\n",
    "plt.ylabel(\"social welfare\")\n",
    "\n",
    "# setting y axis limit\n",
    "axes = plt.gca()\n",
    "# axes.set_ylim([0,150])\n",
    "\n",
    "plt.show\n",
    "# plt.savefig('comparison of four algorithms.png')"
   ]
  },
  {
   "cell_type": "code",
   "execution_count": null,
   "metadata": {},
   "outputs": [],
   "source": [
    "figure = result_oo.boxplot(column = [0.1, 0.2, 0.3, 0.4, 0.5, 0.6], grid = False)\n",
    "figure"
   ]
  },
  {
   "cell_type": "code",
   "execution_count": null,
   "metadata": {},
   "outputs": [],
   "source": [
    "result_ogf = pd.read_csv(\"ogf.csv\", names =[0.1, 0.2, 0.3, 0.4, 0.5, 0.6])\n",
    "result_ogf"
   ]
  },
  {
   "cell_type": "code",
   "execution_count": null,
   "metadata": {},
   "outputs": [],
   "source": [
    "figure = result_ogf.boxplot(column = [0.1, 0.2, 0.3, 0.4, 0.5, 0.6], grid = False)\n",
    "figure"
   ]
  }
 ],
 "metadata": {
  "kernelspec": {
   "display_name": "Python 3",
   "language": "python",
   "name": "python3"
  },
  "language_info": {
   "codemirror_mode": {
    "name": "ipython",
    "version": 3
   },
   "file_extension": ".py",
   "mimetype": "text/x-python",
   "name": "python",
   "nbconvert_exporter": "python",
   "pygments_lexer": "ipython3",
   "version": "3.6.13"
  }
 },
 "nbformat": 4,
 "nbformat_minor": 4
}
