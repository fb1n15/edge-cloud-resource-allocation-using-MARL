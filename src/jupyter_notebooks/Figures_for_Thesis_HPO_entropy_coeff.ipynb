{
 "cells": [
  {
   "cell_type": "markdown",
   "metadata": {},
   "source": [
    "### To plot figures for the Thesis (HPO part)"
   ]
  },
  {
   "cell_type": "code",
   "execution_count": 7,
   "metadata": {
    "tags": []
   },
   "outputs": [],
   "source": [
    "import numpy as np\n",
    "import pandas as pd\n",
    "import matplotlib.pyplot as plt\n",
    "import csv\n",
    "from scipy import stats\n",
    "import seaborn as sns\n",
    "from pprint import pprint\n",
    "import os\n",
    "import json\n",
    "\n",
    "%matplotlib inline\n",
    "sns.set_style(\"whitegrid\")  # Proposed themes: darkgrid, whitegrid, dark, white, and ticks\n",
    "# https://stackoverflow.com/a/37347783/7060068\n",
    "pd.set_option('display.max_columns', None)  # or 1000\n",
    "pd.set_option('display.max_rows', None)  # or 1000"
   ]
  },
  {
   "cell_type": "code",
   "execution_count": 8,
   "metadata": {
    "tags": []
   },
   "outputs": [],
   "source": [
    "# Let’s change the default plot size so we have a better view of our line plots:\n",
    "fig_size = plt.rcParams[\"figure.figsize\"]\n",
    "fig_size[0] = 10\n",
    "fig_size[1] = 6\n",
    "plt.rcParams[\"figure.figsize\"] = fig_size"
   ]
  },
  {
   "cell_type": "markdown",
   "metadata": {},
   "source": [
    "## entropy coefficient"
   ]
  },
  {
   "cell_type": "code",
   "execution_count": 15,
   "metadata": {},
   "outputs": [],
   "source": [
    "# get all names from the folder\n",
    "# https://stackoverflow.com/a/29206464/7060068\n",
    "path = '/Users/fan/OneDrive - University of Southampton/My-Projects/Edge-Cloud-Resource-Allocation/marl-edge-cloud/results/Hyperparameter_Optimization__entropy_coeff'\n",
    "dir_list = os.listdir(path)"
   ]
  },
  {
   "cell_type": "code",
   "execution_count": 16,
   "metadata": {},
   "outputs": [
    {
     "name": "stdout",
     "output_type": "stream",
     "text": [
      "number of folders = 7\n"
     ]
    }
   ],
   "source": [
    "print(f\"number of folders = {len(dir_list)}\")"
   ]
  },
  {
   "cell_type": "code",
   "execution_count": 17,
   "metadata": {
    "tags": []
   },
   "outputs": [],
   "source": [
    "# get the dataframe of the results\n",
    "df_results = pd.DataFrame()\n",
    "results = []\n",
    "cntr=0  # counter of the number of trials that satisfy this hyperparameter combination\n",
    "for folder in dir_list:\n",
    "    params_path = f'{path}/{folder}/params.json'\n",
    "    file_path = f'{path}/{folder}/result.json'\n",
    "    try:\n",
    "#         print(params_path)\n",
    "        with open(params_path) as f:\n",
    "            params = json.load(f)\n",
    "    except Exception:  # some \n",
    "        continue\n",
    "    for entropy_coeff in [ 0, 0.01]:  # cooperative or not\n",
    "        cntr = 0\n",
    "        if params['entropy_coeff']== entropy_coeff:\n",
    "            cntr+=1\n",
    "            with open(file_path) as f:\n",
    "                # json.loads (and json.load) does not decode multiple json object. So load each line at a time.\n",
    "                # https://stackoverflow.com/a/29312618/7060068\n",
    "                for line in f:\n",
    "                    data = json.loads(line)\n",
    "    #                 print(data)\n",
    "        #             break\n",
    "                    data_row = data['custom_metrics']\n",
    "            #         df = pd.DataFrame.from_dict(data, index=0)\n",
    "                    # https://stackoverflow.com/a/17840195/7060068\n",
    "                    df = pd.DataFrame(data_row, index=[data['timesteps_total']])\n",
    "                    df['entropy coeff'] = entropy_coeff\n",
    "                    results.append(df)\n",
    "#         print(f\"depth = {depth}\")\n",
    "#         print(f\"number of trials = {cntr}\")\n",
    "#         print(f\"numbler of rows of the results: {len(results)}\")\n",
    "    else:\n",
    "        continue"
   ]
  },
  {
   "cell_type": "code",
   "execution_count": 18,
   "metadata": {},
   "outputs": [
    {
     "data": {
      "text/html": [
       "<div>\n",
       "<style scoped>\n",
       "    .dataframe tbody tr th:only-of-type {\n",
       "        vertical-align: middle;\n",
       "    }\n",
       "\n",
       "    .dataframe tbody tr th {\n",
       "        vertical-align: top;\n",
       "    }\n",
       "\n",
       "    .dataframe thead th {\n",
       "        text-align: right;\n",
       "    }\n",
       "</style>\n",
       "<table border=\"1\" class=\"dataframe\">\n",
       "  <thead>\n",
       "    <tr style=\"text-align: right;\">\n",
       "      <th></th>\n",
       "      <th>Social Welfare (PPO)_mean</th>\n",
       "      <th>entropy coeff</th>\n",
       "    </tr>\n",
       "  </thead>\n",
       "  <tbody>\n",
       "    <tr>\n",
       "      <th>3120</th>\n",
       "      <td>15285.972529</td>\n",
       "      <td>0.01</td>\n",
       "    </tr>\n",
       "    <tr>\n",
       "      <th>6240</th>\n",
       "      <td>14296.067554</td>\n",
       "      <td>0.01</td>\n",
       "    </tr>\n",
       "    <tr>\n",
       "      <th>9360</th>\n",
       "      <td>15677.634854</td>\n",
       "      <td>0.01</td>\n",
       "    </tr>\n",
       "    <tr>\n",
       "      <th>12480</th>\n",
       "      <td>16539.729250</td>\n",
       "      <td>0.01</td>\n",
       "    </tr>\n",
       "    <tr>\n",
       "      <th>15600</th>\n",
       "      <td>16193.360553</td>\n",
       "      <td>0.01</td>\n",
       "    </tr>\n",
       "  </tbody>\n",
       "</table>\n",
       "</div>"
      ],
      "text/plain": [
       "       Social Welfare (PPO)_mean  entropy coeff\n",
       "3120                15285.972529           0.01\n",
       "6240                14296.067554           0.01\n",
       "9360                15677.634854           0.01\n",
       "12480               16539.729250           0.01\n",
       "15600               16193.360553           0.01"
      ]
     },
     "execution_count": 18,
     "metadata": {},
     "output_type": "execute_result"
    }
   ],
   "source": [
    "df_results = pd.concat(results, axis=0)\n",
    "# process the results\n",
    "df_results = df_results[['Social Welfare (PPO)_mean', 'entropy coeff']]\n",
    "df_results.head()"
   ]
  },
  {
   "cell_type": "code",
   "execution_count": 19,
   "metadata": {},
   "outputs": [
    {
     "data": {
      "text/html": [
       "<div>\n",
       "<style scoped>\n",
       "    .dataframe tbody tr th:only-of-type {\n",
       "        vertical-align: middle;\n",
       "    }\n",
       "\n",
       "    .dataframe tbody tr th {\n",
       "        vertical-align: top;\n",
       "    }\n",
       "\n",
       "    .dataframe thead th {\n",
       "        text-align: right;\n",
       "    }\n",
       "</style>\n",
       "<table border=\"1\" class=\"dataframe\">\n",
       "  <thead>\n",
       "    <tr style=\"text-align: right;\">\n",
       "      <th></th>\n",
       "      <th>timesteps</th>\n",
       "      <th>mean social welfare</th>\n",
       "      <th>entropy coeff</th>\n",
       "    </tr>\n",
       "  </thead>\n",
       "  <tbody>\n",
       "    <tr>\n",
       "      <th>0</th>\n",
       "      <td>3120</td>\n",
       "      <td>15285.972529</td>\n",
       "      <td>0.01</td>\n",
       "    </tr>\n",
       "    <tr>\n",
       "      <th>1</th>\n",
       "      <td>6240</td>\n",
       "      <td>14296.067554</td>\n",
       "      <td>0.01</td>\n",
       "    </tr>\n",
       "    <tr>\n",
       "      <th>2</th>\n",
       "      <td>9360</td>\n",
       "      <td>15677.634854</td>\n",
       "      <td>0.01</td>\n",
       "    </tr>\n",
       "    <tr>\n",
       "      <th>3</th>\n",
       "      <td>12480</td>\n",
       "      <td>16539.729250</td>\n",
       "      <td>0.01</td>\n",
       "    </tr>\n",
       "    <tr>\n",
       "      <th>4</th>\n",
       "      <td>15600</td>\n",
       "      <td>16193.360553</td>\n",
       "      <td>0.01</td>\n",
       "    </tr>\n",
       "  </tbody>\n",
       "</table>\n",
       "</div>"
      ],
      "text/plain": [
       "   timesteps  mean social welfare  entropy coeff\n",
       "0       3120         15285.972529           0.01\n",
       "1       6240         14296.067554           0.01\n",
       "2       9360         15677.634854           0.01\n",
       "3      12480         16539.729250           0.01\n",
       "4      15600         16193.360553           0.01"
      ]
     },
     "execution_count": 19,
     "metadata": {},
     "output_type": "execute_result"
    }
   ],
   "source": [
    "# make the number of timesteps as a new column\n",
    "# https://pandas.pydata.org/docs/reference/api/pandas.DataFrame.reset_index.html\n",
    "df_results_reset = df_results.copy()\n",
    "df_results_reset = df_results_reset.reset_index(col_fill='timesteps')\n",
    "\n",
    "# change the name of the first column from `index` to `timesteps`\n",
    "df_results_reset = df_results_reset.rename(columns={\"index\": \"timesteps\", \n",
    "                                                   \"Social Welfare (PPO)_mean\": \"mean social welfare\"}, errors='raise')\n",
    "\n",
    "df_results_reset.head()"
   ]
  },
  {
   "cell_type": "code",
   "execution_count": 20,
   "metadata": {
    "tags": []
   },
   "outputs": [
    {
     "data": {
      "text/plain": [
       "(0.0, 23137.465738039788)"
      ]
     },
     "execution_count": 20,
     "metadata": {},
     "output_type": "execute_result"
    },
    {
     "data": {
      "image/png": "[encoded data removed]",
      "text/plain": [
       "<Figure size 720x432 with 1 Axes>"
      ]
     },
     "metadata": {},
     "output_type": "display_data"
    }
   ],
   "source": [
    "# plot the results all in one figure\n",
    "# https://stackoverflow.com/a/55579762/7060068\n",
    "p = sns.lineplot(x='timesteps', y='mean social welfare', hue='entropy coeff', \n",
    "                 style='entropy coeff', palette='bright',\n",
    "                 data=df_results_reset)  # 2 actions (blue)\n",
    "p.axes.set_ylim(0)"
   ]
  },
  {
   "cell_type": "code",
   "execution_count": 21,
   "metadata": {},
   "outputs": [],
   "source": [
    "# save the figure\n",
    "# https://www.delftstack.com/howto/seaborn/seaborn-save-figure/\n",
    "figure = p.get_figure()    \n",
    "figure.savefig('HPO_entropy_coeff.png', dpi = 1200)"
   ]
  },
  {
   "cell_type": "code",
   "execution_count": 22,
   "metadata": {},
   "outputs": [
    {
     "ename": "ZeroDivisionError",
     "evalue": "division by zero",
     "output_type": "error",
     "traceback": [
      "\u001b[0;31m---------------------------------------------------------------------------\u001b[0m",
      "\u001b[0;31mZeroDivisionError\u001b[0m                         Traceback (most recent call last)",
      "\u001b[0;32m<ipython-input-22-9e1622b385b6>\u001b[0m in \u001b[0;36m<module>\u001b[0;34m\u001b[0m\n\u001b[0;32m----> 1\u001b[0;31m \u001b[0;36m1\u001b[0m\u001b[0;34m/\u001b[0m\u001b[0;36m0\u001b[0m\u001b[0;34m\u001b[0m\u001b[0;34m\u001b[0m\u001b[0m\n\u001b[0m",
      "\u001b[0;31mZeroDivisionError\u001b[0m: division by zero"
     ]
    }
   ],
   "source": [
    "1/0"
   ]
  },
  {
   "cell_type": "markdown",
   "metadata": {},
   "source": [
    "## Different train batch size"
   ]
  },
  {
   "cell_type": "code",
   "execution_count": null,
   "metadata": {},
   "outputs": [],
   "source": [
    "# get all names from the folder\n",
    "# https://stackoverflow.com/a/29206464/7060068\n",
    "path = '/Users/fan/OneDrive - University of Southampton/My-Projects/Edge-Cloud-Resource-Allocation/marl-edge-cloud/results/Hyperparameter_Optimization__train_batch_size'\n",
    "dir_list = os.listdir(path)"
   ]
  },
  {
   "cell_type": "code",
   "execution_count": null,
   "metadata": {},
   "outputs": [],
   "source": [
    "print(f\"number of folders = {len(dir_list)}\")"
   ]
  },
  {
   "cell_type": "code",
   "execution_count": null,
   "metadata": {
    "tags": []
   },
   "outputs": [],
   "source": [
    "# get the dataframe of the results\n",
    "df_results = pd.DataFrame()\n",
    "results = []\n",
    "cntr=0  # counter of the number of trials that satisfy this hyperparameter combination\n",
    "for folder in dir_list:\n",
    "    params_path = f'{path}/{folder}/params.json'\n",
    "    file_path = f'{path}/{folder}/result.json'\n",
    "    try:\n",
    "#         print(params_path)\n",
    "        with open(params_path) as f:\n",
    "            params = json.load(f)\n",
    "    except Exception:  # some \n",
    "        continue\n",
    "    for train_batch_size in [1000, 2000, 3000, 4000, 5000]:  # number of hidden layers\n",
    "        cntr = 0\n",
    "        if params['train_batch_size']== train_batch_size:\n",
    "            cntr+=1\n",
    "            with open(file_path) as f:\n",
    "                # json.loads (and json.load) does not decode multiple json object. So load each line at a time.\n",
    "                # https://stackoverflow.com/a/29312618/7060068\n",
    "                for line in f:\n",
    "                    data = json.loads(line)\n",
    "    #                 print(data)\n",
    "        #             break\n",
    "                    data_row = data['custom_metrics']\n",
    "\n",
    "            #         df = pd.DataFrame.from_dict(data, index=0)\n",
    "                    # https://stackoverflow.com/a/17840195/7060068\n",
    "                    df = pd.DataFrame(data_row, index=[data['timesteps_total']])\n",
    "                    df['train_batch_size'] = train_batch_size\n",
    "#                     print(df)\n",
    "                    results.append(df)\n",
    "#         print(f\"train_batch_size = {train_batch_size}\")\n",
    "#         print(f\"number of trials = {cntr}\")\n",
    "#         print(f\"numbler of rows of the results: {len(results)}\")\n",
    "    else:\n",
    "        continue"
   ]
  },
  {
   "cell_type": "code",
   "execution_count": null,
   "metadata": {},
   "outputs": [],
   "source": [
    "df_results = pd.concat(results, axis=0)\n",
    "# process the results\n",
    "df_results = df_results[['Social Welfare (PPO)_mean', 'train_batch_size']]\n",
    "df_results.head()"
   ]
  },
  {
   "cell_type": "code",
   "execution_count": null,
   "metadata": {},
   "outputs": [],
   "source": [
    "# make the number of timesteps as a new column\n",
    "# https://pandas.pydata.org/docs/reference/api/pandas.DataFrame.reset_index.html\n",
    "df_results_reset = df_results.copy()\n",
    "df_results_reset = df_results_reset.reset_index(col_fill='timesteps')\n",
    "\n",
    "# change the name of the first column from `index` to `timesteps`\n",
    "df_results_reset = df_results_reset.rename(columns={\"index\": \"timesteps\", \n",
    "                                                   \"Social Welfare (PPO)_mean\": \"mean social welfare\"}, errors='raise')\n",
    "\n",
    "df_results_reset.head()"
   ]
  },
  {
   "cell_type": "code",
   "execution_count": null,
   "metadata": {
    "tags": []
   },
   "outputs": [],
   "source": [
    "# plot the results all in one figure\n",
    "# https://stackoverflow.com/a/55579762/7060068\n",
    "p = sns.lineplot(x='timesteps', y='mean social welfare', hue='train_batch_size', \n",
    "                 data=df_results_reset)  # 2 actions (blue)\n",
    "p.axes.set_ylim(0)"
   ]
  },
  {
   "cell_type": "code",
   "execution_count": null,
   "metadata": {},
   "outputs": [],
   "source": [
    "# save the figure\n",
    "figure = p.get_figure()    \n",
    "figure.savefig('HPO_train_batch_size.png', dpi = 1200)"
   ]
  },
  {
   "cell_type": "code",
   "execution_count": null,
   "metadata": {},
   "outputs": [],
   "source": []
  },
  {
   "cell_type": "markdown",
   "metadata": {},
   "source": [
    "## The function to process data for plotting"
   ]
  },
  {
   "cell_type": "code",
   "execution_count": null,
   "metadata": {
    "tags": []
   },
   "outputs": [],
   "source": [
    "def process_data(learning_rate, minibatch_size, batch_size,\n",
    "                 auction_type, lamda, clip_param, \n",
    "                 entropy_coeff):\n",
    "    # get the dataframe of the results\n",
    "    df_results = pd.DataFrame()\n",
    "    results = []\n",
    "    cntr=0  # counter of the number of trials that satisfy this hyperparameter combination\n",
    "    for folder in dir_list:\n",
    "        params_path = f'{path}/{folder}/params.json'\n",
    "        file_path = f'{path}/{folder}/result.json'\n",
    "        try:\n",
    "            with open(params_path) as f:\n",
    "                params = json.load(f)\n",
    "        except Exception:  # some \n",
    "            continue\n",
    "        try:\n",
    "            if (params['lr']==learning_rate and params['sgd_minibatch_size']== minibatch_size\n",
    "            and params['train_batch_size']==batch_size and \n",
    "                params['env_config']['auction_type']==auction_type and params['lambda']==lamda\n",
    "               and params['clip_param']==clip_param and params['entropy_coeff']==entropy_coeff):\n",
    "                cntr+=1\n",
    "                with open(file_path) as f:\n",
    "                    # json.loads (and json.load) does not decode multiple json object. So load each line at a time.\n",
    "                    # https://stackoverflow.com/a/29312618/7060068\n",
    "                    for line in f:\n",
    "                        data = json.loads(line)\n",
    "            #             print(data)\n",
    "            #             break\n",
    "                        data_row = data['custom_metrics']\n",
    "\n",
    "                #         df = pd.DataFrame.from_dict(data, index=0)\n",
    "                        # https://stackoverflow.com/a/17840195/7060068\n",
    "                        df = pd.DataFrame(data_row, index=[data['timesteps_total']])\n",
    "                        results.append(df)\n",
    "            else:\n",
    "                continue\n",
    "        except KeyError:\n",
    "            continue\n",
    "    \n",
    "    print(f\"number of trials = {cntr}\")\n",
    "    print(f\"numbler of rows of the results: {len(df_results)}\")\n",
    "\n",
    "    df_results = pd.concat(results, axis=0)\n",
    "\n",
    "    # process the results\n",
    "    df_results = df_results[['Social Welfare (Online Myopic)_mean', 'Social Welfare (PPO)_mean', \n",
    "                             'Social Welfare (Random Allocation)_mean', 'Social Welfare (All Bidding Zero)_mean',\n",
    "                            'Social Welfare (Offline Optimal)_mean']]\n",
    "    \n",
    "    # make the number of timesteps as a new column\n",
    "    # https://pandas.pydata.org/docs/reference/api/pandas.DataFrame.reset_index.html\n",
    "    df_results_reset = df_results.copy()\n",
    "    df_results_reset = df_results_reset.reset_index(col_fill='timesteps')\n",
    "\n",
    "    # change the name of the first column from `index` to `timesteps`\n",
    "    df_results_reset = df_results_reset.rename(columns={\"index\": \"timesteps\", \n",
    "                                                       \"Social Welfare (Online Myopic)_mean\": \"Online Myopic\",\n",
    "                                                       \"Social Welfare (PPO)_mean\": \"MARL (PPO)\",\n",
    "                                                       \"Social Welfare (Random Allocation)_mean\": \"Random Allocation\",\n",
    "                                                       \"Social Welfare (All Bidding Zero)_mean\": \"All Bidding Zero\",\n",
    "                                                       \"Social Welfare (Offline Optimal)_mean\": \"Offline Optimal\"}, errors='raise')\n",
    "\n",
    "    df_results_reset.head()\n",
    "\n",
    "    # make a dataframe for plotting several lines in one figure\n",
    "    # https://stackoverflow.com/a/55579762/7060068\n",
    "\n",
    "    df_results_preproc = pd.melt(df_results_reset, ['timesteps'], var_name='algorithms',\n",
    "                                value_name='mean social welfare')\n",
    "\n",
    "    return df_results_preproc"
   ]
  },
  {
   "cell_type": "markdown",
   "metadata": {},
   "source": [
    "## 40 tasks, 5 actions, no-history, revenue as reward"
   ]
  },
  {
   "cell_type": "code",
   "execution_count": null,
   "metadata": {
    "tags": []
   },
   "outputs": [],
   "source": [
    "# The values of the hyperparameters\n",
    "LR=0.0001\n",
    "MINIBATCH_SIZE=128\n",
    "BATCH_SIZE=3000\n",
    "AUCTION_TYPE='first-price'\n",
    "LAMBDA=0.95\n",
    "CLIP_PARAM=0.3\n",
    "ENTROPY_COEFF=0"
   ]
  },
  {
   "cell_type": "code",
   "execution_count": null,
   "metadata": {
    "tags": []
   },
   "outputs": [],
   "source": [
    "df_results_preproc = process_data(learning_rate=LR, minibatch_size=MINIBATCH_SIZE, batch_size=BATCH_SIZE,\n",
    "                 auction_type=AUCTION_TYPE, lamda=LAMBDA, clip_param=CLIP_PARAM, \n",
    "                 entropy_coeff=ENTROPY_COEFF)\n",
    "df_results_preproc.head()"
   ]
  },
  {
   "cell_type": "code",
   "execution_count": null,
   "metadata": {
    "tags": []
   },
   "outputs": [],
   "source": [
    "# plot the results all in one figure\n",
    "# https://stackoverflow.com/a/55579762/7060068\n",
    "p = sns.lineplot(x='timesteps', y='mean social welfare', hue='algorithms', \n",
    "                 data=df_results_preproc)  # 2 actions (blue)\n",
    "p.axes.set_ylim(0)"
   ]
  },
  {
   "cell_type": "code",
   "execution_count": null,
   "metadata": {},
   "outputs": [],
   "source": [
    "# Save the plot\n",
    "fig = p.get_figure()\n",
    "fig.savefig(\"figure1.png\")"
   ]
  },
  {
   "cell_type": "markdown",
   "metadata": {},
   "source": [
    "## 40 tasks, 5 actions, no-history, revenue as reward"
   ]
  },
  {
   "cell_type": "code",
   "execution_count": null,
   "metadata": {
    "tags": []
   },
   "outputs": [],
   "source": [
    "# The values of the hyperparameters\n",
    "LR=0.0001\n",
    "MINIBATCH_SIZE=128\n",
    "BATCH_SIZE=3000\n",
    "AUCTION_TYPE='first-price'\n",
    "LAMBDA=0.95\n",
    "CLIP_PARAM=0.1\n",
    "ENTROPY_COEFF=0"
   ]
  },
  {
   "cell_type": "code",
   "execution_count": null,
   "metadata": {
    "tags": []
   },
   "outputs": [],
   "source": [
    "df_results_preproc = process_data(learning_rate=LR, minibatch_size=MINIBATCH_SIZE, batch_size=BATCH_SIZE,\n",
    "                 auction_type=AUCTION_TYPE, lamda=LAMBDA, clip_param=CLIP_PARAM, \n",
    "                 entropy_coeff=ENTROPY_COEFF)"
   ]
  },
  {
   "cell_type": "code",
   "execution_count": null,
   "metadata": {
    "tags": []
   },
   "outputs": [],
   "source": [
    "# plot the results all in one figure\n",
    "# https://stackoverflow.com/a/55579762/7060068\n",
    "p = sns.lineplot(x='timesteps', y='mean social welfare', hue='algorithms', \n",
    "                 data=df_results_preproc)  # 2 actions (blue)\n",
    "p.axes.set_ylim(0)"
   ]
  },
  {
   "cell_type": "markdown",
   "metadata": {},
   "source": [
    "## 40 tasks, 5 actions, no-history, revenue as reward"
   ]
  },
  {
   "cell_type": "code",
   "execution_count": null,
   "metadata": {
    "tags": []
   },
   "outputs": [],
   "source": [
    "# The values of the hyperparameters\n",
    "LR=0.0001\n",
    "MINIBATCH_SIZE=128\n",
    "BATCH_SIZE=3000\n",
    "AUCTION_TYPE='first-price'\n",
    "LAMBDA=1\n",
    "CLIP_PARAM=0.1\n",
    "ENTROPY_COEFF=0"
   ]
  },
  {
   "cell_type": "code",
   "execution_count": null,
   "metadata": {
    "tags": []
   },
   "outputs": [],
   "source": [
    "df_results_preproc = process_data(learning_rate=LR, minibatch_size=MINIBATCH_SIZE, batch_size=BATCH_SIZE,\n",
    "                 auction_type=AUCTION_TYPE, lamda=LAMBDA, clip_param=CLIP_PARAM, \n",
    "                 entropy_coeff=ENTROPY_COEFF)"
   ]
  },
  {
   "cell_type": "code",
   "execution_count": null,
   "metadata": {
    "tags": []
   },
   "outputs": [],
   "source": [
    "# plot the results all in one figure\n",
    "# https://stackoverflow.com/a/55579762/7060068\n",
    "p = sns.lineplot(x='timesteps', y='mean social welfare', hue='algorithms', \n",
    "                 data=df_results_preproc)  # 2 actions (blue)\n",
    "p.axes.set_ylim(0)"
   ]
  },
  {
   "cell_type": "markdown",
   "metadata": {},
   "source": [
    "## 40 tasks, 5 actions, no-history, revenue as reward"
   ]
  },
  {
   "cell_type": "code",
   "execution_count": null,
   "metadata": {
    "tags": []
   },
   "outputs": [],
   "source": [
    "# The values of the hyperparameters\n",
    "LR=0.0001\n",
    "MINIBATCH_SIZE=128\n",
    "BATCH_SIZE=3000\n",
    "AUCTION_TYPE='first-price'\n",
    "LAMBDA=0.9\n",
    "CLIP_PARAM=0.2\n",
    "ENTROPY_COEFF=0"
   ]
  },
  {
   "cell_type": "code",
   "execution_count": null,
   "metadata": {
    "tags": []
   },
   "outputs": [],
   "source": [
    "df_results_preproc = process_data(learning_rate=LR, minibatch_size=MINIBATCH_SIZE, batch_size=BATCH_SIZE,\n",
    "                 auction_type=AUCTION_TYPE, lamda=LAMBDA, clip_param=CLIP_PARAM, \n",
    "                 entropy_coeff=ENTROPY_COEFF)"
   ]
  },
  {
   "cell_type": "code",
   "execution_count": null,
   "metadata": {
    "tags": []
   },
   "outputs": [],
   "source": [
    "# plot the results all in one figure\n",
    "# https://stackoverflow.com/a/55579762/7060068\n",
    "p = sns.lineplot(x='timesteps', y='mean social welfare', hue='algorithms', \n",
    "                 data=df_results_preproc)  # 2 actions (blue)\n",
    "p.axes.set_ylim(0)"
   ]
  },
  {
   "cell_type": "markdown",
   "metadata": {},
   "source": [
    "## 40 tasks, 5 actions, no-history, revenue as reward"
   ]
  },
  {
   "cell_type": "code",
   "execution_count": null,
   "metadata": {
    "tags": []
   },
   "outputs": [],
   "source": [
    "# The values of the hyperparameters\n",
    "LR=0.0001\n",
    "MINIBATCH_SIZE=128\n",
    "BATCH_SIZE=3000\n",
    "AUCTION_TYPE='first-price'\n",
    "LAMBDA=0.9\n",
    "CLIP_PARAM=0.3\n",
    "ENTROPY_COEFF=0"
   ]
  },
  {
   "cell_type": "code",
   "execution_count": null,
   "metadata": {
    "tags": []
   },
   "outputs": [],
   "source": [
    "df_results_preproc = process_data(learning_rate=LR, minibatch_size=MINIBATCH_SIZE, batch_size=BATCH_SIZE,\n",
    "                 auction_type=AUCTION_TYPE, lamda=LAMBDA, clip_param=CLIP_PARAM, \n",
    "                 entropy_coeff=ENTROPY_COEFF)"
   ]
  },
  {
   "cell_type": "code",
   "execution_count": null,
   "metadata": {
    "tags": []
   },
   "outputs": [],
   "source": [
    "# plot the results all in one figure\n",
    "# https://stackoverflow.com/a/55579762/7060068\n",
    "p = sns.lineplot(x='timesteps', y='mean social welfare', hue='algorithms', \n",
    "                 data=df_results_preproc)  # 2 actions (blue)\n",
    "p.axes.set_ylim(0)"
   ]
  },
  {
   "cell_type": "markdown",
   "metadata": {},
   "source": [
    "## 40 tasks, 5 actions, no-history, revenue as reward"
   ]
  },
  {
   "cell_type": "code",
   "execution_count": null,
   "metadata": {
    "tags": []
   },
   "outputs": [],
   "source": [
    "# The values of the hyperparameters\n",
    "LR=0.0001\n",
    "MINIBATCH_SIZE=128\n",
    "BATCH_SIZE=3000\n",
    "AUCTION_TYPE='first-price'\n",
    "LAMBDA=0.9\n",
    "CLIP_PARAM=0.3\n",
    "ENTROPY_COEFF=0.01"
   ]
  },
  {
   "cell_type": "code",
   "execution_count": null,
   "metadata": {
    "tags": []
   },
   "outputs": [],
   "source": [
    "df_results_preproc = process_data(learning_rate=LR, minibatch_size=MINIBATCH_SIZE, batch_size=BATCH_SIZE,\n",
    "                 auction_type=AUCTION_TYPE, lamda=LAMBDA, clip_param=CLIP_PARAM, \n",
    "                 entropy_coeff=ENTROPY_COEFF)"
   ]
  },
  {
   "cell_type": "code",
   "execution_count": null,
   "metadata": {
    "tags": []
   },
   "outputs": [],
   "source": [
    "# plot the results all in one figure\n",
    "# https://stackoverflow.com/a/55579762/7060068\n",
    "p = sns.lineplot(x='timesteps', y='mean social welfare', hue='algorithms', \n",
    "                 data=df_results_preproc)  # 2 actions (blue)\n",
    "p.axes.set_ylim(0)"
   ]
  },
  {
   "cell_type": "code",
   "execution_count": null,
   "metadata": {},
   "outputs": [],
   "source": [
    "1/0"
   ]
  },
  {
   "cell_type": "markdown",
   "metadata": {},
   "source": [
    "## 40 tasks, 5 actions, no-history, revenue as reward"
   ]
  },
  {
   "cell_type": "code",
   "execution_count": null,
   "metadata": {
    "tags": []
   },
   "outputs": [],
   "source": [
    "# The values of the hyperparameters\n",
    "LR=0.0001\n",
    "MINIBATCH_SIZE=128\n",
    "BATCH_SIZE=3000\n",
    "AUCTION_TYPE='first-price'\n",
    "LAMBDA=0.9\n",
    "CLIP_PARAM=0.1\n",
    "ENTROPY_COEFF=0"
   ]
  },
  {
   "cell_type": "code",
   "execution_count": null,
   "metadata": {
    "tags": []
   },
   "outputs": [],
   "source": [
    "df_results_preproc = process_data(learning_rate=LR, minibatch_size=MINIBATCH_SIZE, batch_size=BATCH_SIZE,\n",
    "                 auction_type=AUCTION_TYPE, lamda=LAMBDA, clip_param=CLIP_PARAM, \n",
    "                 entropy_coeff=ENTROPY_COEFF)"
   ]
  },
  {
   "cell_type": "code",
   "execution_count": null,
   "metadata": {
    "tags": []
   },
   "outputs": [],
   "source": [
    "# plot the results all in one figure\n",
    "# https://stackoverflow.com/a/55579762/7060068\n",
    "p = sns.lineplot(x='timesteps', y='mean social welfare', hue='algorithms', \n",
    "                 data=df_results_preproc)  # 2 actions (blue)\n",
    "p.axes.set_ylim(0)"
   ]
  },
  {
   "cell_type": "markdown",
   "metadata": {},
   "source": [
    "## 40 tasks, 5 actions, no-history, revenue as reward"
   ]
  },
  {
   "cell_type": "code",
   "execution_count": null,
   "metadata": {
    "tags": []
   },
   "outputs": [],
   "source": [
    "# The values of the hyperparameters\n",
    "LR=0.0001\n",
    "MINIBATCH_SIZE=128\n",
    "BATCH_SIZE=3000\n",
    "AUCTION_TYPE='first-price'\n",
    "LAMBDA=0.9\n",
    "CLIP_PARAM=0.1\n",
    "ENTROPY_COEFF=0"
   ]
  },
  {
   "cell_type": "code",
   "execution_count": null,
   "metadata": {
    "tags": []
   },
   "outputs": [],
   "source": [
    "df_results_preproc = process_data(learning_rate=LR, minibatch_size=MINIBATCH_SIZE, batch_size=BATCH_SIZE,\n",
    "                 auction_type=AUCTION_TYPE, lamda=LAMBDA, clip_param=CLIP_PARAM, \n",
    "                 entropy_coeff=ENTROPY_COEFF)"
   ]
  },
  {
   "cell_type": "code",
   "execution_count": null,
   "metadata": {
    "tags": []
   },
   "outputs": [],
   "source": [
    "# plot the results all in one figure\n",
    "# https://stackoverflow.com/a/55579762/7060068\n",
    "p = sns.lineplot(x='timesteps', y='mean social welfare', hue='algorithms', \n",
    "                 data=df_results_preproc)  # 2 actions (blue)\n",
    "p.axes.set_ylim(0)"
   ]
  },
  {
   "cell_type": "markdown",
   "metadata": {},
   "source": [
    "## 40 tasks, 5 actions, no-history, revenue as reward"
   ]
  },
  {
   "cell_type": "code",
   "execution_count": null,
   "metadata": {
    "tags": []
   },
   "outputs": [],
   "source": [
    "# The values of the hyperparameters\n",
    "LR=0.0001\n",
    "MINIBATCH_SIZE=128\n",
    "BATCH_SIZE=3000\n",
    "AUCTION_TYPE='first-price'\n",
    "LAMBDA=0.9\n",
    "CLIP_PARAM=0.1\n",
    "ENTROPY_COEFF=0"
   ]
  },
  {
   "cell_type": "code",
   "execution_count": null,
   "metadata": {
    "tags": []
   },
   "outputs": [],
   "source": [
    "df_results_preproc = process_data(learning_rate=LR, minibatch_size=MINIBATCH_SIZE, batch_size=BATCH_SIZE,\n",
    "                 auction_type=AUCTION_TYPE, lamda=LAMBDA, clip_param=CLIP_PARAM, \n",
    "                 entropy_coeff=ENTROPY_COEFF)"
   ]
  },
  {
   "cell_type": "code",
   "execution_count": null,
   "metadata": {
    "tags": []
   },
   "outputs": [],
   "source": [
    "# plot the results all in one figure\n",
    "# https://stackoverflow.com/a/55579762/7060068\n",
    "p = sns.lineplot(x='timesteps', y='mean social welfare', hue='algorithms', \n",
    "                 data=df_results_preproc)  # 2 actions (blue)\n",
    "p.axes.set_ylim(0)"
   ]
  },
  {
   "cell_type": "markdown",
   "metadata": {},
   "source": [
    "## 40 tasks, 5 actions, no-history, revenue as reward"
   ]
  },
  {
   "cell_type": "code",
   "execution_count": null,
   "metadata": {
    "tags": []
   },
   "outputs": [],
   "source": [
    "# The values of the hyperparameters\n",
    "LR=0.0001\n",
    "MINIBATCH_SIZE=128\n",
    "BATCH_SIZE=3000\n",
    "AUCTION_TYPE='first-price'\n",
    "LAMBDA=0.9\n",
    "CLIP_PARAM=0.1\n",
    "ENTROPY_COEFF=0"
   ]
  },
  {
   "cell_type": "code",
   "execution_count": null,
   "metadata": {
    "tags": []
   },
   "outputs": [],
   "source": [
    "df_results_preproc = process_data(learning_rate=LR, minibatch_size=MINIBATCH_SIZE, batch_size=BATCH_SIZE,\n",
    "                 auction_type=AUCTION_TYPE, lamda=LAMBDA, clip_param=CLIP_PARAM, \n",
    "                 entropy_coeff=ENTROPY_COEFF)"
   ]
  },
  {
   "cell_type": "code",
   "execution_count": null,
   "metadata": {
    "tags": []
   },
   "outputs": [],
   "source": [
    "# plot the results all in one figure\n",
    "# https://stackoverflow.com/a/55579762/7060068\n",
    "p = sns.lineplot(x='timesteps', y='mean social welfare', hue='algorithms', \n",
    "                 data=df_results_preproc)  # 2 actions (blue)\n",
    "p.axes.set_ylim(0)"
   ]
  },
  {
   "cell_type": "markdown",
   "metadata": {},
   "source": [
    "## 40 tasks, 5 actions, no-history, revenue as reward"
   ]
  },
  {
   "cell_type": "code",
   "execution_count": null,
   "metadata": {
    "tags": []
   },
   "outputs": [],
   "source": [
    "# The values of the hyperparameters\n",
    "LR=0.0001\n",
    "MINIBATCH_SIZE=128\n",
    "BATCH_SIZE=3000\n",
    "AUCTION_TYPE='first-price'\n",
    "LAMBDA=0.9\n",
    "CLIP_PARAM=0.1\n",
    "ENTROPY_COEFF=0"
   ]
  },
  {
   "cell_type": "code",
   "execution_count": null,
   "metadata": {
    "tags": []
   },
   "outputs": [],
   "source": [
    "df_results_preproc = process_data(learning_rate=LR, minibatch_size=MINIBATCH_SIZE, batch_size=BATCH_SIZE,\n",
    "                 auction_type=AUCTION_TYPE, lamda=LAMBDA, clip_param=CLIP_PARAM, \n",
    "                 entropy_coeff=ENTROPY_COEFF)"
   ]
  },
  {
   "cell_type": "code",
   "execution_count": null,
   "metadata": {
    "tags": []
   },
   "outputs": [],
   "source": [
    "# plot the results all in one figure\n",
    "# https://stackoverflow.com/a/55579762/7060068\n",
    "p = sns.lineplot(x='timesteps', y='mean social welfare', hue='algorithms', \n",
    "                 data=df_results_preproc)  # 2 actions (blue)\n",
    "p.axes.set_ylim(0)"
   ]
  },
  {
   "cell_type": "markdown",
   "metadata": {},
   "source": [
    "## 40 tasks, 5 actions, no-history, revenue as reward"
   ]
  },
  {
   "cell_type": "code",
   "execution_count": null,
   "metadata": {
    "tags": []
   },
   "outputs": [],
   "source": [
    "# The values of the hyperparameters\n",
    "LR=0.0001\n",
    "MINIBATCH_SIZE=128\n",
    "BATCH_SIZE=3000\n",
    "AUCTION_TYPE='first-price'\n",
    "LAMBDA=0.9\n",
    "CLIP_PARAM=0.1\n",
    "ENTROPY_COEFF=0"
   ]
  },
  {
   "cell_type": "code",
   "execution_count": null,
   "metadata": {
    "tags": []
   },
   "outputs": [],
   "source": [
    "df_results_preproc = process_data(learning_rate=LR, minibatch_size=MINIBATCH_SIZE, batch_size=BATCH_SIZE,\n",
    "                 auction_type=AUCTION_TYPE, lamda=LAMBDA, clip_param=CLIP_PARAM, \n",
    "                 entropy_coeff=ENTROPY_COEFF)"
   ]
  },
  {
   "cell_type": "code",
   "execution_count": null,
   "metadata": {
    "tags": []
   },
   "outputs": [],
   "source": [
    "# plot the results all in one figure\n",
    "# https://stackoverflow.com/a/55579762/7060068\n",
    "p = sns.lineplot(x='timesteps', y='mean social welfare', hue='algorithms', \n",
    "                 data=df_results_preproc)  # 2 actions (blue)\n",
    "p.axes.set_ylim(0)"
   ]
  },
  {
   "cell_type": "markdown",
   "metadata": {},
   "source": [
    "## 40 tasks, 5 actions, no-history, revenue as reward"
   ]
  },
  {
   "cell_type": "code",
   "execution_count": null,
   "metadata": {
    "tags": []
   },
   "outputs": [],
   "source": [
    "# The values of the hyperparameters\n",
    "LR=0.0001\n",
    "MINIBATCH_SIZE=128\n",
    "BATCH_SIZE=3000\n",
    "AUCTION_TYPE='first-price'\n",
    "LAMBDA=0.9\n",
    "CLIP_PARAM=0.1\n",
    "ENTROPY_COEFF=0"
   ]
  },
  {
   "cell_type": "code",
   "execution_count": null,
   "metadata": {
    "tags": []
   },
   "outputs": [],
   "source": [
    "df_results_preproc = process_data(learning_rate=LR, minibatch_size=MINIBATCH_SIZE, batch_size=BATCH_SIZE,\n",
    "                 auction_type=AUCTION_TYPE, lamda=LAMBDA, clip_param=CLIP_PARAM, \n",
    "                 entropy_coeff=ENTROPY_COEFF)"
   ]
  },
  {
   "cell_type": "code",
   "execution_count": null,
   "metadata": {
    "tags": []
   },
   "outputs": [],
   "source": [
    "# plot the results all in one figure\n",
    "# https://stackoverflow.com/a/55579762/7060068\n",
    "p = sns.lineplot(x='timesteps', y='mean social welfare', hue='algorithms', \n",
    "                 data=df_results_preproc)  # 2 actions (blue)\n",
    "p.axes.set_ylim(0)"
   ]
  },
  {
   "cell_type": "markdown",
   "metadata": {},
   "source": [
    "## 40 tasks, 5 actions, no-history, revenue as reward"
   ]
  },
  {
   "cell_type": "code",
   "execution_count": null,
   "metadata": {
    "tags": []
   },
   "outputs": [],
   "source": [
    "# The values of the hyperparameters\n",
    "LR=0.0001\n",
    "MINIBATCH_SIZE=128\n",
    "BATCH_SIZE=3000\n",
    "AUCTION_TYPE='first-price'\n",
    "LAMBDA=0.9\n",
    "CLIP_PARAM=0.1\n",
    "ENTROPY_COEFF=0"
   ]
  },
  {
   "cell_type": "code",
   "execution_count": null,
   "metadata": {
    "tags": []
   },
   "outputs": [],
   "source": [
    "df_results_preproc = process_data(learning_rate=LR, minibatch_size=MINIBATCH_SIZE, batch_size=BATCH_SIZE,\n",
    "                 auction_type=AUCTION_TYPE, lamda=LAMBDA, clip_param=CLIP_PARAM, \n",
    "                 entropy_coeff=ENTROPY_COEFF)"
   ]
  },
  {
   "cell_type": "code",
   "execution_count": null,
   "metadata": {
    "tags": []
   },
   "outputs": [],
   "source": [
    "# plot the results all in one figure\n",
    "# https://stackoverflow.com/a/55579762/7060068\n",
    "p = sns.lineplot(x='timesteps', y='mean social welfare', hue='algorithms', \n",
    "                 data=df_results_preproc)  # 2 actions (blue)\n",
    "p.axes.set_ylim(0)"
   ]
  },
  {
   "cell_type": "markdown",
   "metadata": {},
   "source": [
    "## 40 tasks, 5 actions, no-history, revenue as reward"
   ]
  },
  {
   "cell_type": "code",
   "execution_count": null,
   "metadata": {
    "tags": []
   },
   "outputs": [],
   "source": [
    "# The values of the hyperparameters\n",
    "LR=0.0001\n",
    "MINIBATCH_SIZE=128\n",
    "BATCH_SIZE=3000\n",
    "AUCTION_TYPE='first-price'\n",
    "LAMBDA=0.9\n",
    "CLIP_PARAM=0.1\n",
    "ENTROPY_COEFF=0"
   ]
  },
  {
   "cell_type": "code",
   "execution_count": null,
   "metadata": {
    "tags": []
   },
   "outputs": [],
   "source": [
    "df_results_preproc = process_data(learning_rate=LR, minibatch_size=MINIBATCH_SIZE, batch_size=BATCH_SIZE,\n",
    "                 auction_type=AUCTION_TYPE, lamda=LAMBDA, clip_param=CLIP_PARAM, \n",
    "                 entropy_coeff=ENTROPY_COEFF)"
   ]
  },
  {
   "cell_type": "code",
   "execution_count": null,
   "metadata": {
    "tags": []
   },
   "outputs": [],
   "source": [
    "# plot the results all in one figure\n",
    "# https://stackoverflow.com/a/55579762/7060068\n",
    "p = sns.lineplot(x='timesteps', y='mean social welfare', hue='algorithms', \n",
    "                 data=df_results_preproc)  # 2 actions (blue)\n",
    "p.axes.set_ylim(0)"
   ]
  },
  {
   "cell_type": "markdown",
   "metadata": {},
   "source": [
    "## 40 tasks, 5 actions, no-history, revenue as reward"
   ]
  },
  {
   "cell_type": "code",
   "execution_count": null,
   "metadata": {
    "tags": []
   },
   "outputs": [],
   "source": [
    "# The values of the hyperparameters\n",
    "LR=0.0001\n",
    "MINIBATCH_SIZE=128\n",
    "BATCH_SIZE=3000\n",
    "AUCTION_TYPE='first-price'\n",
    "LAMBDA=0.9\n",
    "CLIP_PARAM=0.1\n",
    "ENTROPY_COEFF=0"
   ]
  },
  {
   "cell_type": "code",
   "execution_count": null,
   "metadata": {
    "tags": []
   },
   "outputs": [],
   "source": [
    "df_results_preproc = process_data(learning_rate=LR, minibatch_size=MINIBATCH_SIZE, batch_size=BATCH_SIZE,\n",
    "                 auction_type=AUCTION_TYPE, lamda=LAMBDA, clip_param=CLIP_PARAM, \n",
    "                 entropy_coeff=ENTROPY_COEFF)"
   ]
  },
  {
   "cell_type": "code",
   "execution_count": null,
   "metadata": {
    "tags": []
   },
   "outputs": [],
   "source": [
    "# plot the results all in one figure\n",
    "# https://stackoverflow.com/a/55579762/7060068\n",
    "p = sns.lineplot(x='timesteps', y='mean social welfare', hue='algorithms', \n",
    "                 data=df_results_preproc)  # 2 actions (blue)\n",
    "p.axes.set_ylim(0)"
   ]
  },
  {
   "cell_type": "markdown",
   "metadata": {},
   "source": [
    "## 40 tasks, 5 actions, no-history, revenue as reward"
   ]
  },
  {
   "cell_type": "code",
   "execution_count": null,
   "metadata": {
    "tags": []
   },
   "outputs": [],
   "source": [
    "# The values of the hyperparameters\n",
    "LR=0.0001\n",
    "MINIBATCH_SIZE=128\n",
    "BATCH_SIZE=3000\n",
    "AUCTION_TYPE='first-price'\n",
    "LAMBDA=0.9\n",
    "CLIP_PARAM=0.1\n",
    "ENTROPY_COEFF=0"
   ]
  },
  {
   "cell_type": "code",
   "execution_count": null,
   "metadata": {
    "tags": []
   },
   "outputs": [],
   "source": [
    "df_results_preproc = process_data(learning_rate=LR, minibatch_size=MINIBATCH_SIZE, batch_size=BATCH_SIZE,\n",
    "                 auction_type=AUCTION_TYPE, lamda=LAMBDA, clip_param=CLIP_PARAM, \n",
    "                 entropy_coeff=ENTROPY_COEFF)"
   ]
  },
  {
   "cell_type": "code",
   "execution_count": null,
   "metadata": {
    "tags": []
   },
   "outputs": [],
   "source": [
    "# plot the results all in one figure\n",
    "# https://stackoverflow.com/a/55579762/7060068\n",
    "p = sns.lineplot(x='timesteps', y='mean social welfare', hue='algorithms', \n",
    "                 data=df_results_preproc)  # 2 actions (blue)\n",
    "p.axes.set_ylim(0)"
   ]
  },
  {
   "cell_type": "markdown",
   "metadata": {},
   "source": [
    "## 40 tasks, 5 actions, no-history, revenue as reward"
   ]
  },
  {
   "cell_type": "code",
   "execution_count": null,
   "metadata": {
    "tags": []
   },
   "outputs": [],
   "source": [
    "# The values of the hyperparameters\n",
    "LR=0.0001\n",
    "MINIBATCH_SIZE=128\n",
    "BATCH_SIZE=3000\n",
    "AUCTION_TYPE='first-price'\n",
    "LAMBDA=0.9\n",
    "CLIP_PARAM=0.1\n",
    "ENTROPY_COEFF=0"
   ]
  },
  {
   "cell_type": "code",
   "execution_count": null,
   "metadata": {
    "tags": []
   },
   "outputs": [],
   "source": [
    "df_results_preproc = process_data(learning_rate=LR, minibatch_size=MINIBATCH_SIZE, batch_size=BATCH_SIZE,\n",
    "                 auction_type=AUCTION_TYPE, lamda=LAMBDA, clip_param=CLIP_PARAM, \n",
    "                 entropy_coeff=ENTROPY_COEFF)"
   ]
  },
  {
   "cell_type": "code",
   "execution_count": null,
   "metadata": {
    "tags": []
   },
   "outputs": [],
   "source": [
    "# plot the results all in one figure\n",
    "# https://stackoverflow.com/a/55579762/7060068\n",
    "p = sns.lineplot(x='timesteps', y='mean social welfare', hue='algorithms', \n",
    "                 data=df_results_preproc)  # 2 actions (blue)\n",
    "p.axes.set_ylim(0)"
   ]
  },
  {
   "cell_type": "markdown",
   "metadata": {},
   "source": [
    "## 40 tasks, 5 actions, no-history, revenue as reward\n",
    "- lr=0.0001,sgd_minibatch_size=64,train_batch_size=3000, second-price auction"
   ]
  },
  {
   "cell_type": "code",
   "execution_count": null,
   "metadata": {
    "tags": []
   },
   "outputs": [],
   "source": [
    "# set some hyperparameters\n",
    "LR=0.0001\n",
    "MINIBATCH_SIZE=64\n",
    "BATCH_SIZE=3000\n",
    "AUCTION_TYPE='second-price'"
   ]
  },
  {
   "cell_type": "code",
   "execution_count": null,
   "metadata": {
    "tags": []
   },
   "outputs": [],
   "source": [
    "# get the dataframe of the results\n",
    "df_results = pd.DataFrame()\n",
    "results = []\n",
    "cntr=1\n",
    "for folder in dir_list:\n",
    "    params_path = f'{path}/{folder}/params.json'\n",
    "    file_path = f'{path}/{folder}/result.json'\n",
    "    try:\n",
    "        with open(params_path) as f:\n",
    "            params = json.load(f)\n",
    "    except NotADirectoryError:  # some \n",
    "        continue\n",
    "    if (params['lr']==LR and params['sgd_minibatch_size']== MINIBATCH_SIZE\n",
    "    and params['train_batch_size']==BATCH_SIZE and params['env_config']['auction_type']==AUCTION_TYPE):\n",
    "        cntr+=1\n",
    "        with open(file_path) as f:\n",
    "            # json.loads (and json.load) does not decode multiple json object. So load each line at a time.\n",
    "            # https://stackoverflow.com/a/29312618/7060068\n",
    "            for line in f:\n",
    "                data = json.loads(line)\n",
    "    #             print(data)\n",
    "    #             break\n",
    "                data_row = data['custom_metrics']\n",
    "\n",
    "        #         df = pd.DataFrame.from_dict(data, index=0)\n",
    "                # https://stackoverflow.com/a/17840195/7060068\n",
    "                df = pd.DataFrame(data_row, index=[data['timesteps_total']])\n",
    "                results.append(df)\n",
    "    else:\n",
    "        continue\n",
    "    \n",
    "\n",
    "df_results = pd.concat(results, axis=0)\n",
    "df_results.head()"
   ]
  },
  {
   "cell_type": "code",
   "execution_count": null,
   "metadata": {
    "tags": []
   },
   "outputs": [],
   "source": [
    "# process the results\n",
    "df_results = df_results[['Social Welfare (Online Myopic)_mean', 'Social Welfare (PPO)_mean', \n",
    "                         'Social Welfare (Random Allocation)_mean', 'Social Welfare (All Bidding Zero)_mean',\n",
    "                        'Social Welfare (Offline Optimal)_mean']]\n",
    "print(f\"number of trials = {cntr}\")\n",
    "print(f\"numbler of rows of the results: {len(df_results)}\")\n",
    "df_results.head()\n",
    "\n",
    "# make the number of timesteps as a new column\n",
    "# https://pandas.pydata.org/docs/reference/api/pandas.DataFrame.reset_index.html\n",
    "df_results_reset = df_results.copy()\n",
    "df_results_reset = df_results_reset.reset_index(col_fill='timesteps')\n",
    "\n",
    "# change the name of the first column from `index` to `timesteps`\n",
    "df_results_reset = df_results_reset.rename(columns={\"index\": \"timesteps\", \n",
    "                                                   \"Social Welfare (Online Myopic)_mean\": \"Online Myopic\",\n",
    "                                                   \"Social Welfare (PPO)_mean\": \"MARL (PPO)\",\n",
    "                                                   \"Social Welfare (Random Allocation)_mean\": \"Random Allocation\",\n",
    "                                                   \"Social Welfare (All Bidding Zero)_mean\": \"All Bidding Zero\",\n",
    "                                                   \"Social Welfare (Offline Optimal)_mean\": \"Offline Optimal\"}, errors='raise')\n",
    "\n",
    "df_results_reset.head()\n",
    "\n",
    "# make a dataframe for plotting several lines in one figure\n",
    "# https://stackoverflow.com/a/55579762/7060068\n",
    "\n",
    "df_results_preproc = pd.melt(df_results_reset, ['timesteps'], var_name='algorithms',\n",
    "                            value_name='mean social welfare')\n",
    "\n",
    "df_results_preproc.head()"
   ]
  },
  {
   "cell_type": "code",
   "execution_count": null,
   "metadata": {
    "tags": []
   },
   "outputs": [],
   "source": [
    "# plot the results all in one figure\n",
    "# https://stackoverflow.com/a/55579762/7060068\n",
    "p = sns.lineplot(x='timesteps', y='mean social welfare', hue='algorithms', \n",
    "                 data=df_results_preproc)  # 2 actions (blue)\n",
    "p.axes.set_ylim(0)"
   ]
  },
  {
   "cell_type": "markdown",
   "metadata": {},
   "source": [
    "## 40 tasks, 5 actions, no-history, revenue as reward\n",
    "- lr=0.001,sgd_minibatch_size=64,train_batch_size=3000, first-price auction"
   ]
  },
  {
   "cell_type": "code",
   "execution_count": null,
   "metadata": {
    "tags": []
   },
   "outputs": [],
   "source": [
    "# set some hyperparameters\n",
    "LR=0.001\n",
    "MINIBATCH_SIZE=64\n",
    "BATCH_SIZE=3000\n",
    "AUCTION_TYPE='first-price'"
   ]
  },
  {
   "cell_type": "code",
   "execution_count": null,
   "metadata": {
    "tags": []
   },
   "outputs": [],
   "source": [
    "# get the dataframe of the results\n",
    "df_results = pd.DataFrame()\n",
    "results = []\n",
    "cntr=1\n",
    "for folder in dir_list:\n",
    "    params_path = f'{path}/{folder}/params.json'\n",
    "    file_path = f'{path}/{folder}/result.json'\n",
    "    try:\n",
    "        with open(params_path) as f:\n",
    "            params = json.load(f)\n",
    "    except NotADirectoryError:  # some \n",
    "        continue\n",
    "    if (params['lr']==LR and params['sgd_minibatch_size']== MINIBATCH_SIZE\n",
    "    and params['train_batch_size']==BATCH_SIZE and params['env_config']['auction_type']==AUCTION_TYPE):\n",
    "        cntr+=1\n",
    "        with open(file_path) as f:\n",
    "            # json.loads (and json.load) does not decode multiple json object. So load each line at a time.\n",
    "            # https://stackoverflow.com/a/29312618/7060068\n",
    "            for line in f:\n",
    "                data = json.loads(line)\n",
    "    #             print(data)\n",
    "    #             break\n",
    "                data_row = data['custom_metrics']\n",
    "\n",
    "        #         df = pd.DataFrame.from_dict(data, index=0)\n",
    "                # https://stackoverflow.com/a/17840195/7060068\n",
    "                df = pd.DataFrame(data_row, index=[data['timesteps_total']])\n",
    "                results.append(df)\n",
    "    else:\n",
    "        continue\n",
    "    \n",
    "\n",
    "df_results = pd.concat(results, axis=0)\n",
    "# df_results.head()\n",
    "print(f\"number of trials = {cntr}\")\n",
    "print(f\"numbler of rows of the results: {len(df_results)}\")"
   ]
  },
  {
   "cell_type": "code",
   "execution_count": null,
   "metadata": {
    "tags": []
   },
   "outputs": [],
   "source": [
    "# process the results\n",
    "df_results = df_results[['Social Welfare (Online Myopic)_mean', 'Social Welfare (PPO)_mean', \n",
    "                         'Social Welfare (Random Allocation)_mean', 'Social Welfare (All Bidding Zero)_mean',\n",
    "                        'Social Welfare (Offline Optimal)_mean']]\n",
    "\n",
    "df_results.head()\n",
    "\n",
    "# make the number of timesteps as a new column\n",
    "# https://pandas.pydata.org/docs/reference/api/pandas.DataFrame.reset_index.html\n",
    "df_results_reset = df_results.copy()\n",
    "df_results_reset = df_results_reset.reset_index(col_fill='timesteps')\n",
    "\n",
    "# change the name of the first column from `index` to `timesteps`\n",
    "df_results_reset = df_results_reset.rename(columns={\"index\": \"timesteps\", \n",
    "                                                   \"Social Welfare (Online Myopic)_mean\": \"Online Myopic\",\n",
    "                                                   \"Social Welfare (PPO)_mean\": \"MARL (PPO)\",\n",
    "                                                   \"Social Welfare (Random Allocation)_mean\": \"Random Allocation\",\n",
    "                                                   \"Social Welfare (All Bidding Zero)_mean\": \"All Bidding Zero\",\n",
    "                                                   \"Social Welfare (Offline Optimal)_mean\": \"Offline Optimal\"}, errors='raise')\n",
    "\n",
    "df_results_reset.head()\n",
    "\n",
    "# make a dataframe for plotting several lines in one figure\n",
    "# https://stackoverflow.com/a/55579762/7060068\n",
    "\n",
    "df_results_preproc = pd.melt(df_results_reset, ['timesteps'], var_name='algorithms',\n",
    "                            value_name='mean social welfare')\n",
    "\n",
    "# df_results_preproc.head()"
   ]
  },
  {
   "cell_type": "code",
   "execution_count": null,
   "metadata": {
    "tags": []
   },
   "outputs": [],
   "source": [
    "# plot the results all in one figure\n",
    "# https://stackoverflow.com/a/55579762/7060068\n",
    "p = sns.lineplot(x='timesteps', y='mean social welfare', hue='algorithms', \n",
    "                 data=df_results_preproc)  # 2 actions (blue)\n",
    "p.axes.set_ylim(0)"
   ]
  },
  {
   "cell_type": "markdown",
   "metadata": {},
   "source": [
    "## 40 tasks, 5 actions, no-history, revenue as reward\n",
    "- lr=0.001,sgd_minibatch_size=64,train_batch_size=3000, second-price auction"
   ]
  },
  {
   "cell_type": "code",
   "execution_count": null,
   "metadata": {
    "tags": []
   },
   "outputs": [],
   "source": [
    "# set some hyperparameters\n",
    "LR=0.001\n",
    "MINIBATCH_SIZE=64\n",
    "BATCH_SIZE=3000\n",
    "AUCTION_TYPE='second-price'"
   ]
  },
  {
   "cell_type": "code",
   "execution_count": null,
   "metadata": {
    "tags": []
   },
   "outputs": [],
   "source": [
    "# get the dataframe of the results\n",
    "df_results = pd.DataFrame()\n",
    "results = []\n",
    "cntr=1\n",
    "for folder in dir_list:\n",
    "    params_path = f'{path}/{folder}/params.json'\n",
    "    file_path = f'{path}/{folder}/result.json'\n",
    "    try:\n",
    "        with open(params_path) as f:\n",
    "            params = json.load(f)\n",
    "    except NotADirectoryError:  # some \n",
    "        continue\n",
    "    if (params['lr']==LR and params['sgd_minibatch_size']== MINIBATCH_SIZE\n",
    "    and params['train_batch_size']==BATCH_SIZE and params['env_config']['auction_type']==AUCTION_TYPE):\n",
    "        cntr+=1\n",
    "        with open(file_path) as f:\n",
    "            # json.loads (and json.load) does not decode multiple json object. So load each line at a time.\n",
    "            # https://stackoverflow.com/a/29312618/7060068\n",
    "            for line in f:\n",
    "                data = json.loads(line)\n",
    "    #             print(data)\n",
    "    #             break\n",
    "                data_row = data['custom_metrics']\n",
    "\n",
    "        #         df = pd.DataFrame.from_dict(data, index=0)\n",
    "                # https://stackoverflow.com/a/17840195/7060068\n",
    "                df = pd.DataFrame(data_row, index=[data['timesteps_total']])\n",
    "                results.append(df)\n",
    "    else:\n",
    "        continue\n",
    "    \n",
    "\n",
    "df_results = pd.concat(results, axis=0)\n",
    "# df_results.head()\n",
    "print(f\"number of trials = {cntr}\")\n",
    "print(f\"numbler of rows of the results: {len(df_results)}\")"
   ]
  },
  {
   "cell_type": "code",
   "execution_count": null,
   "metadata": {
    "tags": []
   },
   "outputs": [],
   "source": [
    "# process the results\n",
    "df_results = df_results[['Social Welfare (Online Myopic)_mean', 'Social Welfare (PPO)_mean', \n",
    "                         'Social Welfare (Random Allocation)_mean', 'Social Welfare (All Bidding Zero)_mean',\n",
    "                        'Social Welfare (Offline Optimal)_mean']]\n",
    "\n",
    "df_results.head()\n",
    "\n",
    "# make the number of timesteps as a new column\n",
    "# https://pandas.pydata.org/docs/reference/api/pandas.DataFrame.reset_index.html\n",
    "df_results_reset = df_results.copy()\n",
    "df_results_reset = df_results_reset.reset_index(col_fill='timesteps')\n",
    "\n",
    "# change the name of the first column from `index` to `timesteps`\n",
    "df_results_reset = df_results_reset.rename(columns={\"index\": \"timesteps\", \n",
    "                                                   \"Social Welfare (Online Myopic)_mean\": \"Online Myopic\",\n",
    "                                                   \"Social Welfare (PPO)_mean\": \"MARL (PPO)\",\n",
    "                                                   \"Social Welfare (Random Allocation)_mean\": \"Random Allocation\",\n",
    "                                                   \"Social Welfare (All Bidding Zero)_mean\": \"All Bidding Zero\",\n",
    "                                                   \"Social Welfare (Offline Optimal)_mean\": \"Offline Optimal\"}, errors='raise')\n",
    "\n",
    "df_results_reset.head()\n",
    "\n",
    "# make a dataframe for plotting several lines in one figure\n",
    "# https://stackoverflow.com/a/55579762/7060068\n",
    "\n",
    "df_results_preproc = pd.melt(df_results_reset, ['timesteps'], var_name='algorithms',\n",
    "                            value_name='mean social welfare')\n",
    "\n",
    "# df_results_preproc.head()"
   ]
  },
  {
   "cell_type": "code",
   "execution_count": null,
   "metadata": {
    "tags": []
   },
   "outputs": [],
   "source": [
    "# plot the results all in one figure\n",
    "# https://stackoverflow.com/a/55579762/7060068\n",
    "p = sns.lineplot(x='timesteps', y='mean social welfare', hue='algorithms', \n",
    "                 data=df_results_preproc)  # 2 actions (blue)\n",
    "p.axes.set_ylim(0)"
   ]
  },
  {
   "cell_type": "markdown",
   "metadata": {},
   "source": [
    "## 40 tasks, 5 actions, no-history, revenue as reward\n",
    "- lr=0.0001,sgd_minibatch_size=128,train_batch_size=3000, first-price auction"
   ]
  },
  {
   "cell_type": "code",
   "execution_count": null,
   "metadata": {
    "tags": []
   },
   "outputs": [],
   "source": [
    "# set some hyperparameters\n",
    "LR=0.0001\n",
    "MINIBATCH_SIZE=128\n",
    "BATCH_SIZE=3000\n",
    "AUCTION_TYPE='first-price'"
   ]
  },
  {
   "cell_type": "code",
   "execution_count": null,
   "metadata": {
    "tags": []
   },
   "outputs": [],
   "source": [
    "# get the dataframe of the results\n",
    "df_results = pd.DataFrame()\n",
    "results = []\n",
    "cntr=1\n",
    "for folder in dir_list:\n",
    "    params_path = f'{path}/{folder}/params.json'\n",
    "    file_path = f'{path}/{folder}/result.json'\n",
    "    try:\n",
    "        with open(params_path) as f:\n",
    "            params = json.load(f)\n",
    "    except NotADirectoryError:  # some \n",
    "        continue\n",
    "    if (params['lr']==LR and params['sgd_minibatch_size']== MINIBATCH_SIZE\n",
    "    and params['train_batch_size']==BATCH_SIZE and params['env_config']['auction_type']==AUCTION_TYPE):\n",
    "        cntr+=1\n",
    "        with open(file_path) as f:\n",
    "            # json.loads (and json.load) does not decode multiple json object. So load each line at a time.\n",
    "            # https://stackoverflow.com/a/29312618/7060068\n",
    "            for line in f:\n",
    "                data = json.loads(line)\n",
    "    #             print(data)\n",
    "    #             break\n",
    "                data_row = data['custom_metrics']\n",
    "\n",
    "        #         df = pd.DataFrame.from_dict(data, index=0)\n",
    "                # https://stackoverflow.com/a/17840195/7060068\n",
    "                df = pd.DataFrame(data_row, index=[data['timesteps_total']])\n",
    "                results.append(df)\n",
    "    else:\n",
    "        continue\n",
    "    \n",
    "\n",
    "df_results = pd.concat(results, axis=0)\n",
    "# df_results.head()\n",
    "print(f\"number of trials = {cntr}\")\n",
    "print(f\"numbler of rows of the results: {len(df_results)}\")"
   ]
  },
  {
   "cell_type": "code",
   "execution_count": null,
   "metadata": {
    "tags": []
   },
   "outputs": [],
   "source": [
    "# process the results\n",
    "df_results = df_results[['Social Welfare (Online Myopic)_mean', 'Social Welfare (PPO)_mean', \n",
    "                         'Social Welfare (Random Allocation)_mean', 'Social Welfare (All Bidding Zero)_mean',\n",
    "                        'Social Welfare (Offline Optimal)_mean']]\n",
    "\n",
    "df_results.head()\n",
    "\n",
    "# make the number of timesteps as a new column\n",
    "# https://pandas.pydata.org/docs/reference/api/pandas.DataFrame.reset_index.html\n",
    "df_results_reset = df_results.copy()\n",
    "df_results_reset = df_results_reset.reset_index(col_fill='timesteps')\n",
    "\n",
    "# change the name of the first column from `index` to `timesteps`\n",
    "df_results_reset = df_results_reset.rename(columns={\"index\": \"timesteps\", \n",
    "                                                   \"Social Welfare (Online Myopic)_mean\": \"Online Myopic\",\n",
    "                                                   \"Social Welfare (PPO)_mean\": \"MARL (PPO)\",\n",
    "                                                   \"Social Welfare (Random Allocation)_mean\": \"Random Allocation\",\n",
    "                                                   \"Social Welfare (All Bidding Zero)_mean\": \"All Bidding Zero\",\n",
    "                                                   \"Social Welfare (Offline Optimal)_mean\": \"Offline Optimal\"}, errors='raise')\n",
    "\n",
    "df_results_reset.head()\n",
    "\n",
    "# make a dataframe for plotting several lines in one figure\n",
    "# https://stackoverflow.com/a/55579762/7060068\n",
    "\n",
    "df_results_preproc = pd.melt(df_results_reset, ['timesteps'], var_name='algorithms',\n",
    "                            value_name='mean social welfare')\n",
    "\n",
    "# df_results_preproc.head()"
   ]
  },
  {
   "cell_type": "code",
   "execution_count": null,
   "metadata": {
    "tags": []
   },
   "outputs": [],
   "source": [
    "# plot the results all in one figure\n",
    "# https://stackoverflow.com/a/55579762/7060068\n",
    "p = sns.lineplot(x='timesteps', y='mean social welfare', hue='algorithms', \n",
    "                 data=df_results_preproc)  # 2 actions (blue)\n",
    "p.axes.set_ylim(0)"
   ]
  },
  {
   "cell_type": "markdown",
   "metadata": {},
   "source": [
    "## 40 tasks, 5 actions, no-history, revenue as reward\n",
    "- lr=0.0001,sgd_minibatch_size=128,train_batch_size=3000, second-price auction"
   ]
  },
  {
   "cell_type": "code",
   "execution_count": null,
   "metadata": {
    "tags": []
   },
   "outputs": [],
   "source": [
    "# set some hyperparameters\n",
    "LR=0.0001\n",
    "MINIBATCH_SIZE=128\n",
    "BATCH_SIZE=3000\n",
    "AUCTION_TYPE='second-price'"
   ]
  },
  {
   "cell_type": "code",
   "execution_count": null,
   "metadata": {
    "tags": []
   },
   "outputs": [],
   "source": [
    "# get the dataframe of the results\n",
    "df_results = pd.DataFrame()\n",
    "results = []\n",
    "cntr=1\n",
    "for folder in dir_list:\n",
    "    params_path = f'{path}/{folder}/params.json'\n",
    "    file_path = f'{path}/{folder}/result.json'\n",
    "    try:\n",
    "        with open(params_path) as f:\n",
    "            params = json.load(f)\n",
    "    except NotADirectoryError:  # some \n",
    "        continue\n",
    "    if (params['lr']==LR and params['sgd_minibatch_size']== MINIBATCH_SIZE\n",
    "    and params['train_batch_size']==BATCH_SIZE and params['env_config']['auction_type']==AUCTION_TYPE):\n",
    "        cntr+=1\n",
    "        with open(file_path) as f:\n",
    "            # json.loads (and json.load) does not decode multiple json object. So load each line at a time.\n",
    "            # https://stackoverflow.com/a/29312618/7060068\n",
    "            for line in f:\n",
    "                data = json.loads(line)\n",
    "    #             print(data)\n",
    "    #             break\n",
    "                data_row = data['custom_metrics']\n",
    "\n",
    "        #         df = pd.DataFrame.from_dict(data, index=0)\n",
    "                # https://stackoverflow.com/a/17840195/7060068\n",
    "                df = pd.DataFrame(data_row, index=[data['timesteps_total']])\n",
    "                results.append(df)\n",
    "    else:\n",
    "        continue\n",
    "    \n",
    "\n",
    "df_results = pd.concat(results, axis=0)\n",
    "# df_results.head()\n",
    "print(f\"number of trials = {cntr}\")\n",
    "print(f\"numbler of rows of the results: {len(df_results)}\")"
   ]
  },
  {
   "cell_type": "code",
   "execution_count": null,
   "metadata": {
    "tags": []
   },
   "outputs": [],
   "source": [
    "# process the results\n",
    "df_results = df_results[['Social Welfare (Online Myopic)_mean', 'Social Welfare (PPO)_mean', \n",
    "                         'Social Welfare (Random Allocation)_mean', 'Social Welfare (All Bidding Zero)_mean',\n",
    "                        'Social Welfare (Offline Optimal)_mean']]\n",
    "\n",
    "df_results.head()\n",
    "\n",
    "# make the number of timesteps as a new column\n",
    "# https://pandas.pydata.org/docs/reference/api/pandas.DataFrame.reset_index.html\n",
    "df_results_reset = df_results.copy()\n",
    "df_results_reset = df_results_reset.reset_index(col_fill='timesteps')\n",
    "\n",
    "# change the name of the first column from `index` to `timesteps`\n",
    "df_results_reset = df_results_reset.rename(columns={\"index\": \"timesteps\", \n",
    "                                                   \"Social Welfare (Online Myopic)_mean\": \"Online Myopic\",\n",
    "                                                   \"Social Welfare (PPO)_mean\": \"MARL (PPO)\",\n",
    "                                                   \"Social Welfare (Random Allocation)_mean\": \"Random Allocation\",\n",
    "                                                   \"Social Welfare (All Bidding Zero)_mean\": \"All Bidding Zero\",\n",
    "                                                   \"Social Welfare (Offline Optimal)_mean\": \"Offline Optimal\"}, errors='raise')\n",
    "\n",
    "df_results_reset.head()\n",
    "\n",
    "# make a dataframe for plotting several lines in one figure\n",
    "# https://stackoverflow.com/a/55579762/7060068\n",
    "\n",
    "df_results_preproc = pd.melt(df_results_reset, ['timesteps'], var_name='algorithms',\n",
    "                            value_name='mean social welfare')\n",
    "\n",
    "# df_results_preproc.head()"
   ]
  },
  {
   "cell_type": "code",
   "execution_count": null,
   "metadata": {
    "tags": []
   },
   "outputs": [],
   "source": [
    "# plot the results all in one figure\n",
    "# https://stackoverflow.com/a/55579762/7060068\n",
    "p = sns.lineplot(x='timesteps', y='mean social welfare', hue='algorithms', \n",
    "                 data=df_results_preproc)  # 2 actions (blue)\n",
    "p.axes.set_ylim(0)"
   ]
  },
  {
   "cell_type": "markdown",
   "metadata": {},
   "source": [
    "## 40 tasks, 5 actions, no-history, revenue as reward\n",
    "- lr=0.0001,sgd_minibatch_size=128,train_batch_size=4000, first-price auction"
   ]
  },
  {
   "cell_type": "code",
   "execution_count": null,
   "metadata": {
    "tags": []
   },
   "outputs": [],
   "source": [
    "# set some hyperparameters\n",
    "LR=0.0001\n",
    "MINIBATCH_SIZE=128\n",
    "BATCH_SIZE=4000\n",
    "AUCTION_TYPE='first-price'"
   ]
  },
  {
   "cell_type": "code",
   "execution_count": null,
   "metadata": {
    "tags": []
   },
   "outputs": [],
   "source": [
    "# get the dataframe of the results\n",
    "df_results = pd.DataFrame()\n",
    "results = []\n",
    "cntr=1\n",
    "for folder in dir_list:\n",
    "    params_path = f'{path}/{folder}/params.json'\n",
    "    file_path = f'{path}/{folder}/result.json'\n",
    "    try:\n",
    "        with open(params_path) as f:\n",
    "            params = json.load(f)\n",
    "    except NotADirectoryError:  # some \n",
    "        continue\n",
    "    if (params['lr']==LR and params['sgd_minibatch_size']== MINIBATCH_SIZE\n",
    "    and params['train_batch_size']==BATCH_SIZE and params['env_config']['auction_type']==AUCTION_TYPE):\n",
    "        cntr+=1\n",
    "        with open(file_path) as f:\n",
    "            # json.loads (and json.load) does not decode multiple json object. So load each line at a time.\n",
    "            # https://stackoverflow.com/a/29312618/7060068\n",
    "            for line in f:\n",
    "                data = json.loads(line)\n",
    "    #             print(data)\n",
    "    #             break\n",
    "                data_row = data['custom_metrics']\n",
    "\n",
    "        #         df = pd.DataFrame.from_dict(data, index=0)\n",
    "                # https://stackoverflow.com/a/17840195/7060068\n",
    "                df = pd.DataFrame(data_row, index=[data['timesteps_total']])\n",
    "                results.append(df)\n",
    "    else:\n",
    "        continue\n",
    "    \n",
    "\n",
    "df_results = pd.concat(results, axis=0)\n",
    "# df_results.head()\n",
    "print(f\"number of trials = {cntr}\")\n",
    "print(f\"numbler of rows of the results: {len(df_results)}\")"
   ]
  },
  {
   "cell_type": "code",
   "execution_count": null,
   "metadata": {
    "tags": []
   },
   "outputs": [],
   "source": [
    "# process the results\n",
    "df_results = df_results[['Social Welfare (Online Myopic)_mean', 'Social Welfare (PPO)_mean', \n",
    "                         'Social Welfare (Random Allocation)_mean', 'Social Welfare (All Bidding Zero)_mean',\n",
    "                        'Social Welfare (Offline Optimal)_mean']]\n",
    "\n",
    "df_results.head()\n",
    "\n",
    "# make the number of timesteps as a new column\n",
    "# https://pandas.pydata.org/docs/reference/api/pandas.DataFrame.reset_index.html\n",
    "df_results_reset = df_results.copy()\n",
    "df_results_reset = df_results_reset.reset_index(col_fill='timesteps')\n",
    "\n",
    "# change the name of the first column from `index` to `timesteps`\n",
    "df_results_reset = df_results_reset.rename(columns={\"index\": \"timesteps\", \n",
    "                                                   \"Social Welfare (Online Myopic)_mean\": \"Online Myopic\",\n",
    "                                                   \"Social Welfare (PPO)_mean\": \"MARL (PPO)\",\n",
    "                                                   \"Social Welfare (Random Allocation)_mean\": \"Random Allocation\",\n",
    "                                                   \"Social Welfare (All Bidding Zero)_mean\": \"All Bidding Zero\",\n",
    "                                                   \"Social Welfare (Offline Optimal)_mean\": \"Offline Optimal\"}, errors='raise')\n",
    "\n",
    "df_results_reset.head()\n",
    "\n",
    "# make a dataframe for plotting several lines in one figure\n",
    "# https://stackoverflow.com/a/55579762/7060068\n",
    "\n",
    "df_results_preproc = pd.melt(df_results_reset, ['timesteps'], var_name='algorithms',\n",
    "                            value_name='mean social welfare')\n",
    "\n",
    "# df_results_preproc.head()"
   ]
  },
  {
   "cell_type": "code",
   "execution_count": null,
   "metadata": {
    "tags": []
   },
   "outputs": [],
   "source": [
    "# plot the results all in one figure\n",
    "# https://stackoverflow.com/a/55579762/7060068\n",
    "p = sns.lineplot(x='timesteps', y='mean social welfare', hue='algorithms', \n",
    "                 data=df_results_preproc)  # 2 actions (blue)\n",
    "p.axes.set_ylim(0)"
   ]
  },
  {
   "cell_type": "markdown",
   "metadata": {},
   "source": [
    "## 40 tasks, 5 actions, no-history, revenue as reward\n",
    "- lr=0.0001,sgd_minibatch_size=128,train_batch_size=4000, second-price auction"
   ]
  },
  {
   "cell_type": "code",
   "execution_count": null,
   "metadata": {
    "tags": []
   },
   "outputs": [],
   "source": [
    "# set some hyperparameters\n",
    "LR=0.0001\n",
    "MINIBATCH_SIZE=128\n",
    "BATCH_SIZE=4000\n",
    "AUCTION_TYPE='second-price'"
   ]
  },
  {
   "cell_type": "code",
   "execution_count": null,
   "metadata": {
    "tags": []
   },
   "outputs": [],
   "source": [
    "# get the dataframe of the results\n",
    "df_results = pd.DataFrame()\n",
    "results = []\n",
    "cntr=1\n",
    "for folder in dir_list:\n",
    "    params_path = f'{path}/{folder}/params.json'\n",
    "    file_path = f'{path}/{folder}/result.json'\n",
    "    try:\n",
    "        with open(params_path) as f:\n",
    "            params = json.load(f)\n",
    "    except NotADirectoryError:  # some \n",
    "        continue\n",
    "    if (params['lr']==LR and params['sgd_minibatch_size']== MINIBATCH_SIZE\n",
    "    and params['train_batch_size']==BATCH_SIZE and params['env_config']['auction_type']==AUCTION_TYPE):\n",
    "        cntr+=1\n",
    "        with open(file_path) as f:\n",
    "            # json.loads (and json.load) does not decode multiple json object. So load each line at a time.\n",
    "            # https://stackoverflow.com/a/29312618/7060068\n",
    "            for line in f:\n",
    "                data = json.loads(line)\n",
    "    #             print(data)\n",
    "    #             break\n",
    "                data_row = data['custom_metrics']\n",
    "\n",
    "        #         df = pd.DataFrame.from_dict(data, index=0)\n",
    "                # https://stackoverflow.com/a/17840195/7060068\n",
    "                df = pd.DataFrame(data_row, index=[data['timesteps_total']])\n",
    "                results.append(df)\n",
    "    else:\n",
    "        continue\n",
    "    \n",
    "\n",
    "df_results = pd.concat(results, axis=0)\n",
    "# df_results.head()\n",
    "print(f\"number of trials = {cntr}\")\n",
    "print(f\"numbler of rows of the results: {len(df_results)}\")"
   ]
  },
  {
   "cell_type": "code",
   "execution_count": null,
   "metadata": {
    "tags": []
   },
   "outputs": [],
   "source": [
    "# process the results\n",
    "df_results = df_results[['Social Welfare (Online Myopic)_mean', 'Social Welfare (PPO)_mean', \n",
    "                         'Social Welfare (Random Allocation)_mean', 'Social Welfare (All Bidding Zero)_mean',\n",
    "                        'Social Welfare (Offline Optimal)_mean']]\n",
    "\n",
    "df_results.head()\n",
    "\n",
    "# make the number of timesteps as a new column\n",
    "# https://pandas.pydata.org/docs/reference/api/pandas.DataFrame.reset_index.html\n",
    "df_results_reset = df_results.copy()\n",
    "df_results_reset = df_results_reset.reset_index(col_fill='timesteps')\n",
    "\n",
    "# change the name of the first column from `index` to `timesteps`\n",
    "df_results_reset = df_results_reset.rename(columns={\"index\": \"timesteps\", \n",
    "                                                   \"Social Welfare (Online Myopic)_mean\": \"Online Myopic\",\n",
    "                                                   \"Social Welfare (PPO)_mean\": \"MARL (PPO)\",\n",
    "                                                   \"Social Welfare (Random Allocation)_mean\": \"Random Allocation\",\n",
    "                                                   \"Social Welfare (All Bidding Zero)_mean\": \"All Bidding Zero\",\n",
    "                                                   \"Social Welfare (Offline Optimal)_mean\": \"Offline Optimal\"}, errors='raise')\n",
    "\n",
    "df_results_reset.head()\n",
    "\n",
    "# make a dataframe for plotting several lines in one figure\n",
    "# https://stackoverflow.com/a/55579762/7060068\n",
    "\n",
    "df_results_preproc = pd.melt(df_results_reset, ['timesteps'], var_name='algorithms',\n",
    "                            value_name='mean social welfare')\n",
    "\n",
    "# df_results_preproc.head()"
   ]
  },
  {
   "cell_type": "code",
   "execution_count": null,
   "metadata": {
    "tags": []
   },
   "outputs": [],
   "source": [
    "# plot the results all in one figure\n",
    "# https://stackoverflow.com/a/55579762/7060068\n",
    "p = sns.lineplot(x='timesteps', y='mean social welfare', hue='algorithms', \n",
    "                 data=df_results_preproc)  # 2 actions (blue)\n",
    "p.axes.set_ylim(0)"
   ]
  },
  {
   "cell_type": "code",
   "execution_count": null,
   "metadata": {},
   "outputs": [],
   "source": [
    "1/0"
   ]
  },
  {
   "cell_type": "markdown",
   "metadata": {},
   "source": [
    "## 40 tasks, 5 actions, first-price auction, no-history, revenue as reward\n",
    "- lr=0.0001,layers=[256, 256, 256],train_batch_size=3000"
   ]
  },
  {
   "cell_type": "code",
   "execution_count": null,
   "metadata": {},
   "outputs": [],
   "source": [
    "# get all names from the folder\n",
    "# https://stackoverflow.com/a/29206464/7060068\n",
    "import os\n",
    "\n",
    "path = '/Users/fan/OneDrive - University of Southampton/My-Projects/Edge-Cloud-Resource-Allocation/marl-edge-cloud/results/5-actions_first-price_no-history_revenue'\n",
    "dir_list = os.listdir(path)\n",
    "# print(dir_list)\n",
    "\n",
    "# read results in .json files\n",
    "import json\n",
    "\n",
    "hyperparamter_string = 'lr=0.0001,layers=[256, 256, 256],train_batch_size=3000_2021-12-10'\n",
    "\n",
    "df_results = pd.DataFrame()\n",
    "results = []\n",
    "cntr=1\n",
    "for folder in dir_list:\n",
    "    file_path = f'{path}/{folder}/result.json'\n",
    "    if hyperparamter_string not in file_path:  # only consider the specific hyperparameters combination \n",
    "        continue\n",
    "    if not os.path.isfile(file_path):  # jump over useless paths\n",
    "        continue\n",
    "    # load data using Python JSON module\n",
    "#     print(file_path)\n",
    "    cntr+=1\n",
    "    with open(file_path) as f:\n",
    "        # json.loads (and json.load) does not decode multiple json object. So load each line at a time.\n",
    "        # https://stackoverflow.com/a/29312618/7060068\n",
    "        for line in f:\n",
    "            data = json.loads(line)\n",
    "#             print(data)\n",
    "#             break\n",
    "            data_row = data['custom_metrics']\n",
    "\n",
    "    #         df = pd.DataFrame.from_dict(data, index=0)\n",
    "            # https://stackoverflow.com/a/17840195/7060068\n",
    "            df = pd.DataFrame(data_row, index=[data['timesteps_total']])\n",
    "            results.append(df)\n",
    "\n",
    "df_results = pd.concat(results, axis=0)\n",
    "df_results.head()\n",
    "\n",
    "df_results = df_results[['Social Welfare (Online Myopic)_mean', 'Social Welfare (PPO)_mean', \n",
    "                         'Social Welfare (Random Allocation)_mean', 'Social Welfare (All Bidding Zero)_mean',\n",
    "                        'Social Welfare (Offline Optimal)_mean']]\n",
    "print(f\"number of trials = {cntr}\")\n",
    "print(f\"numbler of rows of the results: {len(df_results)}\")\n",
    "df_results.head()\n",
    "\n",
    "# make the number of timesteps as a new column\n",
    "# https://pandas.pydata.org/docs/reference/api/pandas.DataFrame.reset_index.html\n",
    "df_results_reset = df_results.copy()\n",
    "df_results_reset = df_results_reset.reset_index(col_fill='timesteps')\n",
    "\n",
    "# change the name of the first column from `index` to `timesteps`\n",
    "df_results_reset = df_results_reset.rename(columns={\"index\": \"timesteps\", \n",
    "                                                   \"Social Welfare (Online Myopic)_mean\": \"Online Myopic\",\n",
    "                                                   \"Social Welfare (PPO)_mean\": \"MARL (PPO)\",\n",
    "                                                   \"Social Welfare (Random Allocation)_mean\": \"Random Allocation\",\n",
    "                                                   \"Social Welfare (All Bidding Zero)_mean\": \"All Bidding Zero\",\n",
    "                                                   \"Social Welfare (Offline Optimal)_mean\": \"Offline Optimal\"}, errors='raise')\n",
    "\n",
    "df_results_reset.head()\n",
    "\n",
    "# make a dataframe for plotting several lines in one figure\n",
    "# https://stackoverflow.com/a/55579762/7060068\n",
    "\n",
    "df_results_preproc = pd.melt(df_results_reset, ['timesteps'], var_name='algorithms',\n",
    "                            value_name='mean social welfare')\n",
    "\n",
    "df_results_preproc.head()"
   ]
  },
  {
   "cell_type": "code",
   "execution_count": null,
   "metadata": {},
   "outputs": [],
   "source": [
    "# plot the results all in one figure\n",
    "# https://stackoverflow.com/a/55579762/7060068\n",
    "p = sns.lineplot(x='timesteps', y='mean social welfare', hue='algorithms', \n",
    "                 data=df_results_preproc)  # 2 actions (blue)\n",
    "p.axes.set_ylim(0)"
   ]
  },
  {
   "cell_type": "markdown",
   "metadata": {},
   "source": [
    "## 40 tasks, 5 actions, first-price auction, no-history, revenue as reward\n",
    "- lr=0.001,layers=[256, 256],train_batch_size=3000"
   ]
  },
  {
   "cell_type": "code",
   "execution_count": null,
   "metadata": {},
   "outputs": [],
   "source": [
    "# get all names from the folder\n",
    "# https://stackoverflow.com/a/29206464/7060068\n",
    "import os\n",
    "\n",
    "path = '/Users/fan/OneDrive - University of Southampton/My-Projects/Edge-Cloud-Resource-Allocation/marl-edge-cloud/results/5-actions_first-price_no-history_revenue'\n",
    "dir_list = os.listdir(path)\n",
    "# print(dir_list)\n",
    "\n",
    "# read results in .json files\n",
    "import json\n",
    "\n",
    "hyperparamter_string = 'lr=0.001,layers=[256, 256],train_batch_size=3000_2021-12-10'\n",
    "\n",
    "df_results = pd.DataFrame()\n",
    "results = []\n",
    "cntr=1\n",
    "for folder in dir_list:\n",
    "    file_path = f'{path}/{folder}/result.json'\n",
    "    if hyperparamter_string not in file_path:  # only consider the specific hyperparameters combination \n",
    "        continue\n",
    "    if not os.path.isfile(file_path):  # jump over useless paths\n",
    "        continue\n",
    "    # load data using Python JSON module\n",
    "#     print(file_path)\n",
    "    cntr+=1\n",
    "    with open(file_path) as f:\n",
    "        # json.loads (and json.load) does not decode multiple json object. So load each line at a time.\n",
    "        # https://stackoverflow.com/a/29312618/7060068\n",
    "        for line in f:\n",
    "            data = json.loads(line)\n",
    "#             print(data)\n",
    "#             break\n",
    "            data_row = data['custom_metrics']\n",
    "\n",
    "    #         df = pd.DataFrame.from_dict(data, index=0)\n",
    "            # https://stackoverflow.com/a/17840195/7060068\n",
    "            df = pd.DataFrame(data_row, index=[data['timesteps_total']])\n",
    "            results.append(df)\n",
    "\n",
    "df_results = pd.concat(results, axis=0)\n",
    "df_results.head()\n",
    "\n",
    "df_results = df_results[['Social Welfare (Online Myopic)_mean', 'Social Welfare (PPO)_mean', \n",
    "                         'Social Welfare (Random Allocation)_mean', 'Social Welfare (All Bidding Zero)_mean',\n",
    "                        'Social Welfare (Offline Optimal)_mean']]\n",
    "print(f\"number of trials = {cntr}\")\n",
    "print(f\"numbler of rows of the results: {len(df_results)}\")\n",
    "df_results.head()\n",
    "\n",
    "# make the number of timesteps as a new column\n",
    "# https://pandas.pydata.org/docs/reference/api/pandas.DataFrame.reset_index.html\n",
    "df_results_reset = df_results.copy()\n",
    "df_results_reset = df_results_reset.reset_index(col_fill='timesteps')\n",
    "\n",
    "# change the name of the first column from `index` to `timesteps`\n",
    "df_results_reset = df_results_reset.rename(columns={\"index\": \"timesteps\", \n",
    "                                                   \"Social Welfare (Online Myopic)_mean\": \"Online Myopic\",\n",
    "                                                   \"Social Welfare (PPO)_mean\": \"MARL (PPO)\",\n",
    "                                                   \"Social Welfare (Random Allocation)_mean\": \"Random Allocation\",\n",
    "                                                   \"Social Welfare (All Bidding Zero)_mean\": \"All Bidding Zero\",\n",
    "                                                   \"Social Welfare (Offline Optimal)_mean\": \"Offline Optimal\"}, errors='raise')\n",
    "\n",
    "df_results_reset.head()\n",
    "\n",
    "# make a dataframe for plotting several lines in one figure\n",
    "# https://stackoverflow.com/a/55579762/7060068\n",
    "\n",
    "df_results_preproc = pd.melt(df_results_reset, ['timesteps'], var_name='algorithms',\n",
    "                            value_name='mean social welfare')\n",
    "\n",
    "df_results_preproc.head()"
   ]
  },
  {
   "cell_type": "code",
   "execution_count": null,
   "metadata": {},
   "outputs": [],
   "source": [
    "# plot the results all in one figure\n",
    "# https://stackoverflow.com/a/55579762/7060068\n",
    "p = sns.lineplot(x='timesteps', y='mean social welfare', hue='algorithms', \n",
    "                 data=df_results_preproc)  # 2 actions (blue)\n",
    "p.axes.set_ylim(0)"
   ]
  },
  {
   "cell_type": "markdown",
   "metadata": {},
   "source": [
    "## 40 tasks, 5 actions, first-price auction, with-history, revenue as reward\n",
    "- lr=0.0001,layers=[256, 256],train_batch_size=3000"
   ]
  },
  {
   "cell_type": "code",
   "execution_count": null,
   "metadata": {},
   "outputs": [],
   "source": [
    "# get all names from the folder\n",
    "# https://stackoverflow.com/a/29206464/7060068\n",
    "import os\n",
    "\n",
    "path = '/Users/fan/OneDrive - University of Southampton/My-Projects/Edge-Cloud-Resource-Allocation/marl-edge-cloud/results/5-actions_first-price_with-history_revenue'\n",
    "dir_list = os.listdir(path)\n",
    "# print(dir_list)\n",
    "\n",
    "# read results in .json files\n",
    "import json\n",
    "\n",
    "hyperparamter_string = 'lr=0.0001,layers=[256, 256],train_batch_size=3000_2021-12-10'\n",
    "\n",
    "df_results = pd.DataFrame()\n",
    "results = []\n",
    "cntr=1\n",
    "for folder in dir_list:\n",
    "    file_path = f'{path}/{folder}/result.json'\n",
    "    if hyperparamter_string not in file_path:  # only consider the specific hyperparameters combination \n",
    "        continue\n",
    "    if not os.path.isfile(file_path):  # jump over useless paths\n",
    "        continue\n",
    "    # load data using Python JSON module\n",
    "#     print(file_path)\n",
    "    cntr+=1\n",
    "    with open(file_path) as f:\n",
    "        # json.loads (and json.load) does not decode multiple json object. So load each line at a time.\n",
    "        # https://stackoverflow.com/a/29312618/7060068\n",
    "        for line in f:\n",
    "            data = json.loads(line)\n",
    "#             print(data)\n",
    "#             break\n",
    "            data_row = data['custom_metrics']\n",
    "\n",
    "    #         df = pd.DataFrame.from_dict(data, index=0)\n",
    "            # https://stackoverflow.com/a/17840195/7060068\n",
    "            df = pd.DataFrame(data_row, index=[data['timesteps_total']])\n",
    "            results.append(df)\n",
    "\n",
    "df_results = pd.concat(results, axis=0)\n",
    "df_results.head()\n",
    "\n",
    "df_results = df_results[['Social Welfare (Online Myopic)_mean', 'Social Welfare (PPO)_mean', \n",
    "                         'Social Welfare (Random Allocation)_mean', 'Social Welfare (All Bidding Zero)_mean',\n",
    "                        'Social Welfare (Offline Optimal)_mean']]\n",
    "print(f\"number of trials = {cntr}\")\n",
    "print(f\"numbler of rows of the results: {len(df_results)}\")\n",
    "df_results.head()\n",
    "\n",
    "# make the number of timesteps as a new column\n",
    "# https://pandas.pydata.org/docs/reference/api/pandas.DataFrame.reset_index.html\n",
    "df_results_reset = df_results.copy()\n",
    "df_results_reset = df_results_reset.reset_index(col_fill='timesteps')\n",
    "\n",
    "# change the name of the first column from `index` to `timesteps`\n",
    "df_results_reset = df_results_reset.rename(columns={\"index\": \"timesteps\", \n",
    "                                                   \"Social Welfare (Online Myopic)_mean\": \"Online Myopic\",\n",
    "                                                   \"Social Welfare (PPO)_mean\": \"MARL (PPO)\",\n",
    "                                                   \"Social Welfare (Random Allocation)_mean\": \"Random Allocation\",\n",
    "                                                   \"Social Welfare (All Bidding Zero)_mean\": \"All Bidding Zero\",\n",
    "                                                   \"Social Welfare (Offline Optimal)_mean\": \"Offline Optimal\"}, errors='raise')\n",
    "\n",
    "df_results_reset.head()\n",
    "\n",
    "# make a dataframe for plotting several lines in one figure\n",
    "# https://stackoverflow.com/a/55579762/7060068\n",
    "\n",
    "df_results_preproc = pd.melt(df_results_reset, ['timesteps'], var_name='algorithms',\n",
    "                            value_name='mean social welfare')\n",
    "\n",
    "df_results_preproc.head()"
   ]
  },
  {
   "cell_type": "code",
   "execution_count": null,
   "metadata": {},
   "outputs": [],
   "source": [
    "# plot the results all in one figure\n",
    "# https://stackoverflow.com/a/55579762/7060068\n",
    "p = sns.lineplot(x='timesteps', y='mean social welfare', hue='algorithms', \n",
    "                 data=df_results_preproc)  # 2 actions (blue)\n",
    "p.axes.set_ylim(0)"
   ]
  },
  {
   "cell_type": "markdown",
   "metadata": {},
   "source": [
    "## 40 tasks, 5 actions, first-price auction, with-history, revenue as reward\n",
    "- lr=0.0001,layers=[256, 256],train_batch_size=4000"
   ]
  },
  {
   "cell_type": "code",
   "execution_count": null,
   "metadata": {},
   "outputs": [],
   "source": [
    "# get all names from the folder\n",
    "# https://stackoverflow.com/a/29206464/7060068\n",
    "import os\n",
    "\n",
    "path = '/Users/fan/OneDrive - University of Southampton/My-Projects/Edge-Cloud-Resource-Allocation/marl-edge-cloud/results/5-actions_first-price_with-history_revenue'\n",
    "dir_list = os.listdir(path)\n",
    "# print(dir_list)\n",
    "\n",
    "# read results in .json files\n",
    "import json\n",
    "\n",
    "hyperparamter_string = 'lr=0.0001,layers=[256, 256],train_batch_size=4000_2021-12-10'\n",
    "\n",
    "df_results = pd.DataFrame()\n",
    "results = []\n",
    "cntr=1\n",
    "for folder in dir_list:\n",
    "    file_path = f'{path}/{folder}/result.json'\n",
    "    if hyperparamter_string not in file_path:  # only consider the specific hyperparameters combination \n",
    "        continue\n",
    "    if not os.path.isfile(file_path):  # jump over useless paths\n",
    "        continue\n",
    "    # load data using Python JSON module\n",
    "#     print(file_path)\n",
    "    cntr+=1\n",
    "    with open(file_path) as f:\n",
    "        # json.loads (and json.load) does not decode multiple json object. So load each line at a time.\n",
    "        # https://stackoverflow.com/a/29312618/7060068\n",
    "        for line in f:\n",
    "            data = json.loads(line)\n",
    "#             print(data)\n",
    "#             break\n",
    "            data_row = data['custom_metrics']\n",
    "\n",
    "    #         df = pd.DataFrame.from_dict(data, index=0)\n",
    "            # https://stackoverflow.com/a/17840195/7060068\n",
    "            df = pd.DataFrame(data_row, index=[data['timesteps_total']])\n",
    "            results.append(df)\n",
    "\n",
    "df_results = pd.concat(results, axis=0)\n",
    "df_results.head()\n",
    "\n",
    "df_results = df_results[['Social Welfare (Online Myopic)_mean', 'Social Welfare (PPO)_mean', \n",
    "                         'Social Welfare (Random Allocation)_mean', 'Social Welfare (All Bidding Zero)_mean',\n",
    "                        'Social Welfare (Offline Optimal)_mean']]\n",
    "print(f\"number of trials = {cntr}\")\n",
    "print(f\"numbler of rows of the results: {len(df_results)}\")\n",
    "df_results.head()\n",
    "\n",
    "# make the number of timesteps as a new column\n",
    "# https://pandas.pydata.org/docs/reference/api/pandas.DataFrame.reset_index.html\n",
    "df_results_reset = df_results.copy()\n",
    "df_results_reset = df_results_reset.reset_index(col_fill='timesteps')\n",
    "\n",
    "# change the name of the first column from `index` to `timesteps`\n",
    "df_results_reset = df_results_reset.rename(columns={\"index\": \"timesteps\", \n",
    "                                                   \"Social Welfare (Online Myopic)_mean\": \"Online Myopic\",\n",
    "                                                   \"Social Welfare (PPO)_mean\": \"MARL (PPO)\",\n",
    "                                                   \"Social Welfare (Random Allocation)_mean\": \"Random Allocation\",\n",
    "                                                   \"Social Welfare (All Bidding Zero)_mean\": \"All Bidding Zero\",\n",
    "                                                   \"Social Welfare (Offline Optimal)_mean\": \"Offline Optimal\"}, errors='raise')\n",
    "\n",
    "df_results_reset.head()\n",
    "\n",
    "# make a dataframe for plotting several lines in one figure\n",
    "# https://stackoverflow.com/a/55579762/7060068\n",
    "\n",
    "df_results_preproc = pd.melt(df_results_reset, ['timesteps'], var_name='algorithms',\n",
    "                            value_name='mean social welfare')\n",
    "\n",
    "df_results_preproc.head()"
   ]
  },
  {
   "cell_type": "code",
   "execution_count": null,
   "metadata": {},
   "outputs": [],
   "source": [
    "# plot the results all in one figure\n",
    "# https://stackoverflow.com/a/55579762/7060068\n",
    "p = sns.lineplot(x='timesteps', y='mean social welfare', hue='algorithms', \n",
    "                 data=df_results_preproc)  # 2 actions (blue)\n",
    "p.axes.set_ylim(0)"
   ]
  },
  {
   "cell_type": "markdown",
   "metadata": {},
   "source": [
    "## 40 tasks, 5 actions, second-price auction, no-history, revenue as reward\n",
    "- lr=0.0001,layers=[256, 256, 256],train_batch_size=3000"
   ]
  },
  {
   "cell_type": "code",
   "execution_count": null,
   "metadata": {},
   "outputs": [],
   "source": [
    "# get all names from the folder\n",
    "# https://stackoverflow.com/a/29206464/7060068\n",
    "import os\n",
    "\n",
    "path = '/Users/fan/OneDrive - University of Southampton/My-Projects/Edge-Cloud-Resource-Allocation/marl-edge-cloud/results/5-actions_second-price_no-history_revenue'\n",
    "dir_list = os.listdir(path)\n",
    "# print(dir_list)\n",
    "\n",
    "# read results in .json files\n",
    "import json\n",
    "\n",
    "hyperparamter_string = 'lr=0.0001,layers=[256, 256, 256],train_batch_size=3000_2021-12-10'\n",
    "\n",
    "df_results = pd.DataFrame()\n",
    "results = []\n",
    "cntr=1\n",
    "for folder in dir_list:\n",
    "    file_path = f'{path}/{folder}/result.json'\n",
    "    if hyperparamter_string not in file_path:  # only consider the specific hyperparameters combination \n",
    "        continue\n",
    "    if not os.path.isfile(file_path):  # jump over useless paths\n",
    "        continue\n",
    "    # load data using Python JSON module\n",
    "#     print(file_path)\n",
    "    cntr+=1\n",
    "    with open(file_path) as f:\n",
    "        # json.loads (and json.load) does not decode multiple json object. So load each line at a time.\n",
    "        # https://stackoverflow.com/a/29312618/7060068\n",
    "        for line in f:\n",
    "            data = json.loads(line)\n",
    "#             print(data)\n",
    "#             break\n",
    "            data_row = data['custom_metrics']\n",
    "\n",
    "    #         df = pd.DataFrame.from_dict(data, index=0)\n",
    "            # https://stackoverflow.com/a/17840195/7060068\n",
    "            df = pd.DataFrame(data_row, index=[data['timesteps_total']])\n",
    "            results.append(df)\n",
    "\n",
    "df_results = pd.concat(results, axis=0)\n",
    "df_results.head()\n",
    "\n",
    "df_results = df_results[['Social Welfare (Online Myopic)_mean', 'Social Welfare (PPO)_mean', \n",
    "                         'Social Welfare (Random Allocation)_mean', 'Social Welfare (All Bidding Zero)_mean',\n",
    "                        'Social Welfare (Offline Optimal)_mean']]\n",
    "print(f\"number of trials = {cntr}\")\n",
    "print(f\"numbler of rows of the results: {len(df_results)}\")\n",
    "df_results.head()\n",
    "\n",
    "# make the number of timesteps as a new column\n",
    "# https://pandas.pydata.org/docs/reference/api/pandas.DataFrame.reset_index.html\n",
    "df_results_reset = df_results.copy()\n",
    "df_results_reset = df_results_reset.reset_index(col_fill='timesteps')\n",
    "\n",
    "# change the name of the first column from `index` to `timesteps`\n",
    "df_results_reset = df_results_reset.rename(columns={\"index\": \"timesteps\", \n",
    "                                                   \"Social Welfare (Online Myopic)_mean\": \"Online Myopic\",\n",
    "                                                   \"Social Welfare (PPO)_mean\": \"MARL (PPO)\",\n",
    "                                                   \"Social Welfare (Random Allocation)_mean\": \"Random Allocation\",\n",
    "                                                   \"Social Welfare (All Bidding Zero)_mean\": \"All Bidding Zero\",\n",
    "                                                   \"Social Welfare (Offline Optimal)_mean\": \"Offline Optimal\"}, errors='raise')\n",
    "\n",
    "df_results_reset.head()\n",
    "\n",
    "# make a dataframe for plotting several lines in one figure\n",
    "# https://stackoverflow.com/a/55579762/7060068\n",
    "\n",
    "df_results_preproc = pd.melt(df_results_reset, ['timesteps'], var_name='algorithms',\n",
    "                            value_name='mean social welfare')\n",
    "\n",
    "df_results_preproc.head()"
   ]
  },
  {
   "cell_type": "code",
   "execution_count": null,
   "metadata": {},
   "outputs": [],
   "source": [
    "# plot the results all in one figure\n",
    "# https://stackoverflow.com/a/55579762/7060068\n",
    "p = sns.lineplot(x='timesteps', y='mean social welfare', hue='algorithms', \n",
    "                 data=df_results_preproc)  # 2 actions (blue)\n",
    "p.axes.set_ylim(0)"
   ]
  },
  {
   "cell_type": "code",
   "execution_count": null,
   "metadata": {},
   "outputs": [],
   "source": [
    "1/0"
   ]
  },
  {
   "cell_type": "code",
   "execution_count": null,
   "metadata": {},
   "outputs": [],
   "source": [
    "1/0"
   ]
  },
  {
   "cell_type": "markdown",
   "metadata": {},
   "source": [
    "## 40 tasks, 5 actions, second-price auction, no-history"
   ]
  },
  {
   "cell_type": "code",
   "execution_count": null,
   "metadata": {},
   "outputs": [],
   "source": [
    "# get all names from the folder\n",
    "# https://stackoverflow.com/a/29206464/7060068\n",
    "import os\n",
    "\n",
    "path = '/Users/fan/OneDrive - University of Southampton/My-Projects/Edge-Cloud-Resource-Allocation/marl-edge-cloud/results/5-actions_second-price_no-history_revenue'\n",
    "dir_list = os.listdir(path)\n",
    "# print(dir_list)"
   ]
  },
  {
   "cell_type": "code",
   "execution_count": null,
   "metadata": {},
   "outputs": [],
   "source": [
    "# read results in .json files\n",
    "import json\n",
    "\n",
    "hyperparamter_string = 'lr=0.0001,layers=[256, 256],train_batch_size=3000'\n",
    "\n",
    "df_results = pd.DataFrame()\n",
    "results = []\n",
    "for folder in dir_list:\n",
    "    file_path = f'{path}/{folder}/result.json'\n",
    "    if hyperparamter_string not in file_path:  # only consider the specific hyperparameters combination \n",
    "        continue\n",
    "    if not os.path.isfile(file_path):  # jump over useless paths\n",
    "        continue\n",
    "    # load data using Python JSON module\n",
    "#     print(file_path)\n",
    "    with open(file_path) as f:\n",
    "        # json.loads (and json.load) does not decode multiple json object. So load each line at a time.\n",
    "        # https://stackoverflow.com/a/29312618/7060068\n",
    "        for line in f:\n",
    "            data = json.loads(line)\n",
    "#             print(data)\n",
    "#             break\n",
    "            data_row = data['custom_metrics']\n",
    "\n",
    "    #         df = pd.DataFrame.from_dict(data, index=0)\n",
    "            # https://stackoverflow.com/a/17840195/7060068\n",
    "            df = pd.DataFrame(data_row, index=[data['timesteps_total']])\n",
    "            results.append(df)\n",
    "\n",
    "df_results = pd.concat(results, axis=0)\n",
    "df_results = df_results[['Social Welfare (Online Myopic)_mean', 'Social Welfare_mean', \n",
    "                         'Social Welfare (Random Allocation)_mean', 'Social Welfare (All Bidding Zero)_mean']]\n",
    "print(len(df_results))\n",
    "df_results.head(10)"
   ]
  },
  {
   "cell_type": "code",
   "execution_count": null,
   "metadata": {},
   "outputs": [],
   "source": [
    "# make the number of timesteps as a new column\n",
    "# https://pandas.pydata.org/docs/reference/api/pandas.DataFrame.reset_index.html\n",
    "df_results_reset = df_results.copy()\n",
    "df_results_reset = df_results_reset.reset_index(col_fill='timesteps')"
   ]
  },
  {
   "cell_type": "code",
   "execution_count": null,
   "metadata": {},
   "outputs": [],
   "source": [
    "# change the name of the first column from `index` to `timesteps`\n",
    "df_results_reset = df_results_reset.rename(columns={\"index\": \"timesteps\", \n",
    "                                                   \"Social Welfare (Online Myopic)_mean\": \"Online Myopic\",\n",
    "                                                   \"Social Welfare_mean\": \"MARL\",\n",
    "                                                   \"Social Welfare (Random Allocation)_mean\": \"Random Allocation\",\n",
    "                                                   \"Social Welfare (All Bidding Zero)_mean\": \"All Bidding Zero\"}, errors='raise')"
   ]
  },
  {
   "cell_type": "code",
   "execution_count": null,
   "metadata": {},
   "outputs": [],
   "source": [
    "df_results_reset.head()"
   ]
  },
  {
   "cell_type": "code",
   "execution_count": null,
   "metadata": {},
   "outputs": [],
   "source": [
    "# make a dataframe for plotting several lines in one figure\n",
    "# https://stackoverflow.com/a/55579762/7060068\n",
    "\n",
    "df_results_preproc = pd.melt(df_results_reset, ['timesteps'], var_name='algorithms',\n",
    "                            value_name='mean social welfare')"
   ]
  },
  {
   "cell_type": "code",
   "execution_count": null,
   "metadata": {},
   "outputs": [],
   "source": [
    "df_results_preproc.head()"
   ]
  },
  {
   "cell_type": "code",
   "execution_count": null,
   "metadata": {},
   "outputs": [],
   "source": [
    "# plot the results all in one figure\n",
    "# https://stackoverflow.com/a/55579762/7060068\n",
    "p = sns.lineplot(x='timesteps', y='mean social welfare', hue='algorithms', \n",
    "                 data=df_results_preproc)  # 2 actions (blue)\n",
    "p.axes.set_ylim(0)"
   ]
  },
  {
   "cell_type": "code",
   "execution_count": null,
   "metadata": {},
   "outputs": [],
   "source": [
    "1/0"
   ]
  },
  {
   "cell_type": "markdown",
   "metadata": {},
   "source": [
    "## 40 tasks, 5 actions, first-price auction, with-history"
   ]
  },
  {
   "cell_type": "code",
   "execution_count": null,
   "metadata": {},
   "outputs": [],
   "source": [
    "# get all names from the folder\n",
    "# https://stackoverflow.com/a/29206464/7060068\n",
    "import os\n",
    "\n",
    "path = '/Users/fan/OneDrive - University of Southampton/My-Projects/Edge-Cloud-Resource-Allocation/marl-edge-cloud/results/5-actions_first-price_with-history_revenue'\n",
    "dir_list = os.listdir(path)\n",
    "# print(dir_list)"
   ]
  },
  {
   "cell_type": "code",
   "execution_count": null,
   "metadata": {},
   "outputs": [],
   "source": [
    "# read results in .json files\n",
    "import json\n",
    "\n",
    "hyperparamter_string = 'lr=0.0001,layers=[256, 256],train_batch_size=3000'\n",
    "\n",
    "df_results = pd.DataFrame()\n",
    "results = []\n",
    "for folder in dir_list:\n",
    "    file_path = f'{path}/{folder}/result.json'\n",
    "    if hyperparamter_string not in file_path:  # only consider the specific hyperparameters combination \n",
    "        continue\n",
    "    if not os.path.isfile(file_path):  # jump over useless paths\n",
    "        continue\n",
    "    # load data using Python JSON module\n",
    "#     print(file_path)\n",
    "    with open(file_path) as f:\n",
    "        # json.loads (and json.load) does not decode multiple json object. So load each line at a time.\n",
    "        # https://stackoverflow.com/a/29312618/7060068\n",
    "        for line in f:\n",
    "            data = json.loads(line)\n",
    "#             print(data)\n",
    "#             break\n",
    "            data_row = data['custom_metrics']\n",
    "\n",
    "    #         df = pd.DataFrame.from_dict(data, index=0)\n",
    "            # https://stackoverflow.com/a/17840195/7060068\n",
    "            df = pd.DataFrame(data_row, index=[data['timesteps_total']])\n",
    "            results.append(df)\n",
    "\n",
    "df_results = pd.concat(results, axis=0)\n",
    "df_results = df_results[['Social Welfare (Online Myopic)_mean', 'Social Welfare_mean', \n",
    "                         'Social Welfare (Random Allocation)_mean', 'Social Welfare (All Bidding Zero)_mean']]\n",
    "print(len(df_results))\n",
    "df_results.head(10)"
   ]
  },
  {
   "cell_type": "code",
   "execution_count": null,
   "metadata": {},
   "outputs": [],
   "source": [
    "# make the number of timesteps as a new column\n",
    "# https://pandas.pydata.org/docs/reference/api/pandas.DataFrame.reset_index.html\n",
    "df_results_reset = df_results.copy()\n",
    "df_results_reset = df_results_reset.reset_index(col_fill='timesteps')"
   ]
  },
  {
   "cell_type": "code",
   "execution_count": null,
   "metadata": {},
   "outputs": [],
   "source": [
    "# change the name of the first column from `index` to `timesteps`\n",
    "df_results_reset = df_results_reset.rename(columns={\"index\": \"timesteps\", \n",
    "                                                   \"Social Welfare (Online Myopic)_mean\": \"Online Myopic\",\n",
    "                                                   \"Social Welfare_mean\": \"MARL\",\n",
    "                                                   \"Social Welfare (Random Allocation)_mean\": \"Random Allocation\",\n",
    "                                                   \"Social Welfare (All Bidding Zero)_mean\": \"All Bidding Zero\"}, errors='raise')"
   ]
  },
  {
   "cell_type": "code",
   "execution_count": null,
   "metadata": {},
   "outputs": [],
   "source": [
    "df_results_reset.head()"
   ]
  },
  {
   "cell_type": "code",
   "execution_count": null,
   "metadata": {},
   "outputs": [],
   "source": [
    "# make a dataframe for plotting several lines in one figure\n",
    "# https://stackoverflow.com/a/55579762/7060068\n",
    "\n",
    "df_results_preproc = pd.melt(df_results_reset, ['timesteps'], var_name='algorithms',\n",
    "                            value_name='mean social welfare')"
   ]
  },
  {
   "cell_type": "code",
   "execution_count": null,
   "metadata": {},
   "outputs": [],
   "source": [
    "df_results_preproc.head()"
   ]
  },
  {
   "cell_type": "code",
   "execution_count": null,
   "metadata": {},
   "outputs": [],
   "source": [
    "# plot the results all in one figure\n",
    "# https://stackoverflow.com/a/55579762/7060068\n",
    "p = sns.lineplot(x='timesteps', y='mean social welfare', hue='algorithms', \n",
    "                 data=df_results_preproc)  # 2 actions (blue)\n",
    "p.axes.set_ylim(0)"
   ]
  },
  {
   "cell_type": "code",
   "execution_count": null,
   "metadata": {},
   "outputs": [],
   "source": [
    "1/0"
   ]
  },
  {
   "cell_type": "markdown",
   "metadata": {},
   "source": [
    "### Online Myopic"
   ]
  },
  {
   "cell_type": "code",
   "execution_count": null,
   "metadata": {},
   "outputs": [],
   "source": [
    "# plot the confidence interval for the mean\n",
    "# https://stackoverflow.com/a/44941463/7060068\n",
    "\n",
    "p = sns.lineplot(x=df_results.index, y='Social Welfare (Online Myopic)_mean', data=df_results)  # 2 actions (blue)\n",
    "p.set_xlabel(\"Timesteps\", fontsize = 14)\n",
    "p.set_ylabel(\"Mean Social Welfare\", fontsize = 14)\n",
    "# https://stackoverflow.com/a/57101557/7060068\n",
    "p.axes.set_ylim(0)"
   ]
  },
  {
   "cell_type": "markdown",
   "metadata": {},
   "source": [
    "### All Bidding Zero"
   ]
  },
  {
   "cell_type": "code",
   "execution_count": null,
   "metadata": {},
   "outputs": [],
   "source": [
    "p = sns.lineplot(x=df_results.index, y='Social Welfare (All Bidding Zero)_mean', data=df_results)  # 2 actions (blue)\n",
    "p.set_xlabel(\"Timesteps\", fontsize = 14)\n",
    "p.set_ylabel(\"Mean Social Welfare\", fontsize = 14)\n",
    "p.axes.set_ylim(0)"
   ]
  },
  {
   "cell_type": "markdown",
   "metadata": {},
   "source": [
    "### MARL"
   ]
  },
  {
   "cell_type": "code",
   "execution_count": null,
   "metadata": {},
   "outputs": [],
   "source": [
    "p = sns.lineplot(x=df_results.index, y='Social Welfare_mean', data=df_results)  # 2 actions (blue)\n",
    "p.set_xlabel(\"Timesteps\", fontsize = 14)\n",
    "p.set_ylabel(\"Mean Social Welfare\", fontsize = 14)\n",
    "p.axes.set_ylim(0)"
   ]
  },
  {
   "cell_type": "markdown",
   "metadata": {},
   "source": [
    "### Random Allocation"
   ]
  },
  {
   "cell_type": "code",
   "execution_count": null,
   "metadata": {},
   "outputs": [],
   "source": [
    "p = sns.lineplot(x=df_results.index, y='Social Welfare (Random Allocation)_mean', data=df_results)  # 2 actions (blue)\n",
    "p.set_xlabel(\"Timesteps\", fontsize = 14)\n",
    "p.set_ylabel(\"Mean Social Welfare\", fontsize = 14)\n",
    "p.axes.set_ylim(0)"
   ]
  },
  {
   "cell_type": "code",
   "execution_count": null,
   "metadata": {},
   "outputs": [],
   "source": [
    "1/0"
   ]
  },
  {
   "cell_type": "markdown",
   "metadata": {},
   "source": [
    "## Use data from the progress.csv file."
   ]
  },
  {
   "cell_type": "code",
   "execution_count": null,
   "metadata": {},
   "outputs": [],
   "source": [
    "# load from file\n",
    "# https://thispointer.com/python-three-ways-to-check-if-a-file-is-empty/\n",
    "# concatenating df1 and df2 along rows\n",
    "# vertical_concat = pd.concat([df1, df2], axis=0)\n",
    "# https://www.geeksforgeeks.org/how-to-concatenate-two-or-more-pandas-dataframes/\n",
    "hyperparamter_string = 'lr=0.0001,train_batch_size=3000'\n",
    "df_results = pd.DataFrame()\n",
    "for folder in dir_list:\n",
    "    file_path = f'{path}/{folder}/progress.csv'\n",
    "    if not os.path.isfile(file_path):  # jump over useless paths\n",
    "        continue\n",
    "    if hyperparamter_string not in file_path:  # only consider the specific hyperparameters combination \n",
    "        continue\n",
    "    with open (file_path) as f:\n",
    "        if os.stat(file_path).st_size != 0:\n",
    "            df_f = pd.read_csv(f)\n",
    "            if df_results.empty:\n",
    "                df_results = df_f\n",
    "            else:\n",
    "                df_results = df_results.append(df_f, ignore_index = True)"
   ]
  },
  {
   "cell_type": "code",
   "execution_count": null,
   "metadata": {},
   "outputs": [],
   "source": [
    "print(len(df_results))\n",
    "df_results.head()"
   ]
  },
  {
   "cell_type": "code",
   "execution_count": null,
   "metadata": {},
   "outputs": [],
   "source": [
    "df_results1 = df_results"
   ]
  },
  {
   "cell_type": "code",
   "execution_count": null,
   "metadata": {},
   "outputs": [],
   "source": [
    "path = '/Users/fan/OneDrive - University of Southampton/My-Projects/Edge-Cloud-Resource-Allocation/marl-edge-cloud/results/edge_cloud_independent_ppo_with_history_2_actions'\n",
    "dir_list = os.listdir(path)\n",
    "hyperparamter_string = 'lr=0.0001,train_batch_size=3000'\n",
    "df_results = pd.DataFrame()\n",
    "for folder in dir_list:\n",
    "    file_path = f'{path}/{folder}/progress.csv'\n",
    "    if not os.path.isfile(file_path):  # jump over useless paths\n",
    "        continue\n",
    "    if hyperparamter_string not in file_path:  # only consider the specific hyperparameters combination \n",
    "        continue\n",
    "    with open (file_path) as f:\n",
    "        if os.stat(file_path).st_size != 0:\n",
    "            df_f = pd.read_csv(f)\n",
    "            if df_results.empty:\n",
    "                df_results = df_f\n",
    "            else:\n",
    "                df_results = df_results.append(df_f, ignore_index = True)"
   ]
  },
  {
   "cell_type": "code",
   "execution_count": null,
   "metadata": {},
   "outputs": [],
   "source": [
    "# plot the confidence interval for the mean\n",
    "# dont't have customised measurements in the progress.csv file, maybe we need to get data from the *.json file.\n",
    "sns.lineplot(x='timesteps_total',y='episode_reward_mean', data=df_results)  # 2 actions (blue)\n",
    "# sns.lineplot(x='timesteps_total',y='episode_reward_mean', data=df_results1)  # 5 actions (yellow)"
   ]
  },
  {
   "cell_type": "code",
   "execution_count": null,
   "metadata": {},
   "outputs": [],
   "source": [
    "# test if some file is missing\n",
    "oo = {}\n",
    "NoT = 40 # number of tasks in the whole time period\n",
    "NoS = 60 # number of samples\n",
    "for F in [8.0]:\n",
    "    for k in [0.35, 0.4, 0.45]:\n",
    "        for i in range(30,NoS):\n",
    "            f = open('simulation_results_ILP\\\\s2(sw)'\n",
    "                                                 +'_'+str(NoT)+'_'+str(k)+'_'+str(F)+'_'+str(i)+'.csv')\n",
    "           \n",
    "            f.close()"
   ]
  },
  {
   "cell_type": "code",
   "execution_count": null,
   "metadata": {},
   "outputs": [],
   "source": [
    "# print the value of the file\n",
    "NoT = 20 # number of tasks in the whole time period\n",
    "NoS = 23 # number of samples\n",
    "F = 8.0\n",
    "k = 0.35\n",
    "\n",
    "\n",
    "f = open('simulation_results_ILP\\\\fog(tm)'\n",
    "                                                 +'_'+str(NoT)+'_'+str(k)+'_'+str(F)+'_'+str(i)+'.csv')\n",
    "csv_f = csv.reader(f)\n",
    "for row in csv_f:\n",
    "    print(float(row[0]))\n",
    "f.close()"
   ]
  },
  {
   "cell_type": "code",
   "execution_count": null,
   "metadata": {},
   "outputs": [],
   "source": [
    "# get the data\n",
    "oo = {}\n",
    "NoT = 20 # number of tasks in the whole time period\n",
    "NoS = 100 # number of samples\n",
    "for F in [8.0]:\n",
    "    for k in [0.35, 0.4, 0.45]:\n",
    "        for i in range(NoS):\n",
    "            f = open('simulation_results_ILP\\\\oo(sw)'\n",
    "                                                 +'_'+str(NoT)+'_'+str(k)+'_'+str(F)+'_'+str(i)+'.csv')\n",
    "            csv_f = csv.reader(f)\n",
    "            for row in csv_f:\n",
    "                oo['sw', NoT, k, F, i] = float(row[0])\n",
    "            f.close()\n",
    "\n",
    "# s2 = {}\n",
    "# NoT = 20\n",
    "# NoS = 100 # number of samples\n",
    "# for F in [8.0]:\n",
    "#     for k in [0.35, 0.4, 0.45]:\n",
    "#         for i in range(1,NoS+1):\n",
    "#             f = open('simulation_results_ILP\\s2(sw)'\n",
    "#                                                  +'_'+str(NoT)+'_'+str(k)+'_'+str(F)+'_'+str(i)+'.csv')\n",
    "#             csv_f = csv.reader(f)\n",
    "#             for row in csv_f:\n",
    "#                 s2['sw', NoT, k, F, i] = float(row[0])\n",
    "#             f.close()\n",
    "\n",
    "og = {}\n",
    "NoT = 20\n",
    "NoS = 100 # number of samples\n",
    "for F in [8.0]:\n",
    "    for k in [0.35, 0.4, 0.45]:\n",
    "        for i in range(NoS):\n",
    "            f = open('simulation_results_ILP/og(sw)'\n",
    "                                                 +'_'+str(NoT)+'_'+str(k)+'_'+str(F)+'_'+str(i)+'.csv')\n",
    "            csv_f = csv.reader(f)\n",
    "            for row in csv_f:\n",
    "                og['sw', NoT, k, F, i] = float(row[0])\n",
    "            f.close()\n",
    "            \n",
    "fog = {}\n",
    "NoT = 20\n",
    "NoS = 100 # number of samples\n",
    "for F in [8.0]:\n",
    "    for k in [0.35, 0.4, 0.45]:\n",
    "        for i in range(NoS):\n",
    "            f = open('simulation_results_ILP/fog(sw)' \n",
    "                                                 +'_'+str(NoT)+'_'+str(k)+'_'+str(F)+'_'+str(i)+'.csv')\n",
    "            csv_f = csv.reader(f)\n",
    "            for row in csv_f:\n",
    "                fog['sw', NoT, k, F, i] = float(row[0])\n",
    "            f.close()"
   ]
  },
  {
   "cell_type": "code",
   "execution_count": null,
   "metadata": {},
   "outputs": [],
   "source": [
    "# whe F = 8 construct a dataframe\n",
    "d = {}\n",
    "F = 8.0\n",
    "NoT = 20\n",
    "\n",
    "for k in [0.35, 0.4, 0.45]:\n",
    "    d[k] = [oo['sw', NoT, k, F, i] for i in range(10)]\n",
    "result_oo = pd.DataFrame(data=d)\n",
    "# print(result_oo)\n",
    "# for k in [0.35, 0.4, 0.45]:\n",
    "#     d[k] = [s2['sw', NoT, k, F, i] for i in range(10)]\n",
    "# result_s2 = pd.DataFrame(data=d)\n",
    "\n",
    "# online greedy：\n",
    "for k in [0.35, 0.4, 0.45]:\n",
    "    d[k] = [og['sw', NoT, k, F, i] for i in range(10)]\n",
    "result_og = pd.DataFrame(data=d)\n",
    "\n",
    "# online greedy：\n",
    "for k in [0.35, 0.4, 0.45]:\n",
    "    d[k] = [fog['sw', NoT, k, F, i] for i in range(10)]\n",
    "result_fog = pd.DataFrame(data=d)"
   ]
  },
  {
   "cell_type": "code",
   "execution_count": null,
   "metadata": {},
   "outputs": [],
   "source": [
    "result_oo.head()\n",
    "result_fog.head()"
   ]
  },
  {
   "cell_type": "code",
   "execution_count": null,
   "metadata": {},
   "outputs": [],
   "source": [
    "mean_oo = result_oo.mean(axis = 0)\n",
    "# pd.DataFrame.std: Return sample standard deviation\n",
    "std_oo = result_oo.std(axis = 0)  \n",
    "\n",
    "mean_og = result_og.mean(axis = 0)\n",
    "# pd.DataFrame.std: Return sample standard deviation\n",
    "std_og = result_og.std(axis = 0)  \n",
    "\n",
    "mean_fog = result_fog.mean(axis = 0)\n",
    "# pd.DataFrame.std: Return sample standard deviation\n",
    "std_fog = result_fog.std(axis = 0)  "
   ]
  },
  {
   "cell_type": "code",
   "execution_count": null,
   "metadata": {},
   "outputs": [],
   "source": [
    "stats.t.ppf(1-0.025, NoS -1)"
   ]
  },
  {
   "cell_type": "code",
   "execution_count": null,
   "metadata": {},
   "outputs": [],
   "source": [
    "# Degrees of Freedom = n – 1, \n",
    "plt.errorbar(mean_oo.index, mean_oo, xerr = 0, \n",
    "             yerr = std_oo / np.sqrt(NoS) * stats.t.ppf(1-0.025, NoS -1), uplims =True, lolims = True)\n",
    "plt.errorbar(mean_og.index, mean_og, xerr = 0, \n",
    "             yerr = std_og / np.sqrt(NoS) * stats.t.ppf(1-0.025, NoS -1), uplims =True, lolims = True)\n",
    "plt.errorbar(mean_fog.index, mean_fog, xerr = 0, \n",
    "             yerr = std_fog / np.sqrt(NoS) * stats.t.ppf(1-0.025, NoS -1), uplims =True, lolims = True)\n",
    "\n",
    "# plt.errorbar(mean_sp.index, mean_sp, xerr = 0, yerr = std_sp * 2.024, uplims =True, lolims = True)\n",
    "# plt.errorbar(mean_ogwf.index, mean_ogwf, xerr = 0, yerr = std_ogwf * 2.201, uplims =True, lolims = True)\n",
    "\n",
    "# plt.legend(['offline optimal','online greedy','SWMOA', 'flexible online greedy'], loc = 'lower right')\n",
    "plt.legend(['offline optimal','online greedy','flexible online greedy'],\n",
    "           loc = 'lower right')\n",
    "plt.xlabel(\"resource coefficient\")\n",
    "plt.ylabel(\"social welfare\")\n",
    "\n",
    "# setting y axis limit\n",
    "axes = plt.gca()\n",
    "# axes.set_ylim([0,150])\n",
    "\n",
    "plt.show\n",
    "# plt.savefig('comparison of four algorithms.png')"
   ]
  },
  {
   "cell_type": "code",
   "execution_count": null,
   "metadata": {},
   "outputs": [],
   "source": [
    "figure = result_oo.boxplot(column = [0.1, 0.2, 0.3, 0.4, 0.5, 0.6], grid = False)\n",
    "figure"
   ]
  },
  {
   "cell_type": "code",
   "execution_count": null,
   "metadata": {},
   "outputs": [],
   "source": [
    "result_ogf = pd.read_csv(\"ogf.csv\", names =[0.1, 0.2, 0.3, 0.4, 0.5, 0.6])\n",
    "result_ogf"
   ]
  },
  {
   "cell_type": "code",
   "execution_count": null,
   "metadata": {},
   "outputs": [],
   "source": [
    "figure = result_ogf.boxplot(column = [0.1, 0.2, 0.3, 0.4, 0.5, 0.6], grid = False)\n",
    "figure"
   ]
  }
 ],
 "metadata": {
  "kernelspec": {
   "display_name": "Python 3",
   "language": "python",
   "name": "python3"
  },
  "language_info": {
   "codemirror_mode": {
    "name": "ipython",
    "version": 3
   },
   "file_extension": ".py",
   "mimetype": "text/x-python",
   "name": "python",
   "nbconvert_exporter": "python",
   "pygments_lexer": "ipython3",
   "version": "3.6.13"
  }
 },
 "nbformat": 4,
 "nbformat_minor": 4
}
