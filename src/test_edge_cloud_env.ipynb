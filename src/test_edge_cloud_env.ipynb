{
 "cells": [
  {
   "cell_type": "markdown",
   "id": "e0c75a76",
   "metadata": {},
   "source": [
    "# Reproduce the example in the documentation\n",
    "https://docs.ray.io/en/master/rllib-env.html"
   ]
  },
  {
   "cell_type": "code",
   "execution_count": 17,
   "id": "1e2fec73",
   "metadata": {},
   "outputs": [],
   "source": [
    "from ray.rllib.env.multi_agent_env import MultiAgentEnv, make_multi_agent"
   ]
  },
  {
   "cell_type": "code",
   "execution_count": 20,
   "id": "887afa40",
   "metadata": {},
   "outputs": [],
   "source": [
    "# create a two-agents environment\n",
    "env = make_multi_agent(\"CartPole-v0\")\n",
    "env = env({\"num_agents\": 2})"
   ]
  },
  {
   "cell_type": "code",
   "execution_count": 22,
   "id": "ce1a647b",
   "metadata": {},
   "outputs": [
    {
     "name": "stdout",
     "output_type": "stream",
     "text": [
      "{0: array([-0.01186764, -0.01690307, -0.03482541,  0.00744292]), 1: array([ 0.04030211, -0.0495211 , -0.02017659, -0.01807976])}\n"
     ]
    }
   ],
   "source": [
    "# initial observations\n",
    "print(env.reset())"
   ]
  },
  {
   "cell_type": "code",
   "execution_count": 25,
   "id": "f8158ce0",
   "metadata": {},
   "outputs": [],
   "source": [
    "# take a step\n",
    "new_obs, rewards, dones, infos = env.step({0: 0, 1: 1})"
   ]
  },
  {
   "cell_type": "code",
   "execution_count": 26,
   "id": "c18acbe0",
   "metadata": {},
   "outputs": [
    {
     "name": "stdout",
     "output_type": "stream",
     "text": [
      "{0: 1.0, 1: 1.0}\n"
     ]
    }
   ],
   "source": [
    "print(rewards)"
   ]
  },
  {
   "cell_type": "code",
   "execution_count": 27,
   "id": "f5f5211c",
   "metadata": {},
   "outputs": [
    {
     "name": "stdout",
     "output_type": "stream",
     "text": [
      "{0: False, 1: False, '__all__': False}\n"
     ]
    }
   ],
   "source": [
    "# whether the epsodes are done\n",
    "print(dones)"
   ]
  },
  {
   "cell_type": "markdown",
   "id": "184d512e",
   "metadata": {},
   "source": [
    "# See how the GridWorldObstacleEnv works"
   ]
  },
  {
   "cell_type": "code",
   "execution_count": 9,
   "id": "6e3dac8e",
   "metadata": {},
   "outputs": [],
   "source": [
    "from environments.gridworld_obstacles.simulation.environment import GridWorldObstaclesEnv\n",
    "from common.config_file_handler import load_yaml"
   ]
  },
  {
   "cell_type": "code",
   "execution_count": 10,
   "id": "ea8d8ecf",
   "metadata": {
    "collapsed": true,
    "jupyter": {
     "outputs_hidden": true
    },
    "tags": []
   },
   "outputs": [
    {
     "name": "stdout",
     "output_type": "stream",
     "text": [
      "{'name': 'gridworld_obstacles_independent_ppo_fc_depth1', 'env': 'gridworld_obstacles_vision_net', 'env-config': {'width': 40, 'height': 40, 'num_survivors': 20, 'num_agents': 3, 'start_world': [[]], 'sight': 5, 'battery': 500, 'rewards': {'rescue': 1, 'hit tree': 0, 'exploring': 0.01}, 'battery costs': {'rotate left': 1, 'rotate right': 1, 'advance': 2}, 'fire spread': {'starting points': 0, 'covariance': [[3, 0], [0, 3]], 'rate': 0.1}, 'autogen config': {'forest fire': {'chance': 1, 'trees': {'scale': 20.0, 'octaves': 8, 'persistence': 0.5, 'lacunarity': 2.0, 'threshold': 0.07}, 'rocks': {'scale': 6.0, 'octaves': 10, 'persistence': 0.5, 'lacunarity': 5.0, 'threshold': 0.2}, 'hq': {'size': 5}}}}, 'trainer': 'PPO', 'trainer-config': {'framework': 'torch', 'num_envs_per_worker': 1, 'num_workers': 2, 'num_gpus': 1, 'model': {'custom_model': 'FCModel', 'custom_model_config': {'layers': [256]}}, 'lr': 8e-05, 'lambda': 1.0, 'entropy_coeff': 0.0, 'rollout_fragment_length': 200, 'train_batch_size': 4000, 'sgd_minibatch_size': 128}, 'stop': {'timesteps_total': 1000000}, 'samples': 8}\n"
     ]
    }
   ],
   "source": [
    "config = load_yaml('/mainfs/home/fb1n15/MARL-Jack/marl-disaster-relief/configs/experiments/fc_depth/ppo_fc_independent_depth1.yaml')\n",
    "print(config)"
   ]
  },
  {
   "cell_type": "code",
   "execution_count": 11,
   "id": "e7fd3220",
   "metadata": {
    "collapsed": true,
    "jupyter": {
     "outputs_hidden": true
    },
    "tags": []
   },
   "outputs": [
    {
     "data": {
      "text/plain": [
       "{'width': 40,\n",
       " 'height': 40,\n",
       " 'num_survivors': 20,\n",
       " 'num_agents': 3,\n",
       " 'start_world': [[]],\n",
       " 'sight': 5,\n",
       " 'battery': 500,\n",
       " 'rewards': {'rescue': 1, 'hit tree': 0, 'exploring': 0.01},\n",
       " 'battery costs': {'rotate left': 1, 'rotate right': 1, 'advance': 2},\n",
       " 'fire spread': {'starting points': 0,\n",
       "  'covariance': [[3, 0], [0, 3]],\n",
       "  'rate': 0.1},\n",
       " 'autogen config': {'forest fire': {'chance': 1,\n",
       "   'trees': {'scale': 20.0,\n",
       "    'octaves': 8,\n",
       "    'persistence': 0.5,\n",
       "    'lacunarity': 2.0,\n",
       "    'threshold': 0.07},\n",
       "   'rocks': {'scale': 6.0,\n",
       "    'octaves': 10,\n",
       "    'persistence': 0.5,\n",
       "    'lacunarity': 5.0,\n",
       "    'threshold': 0.2},\n",
       "   'hq': {'size': 5}}}}"
      ]
     },
     "execution_count": 11,
     "metadata": {},
     "output_type": "execute_result"
    }
   ],
   "source": [
    "env_config = config['env-config']\n",
    "env_config"
   ]
  },
  {
   "cell_type": "code",
   "execution_count": 12,
   "id": "5d27679e",
   "metadata": {},
   "outputs": [],
   "source": [
    "env = GridWorldObstaclesEnv(env_config)"
   ]
  },
  {
   "cell_type": "code",
   "execution_count": 13,
   "id": "d20ac278",
   "metadata": {
    "scrolled": true,
    "tags": []
   },
   "outputs": [
    {
     "name": "stdout",
     "output_type": "stream",
     "text": [
      "{'drone_0': array([[[False, False, False],\n",
      "        [False, False, False],\n",
      "        [False, False, False],\n",
      "        [False, False, False],\n",
      "        [False, False, False],\n",
      "        [False, False, False],\n",
      "        [False, False, False],\n",
      "        [False, False,  True],\n",
      "        [False, False, False],\n",
      "        [False, False, False],\n",
      "        [False, False, False]],\n",
      "\n",
      "       [[False, False, False],\n",
      "        [False, False, False],\n",
      "        [False, False, False],\n",
      "        [False, False, False],\n",
      "        [False, False, False],\n",
      "        [False, False, False],\n",
      "        [False, False, False],\n",
      "        [False, False, False],\n",
      "        [False, False, False],\n",
      "        [False, False, False],\n",
      "        [False, False, False]],\n",
      "\n",
      "       [[False, False, False],\n",
      "        [False, False, False],\n",
      "        [False, False, False],\n",
      "        [False, False, False],\n",
      "        [False, False, False],\n",
      "        [False, False, False],\n",
      "        [False, False, False],\n",
      "        [False, False, False],\n",
      "        [False, False, False],\n",
      "        [False, False, False],\n",
      "        [False, False, False]],\n",
      "\n",
      "       [[False, False, False],\n",
      "        [False, False, False],\n",
      "        [False, False, False],\n",
      "        [False, False, False],\n",
      "        [False, False, False],\n",
      "        [False, False,  True],\n",
      "        [False, False, False],\n",
      "        [False, False, False],\n",
      "        [False, False, False],\n",
      "        [False, False, False],\n",
      "        [False, False, False]],\n",
      "\n",
      "       [[False, False, False],\n",
      "        [False, False, False],\n",
      "        [False, False, False],\n",
      "        [False, False, False],\n",
      "        [False, False, False],\n",
      "        [False, False, False],\n",
      "        [False, False, False],\n",
      "        [False, False, False],\n",
      "        [False, False, False],\n",
      "        [False, False, False],\n",
      "        [False, False, False]],\n",
      "\n",
      "       [[False, False, False],\n",
      "        [False, False, False],\n",
      "        [False, False, False],\n",
      "        [False, False, False],\n",
      "        [False, False, False],\n",
      "        [False, False,  True],\n",
      "        [False, False, False],\n",
      "        [False, False, False],\n",
      "        [False, False, False],\n",
      "        [False, False, False],\n",
      "        [False, False, False]],\n",
      "\n",
      "       [[False, False, False],\n",
      "        [False, False, False],\n",
      "        [False, False, False],\n",
      "        [False, False, False],\n",
      "        [False, False, False],\n",
      "        [False, False, False],\n",
      "        [False, False, False],\n",
      "        [False, False, False],\n",
      "        [False, False, False],\n",
      "        [False, False, False],\n",
      "        [False, False, False]],\n",
      "\n",
      "       [[False, False, False],\n",
      "        [False, False, False],\n",
      "        [False, False, False],\n",
      "        [False, False, False],\n",
      "        [False, False, False],\n",
      "        [False, False, False],\n",
      "        [False, False, False],\n",
      "        [False, False, False],\n",
      "        [False, False, False],\n",
      "        [False, False, False],\n",
      "        [False, False, False]],\n",
      "\n",
      "       [[False, False, False],\n",
      "        [False, False, False],\n",
      "        [False, False, False],\n",
      "        [False, False, False],\n",
      "        [False, False, False],\n",
      "        [False, False, False],\n",
      "        [False, False, False],\n",
      "        [False, False, False],\n",
      "        [False, False, False],\n",
      "        [False, False, False],\n",
      "        [False, False, False]],\n",
      "\n",
      "       [[False, False, False],\n",
      "        [False, False, False],\n",
      "        [False, False, False],\n",
      "        [False, False, False],\n",
      "        [False, False, False],\n",
      "        [False, False, False],\n",
      "        [False, False, False],\n",
      "        [False, False, False],\n",
      "        [False, False, False],\n",
      "        [False, False, False],\n",
      "        [False, False, False]],\n",
      "\n",
      "       [[False, False, False],\n",
      "        [False, False, False],\n",
      "        [False, False, False],\n",
      "        [False, False, False],\n",
      "        [False, False, False],\n",
      "        [False, False, False],\n",
      "        [False, False, False],\n",
      "        [False, False, False],\n",
      "        [False, False, False],\n",
      "        [False, False, False],\n",
      "        [False, False, False]]]), 'drone_1': array([[[False, False, False],\n",
      "        [False, False, False],\n",
      "        [False,  True, False],\n",
      "        [False, False, False],\n",
      "        [False, False, False],\n",
      "        [False, False, False],\n",
      "        [False, False, False],\n",
      "        [False, False, False],\n",
      "        [False, False, False],\n",
      "        [False, False, False],\n",
      "        [ True, False, False]],\n",
      "\n",
      "       [[False, False, False],\n",
      "        [False,  True, False],\n",
      "        [False, False, False],\n",
      "        [False, False, False],\n",
      "        [False, False, False],\n",
      "        [False, False, False],\n",
      "        [False, False, False],\n",
      "        [False, False, False],\n",
      "        [False, False, False],\n",
      "        [False, False, False],\n",
      "        [False, False, False]],\n",
      "\n",
      "       [[False, False, False],\n",
      "        [False, False, False],\n",
      "        [False, False, False],\n",
      "        [False, False, False],\n",
      "        [False, False, False],\n",
      "        [False, False, False],\n",
      "        [False, False, False],\n",
      "        [False, False,  True],\n",
      "        [False, False, False],\n",
      "        [False, False, False],\n",
      "        [False, False, False]],\n",
      "\n",
      "       [[False, False, False],\n",
      "        [False, False, False],\n",
      "        [False, False, False],\n",
      "        [False, False, False],\n",
      "        [False, False, False],\n",
      "        [False, False, False],\n",
      "        [False, False, False],\n",
      "        [False, False, False],\n",
      "        [False, False, False],\n",
      "        [False, False, False],\n",
      "        [False, False, False]],\n",
      "\n",
      "       [[False, False, False],\n",
      "        [False, False, False],\n",
      "        [False, False, False],\n",
      "        [False, False, False],\n",
      "        [False, False, False],\n",
      "        [False, False, False],\n",
      "        [False, False, False],\n",
      "        [False, False, False],\n",
      "        [False, False, False],\n",
      "        [False, False, False],\n",
      "        [False, False, False]],\n",
      "\n",
      "       [[False, False, False],\n",
      "        [False, False, False],\n",
      "        [False, False, False],\n",
      "        [False, False, False],\n",
      "        [False, False, False],\n",
      "        [False, False,  True],\n",
      "        [False, False, False],\n",
      "        [False, False, False],\n",
      "        [False, False, False],\n",
      "        [False, False, False],\n",
      "        [False, False, False]],\n",
      "\n",
      "       [[False, False, False],\n",
      "        [False, False, False],\n",
      "        [False, False, False],\n",
      "        [False, False, False],\n",
      "        [False, False, False],\n",
      "        [False, False, False],\n",
      "        [False, False, False],\n",
      "        [False, False, False],\n",
      "        [False, False, False],\n",
      "        [False, False, False],\n",
      "        [False, False, False]],\n",
      "\n",
      "       [[False, False, False],\n",
      "        [False, False, False],\n",
      "        [False, False, False],\n",
      "        [False, False, False],\n",
      "        [False, False, False],\n",
      "        [False, False,  True],\n",
      "        [False, False, False],\n",
      "        [False, False, False],\n",
      "        [False, False, False],\n",
      "        [False, False, False],\n",
      "        [False, False, False]],\n",
      "\n",
      "       [[False, False, False],\n",
      "        [False, False, False],\n",
      "        [False, False, False],\n",
      "        [False, False, False],\n",
      "        [False, False, False],\n",
      "        [False, False, False],\n",
      "        [False, False, False],\n",
      "        [False, False, False],\n",
      "        [False, False, False],\n",
      "        [False, False, False],\n",
      "        [False, False, False]],\n",
      "\n",
      "       [[False, False, False],\n",
      "        [False, False, False],\n",
      "        [False, False, False],\n",
      "        [False, False, False],\n",
      "        [False, False, False],\n",
      "        [False, False, False],\n",
      "        [False, False, False],\n",
      "        [False, False, False],\n",
      "        [False, False, False],\n",
      "        [False, False, False],\n",
      "        [False, False, False]],\n",
      "\n",
      "       [[False, False, False],\n",
      "        [False, False, False],\n",
      "        [False, False, False],\n",
      "        [False, False, False],\n",
      "        [False, False, False],\n",
      "        [False, False, False],\n",
      "        [False, False, False],\n",
      "        [False, False, False],\n",
      "        [False, False, False],\n",
      "        [False, False, False],\n",
      "        [False, False, False]]]), 'drone_2': array([[[ True, False, False],\n",
      "        [ True, False, False],\n",
      "        [ True, False, False],\n",
      "        [ True, False, False],\n",
      "        [ True, False, False],\n",
      "        [ True, False, False],\n",
      "        [ True, False, False],\n",
      "        [ True, False, False],\n",
      "        [ True, False, False],\n",
      "        [ True, False, False],\n",
      "        [ True, False, False]],\n",
      "\n",
      "       [[ True, False, False],\n",
      "        [ True, False, False],\n",
      "        [ True, False, False],\n",
      "        [ True, False, False],\n",
      "        [ True, False, False],\n",
      "        [ True, False, False],\n",
      "        [ True, False, False],\n",
      "        [ True, False, False],\n",
      "        [ True, False, False],\n",
      "        [ True, False, False],\n",
      "        [ True, False, False]],\n",
      "\n",
      "       [[ True, False, False],\n",
      "        [ True, False, False],\n",
      "        [ True, False, False],\n",
      "        [ True, False, False],\n",
      "        [False, False, False],\n",
      "        [ True, False, False],\n",
      "        [ True, False, False],\n",
      "        [ True, False, False],\n",
      "        [ True, False, False],\n",
      "        [ True, False, False],\n",
      "        [ True, False, False]],\n",
      "\n",
      "       [[False,  True, False],\n",
      "        [False, False, False],\n",
      "        [False, False, False],\n",
      "        [False, False, False],\n",
      "        [False, False, False],\n",
      "        [False, False, False],\n",
      "        [False, False, False],\n",
      "        [False, False, False],\n",
      "        [ True, False, False],\n",
      "        [ True, False, False],\n",
      "        [ True, False, False]],\n",
      "\n",
      "       [[False, False, False],\n",
      "        [False, False, False],\n",
      "        [False, False, False],\n",
      "        [False, False, False],\n",
      "        [False, False, False],\n",
      "        [False, False, False],\n",
      "        [False, False, False],\n",
      "        [False, False, False],\n",
      "        [False, False, False],\n",
      "        [False, False, False],\n",
      "        [False, False, False]],\n",
      "\n",
      "       [[False, False, False],\n",
      "        [False, False, False],\n",
      "        [False, False, False],\n",
      "        [False, False, False],\n",
      "        [False, False, False],\n",
      "        [False, False,  True],\n",
      "        [False, False, False],\n",
      "        [False, False, False],\n",
      "        [False, False, False],\n",
      "        [False, False, False],\n",
      "        [False, False, False]],\n",
      "\n",
      "       [[False, False, False],\n",
      "        [False, False, False],\n",
      "        [False, False, False],\n",
      "        [False, False, False],\n",
      "        [False, False, False],\n",
      "        [False, False, False],\n",
      "        [False, False, False],\n",
      "        [False, False, False],\n",
      "        [False, False, False],\n",
      "        [False, False, False],\n",
      "        [False, False, False]],\n",
      "\n",
      "       [[False, False, False],\n",
      "        [False, False, False],\n",
      "        [False, False, False],\n",
      "        [False, False, False],\n",
      "        [False, False, False],\n",
      "        [False, False, False],\n",
      "        [False, False, False],\n",
      "        [False, False, False],\n",
      "        [False, False, False],\n",
      "        [False, False, False],\n",
      "        [False, False, False]],\n",
      "\n",
      "       [[False, False, False],\n",
      "        [False, False, False],\n",
      "        [False, False, False],\n",
      "        [False, False,  True],\n",
      "        [False, False, False],\n",
      "        [False, False, False],\n",
      "        [False, False, False],\n",
      "        [False, False, False],\n",
      "        [False, False, False],\n",
      "        [False, False, False],\n",
      "        [False, False, False]],\n",
      "\n",
      "       [[False, False, False],\n",
      "        [False, False, False],\n",
      "        [False, False, False],\n",
      "        [False, False, False],\n",
      "        [False, False, False],\n",
      "        [False, False, False],\n",
      "        [False, False, False],\n",
      "        [False, False, False],\n",
      "        [False, False, False],\n",
      "        [False, False, False],\n",
      "        [False, False, False]],\n",
      "\n",
      "       [[False, False, False],\n",
      "        [False, False, False],\n",
      "        [False, False, False],\n",
      "        [False, False,  True],\n",
      "        [False, False, False],\n",
      "        [False, False, False],\n",
      "        [False, False, False],\n",
      "        [False, False, False],\n",
      "        [False, False, False],\n",
      "        [False, False, False],\n",
      "        [False, False, False]]])}\n"
     ]
    }
   ],
   "source": [
    "print(env.reset())"
   ]
  },
  {
   "cell_type": "code",
   "execution_count": 14,
   "id": "56099b5d",
   "metadata": {},
   "outputs": [],
   "source": [
    "# take a step\n",
    "new_obs, rewards, dones, infos = env.step({'drone_0': 0, 'drone1': 1, 'drone2': 0})"
   ]
  },
  {
   "cell_type": "code",
   "execution_count": 15,
   "id": "5203d8c8",
   "metadata": {},
   "outputs": [
    {
     "name": "stdout",
     "output_type": "stream",
     "text": [
      "{'drone_0': 0.0, 'drone_1': 0.0, 'drone_2': 0.0}\n"
     ]
    }
   ],
   "source": [
    "print(rewards)"
   ]
  },
  {
   "cell_type": "code",
   "execution_count": 16,
   "id": "dca72842",
   "metadata": {},
   "outputs": [
    {
     "name": "stdout",
     "output_type": "stream",
     "text": [
      "{'__all__': False}\n"
     ]
    }
   ],
   "source": [
    "# whether the epsodes are done\n",
    "print(dones)"
   ]
  },
  {
   "cell_type": "code",
   "execution_count": 17,
   "id": "f4913ac9",
   "metadata": {},
   "outputs": [
    {
     "name": "stdout",
     "output_type": "stream",
     "text": [
      "{}\n"
     ]
    }
   ],
   "source": [
    "print(infos)"
   ]
  },
  {
   "cell_type": "code",
   "execution_count": 18,
   "id": "3c78458f",
   "metadata": {
    "scrolled": true,
    "tags": []
   },
   "outputs": [
    {
     "name": "stdout",
     "output_type": "stream",
     "text": [
      "{'drone_0': array([[[False, False, False],\n",
      "        [False, False, False],\n",
      "        [False, False, False],\n",
      "        [False, False, False],\n",
      "        [False, False, False],\n",
      "        [False, False, False],\n",
      "        [False, False, False],\n",
      "        [False, False, False],\n",
      "        [False, False, False],\n",
      "        [False, False, False],\n",
      "        [False, False, False]],\n",
      "\n",
      "       [[False, False, False],\n",
      "        [False, False, False],\n",
      "        [False, False, False],\n",
      "        [False, False, False],\n",
      "        [False, False, False],\n",
      "        [False, False, False],\n",
      "        [False, False, False],\n",
      "        [False, False, False],\n",
      "        [False, False, False],\n",
      "        [False, False, False],\n",
      "        [False, False, False]],\n",
      "\n",
      "       [[False, False, False],\n",
      "        [False, False, False],\n",
      "        [False, False, False],\n",
      "        [False, False, False],\n",
      "        [False, False, False],\n",
      "        [False, False, False],\n",
      "        [False, False, False],\n",
      "        [False, False, False],\n",
      "        [False, False, False],\n",
      "        [False, False, False],\n",
      "        [False, False, False]],\n",
      "\n",
      "       [[False, False, False],\n",
      "        [False, False, False],\n",
      "        [False, False, False],\n",
      "        [False, False, False],\n",
      "        [False, False, False],\n",
      "        [False, False, False],\n",
      "        [False, False, False],\n",
      "        [False, False, False],\n",
      "        [False, False, False],\n",
      "        [False, False, False],\n",
      "        [False, False, False]],\n",
      "\n",
      "       [[False, False, False],\n",
      "        [False, False, False],\n",
      "        [False, False, False],\n",
      "        [False, False, False],\n",
      "        [False, False, False],\n",
      "        [False, False, False],\n",
      "        [False, False, False],\n",
      "        [False, False, False],\n",
      "        [False, False, False],\n",
      "        [False, False, False],\n",
      "        [False, False, False]],\n",
      "\n",
      "       [[False, False, False],\n",
      "        [False, False, False],\n",
      "        [False, False, False],\n",
      "        [False, False, False],\n",
      "        [False, False, False],\n",
      "        [False, False,  True],\n",
      "        [False, False, False],\n",
      "        [False, False,  True],\n",
      "        [False, False, False],\n",
      "        [False, False, False],\n",
      "        [False, False, False]],\n",
      "\n",
      "       [[False, False, False],\n",
      "        [False, False, False],\n",
      "        [False, False, False],\n",
      "        [False, False, False],\n",
      "        [False, False, False],\n",
      "        [False, False, False],\n",
      "        [False, False, False],\n",
      "        [False, False, False],\n",
      "        [False, False, False],\n",
      "        [False, False, False],\n",
      "        [False, False, False]],\n",
      "\n",
      "       [[False, False, False],\n",
      "        [False, False, False],\n",
      "        [False, False, False],\n",
      "        [False, False, False],\n",
      "        [False, False, False],\n",
      "        [False, False, False],\n",
      "        [False, False, False],\n",
      "        [False, False, False],\n",
      "        [False, False, False],\n",
      "        [False, False, False],\n",
      "        [False, False,  True]],\n",
      "\n",
      "       [[False, False, False],\n",
      "        [False, False, False],\n",
      "        [False, False, False],\n",
      "        [False, False, False],\n",
      "        [False, False, False],\n",
      "        [False, False, False],\n",
      "        [False, False, False],\n",
      "        [False, False, False],\n",
      "        [False, False, False],\n",
      "        [False, False, False],\n",
      "        [False, False, False]],\n",
      "\n",
      "       [[False, False, False],\n",
      "        [False, False, False],\n",
      "        [False, False, False],\n",
      "        [False, False, False],\n",
      "        [False, False, False],\n",
      "        [False, False, False],\n",
      "        [False, False, False],\n",
      "        [False, False, False],\n",
      "        [False, False, False],\n",
      "        [False, False, False],\n",
      "        [False, False, False]],\n",
      "\n",
      "       [[False, False, False],\n",
      "        [False, False, False],\n",
      "        [False, False, False],\n",
      "        [False, False, False],\n",
      "        [False, False, False],\n",
      "        [False, False, False],\n",
      "        [False, False, False],\n",
      "        [False, False, False],\n",
      "        [False, False, False],\n",
      "        [False, False, False],\n",
      "        [False, False, False]]]), 'drone_1': array([[[False, False, False],\n",
      "        [False, False, False],\n",
      "        [False,  True, False],\n",
      "        [False, False, False],\n",
      "        [False, False, False],\n",
      "        [False, False, False],\n",
      "        [False, False, False],\n",
      "        [False, False, False],\n",
      "        [False, False, False],\n",
      "        [False, False, False],\n",
      "        [ True, False, False]],\n",
      "\n",
      "       [[False, False, False],\n",
      "        [False,  True, False],\n",
      "        [False, False, False],\n",
      "        [False, False, False],\n",
      "        [False, False, False],\n",
      "        [False, False, False],\n",
      "        [False, False, False],\n",
      "        [False, False, False],\n",
      "        [False, False, False],\n",
      "        [False, False, False],\n",
      "        [False, False, False]],\n",
      "\n",
      "       [[False, False, False],\n",
      "        [False, False, False],\n",
      "        [False, False, False],\n",
      "        [False, False, False],\n",
      "        [False, False, False],\n",
      "        [False, False, False],\n",
      "        [False, False, False],\n",
      "        [False, False,  True],\n",
      "        [False, False, False],\n",
      "        [False, False, False],\n",
      "        [False, False, False]],\n",
      "\n",
      "       [[False, False, False],\n",
      "        [False, False, False],\n",
      "        [False, False, False],\n",
      "        [False, False, False],\n",
      "        [False, False, False],\n",
      "        [False, False, False],\n",
      "        [False, False, False],\n",
      "        [False, False, False],\n",
      "        [False, False, False],\n",
      "        [False, False, False],\n",
      "        [False, False, False]],\n",
      "\n",
      "       [[False, False, False],\n",
      "        [False, False, False],\n",
      "        [False, False, False],\n",
      "        [False, False, False],\n",
      "        [False, False, False],\n",
      "        [False, False, False],\n",
      "        [False, False, False],\n",
      "        [False, False, False],\n",
      "        [False, False, False],\n",
      "        [False, False, False],\n",
      "        [False, False, False]],\n",
      "\n",
      "       [[False, False, False],\n",
      "        [False, False, False],\n",
      "        [False, False, False],\n",
      "        [False, False, False],\n",
      "        [False, False, False],\n",
      "        [False, False,  True],\n",
      "        [False, False, False],\n",
      "        [False, False, False],\n",
      "        [False, False, False],\n",
      "        [False, False, False],\n",
      "        [False, False, False]],\n",
      "\n",
      "       [[False, False, False],\n",
      "        [False, False, False],\n",
      "        [False, False, False],\n",
      "        [False, False, False],\n",
      "        [False, False, False],\n",
      "        [False, False, False],\n",
      "        [False, False, False],\n",
      "        [False, False, False],\n",
      "        [False, False, False],\n",
      "        [False, False, False],\n",
      "        [False, False, False]],\n",
      "\n",
      "       [[False, False, False],\n",
      "        [False, False, False],\n",
      "        [False, False, False],\n",
      "        [False, False, False],\n",
      "        [False, False, False],\n",
      "        [False, False,  True],\n",
      "        [False, False, False],\n",
      "        [False, False, False],\n",
      "        [False, False, False],\n",
      "        [False, False, False],\n",
      "        [False, False, False]],\n",
      "\n",
      "       [[False, False, False],\n",
      "        [False, False, False],\n",
      "        [False, False, False],\n",
      "        [False, False, False],\n",
      "        [False, False, False],\n",
      "        [False, False, False],\n",
      "        [False, False, False],\n",
      "        [False, False, False],\n",
      "        [False, False, False],\n",
      "        [False, False, False],\n",
      "        [False, False, False]],\n",
      "\n",
      "       [[False, False, False],\n",
      "        [False, False, False],\n",
      "        [False, False, False],\n",
      "        [False, False, False],\n",
      "        [False, False, False],\n",
      "        [False, False, False],\n",
      "        [False, False, False],\n",
      "        [False, False, False],\n",
      "        [False, False, False],\n",
      "        [False, False, False],\n",
      "        [False, False, False]],\n",
      "\n",
      "       [[False, False, False],\n",
      "        [False, False, False],\n",
      "        [False, False, False],\n",
      "        [False, False, False],\n",
      "        [False, False, False],\n",
      "        [False, False, False],\n",
      "        [False, False, False],\n",
      "        [False, False, False],\n",
      "        [False, False, False],\n",
      "        [False, False, False],\n",
      "        [False, False, False]]]), 'drone_2': array([[[ True, False, False],\n",
      "        [ True, False, False],\n",
      "        [ True, False, False],\n",
      "        [ True, False, False],\n",
      "        [ True, False, False],\n",
      "        [ True, False, False],\n",
      "        [ True, False, False],\n",
      "        [ True, False, False],\n",
      "        [ True, False, False],\n",
      "        [ True, False, False],\n",
      "        [ True, False, False]],\n",
      "\n",
      "       [[ True, False, False],\n",
      "        [ True, False, False],\n",
      "        [ True, False, False],\n",
      "        [ True, False, False],\n",
      "        [ True, False, False],\n",
      "        [ True, False, False],\n",
      "        [ True, False, False],\n",
      "        [ True, False, False],\n",
      "        [ True, False, False],\n",
      "        [ True, False, False],\n",
      "        [ True, False, False]],\n",
      "\n",
      "       [[ True, False, False],\n",
      "        [ True, False, False],\n",
      "        [ True, False, False],\n",
      "        [ True, False, False],\n",
      "        [False, False, False],\n",
      "        [ True, False, False],\n",
      "        [ True, False, False],\n",
      "        [ True, False, False],\n",
      "        [ True, False, False],\n",
      "        [ True, False, False],\n",
      "        [ True, False, False]],\n",
      "\n",
      "       [[False,  True, False],\n",
      "        [False, False, False],\n",
      "        [False, False, False],\n",
      "        [False, False, False],\n",
      "        [False, False, False],\n",
      "        [False, False, False],\n",
      "        [False, False, False],\n",
      "        [False, False, False],\n",
      "        [ True, False, False],\n",
      "        [ True, False, False],\n",
      "        [ True, False, False]],\n",
      "\n",
      "       [[False, False, False],\n",
      "        [False, False, False],\n",
      "        [False, False, False],\n",
      "        [False, False, False],\n",
      "        [False, False, False],\n",
      "        [False, False, False],\n",
      "        [False, False, False],\n",
      "        [False, False, False],\n",
      "        [False, False, False],\n",
      "        [False, False, False],\n",
      "        [False, False, False]],\n",
      "\n",
      "       [[False, False, False],\n",
      "        [False, False, False],\n",
      "        [False, False, False],\n",
      "        [False, False, False],\n",
      "        [False, False, False],\n",
      "        [False, False,  True],\n",
      "        [False, False, False],\n",
      "        [False, False, False],\n",
      "        [False, False, False],\n",
      "        [False, False, False],\n",
      "        [False, False, False]],\n",
      "\n",
      "       [[False, False, False],\n",
      "        [False, False, False],\n",
      "        [False, False, False],\n",
      "        [False, False, False],\n",
      "        [False, False, False],\n",
      "        [False, False, False],\n",
      "        [False, False, False],\n",
      "        [False, False, False],\n",
      "        [False, False, False],\n",
      "        [False, False, False],\n",
      "        [False, False, False]],\n",
      "\n",
      "       [[False, False, False],\n",
      "        [False, False, False],\n",
      "        [False, False, False],\n",
      "        [False, False, False],\n",
      "        [False, False, False],\n",
      "        [False, False, False],\n",
      "        [False, False, False],\n",
      "        [False, False, False],\n",
      "        [False, False, False],\n",
      "        [False, False, False],\n",
      "        [False, False, False]],\n",
      "\n",
      "       [[False, False, False],\n",
      "        [False, False, False],\n",
      "        [False, False, False],\n",
      "        [False, False,  True],\n",
      "        [False, False, False],\n",
      "        [False, False, False],\n",
      "        [False, False, False],\n",
      "        [False, False, False],\n",
      "        [False, False, False],\n",
      "        [False, False, False],\n",
      "        [False, False, False]],\n",
      "\n",
      "       [[False, False, False],\n",
      "        [False, False, False],\n",
      "        [False, False, False],\n",
      "        [False, False, False],\n",
      "        [False, False, False],\n",
      "        [False, False, False],\n",
      "        [False, False, False],\n",
      "        [False, False, False],\n",
      "        [False, False, False],\n",
      "        [False, False, False],\n",
      "        [False, False, False]],\n",
      "\n",
      "       [[False, False, False],\n",
      "        [False, False, False],\n",
      "        [False, False, False],\n",
      "        [False, False,  True],\n",
      "        [False, False, False],\n",
      "        [False, False, False],\n",
      "        [False, False, False],\n",
      "        [False, False, False],\n",
      "        [False, False, False],\n",
      "        [False, False, False],\n",
      "        [False, False, False]]])}\n"
     ]
    }
   ],
   "source": [
    "print(new_obs)"
   ]
  },
  {
   "cell_type": "markdown",
   "id": "b7ad8d40",
   "metadata": {},
   "source": [
    "# Test the edge cloud environment using simple algorithms from RLlib package"
   ]
  },
  {
   "cell_type": "code",
   "execution_count": 65,
   "id": "a55137c5",
   "metadata": {},
   "outputs": [
    {
     "name": "stdout",
     "output_type": "stream",
     "text": [
      "The autoreload extension is already loaded. To reload it, use:\n",
      "  %reload_ext autoreload\n"
     ]
    }
   ],
   "source": [
    "# from environments.gridworld_obstacles.simulation.environment import GridWorldObstaclesEnv\n",
    "from common.config_file_handler import load_yaml\n",
    "from environments.edge_cloud.simulation.environment import EdgeCloudEnv\n",
    "import pprint\n",
    "# auto reload\n",
    "%load_ext autoreload\n",
    "%autoreload 2\n",
    "\n",
    "config = load_yaml('../configs/experiments/edge_cloud/fc_depth/ppo_fc_independent_depth1.yaml')\n",
    "env_config = config['env-config']\n",
    "edge_env = EdgeCloudEnv(env_config)"
   ]
  },
  {
   "cell_type": "code",
   "execution_count": 66,
   "id": "c92ab1cf",
   "metadata": {},
   "outputs": [],
   "source": [
    "pp = pprint.PrettyPrinter(indent=4)"
   ]
  },
  {
   "cell_type": "code",
   "execution_count": 67,
   "id": "7dd3477d",
   "metadata": {},
   "outputs": [],
   "source": [
    "edge_env.verbose=False"
   ]
  },
  {
   "cell_type": "code",
   "execution_count": 70,
   "id": "ad90754a",
   "metadata": {
    "tags": []
   },
   "outputs": [
    {
     "name": "stdout",
     "output_type": "stream",
     "text": [
      "{'drone_0': [584.612723292089, 4.0, 3.7545287107682563, 4.529519154027988, 4.812685467273033, 1.0, 4.0, 0.0, 0.0, 0.0, 0.0, 0.0, 0.0, 0.0, 0.0, 0.0, 0.0, 0.0, 0.0, 0.0, 0.0, 0.0, 0.0, 0.0, 0.0, 0.0, 0.0, 0.0, 0.0, 0.0, 0.0, 0.0, 0.0, 0.0, 0.0, 0.0, 0.0, 1, 1, 1, 1, 1, 1, 1, 1, 1, 1, 1, 1, 1, 1, 1, 1, 1, 1, 1, 1, 1], 'drone_1': [584.612723292089, 4.0, 3.7545287107682563, 4.529519154027988, 4.812685467273033, 1.0, 4.0, 0.0, 0.0, 0.0, 0.0, 0.0, 0.0, 0.0, 0.0, 0.0, 0.0, 0.0, 0.0, 0.0, 0.0, 0.0, 0.0, 0.0, 0.0, 0.0, 0.0, 0.0, 0.0, 0.0, 0.0, 0.0, 0.0, 0.0, 0.0, 0.0, 0.0, 1, 1, 1, 1, 1, 1, 1, 1, 1, 1, 1, 1, 1, 1, 1, 1, 1, 1, 1, 1, 1], 'drone_2': [584.612723292089, 4.0, 3.7545287107682563, 4.529519154027988, 4.812685467273033, 1.0, 4.0, 0.0, 0.0, 0.0, 0.0, 0.0, 0.0, 0.0, 0.0, 0.0, 0.0, 0.0, 0.0, 0.0, 0.0, 0.0, 0.0, 0.0, 0.0, 0.0, 0.0, 0.0, 0.0, 0.0, 0.0, 0.0, 0.0, 0.0, 0.0, 0.0, 0.0, 1, 1, 1, 1, 1, 1, 1, 1, 1, 1, 1, 1, 1, 1, 1, 1, 1, 1, 1, 1, 1]}\n"
     ]
    }
   ],
   "source": [
    "print(edge_env.reset())"
   ]
  },
  {
   "cell_type": "code",
   "execution_count": 76,
   "id": "fe12ace4",
   "metadata": {
    "tags": []
   },
   "outputs": [
    {
     "name": "stdout",
     "output_type": "stream",
     "text": [
      "{'drone_0': 0, 'drone_1': 0, 'drone_2': 0}\n"
     ]
    }
   ],
   "source": [
    "# take a step\n",
    "actions = {'node_0': 1, 'node_1': 0, 'node_2': 0}\n",
    "new_obs, rewards, dones, infos = edge_env.step(actions)\n",
    "print(rewards)"
   ]
  },
  {
   "cell_type": "code",
   "execution_count": 77,
   "id": "487cd53a",
   "metadata": {},
   "outputs": [
    {
     "name": "stdout",
     "output_type": "stream",
     "text": [
      "{'__all__': False}\n"
     ]
    }
   ],
   "source": [
    "print(dones)"
   ]
  },
  {
   "cell_type": "code",
   "execution_count": 79,
   "id": "4e0a0b7f",
   "metadata": {},
   "outputs": [
    {
     "name": "stdout",
     "output_type": "stream",
     "text": [
      "{'drone_0': [52.28394826227, 4.0, 2.2631508296999296, 2.4764819094832706, 2.807762417735701, 1.0, 4.0, 0.0, 0.0, 0.0, 0.0, 0.0, 0.0, 0.0, 0.0, 0.0, 0.0, 0.0, 0.0, 0.0, 0.0, 0.0, 0.0, 0.0, 0.0, 0.0, 0.0, 0.0, 0.0, 0.0, 0.0, 0.0, 0.0, 0.0, 0.0, 0.0, 0.0, 1, 1, 1, 1, 1, 1, 1, 1, 1, 1, 1, 0, 0, 0, 1, 1, 1, 1, 0, 0, 0], 'drone_1': [52.28394826227, 4.0, 2.2631508296999296, 2.4764819094832706, 2.807762417735701, 1.0, 4.0, 0.9232802460771041, 0.9586244268882372, 0.9583346213211267, 0.9232802460771041, 0.9586244268882372, 0.9583346213211267, 0.9232802460771041, 0.9586244268882372, 0.9583346213211267, 0.9232802460771041, 0.9586244268882372, 0.9583346213211267, 0.0, 0.0, 0.0, 0.0, 0.0, 0.0, 0.0, 0.0, 0.0, 0.0, 0.0, 0.0, 0.0, 0.0, 0.0, 0.0, 0.0, 0.0, 1, 1, 1, 1, 1, 1, 1, 1, 1, 1, 1, 0, 0, 0, 1, 1, 1, 1, 0, 0, 0], 'drone_2': [52.28394826227, 4.0, 2.2631508296999296, 2.4764819094832706, 2.807762417735701, 1.0, 4.0, 0.823279145652103, 0.7547653049095929, 0.7469853791233187, 0.823279145652103, 0.7547653049095929, 0.7469853791233187, 0.823279145652103, 0.7547653049095929, 0.7469853791233187, 0.823279145652103, 0.7547653049095929, 0.7469853791233187, 0.0, 0.0, 0.0, 0.0, 0.0, 0.0, 0.0, 0.0, 0.0, 0.0, 0.0, 0.0, 0.0, 0.0, 0.0, 0.0, 0.0, 0.0, 1, 1, 1, 1, 1, 1, 1, 1, 1, 1, 1, 0, 0, 0, 1, 1, 1, 1, 0, 0, 0]}\n"
     ]
    }
   ],
   "source": [
    "print(new_obs)"
   ]
  },
  {
   "cell_type": "code",
   "execution_count": 80,
   "id": "0e3c1b8d",
   "metadata": {},
   "outputs": [
    {
     "name": "stdout",
     "output_type": "stream",
     "text": [
      "{}\n"
     ]
    }
   ],
   "source": [
    "print(infos)"
   ]
  },
  {
   "cell_type": "code",
   "execution_count": 81,
   "id": "1b938ce2",
   "metadata": {},
   "outputs": [
    {
     "name": "stdout",
     "output_type": "stream",
     "text": [
      "{'drone_0': 0, 'drone_1': 0, 'drone_2': 0}\n"
     ]
    }
   ],
   "source": [
    "# take a step\n",
    "actions = {'node_0': 2, 'node_1': 3, 'node_2': 4}\n",
    "new_obs, rewards, dones, infos = edge_env.step(actions)\n",
    "print(rewards)"
   ]
  },
  {
   "cell_type": "code",
   "execution_count": 83,
   "id": "867914fb",
   "metadata": {},
   "outputs": [
    {
     "name": "stdout",
     "output_type": "stream",
     "text": [
      "{'drone_0': [99.15767226786063, 4.0, 2.568491665608129, 2.57322349107025, 2.8909739589971326, 1.0, 4.0, 0.0, 0.0, 0.0, 0.0, 0.0, 0.0, 0.0, 0.0, 0.0, 0.0, 0.0, 0.0, 0.0, 0.0, 0.0, 0.0, 0.0, 0.0, 0.0, 0.0, 0.0, 0.0, 0.0, 0.0, 0.0, 0.0, 0.0, 0.0, 0.0, 0.0, 1, 1, 1, 1, 1, 1, 2, 1, 1, 1, 0, 0, 0, 3, 1, 1, 1, 0, 0, 0, 4], 'drone_1': [99.15767226786063, 4.0, 2.568491665608129, 2.57322349107025, 2.8909739589971326, 1.0, 4.0, 0.9232802460771041, 0.9586244268882372, 0.9583346213211267, 0.9232802460771041, 0.9586244268882372, 0.9583346213211267, 0.9232802460771041, 0.9586244268882372, 0.9583346213211267, 0.0, 0.0, 0.0, 0.0, 0.0, 0.0, 0.0, 0.0, 0.0, 0.0, 0.0, 0.0, 0.0, 0.0, 0.0, 0.0, 0.0, 0.0, 0.0, 0.0, 0.0, 1, 1, 1, 1, 1, 1, 2, 1, 1, 1, 0, 0, 0, 3, 1, 1, 1, 0, 0, 0, 4], 'drone_2': [99.15767226786063, 4.0, 2.568491665608129, 2.57322349107025, 2.8909739589971326, 1.0, 4.0, 0.823279145652103, 0.7547653049095929, 0.7469853791233187, 0.823279145652103, 0.7547653049095929, 0.7469853791233187, 0.823279145652103, 0.7547653049095929, 0.7469853791233187, 0.0, 0.0, 0.0, 0.0, 0.0, 0.0, 0.0, 0.0, 0.0, 0.0, 0.0, 0.0, 0.0, 0.0, 0.0, 0.0, 0.0, 0.0, 0.0, 0.0, 0.0, 1, 1, 1, 1, 1, 1, 2, 1, 1, 1, 0, 0, 0, 3, 1, 1, 1, 0, 0, 0, 4]}\n"
     ]
    }
   ],
   "source": [
    "print(new_obs)"
   ]
  },
  {
   "cell_type": "code",
   "execution_count": 84,
   "id": "af45ff03",
   "metadata": {},
   "outputs": [
    {
     "data": {
      "text/plain": [
       "58"
      ]
     },
     "execution_count": 84,
     "metadata": {},
     "output_type": "execute_result"
    }
   ],
   "source": [
    "len(new_obs['drone_0'])"
   ]
  },
  {
   "cell_type": "code",
   "execution_count": null,
   "id": "593e3cf4",
   "metadata": {},
   "outputs": [],
   "source": []
  }
 ],
 "metadata": {
  "kernelspec": {
   "display_name": "RLlib",
   "language": "python",
   "name": "rllib"
  },
  "language_info": {
   "codemirror_mode": {
    "name": "ipython",
    "version": 3
   },
   "file_extension": ".py",
   "mimetype": "text/x-python",
   "name": "python",
   "nbconvert_exporter": "python",
   "pygments_lexer": "ipython3",
   "version": "3.8.11"
  }
 },
 "nbformat": 4,
 "nbformat_minor": 5
}
